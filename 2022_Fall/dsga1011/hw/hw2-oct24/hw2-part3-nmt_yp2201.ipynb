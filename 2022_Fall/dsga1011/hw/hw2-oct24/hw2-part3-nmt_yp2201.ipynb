{
 "cells": [
  {
   "cell_type": "markdown",
   "metadata": {
    "id": "k5mRDji1iNsc"
   },
   "source": [
    "# Fall 2022: DS-GA 1011 NLP with Representation Learning\n",
    "## Homework 2\n",
    "## Part 3: Neural Machine Translation (30 pts)\n",
    "In this part, you implement Transformer encoder for Neural Machine Translation (NMT) using a sequence to sequence (seq2seq) model for English to French translation with PyTorch."
   ]
  },
  {
   "cell_type": "markdown",
   "metadata": {
    "id": "ki8Rdu4IiNsd"
   },
   "source": [
    "---\n",
    "### 1 Transformer Encoder (18 pts)"
   ]
  },
  {
   "cell_type": "code",
   "execution_count": 73,
   "metadata": {
    "id": "OB4991PPiNse"
   },
   "outputs": [],
   "source": [
    "# Add utilities path\n",
    "import sys\n",
    "\n",
    "path_to_utils = 'pyfiles'\n",
    "sys.path.append(path_to_utils)"
   ]
  },
  {
   "cell_type": "code",
   "execution_count": 74,
   "metadata": {
    "id": "1h61HxKEiNsi"
   },
   "outputs": [],
   "source": [
    "# Import custom modules\n",
    "import global_variables\n",
    "import nmt_dataset\n",
    "import nnet_models_new"
   ]
  },
  {
   "cell_type": "code",
   "execution_count": 75,
   "metadata": {
    "id": "juHsWAmriNsl"
   },
   "outputs": [],
   "source": [
    "# Load data\n",
    "import os\n",
    "\n",
    "source_name = 'en'\n",
    "target_name = 'fr'\n",
    "\n",
    "base_saved_models_dir = '.'\n",
    "saved_models_dir = os.path.join(base_saved_models_dir, source_name+'2'+target_name)\n",
    "\n",
    "main_data_path = './data/'\n",
    "\n",
    "path_to_train_data = {'source':main_data_path+'train.'+source_name, \n",
    "                      'target':main_data_path+'train.'+target_name}\n",
    "path_to_val_data = {'source': main_data_path+'valid.'+source_name, \n",
    "                      'target':main_data_path+'valid.'+target_name}"
   ]
  },
  {
   "cell_type": "code",
   "execution_count": 76,
   "metadata": {
    "id": "4ZISJFayiNso"
   },
   "outputs": [],
   "source": [
    "saved_language_model_dir = os.path.join(saved_models_dir, 'lang_obj')\n",
    "\n",
    "dataset_dict = {'train': nmt_dataset.LanguagePair(source_name = source_name, target_name=target_name, \n",
    "                    filepath = path_to_train_data, \n",
    "                    lang_obj_path = saved_language_model_dir,\n",
    "                     minimum_count = 1), \n",
    "\n",
    "                'val': nmt_dataset.LanguagePair(source_name = source_name, target_name=target_name, \n",
    "                    filepath = path_to_val_data, \n",
    "                    lang_obj_path = saved_language_model_dir,\n",
    "                    minimum_count = 1)}"
   ]
  },
  {
   "cell_type": "code",
   "execution_count": 77,
   "metadata": {
    "id": "9F04tskaiNsr"
   },
   "outputs": [],
   "source": [
    "MAX_LEN = int(dataset_dict['train'].main_df['source_len'].quantile(0.9999)) # 32\n",
    "batchSize = 64"
   ]
  },
  {
   "cell_type": "code",
   "execution_count": 78,
   "metadata": {
    "id": "-5GP1oyqiNsv"
   },
   "outputs": [],
   "source": [
    "from functools import partial\n",
    "from torch.utils.data import DataLoader\n",
    "\n",
    "dataloader_dict = {'train': DataLoader(dataset_dict['train'], batch_size = batchSize, \n",
    "                            collate_fn = partial(nmt_dataset.vocab_collate_func, MAX_LEN=MAX_LEN),\n",
    "                            shuffle = True, num_workers=0), \n",
    "                    'val': DataLoader(dataset_dict['val'], batch_size = batchSize, \n",
    "                            collate_fn = partial(nmt_dataset.vocab_collate_func, MAX_LEN=MAX_LEN),\n",
    "                            shuffle = True, num_workers=0) }"
   ]
  },
  {
   "cell_type": "code",
   "execution_count": 91,
   "metadata": {
    "id": "l_T7Fi87iNsy"
   },
   "outputs": [],
   "source": [
    "# Configuration\n",
    "\n",
    "# add library / configuration for positional embeddings\n",
    "import torch\n",
    "from torch import nn, Tensor\n",
    "import math\n",
    "from math import sqrt, sin, cos\n",
    "from tqdm import notebook\n",
    "import time\n",
    "\n",
    "source_lang_obj = dataset_dict['train'].source_lang_obj\n",
    "target_lang_obj = dataset_dict['train'].target_lang_obj\n",
    "\n",
    "source_vocab = dataset_dict['train'].source_lang_obj.n_words;\n",
    "target_vocab = dataset_dict['train'].target_lang_obj.n_words;\n",
    "hidden_size = 512\n",
    "enc_layers = 1\n",
    "lr = 0.01 # was 0.25 later\n",
    "longest_label = 1;\n",
    "gradient_clip = 0.3;\n",
    "use_cuda = True\n",
    "\n",
    "num_epochs = 20\n",
    "\n",
    "## add config\n",
    "d_model = 512\n",
    "n_heads = 2\n",
    "dropout = 0.1"
   ]
  },
  {
   "cell_type": "markdown",
   "metadata": {
    "id": "0bghnW3YiNs2"
   },
   "source": [
    "#### 1.1 Encoder (9 pts)"
   ]
  },
  {
   "cell_type": "code",
   "execution_count": 92,
   "metadata": {},
   "outputs": [],
   "source": [
    "class PositionalEncoding(nn.Module):\n",
    "\n",
    "    def __init__(self, d_model: int, dropout: float = 0.1, max_len: int = 5000):\n",
    "        super().__init__()\n",
    "        self.dropout = nn.Dropout(p=dropout)\n",
    "\n",
    "        position = torch.arange(max_len).unsqueeze(1)\n",
    "        div_term = torch.exp(torch.arange(0, d_model, 2) * (-math.log(10000.0) / d_model))\n",
    "        pe = torch.zeros(max_len, 1, d_model)\n",
    "        pe[:, 0, 0::2] = torch.sin(position * div_term)\n",
    "        pe[:, 0, 1::2] = torch.cos(position * div_term)\n",
    "        self.register_buffer('pe', pe)\n",
    "\n",
    "    def forward(self, x: Tensor) -> Tensor:\n",
    "        \"\"\"\n",
    "        Args:\n",
    "            x: Tensor, shape [seq_len, batch_size, embedding_dim]\n",
    "        \"\"\"\n",
    "        x = x + self.pe[:x.size(0)]\n",
    "        return self.dropout(x)"
   ]
  },
  {
   "cell_type": "code",
   "execution_count": 93,
   "metadata": {},
   "outputs": [],
   "source": [
    "# Add transformer as encoder in seq2seq model\n",
    "class EncoderTransformer(nn.Module):\n",
    "    \n",
    "    def __init__(self, n_vocab, d_model, n_heads, d_hid, enc_layers, dropout):\n",
    "\n",
    "        super().__init__()\n",
    "        \n",
    "        # you need to add more things here\n",
    "        \n",
    "        # this code was referenced from pytorch documentation\n",
    "        self.embed = nn.Embedding(n_vocab, d_model, padding_idx=global_variables.PAD_IDX)\n",
    "        self.pos_embed = PositionalEncoding(d_model, dropout) # sinusoidal embedding\n",
    "        self.d_model = d_model\n",
    "        \n",
    "        encoder_layer = nn.TransformerEncoderLayer(d_model, n_heads, d_hid, dropout)\n",
    "        self.transformer = nn.TransformerEncoder(encoder_layer, enc_layers)\n",
    "        \n",
    "        # initialization of weight\n",
    "        self.init_weights()\n",
    "\n",
    "    def init_weights(self):\n",
    "        initrange = 0.1\n",
    "        self.embed.weight.data.uniform_(-initrange, initrange)        \n",
    "\n",
    "    def forward(self, text_vec, hidden=None): # we set hidden to None at the first place \n",
    "        # some helpful directions below, check the MLM lab for more details\n",
    "        \n",
    "        # this code was referenced from pytorch documentation\n",
    "        src = self.embed(text_vec) * math.sqrt(self.d_model)\n",
    "        src = self.pos_embed(src)\n",
    "\n",
    "        output = self.transformer(src)\n",
    "\n",
    "        # we also need to get hidden state to pass encoder to decoder\n",
    "        # here, we take initialize hidden state to zero, and change the dimension shape \n",
    "        # this allows decoder to use hidden state defined on here \n",
    "        \n",
    "        hidden = torch.zeros(1, output.size(0), output.size(2), device = text_vec.device)\n",
    "        \n",
    "        return output, hidden"
   ]
  },
  {
   "cell_type": "code",
   "execution_count": 94,
   "metadata": {},
   "outputs": [],
   "source": [
    "encoder = EncoderTransformer(n_vocab=source_vocab, d_model=d_model, n_heads=n_heads, \\\n",
    "                             d_hid=hidden_size, enc_layers=enc_layers, dropout=dropout)"
   ]
  },
  {
   "cell_type": "markdown",
   "metadata": {
    "id": "xcUYkz_RiNs9"
   },
   "source": [
    "#### 1.2 Decoder(s) (9 pts)"
   ]
  },
  {
   "cell_type": "code",
   "execution_count": 95,
   "metadata": {
    "id": "OT_JZXWeiNs9"
   },
   "outputs": [],
   "source": [
    "# Basic RNN decoder (no attention)\n",
    "encoder = EncoderTransformer(n_vocab=source_vocab, d_model=d_model, n_heads=n_heads, \\\n",
    "                             d_hid=hidden_size, enc_layers=enc_layers, dropout=dropout)\n",
    "\n",
    "decoder_rnn_1 = nnet_models_new.DecoderRNN(target_vocab, hidden_size, enc_layers)\n",
    "\n",
    "full_model_1 = nnet_models_new.seq2seq(encoder, decoder_rnn_1,\n",
    "                              lr = lr, \n",
    "                              use_cuda = use_cuda, \n",
    "                              hiddensize = hidden_size, \n",
    "                              numlayers = 2, \n",
    "                              target_lang=dataset_dict['train'].target_lang_obj,\n",
    "                              longest_label = longest_label,\n",
    "                              clip = gradient_clip)"
   ]
  },
  {
   "cell_type": "code",
   "execution_count": 39,
   "metadata": {
    "id": "U6DmOcLViNtB"
   },
   "outputs": [],
   "source": [
    "# RNN Decoder with Encoder attention\n",
    "encoder = EncoderTransformer(n_vocab=source_vocab, d_model=d_model, n_heads=n_heads, \\\n",
    "                             d_hid=hidden_size, enc_layers=enc_layers, dropout=dropout)\n",
    "\n",
    "decoder_rnn_2 = nnet_models_new.Decoder_SelfAttn(target_vocab, hidden_size, \\\n",
    "                                                 self_attention = False, encoder_attention = True)\n",
    "\n",
    "full_model_2 = nnet_models_new.seq2seq(encoder, decoder_rnn_2,\n",
    "                              lr = lr, \n",
    "                              use_cuda = use_cuda, \n",
    "                              hiddensize = hidden_size, \n",
    "                              numlayers = 2, \n",
    "                              target_lang=dataset_dict['train'].target_lang_obj,\n",
    "                              longest_label = longest_label,\n",
    "                              clip = gradient_clip)"
   ]
  },
  {
   "cell_type": "code",
   "execution_count": 13,
   "metadata": {
    "id": "szrb9vkiiNtE"
   },
   "outputs": [],
   "source": [
    "# RNN Decoder with Encoder & Self attention\n",
    "encoder = EncoderTransformer(n_vocab=source_vocab, d_model=d_model, n_heads=n_heads, \\\n",
    "                             d_hid=hidden_size, enc_layers=enc_layers, dropout=dropout)\n",
    "\n",
    "decoder_rnn_3 = nnet_models_new.Decoder_SelfAttn(target_vocab, hidden_size, \\\n",
    "                                                 self_attention = True, encoder_attention = True)\n",
    "\n",
    "full_model_3 = nnet_models_new.seq2seq(encoder, decoder_rnn_3,\n",
    "                              lr = lr, \n",
    "                              use_cuda = use_cuda, \n",
    "                              hiddensize = hidden_size, \n",
    "                              numlayers = 2, \n",
    "                              target_lang=dataset_dict['train'].target_lang_obj,\n",
    "                              longest_label = longest_label,\n",
    "                              clip = gradient_clip)"
   ]
  },
  {
   "cell_type": "markdown",
   "metadata": {
    "id": "u_dYn8C_iNtH"
   },
   "source": [
    "#### Training & Evaluation"
   ]
  },
  {
   "cell_type": "code",
   "execution_count": 96,
   "metadata": {},
   "outputs": [],
   "source": [
    "## this function was referenced by lab \n",
    "\n",
    "def train_model(dataloader, nmt, num_epochs=50, val_every=1):\n",
    "    \n",
    "    # create loss and bleu score lists\n",
    "    train_loss_list = []\n",
    "    val_bleu_list = []\n",
    "    \n",
    "    best_bleu = -1;\n",
    "    for epoch in range(num_epochs):\n",
    "\n",
    "        start = time.time()\n",
    "        running_loss = 0\n",
    "\n",
    "        print('Epoch: [{}/{}]'.format(epoch, num_epochs));\n",
    "        \n",
    "        for i, data in notebook.tqdm(enumerate(dataloader['train']), total=len(dataloader['train'])):  \n",
    "            _, curr_loss = nmt.train_step(data);\n",
    "            running_loss += curr_loss\n",
    "\n",
    "        epoch_loss = running_loss / len(dataloader['train']) \n",
    "        \n",
    "        print(\"epoch {} loss = {}, time = {}\".format(epoch, epoch_loss,\n",
    "                                                        time.time() - start))\n",
    "        \n",
    "        # save to loss list\n",
    "        train_loss_list.append(epoch_loss)\n",
    "        \n",
    "        sys.stdout.flush()\n",
    "   \n",
    "        if epoch%val_every == 0:\n",
    "            val_bleu_score = nmt.get_bleu_score(dataloader['val']);\n",
    "            print('validation bleu: ', val_bleu_score)\n",
    "            \n",
    "            # save to bleu score list \n",
    "            val_bleu_list.append(val_bleu_score)            \n",
    "            \n",
    "            sys.stdout.flush()\n",
    "            \n",
    "            nmt.scheduler_step(val_bleu_score);\n",
    "            \n",
    "            if val_bleu_score > best_bleu:\n",
    "                best_bleu = val_bleu_score\n",
    "\n",
    "        print('='*50)\n",
    "\n",
    "    print(\"Training completed. Best BLEU is {}\".format(best_bleu))\n",
    "    \n",
    "    return train_loss_list, val_bleu_list"
   ]
  },
  {
   "cell_type": "code",
   "execution_count": 98,
   "metadata": {},
   "outputs": [
    {
     "data": {
      "text/plain": [
       "139"
      ]
     },
     "execution_count": 98,
     "metadata": {},
     "output_type": "execute_result"
    }
   ],
   "source": [
    "import gc\n",
    "gc.collect()"
   ]
  },
  {
   "cell_type": "code",
   "execution_count": 99,
   "metadata": {
    "scrolled": true
   },
   "outputs": [
    {
     "name": "stdout",
     "output_type": "stream",
     "text": [
      "Epoch: [0/20]\n"
     ]
    },
    {
     "data": {
      "application/vnd.jupyter.widget-view+json": {
       "model_id": "58008c7d02714469bd858c5ab3520706",
       "version_major": 2,
       "version_minor": 0
      },
      "text/plain": [
       "  0%|          | 0/1805 [00:00<?, ?it/s]"
      ]
     },
     "metadata": {},
     "output_type": "display_data"
    },
    {
     "name": "stdout",
     "output_type": "stream",
     "text": [
      "epoch 0 loss = 2.3173973591373898, time = 191.81547117233276\n",
      "validation bleu:  2.5788499421936164\n",
      "==================================================\n",
      "Epoch: [1/20]\n"
     ]
    },
    {
     "data": {
      "application/vnd.jupyter.widget-view+json": {
       "model_id": "0e2974b44f134dd5bde70896262a411e",
       "version_major": 2,
       "version_minor": 0
      },
      "text/plain": [
       "  0%|          | 0/1805 [00:00<?, ?it/s]"
      ]
     },
     "metadata": {},
     "output_type": "display_data"
    },
    {
     "name": "stdout",
     "output_type": "stream",
     "text": [
      "epoch 1 loss = 1.686282036542232, time = 189.65513348579407\n",
      "validation bleu:  5.430307746115325\n",
      "==================================================\n",
      "Epoch: [2/20]\n"
     ]
    },
    {
     "data": {
      "application/vnd.jupyter.widget-view+json": {
       "model_id": "4f8b5d8b6cb94954b6072ce8effb48dd",
       "version_major": 2,
       "version_minor": 0
      },
      "text/plain": [
       "  0%|          | 0/1805 [00:00<?, ?it/s]"
      ]
     },
     "metadata": {},
     "output_type": "display_data"
    },
    {
     "name": "stdout",
     "output_type": "stream",
     "text": [
      "epoch 2 loss = 1.4954081657520621, time = 189.9128384590149\n",
      "validation bleu:  7.588506991749392\n",
      "==================================================\n",
      "Epoch: [3/20]\n"
     ]
    },
    {
     "data": {
      "application/vnd.jupyter.widget-view+json": {
       "model_id": "b510f351993c43f789a7074a54fd8748",
       "version_major": 2,
       "version_minor": 0
      },
      "text/plain": [
       "  0%|          | 0/1805 [00:00<?, ?it/s]"
      ]
     },
     "metadata": {},
     "output_type": "display_data"
    },
    {
     "name": "stdout",
     "output_type": "stream",
     "text": [
      "epoch 3 loss = 1.3797105601950035, time = 189.7223460674286\n",
      "validation bleu:  9.024346239675518\n",
      "==================================================\n",
      "Epoch: [4/20]\n"
     ]
    },
    {
     "data": {
      "application/vnd.jupyter.widget-view+json": {
       "model_id": "688b33d6250b40458515579ffdb37109",
       "version_major": 2,
       "version_minor": 0
      },
      "text/plain": [
       "  0%|          | 0/1805 [00:00<?, ?it/s]"
      ]
     },
     "metadata": {},
     "output_type": "display_data"
    },
    {
     "name": "stdout",
     "output_type": "stream",
     "text": [
      "epoch 4 loss = 1.2779946407783065, time = 189.84810614585876\n",
      "validation bleu:  10.660338484776538\n",
      "==================================================\n",
      "Epoch: [5/20]\n"
     ]
    },
    {
     "data": {
      "application/vnd.jupyter.widget-view+json": {
       "model_id": "29b623f09137425f82b78e51b8def622",
       "version_major": 2,
       "version_minor": 0
      },
      "text/plain": [
       "  0%|          | 0/1805 [00:00<?, ?it/s]"
      ]
     },
     "metadata": {},
     "output_type": "display_data"
    },
    {
     "name": "stdout",
     "output_type": "stream",
     "text": [
      "epoch 5 loss = 1.2011383356810277, time = 189.84305787086487\n",
      "validation bleu:  12.013279624668858\n",
      "==================================================\n",
      "Epoch: [6/20]\n"
     ]
    },
    {
     "data": {
      "application/vnd.jupyter.widget-view+json": {
       "model_id": "c0b4ee94c1974282bb12c791b8a068e6",
       "version_major": 2,
       "version_minor": 0
      },
      "text/plain": [
       "  0%|          | 0/1805 [00:00<?, ?it/s]"
      ]
     },
     "metadata": {},
     "output_type": "display_data"
    },
    {
     "name": "stdout",
     "output_type": "stream",
     "text": [
      "epoch 6 loss = 1.126222814186128, time = 190.00930953025818\n",
      "validation bleu:  13.547745832052469\n",
      "==================================================\n",
      "Epoch: [7/20]\n"
     ]
    },
    {
     "data": {
      "application/vnd.jupyter.widget-view+json": {
       "model_id": "01b6fdd455234ff19d472788799a23f8",
       "version_major": 2,
       "version_minor": 0
      },
      "text/plain": [
       "  0%|          | 0/1805 [00:00<?, ?it/s]"
      ]
     },
     "metadata": {},
     "output_type": "display_data"
    },
    {
     "name": "stdout",
     "output_type": "stream",
     "text": [
      "epoch 7 loss = 1.0662760284798958, time = 190.04612398147583\n",
      "validation bleu:  14.903407367640371\n",
      "==================================================\n",
      "Epoch: [8/20]\n"
     ]
    },
    {
     "data": {
      "application/vnd.jupyter.widget-view+json": {
       "model_id": "561e721ddf23400dbd369d87402487a0",
       "version_major": 2,
       "version_minor": 0
      },
      "text/plain": [
       "  0%|          | 0/1805 [00:00<?, ?it/s]"
      ]
     },
     "metadata": {},
     "output_type": "display_data"
    },
    {
     "name": "stdout",
     "output_type": "stream",
     "text": [
      "epoch 8 loss = 1.0153153050309074, time = 190.01752066612244\n",
      "validation bleu:  16.09046054060169\n",
      "==================================================\n",
      "Epoch: [9/20]\n"
     ]
    },
    {
     "data": {
      "application/vnd.jupyter.widget-view+json": {
       "model_id": "b33761c5c5a64738a34120d3ade1919a",
       "version_major": 2,
       "version_minor": 0
      },
      "text/plain": [
       "  0%|          | 0/1805 [00:00<?, ?it/s]"
      ]
     },
     "metadata": {},
     "output_type": "display_data"
    },
    {
     "name": "stdout",
     "output_type": "stream",
     "text": [
      "epoch 9 loss = 0.9650892060219086, time = 190.01508402824402\n",
      "validation bleu:  16.96891165328437\n",
      "==================================================\n",
      "Epoch: [10/20]\n"
     ]
    },
    {
     "data": {
      "application/vnd.jupyter.widget-view+json": {
       "model_id": "c55bbb54f4164f25a4b0cd36e05a2922",
       "version_major": 2,
       "version_minor": 0
      },
      "text/plain": [
       "  0%|          | 0/1805 [00:00<?, ?it/s]"
      ]
     },
     "metadata": {},
     "output_type": "display_data"
    },
    {
     "name": "stdout",
     "output_type": "stream",
     "text": [
      "epoch 10 loss = 0.9223149665835161, time = 190.3486044406891\n",
      "validation bleu:  17.961444282727825\n",
      "==================================================\n",
      "Epoch: [11/20]\n"
     ]
    },
    {
     "data": {
      "application/vnd.jupyter.widget-view+json": {
       "model_id": "7c4632e145ee431d92251d39fbf493cf",
       "version_major": 2,
       "version_minor": 0
      },
      "text/plain": [
       "  0%|          | 0/1805 [00:00<?, ?it/s]"
      ]
     },
     "metadata": {},
     "output_type": "display_data"
    },
    {
     "name": "stdout",
     "output_type": "stream",
     "text": [
      "epoch 11 loss = 0.8827058421938043, time = 190.67513179779053\n",
      "validation bleu:  18.968284719297326\n",
      "==================================================\n",
      "Epoch: [12/20]\n"
     ]
    },
    {
     "data": {
      "application/vnd.jupyter.widget-view+json": {
       "model_id": "537bac30ef9c454d99e52b7c12740355",
       "version_major": 2,
       "version_minor": 0
      },
      "text/plain": [
       "  0%|          | 0/1805 [00:00<?, ?it/s]"
      ]
     },
     "metadata": {},
     "output_type": "display_data"
    },
    {
     "name": "stdout",
     "output_type": "stream",
     "text": [
      "epoch 12 loss = 0.8496702580901064, time = 190.6039535999298\n",
      "validation bleu:  19.462667113193206\n",
      "==================================================\n",
      "Epoch: [13/20]\n"
     ]
    },
    {
     "data": {
      "application/vnd.jupyter.widget-view+json": {
       "model_id": "c367cc13f4ba460ba0b49b2ee9268231",
       "version_major": 2,
       "version_minor": 0
      },
      "text/plain": [
       "  0%|          | 0/1805 [00:00<?, ?it/s]"
      ]
     },
     "metadata": {},
     "output_type": "display_data"
    },
    {
     "name": "stdout",
     "output_type": "stream",
     "text": [
      "epoch 13 loss = 0.8172979349409775, time = 190.51963067054749\n",
      "validation bleu:  19.969067365639493\n",
      "==================================================\n",
      "Epoch: [14/20]\n"
     ]
    },
    {
     "data": {
      "application/vnd.jupyter.widget-view+json": {
       "model_id": "80bf4434725a4f6fa803a71e678423e8",
       "version_major": 2,
       "version_minor": 0
      },
      "text/plain": [
       "  0%|          | 0/1805 [00:00<?, ?it/s]"
      ]
     },
     "metadata": {},
     "output_type": "display_data"
    },
    {
     "name": "stdout",
     "output_type": "stream",
     "text": [
      "epoch 14 loss = 0.7845120264552636, time = 190.3377661705017\n",
      "validation bleu:  20.769418981565178\n",
      "==================================================\n",
      "Epoch: [15/20]\n"
     ]
    },
    {
     "data": {
      "application/vnd.jupyter.widget-view+json": {
       "model_id": "bfc7ed14056a4a05bb7ea978873c8398",
       "version_major": 2,
       "version_minor": 0
      },
      "text/plain": [
       "  0%|          | 0/1805 [00:00<?, ?it/s]"
      ]
     },
     "metadata": {},
     "output_type": "display_data"
    },
    {
     "name": "stdout",
     "output_type": "stream",
     "text": [
      "epoch 15 loss = 0.7627882436371907, time = 190.15356016159058\n",
      "validation bleu:  21.30098395907071\n",
      "==================================================\n",
      "Epoch: [16/20]\n"
     ]
    },
    {
     "data": {
      "application/vnd.jupyter.widget-view+json": {
       "model_id": "7a0dbfe0048b4cfba10e8d3d42560cd4",
       "version_major": 2,
       "version_minor": 0
      },
      "text/plain": [
       "  0%|          | 0/1805 [00:00<?, ?it/s]"
      ]
     },
     "metadata": {},
     "output_type": "display_data"
    },
    {
     "name": "stdout",
     "output_type": "stream",
     "text": [
      "epoch 16 loss = 0.7341580189331086, time = 190.36274003982544\n",
      "validation bleu:  21.824887499764795\n",
      "==================================================\n",
      "Epoch: [17/20]\n"
     ]
    },
    {
     "data": {
      "application/vnd.jupyter.widget-view+json": {
       "model_id": "ea02ae9db3284f6abe8c9ee33a687d14",
       "version_major": 2,
       "version_minor": 0
      },
      "text/plain": [
       "  0%|          | 0/1805 [00:00<?, ?it/s]"
      ]
     },
     "metadata": {},
     "output_type": "display_data"
    },
    {
     "name": "stdout",
     "output_type": "stream",
     "text": [
      "epoch 17 loss = 0.7093946068735995, time = 190.56483554840088\n",
      "validation bleu:  22.452954134055034\n",
      "==================================================\n",
      "Epoch: [18/20]\n"
     ]
    },
    {
     "data": {
      "application/vnd.jupyter.widget-view+json": {
       "model_id": "c53a84448ef64b2b90c1f384b0fb0f15",
       "version_major": 2,
       "version_minor": 0
      },
      "text/plain": [
       "  0%|          | 0/1805 [00:00<?, ?it/s]"
      ]
     },
     "metadata": {},
     "output_type": "display_data"
    },
    {
     "name": "stdout",
     "output_type": "stream",
     "text": [
      "epoch 18 loss = 0.6905291024007295, time = 190.48179507255554\n",
      "validation bleu:  22.875562070120235\n",
      "==================================================\n",
      "Epoch: [19/20]\n"
     ]
    },
    {
     "data": {
      "application/vnd.jupyter.widget-view+json": {
       "model_id": "64c62190e7a84873aa28ff31b09f48ef",
       "version_major": 2,
       "version_minor": 0
      },
      "text/plain": [
       "  0%|          | 0/1805 [00:00<?, ?it/s]"
      ]
     },
     "metadata": {},
     "output_type": "display_data"
    },
    {
     "name": "stdout",
     "output_type": "stream",
     "text": [
      "epoch 19 loss = 0.6663589086559011, time = 190.1974265575409\n",
      "validation bleu:  23.53231385642179\n",
      "==================================================\n",
      "Training completed. Best BLEU is 23.53231385642179\n"
     ]
    }
   ],
   "source": [
    "# training for model 1\n",
    "train_loss_list_1, val_bleu_list_1 = train_model(dataloader_dict,\n",
    "                                                 full_model_1, \n",
    "                                                 num_epochs = num_epochs)"
   ]
  },
  {
   "cell_type": "code",
   "execution_count": 41,
   "metadata": {
    "scrolled": true
   },
   "outputs": [
    {
     "name": "stdout",
     "output_type": "stream",
     "text": [
      "Epoch: [0/20]\n"
     ]
    },
    {
     "data": {
      "application/vnd.jupyter.widget-view+json": {
       "model_id": "ea8e72946aa747a6a0ada3884aeb2ed8",
       "version_major": 2,
       "version_minor": 0
      },
      "text/plain": [
       "  0%|          | 0/1805 [00:00<?, ?it/s]"
      ]
     },
     "metadata": {},
     "output_type": "display_data"
    },
    {
     "name": "stdout",
     "output_type": "stream",
     "text": [
      "epoch 0 loss = 2.3368878257571826, time = 351.5087962150574\n",
      "validation bleu:  4.635453831480418\n",
      "==================================================\n",
      "Epoch: [1/20]\n"
     ]
    },
    {
     "data": {
      "application/vnd.jupyter.widget-view+json": {
       "model_id": "b2ab400935dc40c59cfa83f67275cc7a",
       "version_major": 2,
       "version_minor": 0
      },
      "text/plain": [
       "  0%|          | 0/1805 [00:00<?, ?it/s]"
      ]
     },
     "metadata": {},
     "output_type": "display_data"
    },
    {
     "name": "stdout",
     "output_type": "stream",
     "text": [
      "epoch 1 loss = 1.6703772253276898, time = 347.554936170578\n",
      "validation bleu:  9.074029572901251\n",
      "==================================================\n",
      "Epoch: [2/20]\n"
     ]
    },
    {
     "data": {
      "application/vnd.jupyter.widget-view+json": {
       "model_id": "70d14832c2cb434b9e2efeb3f83ee013",
       "version_major": 2,
       "version_minor": 0
      },
      "text/plain": [
       "  0%|          | 0/1805 [00:00<?, ?it/s]"
      ]
     },
     "metadata": {},
     "output_type": "display_data"
    },
    {
     "name": "stdout",
     "output_type": "stream",
     "text": [
      "epoch 2 loss = 1.4778917810263066, time = 347.33016061782837\n",
      "validation bleu:  11.431114758909764\n",
      "==================================================\n",
      "Epoch: [3/20]\n"
     ]
    },
    {
     "data": {
      "application/vnd.jupyter.widget-view+json": {
       "model_id": "cb28a6ad779e4f09b0c3a97fff6b1458",
       "version_major": 2,
       "version_minor": 0
      },
      "text/plain": [
       "  0%|          | 0/1805 [00:00<?, ?it/s]"
      ]
     },
     "metadata": {},
     "output_type": "display_data"
    },
    {
     "name": "stdout",
     "output_type": "stream",
     "text": [
      "epoch 3 loss = 1.3550885660496446, time = 347.3911533355713\n",
      "validation bleu:  13.92842825373875\n",
      "==================================================\n",
      "Epoch: [4/20]\n"
     ]
    },
    {
     "data": {
      "application/vnd.jupyter.widget-view+json": {
       "model_id": "1b4b800874f94e81bee92774d63a4e12",
       "version_major": 2,
       "version_minor": 0
      },
      "text/plain": [
       "  0%|          | 0/1805 [00:00<?, ?it/s]"
      ]
     },
     "metadata": {},
     "output_type": "display_data"
    },
    {
     "name": "stdout",
     "output_type": "stream",
     "text": [
      "epoch 4 loss = 1.275637935568421, time = 347.78133726119995\n",
      "validation bleu:  14.918262334078534\n",
      "==================================================\n",
      "Epoch: [5/20]\n"
     ]
    },
    {
     "data": {
      "application/vnd.jupyter.widget-view+json": {
       "model_id": "d5f9d8746e8644b49ffc7c45385cde52",
       "version_major": 2,
       "version_minor": 0
      },
      "text/plain": [
       "  0%|          | 0/1805 [00:00<?, ?it/s]"
      ]
     },
     "metadata": {},
     "output_type": "display_data"
    },
    {
     "name": "stdout",
     "output_type": "stream",
     "text": [
      "epoch 5 loss = 1.2133270483267935, time = 347.03429913520813\n",
      "validation bleu:  15.53511303245188\n",
      "==================================================\n",
      "Epoch: [6/20]\n"
     ]
    },
    {
     "data": {
      "application/vnd.jupyter.widget-view+json": {
       "model_id": "bc32f017caae4d818e73d4cf27e837cb",
       "version_major": 2,
       "version_minor": 0
      },
      "text/plain": [
       "  0%|          | 0/1805 [00:00<?, ?it/s]"
      ]
     },
     "metadata": {},
     "output_type": "display_data"
    },
    {
     "name": "stdout",
     "output_type": "stream",
     "text": [
      "epoch 6 loss = 1.1630848913311629, time = 346.8055021762848\n",
      "validation bleu:  17.095940681162926\n",
      "==================================================\n",
      "Epoch: [7/20]\n"
     ]
    },
    {
     "data": {
      "application/vnd.jupyter.widget-view+json": {
       "model_id": "0e73c5ab86664b9685229d35149d4bca",
       "version_major": 2,
       "version_minor": 0
      },
      "text/plain": [
       "  0%|          | 0/1805 [00:00<?, ?it/s]"
      ]
     },
     "metadata": {},
     "output_type": "display_data"
    },
    {
     "name": "stdout",
     "output_type": "stream",
     "text": [
      "epoch 7 loss = 1.1194120242985333, time = 347.4914753437042\n",
      "validation bleu:  17.781887955781446\n",
      "==================================================\n",
      "Epoch: [8/20]\n"
     ]
    },
    {
     "data": {
      "application/vnd.jupyter.widget-view+json": {
       "model_id": "fd73c7414abb4f70a70ea115544910a4",
       "version_major": 2,
       "version_minor": 0
      },
      "text/plain": [
       "  0%|          | 0/1805 [00:00<?, ?it/s]"
      ]
     },
     "metadata": {},
     "output_type": "display_data"
    },
    {
     "name": "stdout",
     "output_type": "stream",
     "text": [
      "epoch 8 loss = 1.0831025377204875, time = 345.0567536354065\n",
      "validation bleu:  18.454448890882162\n",
      "==================================================\n",
      "Epoch: [9/20]\n"
     ]
    },
    {
     "data": {
      "application/vnd.jupyter.widget-view+json": {
       "model_id": "2a794facad7c423eafff630c20df38d3",
       "version_major": 2,
       "version_minor": 0
      },
      "text/plain": [
       "  0%|          | 0/1805 [00:00<?, ?it/s]"
      ]
     },
     "metadata": {},
     "output_type": "display_data"
    },
    {
     "name": "stdout",
     "output_type": "stream",
     "text": [
      "epoch 9 loss = 1.0509959584458053, time = 373.19202041625977\n",
      "validation bleu:  19.415750383866683\n",
      "==================================================\n",
      "Epoch: [10/20]\n"
     ]
    },
    {
     "data": {
      "application/vnd.jupyter.widget-view+json": {
       "model_id": "58d0d2d4509841df9e43dff6dd862b0f",
       "version_major": 2,
       "version_minor": 0
      },
      "text/plain": [
       "  0%|          | 0/1805 [00:00<?, ?it/s]"
      ]
     },
     "metadata": {},
     "output_type": "display_data"
    },
    {
     "name": "stdout",
     "output_type": "stream",
     "text": [
      "epoch 10 loss = 1.0211819381594989, time = 347.7383334636688\n",
      "validation bleu:  19.021531996651\n",
      "Epoch 00011: reducing learning rate of group 0 to 1.0000e-03.\n",
      "==================================================\n",
      "Epoch: [11/20]\n"
     ]
    },
    {
     "data": {
      "application/vnd.jupyter.widget-view+json": {
       "model_id": "2591bcb0f65042f6982b384e7cacf939",
       "version_major": 2,
       "version_minor": 0
      },
      "text/plain": [
       "  0%|          | 0/1805 [00:00<?, ?it/s]"
      ]
     },
     "metadata": {},
     "output_type": "display_data"
    },
    {
     "name": "stdout",
     "output_type": "stream",
     "text": [
      "epoch 11 loss = 0.9636138584144888, time = 347.49956703186035\n",
      "validation bleu:  21.35042707704375\n",
      "==================================================\n",
      "Epoch: [12/20]\n"
     ]
    },
    {
     "data": {
      "application/vnd.jupyter.widget-view+json": {
       "model_id": "372e2c7a4123463bba7ce4a3b56f2f82",
       "version_major": 2,
       "version_minor": 0
      },
      "text/plain": [
       "  0%|          | 0/1805 [00:00<?, ?it/s]"
      ]
     },
     "metadata": {},
     "output_type": "display_data"
    },
    {
     "name": "stdout",
     "output_type": "stream",
     "text": [
      "epoch 12 loss = 0.9406187744186856, time = 347.81449484825134\n",
      "validation bleu:  21.9207282115149\n",
      "==================================================\n",
      "Epoch: [13/20]\n"
     ]
    },
    {
     "data": {
      "application/vnd.jupyter.widget-view+json": {
       "model_id": "8ee0f1a0a5a7415a83677b071ac2fe91",
       "version_major": 2,
       "version_minor": 0
      },
      "text/plain": [
       "  0%|          | 0/1805 [00:00<?, ?it/s]"
      ]
     },
     "metadata": {},
     "output_type": "display_data"
    },
    {
     "name": "stdout",
     "output_type": "stream",
     "text": [
      "epoch 13 loss = 0.9250218183049865, time = 348.8601052761078\n",
      "validation bleu:  22.096426182895094\n",
      "==================================================\n",
      "Epoch: [14/20]\n"
     ]
    },
    {
     "data": {
      "application/vnd.jupyter.widget-view+json": {
       "model_id": "e3741a23f7b5402bb81a5c06d9be2d2c",
       "version_major": 2,
       "version_minor": 0
      },
      "text/plain": [
       "  0%|          | 0/1805 [00:00<?, ?it/s]"
      ]
     },
     "metadata": {},
     "output_type": "display_data"
    },
    {
     "name": "stdout",
     "output_type": "stream",
     "text": [
      "epoch 14 loss = 0.9191159551823899, time = 347.54407477378845\n",
      "validation bleu:  22.39835315092481\n",
      "==================================================\n",
      "Epoch: [15/20]\n"
     ]
    },
    {
     "data": {
      "application/vnd.jupyter.widget-view+json": {
       "model_id": "3dcdd1ba50204624b5b5e4e97e8081e9",
       "version_major": 2,
       "version_minor": 0
      },
      "text/plain": [
       "  0%|          | 0/1805 [00:00<?, ?it/s]"
      ]
     },
     "metadata": {},
     "output_type": "display_data"
    },
    {
     "name": "stdout",
     "output_type": "stream",
     "text": [
      "epoch 15 loss = 0.9094495079523969, time = 347.6450572013855\n",
      "validation bleu:  22.8258853219452\n",
      "==================================================\n",
      "Epoch: [16/20]\n"
     ]
    },
    {
     "data": {
      "application/vnd.jupyter.widget-view+json": {
       "model_id": "21063b358ff14022b7586f74a543f960",
       "version_major": 2,
       "version_minor": 0
      },
      "text/plain": [
       "  0%|          | 0/1805 [00:00<?, ?it/s]"
      ]
     },
     "metadata": {},
     "output_type": "display_data"
    },
    {
     "name": "stdout",
     "output_type": "stream",
     "text": [
      "epoch 16 loss = 0.9015599965223645, time = 347.8947944641113\n",
      "validation bleu:  22.719454384956013\n",
      "Epoch 00017: reducing learning rate of group 0 to 1.0000e-04.\n",
      "==================================================\n",
      "Epoch: [17/20]\n"
     ]
    },
    {
     "data": {
      "application/vnd.jupyter.widget-view+json": {
       "model_id": "2a76a164cbb8468d8115d15fa23e6b2c",
       "version_major": 2,
       "version_minor": 0
      },
      "text/plain": [
       "  0%|          | 0/1805 [00:00<?, ?it/s]"
      ]
     },
     "metadata": {},
     "output_type": "display_data"
    },
    {
     "name": "stdout",
     "output_type": "stream",
     "text": [
      "epoch 17 loss = 0.8940530428265601, time = 347.0649492740631\n",
      "validation bleu:  22.86662722251244\n",
      "==================================================\n",
      "Epoch: [18/20]\n"
     ]
    },
    {
     "data": {
      "application/vnd.jupyter.widget-view+json": {
       "model_id": "fd1a9650a747479d89ca9f12049d227a",
       "version_major": 2,
       "version_minor": 0
      },
      "text/plain": [
       "  0%|          | 0/1805 [00:00<?, ?it/s]"
      ]
     },
     "metadata": {},
     "output_type": "display_data"
    },
    {
     "name": "stdout",
     "output_type": "stream",
     "text": [
      "epoch 18 loss = 0.8935987130261525, time = 347.4994306564331\n",
      "validation bleu:  22.72565272685963\n",
      "==================================================\n",
      "Epoch: [19/20]\n"
     ]
    },
    {
     "data": {
      "application/vnd.jupyter.widget-view+json": {
       "model_id": "a2446bf64a6840ac9e512fb2b384dec8",
       "version_major": 2,
       "version_minor": 0
      },
      "text/plain": [
       "  0%|          | 0/1805 [00:00<?, ?it/s]"
      ]
     },
     "metadata": {},
     "output_type": "display_data"
    },
    {
     "name": "stdout",
     "output_type": "stream",
     "text": [
      "epoch 19 loss = 0.8869622724208145, time = 349.0776529312134\n",
      "validation bleu:  23.06601783248178\n",
      "==================================================\n",
      "Training completed. Best BLEU is 23.06601783248178\n"
     ]
    }
   ],
   "source": [
    "train_loss_list_2, val_bleu_list_2 = train_model(dataloader_dict, \n",
    "                                                 full_model_2,\n",
    "                                                 num_epochs = num_epochs)"
   ]
  },
  {
   "cell_type": "code",
   "execution_count": 38,
   "metadata": {
    "scrolled": true
   },
   "outputs": [
    {
     "name": "stdout",
     "output_type": "stream",
     "text": [
      "Epoch: [0/20]\n"
     ]
    },
    {
     "data": {
      "application/vnd.jupyter.widget-view+json": {
       "model_id": "0c5b7979ef48477d96a12c4b9cc99182",
       "version_major": 2,
       "version_minor": 0
      },
      "text/plain": [
       "  0%|          | 0/1805 [00:00<?, ?it/s]"
      ]
     },
     "metadata": {},
     "output_type": "display_data"
    },
    {
     "name": "stdout",
     "output_type": "stream",
     "text": [
      "epoch 0 loss = 2.2756917987173613, time = 361.86591601371765\n",
      "validation bleu:  6.526400047573199\n",
      "==================================================\n",
      "Epoch: [1/20]\n"
     ]
    },
    {
     "data": {
      "application/vnd.jupyter.widget-view+json": {
       "model_id": "0e3898aaaa084c91b5b7a88d0825be62",
       "version_major": 2,
       "version_minor": 0
      },
      "text/plain": [
       "  0%|          | 0/1805 [00:00<?, ?it/s]"
      ]
     },
     "metadata": {},
     "output_type": "display_data"
    },
    {
     "name": "stdout",
     "output_type": "stream",
     "text": [
      "epoch 1 loss = 1.6673961534064232, time = 359.57522892951965\n",
      "validation bleu:  9.043820329629744\n",
      "==================================================\n",
      "Epoch: [2/20]\n"
     ]
    },
    {
     "data": {
      "application/vnd.jupyter.widget-view+json": {
       "model_id": "3fae416cf6d847e0ac19b7e6e6055ec6",
       "version_major": 2,
       "version_minor": 0
      },
      "text/plain": [
       "  0%|          | 0/1805 [00:00<?, ?it/s]"
      ]
     },
     "metadata": {},
     "output_type": "display_data"
    },
    {
     "name": "stdout",
     "output_type": "stream",
     "text": [
      "epoch 2 loss = 1.500848271609013, time = 359.3349075317383\n",
      "validation bleu:  11.994129105290314\n",
      "==================================================\n",
      "Epoch: [3/20]\n"
     ]
    },
    {
     "data": {
      "application/vnd.jupyter.widget-view+json": {
       "model_id": "ac1cd96ee0964549a985153cd5247ef3",
       "version_major": 2,
       "version_minor": 0
      },
      "text/plain": [
       "  0%|          | 0/1805 [00:00<?, ?it/s]"
      ]
     },
     "metadata": {},
     "output_type": "display_data"
    },
    {
     "name": "stdout",
     "output_type": "stream",
     "text": [
      "epoch 3 loss = 1.3805413307245418, time = 360.51149821281433\n",
      "validation bleu:  14.040410618636262\n",
      "==================================================\n",
      "Epoch: [4/20]\n"
     ]
    },
    {
     "data": {
      "application/vnd.jupyter.widget-view+json": {
       "model_id": "4d8d24d16bc54d8183be4d5d31606751",
       "version_major": 2,
       "version_minor": 0
      },
      "text/plain": [
       "  0%|          | 0/1805 [00:00<?, ?it/s]"
      ]
     },
     "metadata": {},
     "output_type": "display_data"
    },
    {
     "name": "stdout",
     "output_type": "stream",
     "text": [
      "epoch 4 loss = 1.2873943040245457, time = 360.4787015914917\n",
      "validation bleu:  15.821888186248485\n",
      "==================================================\n",
      "Epoch: [5/20]\n"
     ]
    },
    {
     "data": {
      "application/vnd.jupyter.widget-view+json": {
       "model_id": "a8b54d2c7ba0460aa1d5f33e1c8127cb",
       "version_major": 2,
       "version_minor": 0
      },
      "text/plain": [
       "  0%|          | 0/1805 [00:00<?, ?it/s]"
      ]
     },
     "metadata": {},
     "output_type": "display_data"
    },
    {
     "name": "stdout",
     "output_type": "stream",
     "text": [
      "epoch 5 loss = 1.2156704756361625, time = 359.86116909980774\n",
      "validation bleu:  17.03297949136329\n",
      "==================================================\n",
      "Epoch: [6/20]\n"
     ]
    },
    {
     "data": {
      "application/vnd.jupyter.widget-view+json": {
       "model_id": "d0b445dff3334278862e0676828ae49d",
       "version_major": 2,
       "version_minor": 0
      },
      "text/plain": [
       "  0%|          | 0/1805 [00:00<?, ?it/s]"
      ]
     },
     "metadata": {},
     "output_type": "display_data"
    },
    {
     "name": "stdout",
     "output_type": "stream",
     "text": [
      "epoch 6 loss = 1.1627544977988562, time = 360.01660537719727\n",
      "validation bleu:  17.65718648493358\n",
      "==================================================\n",
      "Epoch: [7/20]\n"
     ]
    },
    {
     "data": {
      "application/vnd.jupyter.widget-view+json": {
       "model_id": "4a76d4e8ab7d472e9d38aea56985fa83",
       "version_major": 2,
       "version_minor": 0
      },
      "text/plain": [
       "  0%|          | 0/1805 [00:00<?, ?it/s]"
      ]
     },
     "metadata": {},
     "output_type": "display_data"
    },
    {
     "name": "stdout",
     "output_type": "stream",
     "text": [
      "epoch 7 loss = 1.116084135470298, time = 360.7387397289276\n",
      "validation bleu:  19.133455879833303\n",
      "==================================================\n",
      "Epoch: [8/20]\n"
     ]
    },
    {
     "data": {
      "application/vnd.jupyter.widget-view+json": {
       "model_id": "42b238798bc14e35ab3a674942e8a4a2",
       "version_major": 2,
       "version_minor": 0
      },
      "text/plain": [
       "  0%|          | 0/1805 [00:00<?, ?it/s]"
      ]
     },
     "metadata": {},
     "output_type": "display_data"
    },
    {
     "name": "stdout",
     "output_type": "stream",
     "text": [
      "epoch 8 loss = 1.0838156877462224, time = 360.466285943985\n",
      "validation bleu:  19.092884577832287\n",
      "Epoch 00009: reducing learning rate of group 0 to 1.0000e-03.\n",
      "==================================================\n",
      "Epoch: [9/20]\n"
     ]
    },
    {
     "data": {
      "application/vnd.jupyter.widget-view+json": {
       "model_id": "e507a35d422b43eaa40dcd1ab0d6c2fe",
       "version_major": 2,
       "version_minor": 0
      },
      "text/plain": [
       "  0%|          | 0/1805 [00:00<?, ?it/s]"
      ]
     },
     "metadata": {},
     "output_type": "display_data"
    },
    {
     "name": "stdout",
     "output_type": "stream",
     "text": [
      "epoch 9 loss = 1.0174181548512213, time = 360.3776202201843\n",
      "validation bleu:  21.171647626156453\n",
      "==================================================\n",
      "Epoch: [10/20]\n"
     ]
    },
    {
     "data": {
      "application/vnd.jupyter.widget-view+json": {
       "model_id": "6e24e03a4df043f6bfd3a09a6fa34fdf",
       "version_major": 2,
       "version_minor": 0
      },
      "text/plain": [
       "  0%|          | 0/1805 [00:00<?, ?it/s]"
      ]
     },
     "metadata": {},
     "output_type": "display_data"
    },
    {
     "name": "stdout",
     "output_type": "stream",
     "text": [
      "epoch 10 loss = 0.991972114207672, time = 356.91411232948303\n",
      "validation bleu:  21.701791706632278\n",
      "==================================================\n",
      "Epoch: [11/20]\n"
     ]
    },
    {
     "data": {
      "application/vnd.jupyter.widget-view+json": {
       "model_id": "1916b43b6c2242dfbb9ec809eade321f",
       "version_major": 2,
       "version_minor": 0
      },
      "text/plain": [
       "  0%|          | 0/1805 [00:00<?, ?it/s]"
      ]
     },
     "metadata": {},
     "output_type": "display_data"
    },
    {
     "name": "stdout",
     "output_type": "stream",
     "text": [
      "epoch 11 loss = 0.9776330930704555, time = 355.54033946990967\n",
      "validation bleu:  22.359980964997266\n",
      "==================================================\n",
      "Epoch: [12/20]\n"
     ]
    },
    {
     "data": {
      "application/vnd.jupyter.widget-view+json": {
       "model_id": "79181004dedf463fa59f3557065ddb3b",
       "version_major": 2,
       "version_minor": 0
      },
      "text/plain": [
       "  0%|          | 0/1805 [00:00<?, ?it/s]"
      ]
     },
     "metadata": {},
     "output_type": "display_data"
    },
    {
     "name": "stdout",
     "output_type": "stream",
     "text": [
      "epoch 12 loss = 0.9627844315156382, time = 357.83512687683105\n",
      "validation bleu:  22.14532227029806\n",
      "Epoch 00013: reducing learning rate of group 0 to 1.0000e-04.\n",
      "==================================================\n",
      "Epoch: [13/20]\n"
     ]
    },
    {
     "data": {
      "application/vnd.jupyter.widget-view+json": {
       "model_id": "8e784189f7ad42f994d1b5c406ace696",
       "version_major": 2,
       "version_minor": 0
      },
      "text/plain": [
       "  0%|          | 0/1805 [00:00<?, ?it/s]"
      ]
     },
     "metadata": {},
     "output_type": "display_data"
    },
    {
     "name": "stdout",
     "output_type": "stream",
     "text": [
      "epoch 13 loss = 0.9577543193283504, time = 356.57693696022034\n",
      "validation bleu:  22.41876558855496\n",
      "==================================================\n",
      "Epoch: [14/20]\n"
     ]
    },
    {
     "data": {
      "application/vnd.jupyter.widget-view+json": {
       "model_id": "47ca64c77bda488f8f1f0de5264c19c5",
       "version_major": 2,
       "version_minor": 0
      },
      "text/plain": [
       "  0%|          | 0/1805 [00:00<?, ?it/s]"
      ]
     },
     "metadata": {},
     "output_type": "display_data"
    },
    {
     "name": "stdout",
     "output_type": "stream",
     "text": [
      "epoch 14 loss = 0.9552340944387906, time = 356.9479932785034\n",
      "validation bleu:  22.442251224624442\n",
      "==================================================\n",
      "Epoch: [15/20]\n"
     ]
    },
    {
     "data": {
      "application/vnd.jupyter.widget-view+json": {
       "model_id": "47391dd7c12249088b066eabc71a7776",
       "version_major": 2,
       "version_minor": 0
      },
      "text/plain": [
       "  0%|          | 0/1805 [00:00<?, ?it/s]"
      ]
     },
     "metadata": {},
     "output_type": "display_data"
    },
    {
     "name": "stdout",
     "output_type": "stream",
     "text": [
      "epoch 15 loss = 0.9521781632444535, time = 357.0689296722412\n",
      "validation bleu:  22.616538469426516\n",
      "==================================================\n",
      "Epoch: [16/20]\n"
     ]
    },
    {
     "data": {
      "application/vnd.jupyter.widget-view+json": {
       "model_id": "0a8ea2a94cfb403b849e06e7a16c2f57",
       "version_major": 2,
       "version_minor": 0
      },
      "text/plain": [
       "  0%|          | 0/1805 [00:00<?, ?it/s]"
      ]
     },
     "metadata": {},
     "output_type": "display_data"
    },
    {
     "name": "stdout",
     "output_type": "stream",
     "text": [
      "epoch 16 loss = 0.9524512121882135, time = 358.5739998817444\n",
      "validation bleu:  22.589799595668506\n",
      "==================================================\n",
      "Epoch: [17/20]\n"
     ]
    },
    {
     "data": {
      "application/vnd.jupyter.widget-view+json": {
       "model_id": "b56c3eba9c8b4855961ae0071112af07",
       "version_major": 2,
       "version_minor": 0
      },
      "text/plain": [
       "  0%|          | 0/1805 [00:00<?, ?it/s]"
      ]
     },
     "metadata": {},
     "output_type": "display_data"
    },
    {
     "name": "stdout",
     "output_type": "stream",
     "text": [
      "epoch 17 loss = 0.9514732524298565, time = 362.63212156295776\n",
      "validation bleu:  22.552642611751576\n",
      "==================================================\n",
      "Epoch: [18/20]\n"
     ]
    },
    {
     "data": {
      "application/vnd.jupyter.widget-view+json": {
       "model_id": "a531df7d69c4488e974337d2a5f1dd97",
       "version_major": 2,
       "version_minor": 0
      },
      "text/plain": [
       "  0%|          | 0/1805 [00:00<?, ?it/s]"
      ]
     },
     "metadata": {},
     "output_type": "display_data"
    },
    {
     "name": "stdout",
     "output_type": "stream",
     "text": [
      "epoch 18 loss = 0.9483249353239741, time = 362.37299704551697\n",
      "validation bleu:  22.542840837415476\n",
      "==================================================\n",
      "Epoch: [19/20]\n"
     ]
    },
    {
     "data": {
      "application/vnd.jupyter.widget-view+json": {
       "model_id": "6524575b11a040c6a5590b2b03b528fb",
       "version_major": 2,
       "version_minor": 0
      },
      "text/plain": [
       "  0%|          | 0/1805 [00:00<?, ?it/s]"
      ]
     },
     "metadata": {},
     "output_type": "display_data"
    },
    {
     "name": "stdout",
     "output_type": "stream",
     "text": [
      "epoch 19 loss = 0.9486471589582448, time = 361.4890413284302\n",
      "validation bleu:  22.54276269282344\n",
      "==================================================\n",
      "Training completed. Best BLEU is 22.616538469426516\n"
     ]
    }
   ],
   "source": [
    "train_loss_list_3, val_bleu_list_3 = train_model(dataloader_dict, \n",
    "                                                 full_model_3,\n",
    "                                                 num_epochs = num_epochs)"
   ]
  },
  {
   "cell_type": "code",
   "execution_count": 43,
   "metadata": {},
   "outputs": [],
   "source": [
    "## this code was referenced on lab codes \n",
    "\n",
    "import copy\n",
    "import numpy as np\n",
    "from collections import namedtuple\n",
    "\n",
    "import matplotlib.pyplot as plt\n",
    "import matplotlib.ticker as ticker\n",
    "%matplotlib inline"
   ]
  },
  {
   "cell_type": "code",
   "execution_count": 100,
   "metadata": {},
   "outputs": [
    {
     "data": {
      "image/png": "[encoded data removed]",
      "text/plain": [
       "<Figure size 864x288 with 2 Axes>"
      ]
     },
     "metadata": {
      "needs_background": "light"
     },
     "output_type": "display_data"
    }
   ],
   "source": [
    "## model1\n",
    "fig = plt.figure(figsize=(12, 4))\n",
    "ax1 = fig.add_subplot(121)\n",
    "plt.plot(train_loss_list_1, 'green')\n",
    "plt.xlabel('epoch')\n",
    "plt.ylabel('loss')\n",
    "plt.title('model1 train loss')\n",
    "\n",
    "ax2 = fig.add_subplot(122)\n",
    "plt.plot(val_bleu_list_1, 'red')\n",
    "plt.xlabel('epoch')\n",
    "plt.ylabel('bleu score')\n",
    "plt.title('model1 val bleu score')\n",
    "\n",
    "plt.show()"
   ]
  },
  {
   "cell_type": "code",
   "execution_count": 44,
   "metadata": {},
   "outputs": [
    {
     "data": {
      "image/png": "[encoded data removed]",
      "text/plain": [
       "<Figure size 864x288 with 2 Axes>"
      ]
     },
     "metadata": {
      "needs_background": "light"
     },
     "output_type": "display_data"
    }
   ],
   "source": [
    "## model2\n",
    "fig = plt.figure(figsize=(12, 4))\n",
    "ax1 = fig.add_subplot(121)\n",
    "plt.plot(train_loss_list_2, 'green')\n",
    "plt.xlabel('epoch')\n",
    "plt.ylabel('loss')\n",
    "plt.title('model2 train loss')\n",
    "\n",
    "ax2 = fig.add_subplot(122)\n",
    "plt.plot(val_bleu_list_2, 'red')\n",
    "plt.xlabel('epoch')\n",
    "plt.ylabel('bleu score')\n",
    "plt.title('model2 val bleu score')\n",
    "\n",
    "plt.show()"
   ]
  },
  {
   "cell_type": "code",
   "execution_count": 74,
   "metadata": {
    "scrolled": true
   },
   "outputs": [
    {
     "data": {
      "image/png": "[encoded data removed]",
      "text/plain": [
       "<Figure size 864x288 with 2 Axes>"
      ]
     },
     "metadata": {
      "needs_background": "light"
     },
     "output_type": "display_data"
    }
   ],
   "source": [
    "## model3\n",
    "fig = plt.figure(figsize=(12, 4))\n",
    "ax1 = fig.add_subplot(121)\n",
    "plt.plot(train_loss_list_3, 'green')\n",
    "plt.xlabel('epoch')\n",
    "plt.ylabel('loss')\n",
    "plt.title('model3 train loss')\n",
    "\n",
    "ax2 = fig.add_subplot(122)\n",
    "plt.plot(val_bleu_list_3, 'red')\n",
    "plt.xlabel('epoch')\n",
    "plt.ylabel('bleu score')\n",
    "plt.title('model3 val bleu score')\n",
    "\n",
    "plt.show()"
   ]
  },
  {
   "cell_type": "code",
   "execution_count": null,
   "metadata": {},
   "outputs": [],
   "source": []
  },
  {
   "cell_type": "code",
   "execution_count": 101,
   "metadata": {},
   "outputs": [],
   "source": [
    "#### Reference (this is a code to save/load my model)\n",
    "## model saving functions\n",
    "file_path = '/home/yp2201/model_3_1.pt'\n",
    "torch.save({'loss': train_loss_list_1, \n",
    "            'bleu': val_bleu_list_1, \n",
    "            'model': full_model_1}, file_path)"
   ]
  },
  {
   "cell_type": "code",
   "execution_count": 104,
   "metadata": {},
   "outputs": [],
   "source": [
    "## model loading functions \n",
    "file_path = '/home/yp2201/model_3_1.pt'\n",
    "model_1 = torch.load(file_path)"
   ]
  },
  {
   "cell_type": "code",
   "execution_count": 45,
   "metadata": {},
   "outputs": [],
   "source": [
    "#### Reference (this is a code to save/load my model)\n",
    "## model saving functions\n",
    "file_path = '/home/yp2201/model_3_2.pt'\n",
    "torch.save({'loss': train_loss_list_2, \n",
    "            'bleu': val_bleu_list_2, \n",
    "            'model': full_model_2}, file_path)"
   ]
  },
  {
   "cell_type": "code",
   "execution_count": 61,
   "metadata": {},
   "outputs": [],
   "source": [
    "## model loading functions \n",
    "file_path = '/home/yp2201/model_3_2.pt'\n",
    "model_2 = torch.load(file_path)"
   ]
  },
  {
   "cell_type": "code",
   "execution_count": 41,
   "metadata": {},
   "outputs": [],
   "source": [
    "#### Reference (this is a code to save/load my model)\n",
    "## model saving functions\n",
    "file_path = '/home/yp2201/model_3_3.pt'\n",
    "torch.save({'loss': train_loss_list_3, \n",
    "            'bleu': val_bleu_list_3, \n",
    "            'model': full_model_3}, file_path)"
   ]
  },
  {
   "cell_type": "code",
   "execution_count": 59,
   "metadata": {},
   "outputs": [],
   "source": [
    "## model loading functions \n",
    "file_path = '/home/yp2201/model_3_3.pt'\n",
    "model_3 = torch.load(file_path)"
   ]
  },
  {
   "cell_type": "markdown",
   "metadata": {
    "id": "HLef3aD5iNtM"
   },
   "source": [
    "---\n",
    "### 2 Attention visualization (12 pts)"
   ]
  },
  {
   "cell_type": "markdown",
   "metadata": {},
   "source": [
    "1. Select 3 examples from the validation set and print out the input sentence \n",
    "    in the source language and the predicted sentence in the target language for each type of encoder.\n",
    "2. For 3.2.B, print out the cross-attention heatmap.\n",
    "3. For 3.2.C, print out the cross-attention heatmap and the decoder’s self-attention heatmap."
   ]
  },
  {
   "cell_type": "code",
   "execution_count": 49,
   "metadata": {},
   "outputs": [],
   "source": [
    "def showAttention(input_sentence, output_words, attentions):\n",
    "    # Set up figure with colorbar\n",
    "    fig = plt.figure()\n",
    "    ax = fig.add_subplot(111)\n",
    "    cax = ax.matshow(attentions, cmap='bone', aspect='auto')\n",
    "    fig.colorbar(cax)\n",
    "\n",
    "    # Set up axes\n",
    "    ax.set_xticklabels([''] + input_sentence.split(' ') +\n",
    "                       [global_variables.EOS_TOKEN], rotation=90)\n",
    "    ax.set_yticklabels([''] + output_words.split(' ')+\n",
    "                       [global_variables.EOS_TOKEN]);\n",
    "\n",
    "    # Show label at every tick\n",
    "    ax.xaxis.set_major_locator(ticker.MultipleLocator(1))\n",
    "    ax.yaxis.set_major_locator(ticker.MultipleLocator(1))\n",
    "\n",
    "    plt.show()\n",
    "\n",
    "def get_encoded_batch(sentence, lang_obj, use_cuda):\n",
    "    \"\"\" accepts only bsz = 1.\n",
    "        input: one sentence as a string\n",
    "        output: named tuple with vector and length\"\"\"\n",
    "    \n",
    "    sentence = sentence + ' ' + global_variables.EOS_TOKEN;\n",
    "    tensor = source_lang_obj.txt2vec(sentence).unsqueeze(0)\n",
    "    \n",
    "    device = torch.device('cuda') if use_cuda and torch.cuda.is_available() else torch.device('cpu');\n",
    "    \n",
    "    named_returntuple = namedtuple('namedtuple', ['text_vecs', 'text_lens', 'label_vecs', 'label_lens', 'use_packed'])\n",
    "    return_tuple = named_returntuple( tensor.to(device), \n",
    "                                     torch.from_numpy(np.array([tensor.shape[-1]])).to(device),\n",
    "                                     None,\n",
    "                                     None,\n",
    "                                     False );\n",
    "\n",
    "    return return_tuple\n",
    "\n",
    "def get_translation(nmt_model, sentence, target, lang_obj, use_cuda):\n",
    "    print('original source: ', sentence)\n",
    "    print('original target: ', target)\n",
    "    batch = get_encoded_batch(sentence, lang_obj, use_cuda);\n",
    "    prediction, attn_scores_list = nmt_model.eval_step(batch, return_attn = True);\n",
    "    prediction = prediction[0];\n",
    "    print('prediction: ', prediction)\n",
    "\n",
    "    if attn_scores_list[0] is not None:\n",
    "        if attn_scores_list[0][0] is not None:\n",
    "            attn_matrix = [x[0].data.cpu().numpy() for x in attn_scores_list];\n",
    "            attn_matrix = np.stack(attn_matrix)[:,:, 0]\n",
    "            showAttention(sentence, prediction, attn_matrix)"
   ]
  },
  {
   "cell_type": "code",
   "execution_count": 56,
   "metadata": {},
   "outputs": [
    {
     "data": {
      "text/html": [
       "<div>\n",
       "<style scoped>\n",
       "    .dataframe tbody tr th:only-of-type {\n",
       "        vertical-align: middle;\n",
       "    }\n",
       "\n",
       "    .dataframe tbody tr th {\n",
       "        vertical-align: top;\n",
       "    }\n",
       "\n",
       "    .dataframe thead th {\n",
       "        text-align: right;\n",
       "    }\n",
       "</style>\n",
       "<table border=\"1\" class=\"dataframe\">\n",
       "  <thead>\n",
       "    <tr style=\"text-align: right;\">\n",
       "      <th></th>\n",
       "      <th>source_data</th>\n",
       "      <th>target_data</th>\n",
       "      <th>source_tokenized</th>\n",
       "      <th>source_len</th>\n",
       "      <th>target_tokenized</th>\n",
       "      <th>target_len</th>\n",
       "      <th>source_indized</th>\n",
       "      <th>target_indized</th>\n",
       "    </tr>\n",
       "  </thead>\n",
       "  <tbody>\n",
       "    <tr>\n",
       "      <th>0</th>\n",
       "      <td>you seem happy .</td>\n",
       "      <td>vous avez l air heureux .</td>\n",
       "      <td>[you, seem, happy, .]</td>\n",
       "      <td>5</td>\n",
       "      <td>[vous, avez, l, air, heureux, .]</td>\n",
       "      <td>7</td>\n",
       "      <td>[11, 1095, 786, 17, 3]</td>\n",
       "      <td>[14, 135, 19, 374, 910, 21, 3]</td>\n",
       "    </tr>\n",
       "    <tr>\n",
       "      <th>1</th>\n",
       "      <td>what right do you have to order us around ?</td>\n",
       "      <td>de quel droit nous donnes tu des ordres ?</td>\n",
       "      <td>[what, right, do, you, have, to, order, us, ar...</td>\n",
       "      <td>11</td>\n",
       "      <td>[de, quel, droit, nous, donnes, tu, des, ordre...</td>\n",
       "      <td>10</td>\n",
       "      <td>[103, 578, 31, 11, 8, 23, 501, 327, 670, 36, 3]</td>\n",
       "      <td>[17, 968, 1029, 7, 3931, 64, 168, 3958, 39, 3]</td>\n",
       "    </tr>\n",
       "    <tr>\n",
       "      <th>2</th>\n",
       "      <td>business expenses are tax deductible .</td>\n",
       "      <td>les depenses d affaires sont deductibles des i...</td>\n",
       "      <td>[business, expenses, are, tax, deductible, .]</td>\n",
       "      <td>7</td>\n",
       "      <td>[les, depenses, d, affaires, sont, deductibles...</td>\n",
       "      <td>10</td>\n",
       "      <td>[407, 1840, 58, 4640, 7094, 17, 3]</td>\n",
       "      <td>[58, 2370, 110, 469, 113, 10656, 168, 7210, 21...</td>\n",
       "    </tr>\n",
       "  </tbody>\n",
       "</table>\n",
       "</div>"
      ],
      "text/plain": [
       "                                   source_data  \\\n",
       "0                             you seem happy .   \n",
       "1  what right do you have to order us around ?   \n",
       "2       business expenses are tax deductible .   \n",
       "\n",
       "                                         target_data  \\\n",
       "0                          vous avez l air heureux .   \n",
       "1          de quel droit nous donnes tu des ordres ?   \n",
       "2  les depenses d affaires sont deductibles des i...   \n",
       "\n",
       "                                    source_tokenized  source_len  \\\n",
       "0                              [you, seem, happy, .]           5   \n",
       "1  [what, right, do, you, have, to, order, us, ar...          11   \n",
       "2      [business, expenses, are, tax, deductible, .]           7   \n",
       "\n",
       "                                    target_tokenized  target_len  \\\n",
       "0                   [vous, avez, l, air, heureux, .]           7   \n",
       "1  [de, quel, droit, nous, donnes, tu, des, ordre...          10   \n",
       "2  [les, depenses, d, affaires, sont, deductibles...          10   \n",
       "\n",
       "                                    source_indized  \\\n",
       "0                           [11, 1095, 786, 17, 3]   \n",
       "1  [103, 578, 31, 11, 8, 23, 501, 327, 670, 36, 3]   \n",
       "2               [407, 1840, 58, 4640, 7094, 17, 3]   \n",
       "\n",
       "                                      target_indized  \n",
       "0                     [14, 135, 19, 374, 910, 21, 3]  \n",
       "1     [17, 968, 1029, 7, 3931, 64, 168, 3958, 39, 3]  \n",
       "2  [58, 2370, 110, 469, 113, 10656, 168, 7210, 21...  "
      ]
     },
     "execution_count": 56,
     "metadata": {},
     "output_type": "execute_result"
    }
   ],
   "source": [
    "dataset_dict['val'].main_df.iloc[:3, :]"
   ]
  },
  {
   "cell_type": "code",
   "execution_count": 57,
   "metadata": {},
   "outputs": [],
   "source": [
    "# 1. Select 3 examples from the validation set and print out the input sentence \n",
    "# in the source language and the predicted sentence in the target language for each type of encoder.\n",
    "# (3 examples for other models are shown on codes blocks after this)\n",
    "\n",
    "# using examples to all 3 examples\n",
    "# those variables will be continously used in other models \n",
    "sample_dataset = dataset_dict['val'].main_df.iloc[:3, :]\n",
    "source = sample_dataset.iloc[:, 0]\n",
    "target = sample_dataset.iloc[:, 1]"
   ]
  },
  {
   "cell_type": "code",
   "execution_count": 103,
   "metadata": {},
   "outputs": [
    {
     "name": "stdout",
     "output_type": "stream",
     "text": [
      "example: 1\n",
      "original source:  you seem happy .\n",
      "original target:  vous avez l air heureux .\n",
      "prediction:  tu heureuse heureuse heureuse . tu heureuse heureuse . heureuse . heureuse heureuse .\n",
      "\n",
      "example: 2\n",
      "original source:  what right do you have to order us around ?\n",
      "original target:  de quel droit nous donnes tu des ordres ?\n",
      "prediction:  que devons nous faire ce que tu as a faire ?\n",
      "\n",
      "example: 3\n",
      "original source:  business expenses are tax deductible .\n",
      "original target:  les depenses d affaires sont deductibles des impots .\n",
      "prediction:  les fruits sont de certaines differentes pour les fruits de la societe des animaux .\n",
      "\n"
     ]
    }
   ],
   "source": [
    "# 1. For 3.2.A\n",
    "for i in range(3):\n",
    "    print('example:', i+1)\n",
    "    get_translation(full_model_1, source.values[i], target.values[i], source_lang_obj, use_cuda)\n",
    "    print()"
   ]
  },
  {
   "cell_type": "code",
   "execution_count": 58,
   "metadata": {},
   "outputs": [
    {
     "name": "stdout",
     "output_type": "stream",
     "text": [
      "example: 1\n",
      "original source:  you seem happy .\n",
      "original target:  vous avez l air heureux .\n",
      "prediction:  heureux vous un seul heureuse que vous semblez heureux .\n"
     ]
    },
    {
     "name": "stderr",
     "output_type": "stream",
     "text": [
      "<ipython-input-49-371988fbfe29>:9: UserWarning: FixedFormatter should only be used together with FixedLocator\n",
      "  ax.set_xticklabels([''] + input_sentence.split(' ') +\n",
      "<ipython-input-49-371988fbfe29>:11: UserWarning: FixedFormatter should only be used together with FixedLocator\n",
      "  ax.set_yticklabels([''] + output_words.split(' ')+\n"
     ]
    },
    {
     "data": {
      "image/png": "[encoded data removed]",
      "text/plain": [
       "<Figure size 432x288 with 2 Axes>"
      ]
     },
     "metadata": {
      "needs_background": "light"
     },
     "output_type": "display_data"
    },
    {
     "name": "stdout",
     "output_type": "stream",
     "text": [
      "example: 2\n",
      "original source:  what right do you have to order us around ?\n",
      "original target:  de quel droit nous donnes tu des ordres ?\n",
      "prediction:  que nous a t il droit que tu nous a raison ?\n"
     ]
    },
    {
     "data": {
      "image/png": "[encoded data removed]",
      "text/plain": [
       "<Figure size 432x288 with 2 Axes>"
      ]
     },
     "metadata": {
      "needs_background": "light"
     },
     "output_type": "display_data"
    },
    {
     "name": "stdout",
     "output_type": "stream",
     "text": [
      "example: 3\n",
      "original source:  business expenses are tax deductible .\n",
      "original target:  les depenses d affaires sont deductibles des impots .\n",
      "prediction:  les affaires sont des affaires sont des affaires .\n"
     ]
    },
    {
     "data": {
      "image/png": "[encoded data removed]",
      "text/plain": [
       "<Figure size 432x288 with 2 Axes>"
      ]
     },
     "metadata": {
      "needs_background": "light"
     },
     "output_type": "display_data"
    }
   ],
   "source": [
    "# 2. For 3.2.B, print out the cross-attention heatmap.\n",
    "# model_2['model']\n",
    "\n",
    "for i in range(3):\n",
    "    print('example:', i+1)\n",
    "    get_translation(full_model_2, source.values[i], target.values[i], source_lang_obj, use_cuda)"
   ]
  },
  {
   "cell_type": "code",
   "execution_count": 60,
   "metadata": {},
   "outputs": [
    {
     "name": "stdout",
     "output_type": "stream",
     "text": [
      "example: 1\n",
      "original source:  you seem happy .\n",
      "original target:  vous avez l air heureux .\n",
      "prediction:  je me suis bien pas avoir l air heureux que tu sembles heureux .\n"
     ]
    },
    {
     "name": "stderr",
     "output_type": "stream",
     "text": [
      "<ipython-input-49-371988fbfe29>:9: UserWarning: FixedFormatter should only be used together with FixedLocator\n",
      "  ax.set_xticklabels([''] + input_sentence.split(' ') +\n",
      "<ipython-input-49-371988fbfe29>:11: UserWarning: FixedFormatter should only be used together with FixedLocator\n",
      "  ax.set_yticklabels([''] + output_words.split(' ')+\n"
     ]
    },
    {
     "data": {
      "image/png": "[encoded data removed]",
      "text/plain": [
       "<Figure size 432x288 with 2 Axes>"
      ]
     },
     "metadata": {
      "needs_background": "light"
     },
     "output_type": "display_data"
    },
    {
     "name": "stdout",
     "output_type": "stream",
     "text": [
      "example: 2\n",
      "original source:  what right do you have to order us around ?\n",
      "original target:  de quel droit nous donnes tu des ordres ?\n",
      "prediction:  je t ai bien raison pour ce qui est juste dans ce qui est juste dans les jours ?\n"
     ]
    },
    {
     "data": {
      "image/png": "[encoded data removed]",
      "text/plain": [
       "<Figure size 432x288 with 2 Axes>"
      ]
     },
     "metadata": {
      "needs_background": "light"
     },
     "output_type": "display_data"
    },
    {
     "name": "stdout",
     "output_type": "stream",
     "text": [
      "example: 3\n",
      "original source:  business expenses are tax deductible .\n",
      "original target:  les depenses d affaires sont deductibles des impots .\n",
      "prediction:  etes vous d une fois pour la place de la moitie de la police .\n"
     ]
    },
    {
     "data": {
      "image/png": "[encoded data removed]",
      "text/plain": [
       "<Figure size 432x288 with 2 Axes>"
      ]
     },
     "metadata": {
      "needs_background": "light"
     },
     "output_type": "display_data"
    }
   ],
   "source": [
    "# 3. For 3.2.C, print out the cross-attention heatmap and the decoder’s self-attention heatmap.\n",
    "# model_3['model']\n",
    "\n",
    "for i in range(3):\n",
    "    print('example:', i+1)\n",
    "    get_translation(full_model_3, source.values[i], target.values[i], source_lang_obj, use_cuda)"
   ]
  },
  {
   "cell_type": "code",
   "execution_count": null,
   "metadata": {},
   "outputs": [],
   "source": []
  }
 ],
 "metadata": {
  "colab": {
   "name": "hw2-part3-nmt.ipynb",
   "provenance": []
  },
  "kernelspec": {
   "display_name": "Python 3",
   "language": "python",
   "name": "python3"
  },
  "language_info": {
   "codemirror_mode": {
    "name": "ipython",
    "version": 3
   },
   "file_extension": ".py",
   "mimetype": "text/x-python",
   "name": "python",
   "nbconvert_exporter": "python",
   "pygments_lexer": "ipython3",
   "version": "3.8.9"
  },
  "vscode": {
   "interpreter": {
    "hash": "31f2aee4e71d21fbe5cf8b01ff0e069b9275f58929596ceb00d14d90e3e16cd6"
   }
  }
 },
 "nbformat": 4,
 "nbformat_minor": 1
}
