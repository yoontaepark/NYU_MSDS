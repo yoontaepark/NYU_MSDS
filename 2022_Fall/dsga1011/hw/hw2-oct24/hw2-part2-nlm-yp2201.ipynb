{
 "cells": [
  {
   "cell_type": "markdown",
   "metadata": {
    "id": "aafMIEuhoGeE"
   },
   "source": [
    "# Fall 2022: DS-GA 1011 NLP with Representation Learning\n",
    "## Homework 2\n",
    "## Part 2: Neural Language Modeling (30 pts)\n",
    "In this assignment, you will build and analyze a neural language model with a recurrent neural network."
   ]
  },
  {
   "cell_type": "code",
   "execution_count": 1,
   "metadata": {
    "id": "xqlguqV9oGeF"
   },
   "outputs": [],
   "source": [
    "# Import required packages\n",
    "import os\n",
    "import json\n",
    "import numpy as np\n",
    "from collections import defaultdict\n",
    "\n",
    "import torch\n",
    "import torch.nn as nn\n",
    "import torch.nn.functional as F\n",
    "\n",
    "### added lib\n",
    "from tqdm.auto import tqdm\n",
    "import torch.optim as optim\n",
    "from torch.utils.data import Dataset, DataLoader\n",
    "import matplotlib.pyplot as plt"
   ]
  },
  {
   "cell_type": "markdown",
   "metadata": {
    "id": "LZYu0UrL2VLr"
   },
   "source": [
    "---\n",
    "### 1 LSTM and Hyper-parameters (10 pts)\n",
    "Your first task is to train a neural recurrent language model on Wikitext-2."
   ]
  },
  {
   "cell_type": "markdown",
   "metadata": {
    "id": "-h2bkwWt25m3"
   },
   "source": [
    "#### Load data"
   ]
  },
  {
   "cell_type": "code",
   "execution_count": 2,
   "metadata": {
    "id": "7V-b8kAKoGeJ"
   },
   "outputs": [],
   "source": [
    "def load_wikitext(filename='wikitext2-sentencized.json'):\n",
    "    if not os.path.exists(filename):\n",
    "        !wget \"https://nyu.box.com/shared/static/9kb7l7ci30hb6uahhbssjlq0kctr5ii4.json\" -O $filename\n",
    "    \n",
    "    datasets = json.load(open(filename, 'r'))\n",
    "    for name in datasets:\n",
    "        datasets[name] = [x.split() for x in datasets[name]]\n",
    "    vocab = list(set([t for ts in datasets['train'] for t in ts]))      \n",
    "    print(\"Vocab size: %d\" % (len(vocab)))\n",
    "    return datasets, vocab\n",
    "\n",
    "def perplexity(model, sequences):\n",
    "    n_total = 0\n",
    "    logp_total = 0\n",
    "    for sequence in sequences:\n",
    "        logp_total += model.sequence_logp(sequence)\n",
    "        n_total += len(sequence) + 1  \n",
    "    ppl = 2 ** (- (1.0 / n_total) * logp_total)  \n",
    "    return ppl"
   ]
  },
  {
   "cell_type": "code",
   "execution_count": 3,
   "metadata": {
    "id": "0UaYVHf3oGeQ"
   },
   "outputs": [
    {
     "name": "stdout",
     "output_type": "stream",
     "text": [
      "Vocab size: 33175\n"
     ]
    }
   ],
   "source": [
    "datasets, vocab = load_wikitext()"
   ]
  },
  {
   "cell_type": "markdown",
   "metadata": {
    "id": "LWyZB12ioGeb"
   },
   "source": [
    "#### Utilities\n",
    "\n",
    "(Hint: you can adopt the `Dictionary`, dataset loading, `Dataloader`, `pad_collate_fn`, and training code from the lab: [**07-rnn_lm.ipynb**](https://drive.google.com/file/d/1scqLM26Njy4ACL9zyIQEVcoP32eTN77i/view?usp=sharing) for use here)"
   ]
  },
  {
   "cell_type": "code",
   "execution_count": 4,
   "metadata": {},
   "outputs": [],
   "source": [
    "# reference from class Dictionary from lab code \n",
    "# creating a dictionary, this will be used when tokenizing the dataset\n",
    "\n",
    "class Dictionary(object): #maps words to indices\n",
    "    def __init__(self, datasets, include_valid=False):\n",
    "        self.tokens = []\n",
    "        self.ids = {}\n",
    "        self.counts = {}\n",
    "        \n",
    "        # add special tokens\n",
    "        self.add_token('<bos>') #beginning of sentence\n",
    "        self.add_token('<eos>') #end of sentence\n",
    "        self.add_token('<pad>')\n",
    "        self.add_token('<unk>') #unknown. Needed in case use with text with word that isn't in vocab\n",
    "        \n",
    "        # add every word in training set \n",
    "        for line in tqdm(datasets['train']):\n",
    "            for w in line:\n",
    "                self.add_token(w)\n",
    "        \n",
    "        # if we want to add valiation set, add this code as well\n",
    "        if include_valid is True:\n",
    "            for line in tqdm(datasets['valid']):\n",
    "                for w in line:\n",
    "                    self.add_token(w)\n",
    "    \n",
    "    ## this function is to add tokens \n",
    "    ## this addes tokens as well as idx and counts\n",
    "    def add_token(self, w):\n",
    "        if w not in self.tokens:\n",
    "            self.tokens.append(w)\n",
    "            _w_id = len(self.tokens) - 1\n",
    "            self.ids[w] = _w_id\n",
    "            self.counts[w] = 1\n",
    "        else:\n",
    "            self.counts[w] += 1\n",
    "    \n",
    "    # this function is called when we want to know the index of the token\n",
    "    def get_id(self, w):\n",
    "        return self.ids[w]\n",
    "    \n",
    "    # \n",
    "    def get_token(self, idx):\n",
    "        return self.tokens[idx]\n",
    "    \n",
    "    def decode_idx_seq(self, l):\n",
    "        return [self.tokens[i] for i in l]\n",
    "    \n",
    "    def encode_token_seq(self, l):\n",
    "        return [self.ids[i] if i in self.ids else self.ids['<unk>'] for i in l]\n",
    "    \n",
    "    def __len__(self):\n",
    "        return len(self.tokens)\n"
   ]
  },
  {
   "cell_type": "code",
   "execution_count": 5,
   "metadata": {},
   "outputs": [
    {
     "data": {
      "application/vnd.jupyter.widget-view+json": {
       "model_id": "e1aa40191cb2417996a7183df43e03d5",
       "version_major": 2,
       "version_minor": 0
      },
      "text/plain": [
       "  0%|          | 0/78274 [00:00<?, ?it/s]"
      ]
     },
     "metadata": {},
     "output_type": "display_data"
    },
    {
     "data": {
      "application/vnd.jupyter.widget-view+json": {
       "model_id": "dd11b937ce4b4502b5a5332c346f2a46",
       "version_major": 2,
       "version_minor": 0
      },
      "text/plain": [
       "  0%|          | 0/8464 [00:00<?, ?it/s]"
      ]
     },
     "metadata": {},
     "output_type": "display_data"
    }
   ],
   "source": [
    "# we call this function to create wiki_dict\n",
    "# this contains token, id, count \n",
    "wiki_dict = Dictionary(datasets, include_valid=True)"
   ]
  },
  {
   "cell_type": "code",
   "execution_count": 6,
   "metadata": {},
   "outputs": [
    {
     "name": "stdout",
     "output_type": "stream",
     "text": [
      "33181\n",
      "0 <bos>\n",
      "1 <eos>\n",
      "2 <pad>\n",
      "3 <unk>\n",
      "4 Valkyria\n",
      "5 of\n",
      "6 the\n",
      "7 Battlefield\n",
      "8 3\n",
      "9 )\n"
     ]
    }
   ],
   "source": [
    "# as expected, we get results as below examples \n",
    "print(len(wiki_dict))\n",
    "for i in range(10):\n",
    "    print(i, wiki_dict.get_token(i))"
   ]
  },
  {
   "cell_type": "code",
   "execution_count": 7,
   "metadata": {},
   "outputs": [],
   "source": [
    "# this code was also referenced by lab 4\n",
    "## now moving on to creating a tokenized dataset\n",
    "\n",
    "def tokenize_dataset(datasets, dictionary, ngram_order=2): \n",
    "    tokenized_datasets = {}\n",
    "    for split, dataset in datasets.items():\n",
    "        _current_dictified = []\n",
    "        for l in tqdm(dataset):\n",
    "            l = ['<bos>']*(ngram_order-1) + l + ['<eos>']\n",
    "            encoded_l = dictionary.encode_token_seq(l)\n",
    "            _current_dictified.append(encoded_l)\n",
    "        tokenized_datasets[split] = _current_dictified\n",
    "        \n",
    "    return tokenized_datasets"
   ]
  },
  {
   "cell_type": "code",
   "execution_count": 8,
   "metadata": {},
   "outputs": [],
   "source": [
    "# this code was also referenced by lab 4\n",
    "# creating a dataset class that has input_tensors and target_tensors\n",
    "# note that input_tensors and target_tensors are windowed by 1\n",
    "\n",
    "class TensoredDataset(Dataset):\n",
    "    def __init__(self, list_of_lists_of_tokens):\n",
    "        self.input_tensors = []\n",
    "        self.target_tensors = []\n",
    "        \n",
    "        for sample in list_of_lists_of_tokens:\n",
    "            self.input_tensors.append(torch.tensor([sample[:-1]], dtype=torch.long))\n",
    "            self.target_tensors.append(torch.tensor([sample[1:]], dtype=torch.long))\n",
    "    \n",
    "    def __len__(self):\n",
    "        return len(self.input_tensors)\n",
    "    \n",
    "    def __getitem__(self, idx):\n",
    "        return (self.input_tensors[idx], self.target_tensors[idx])"
   ]
  },
  {
   "cell_type": "code",
   "execution_count": 9,
   "metadata": {
    "scrolled": true
   },
   "outputs": [
    {
     "data": {
      "application/vnd.jupyter.widget-view+json": {
       "model_id": "2558333727f14ac8b01f26e9fb265678",
       "version_major": 2,
       "version_minor": 0
      },
      "text/plain": [
       "  0%|          | 0/78274 [00:00<?, ?it/s]"
      ]
     },
     "metadata": {},
     "output_type": "display_data"
    },
    {
     "data": {
      "application/vnd.jupyter.widget-view+json": {
       "model_id": "1da62b8a6b5c4ebc90d041ba64ee7b14",
       "version_major": 2,
       "version_minor": 0
      },
      "text/plain": [
       "  0%|          | 0/8464 [00:00<?, ?it/s]"
      ]
     },
     "metadata": {},
     "output_type": "display_data"
    },
    {
     "data": {
      "application/vnd.jupyter.widget-view+json": {
       "model_id": "7f460cb8cb5d41929532fe00261f6d59",
       "version_major": 2,
       "version_minor": 0
      },
      "text/plain": [
       "  0%|          | 0/9708 [00:00<?, ?it/s]"
      ]
     },
     "metadata": {},
     "output_type": "display_data"
    },
    {
     "data": {
      "text/plain": [
       "(tensor([[ 0,  4,  5,  6,  7,  8,  9, 10, 11, 12, 13, 14,  4, 15, 16, 17, 18, 10,\n",
       "          19, 20, 21, 22, 23, 24, 25, 26, 27, 28, 29, 30, 31]]),\n",
       " tensor([[ 4,  5,  6,  7,  8,  9, 10, 11, 12, 13, 14,  4, 15, 16, 17, 18, 10, 19,\n",
       "          20, 21, 22, 23, 24, 25, 26, 27, 28, 29, 30, 31,  1]]))"
      ]
     },
     "execution_count": 9,
     "metadata": {},
     "output_type": "execute_result"
    }
   ],
   "source": [
    "# generate tokenized dataset\n",
    "wiki_tokenized_datasets = tokenize_dataset(datasets, wiki_dict)\n",
    "\n",
    "# now, create a tensored_tokenized dataset\n",
    "wiki_tensor_dataset = {}\n",
    "\n",
    "for split, listoflists in wiki_tokenized_datasets.items():\n",
    "    wiki_tensor_dataset[split] = TensoredDataset(listoflists)\n",
    "    \n",
    "# first example\n",
    "wiki_tensor_dataset['train'][0]"
   ]
  },
  {
   "cell_type": "code",
   "execution_count": 10,
   "metadata": {},
   "outputs": [],
   "source": [
    "# this code was also referenced by lab 4\n",
    "\n",
    "def pad_list_of_tensors(list_of_tensors, pad_token):\n",
    "    max_length = max([t.size(-1) for t in list_of_tensors])\n",
    "    padded_list = []\n",
    "    \n",
    "    for t in list_of_tensors:\n",
    "        padded_tensor = torch.cat([t, torch.tensor([[pad_token]*(max_length - t.size(-1))], dtype=torch.long)], dim = -1)\n",
    "        padded_list.append(padded_tensor)\n",
    "        \n",
    "    padded_tensor = torch.cat(padded_list, dim=0)\n",
    "    \n",
    "    return padded_tensor\n",
    "\n",
    "def pad_collate_fn(batch):\n",
    "    # batch is a list of sample tuples\n",
    "    input_list = [s[0] for s in batch]\n",
    "    target_list = [s[1] for s in batch]\n",
    "    \n",
    "    pad_token = wiki_dict.get_id('<pad>') # 2\n",
    "    \n",
    "    input_tensor = pad_list_of_tensors(input_list, pad_token)\n",
    "    target_tensor = pad_list_of_tensors(target_list, pad_token)\n",
    "    \n",
    "    return input_tensor, target_tensor"
   ]
  },
  {
   "cell_type": "code",
   "execution_count": 11,
   "metadata": {},
   "outputs": [],
   "source": [
    "wiki_loaders = {}\n",
    "\n",
    "batch_size = 128 #128 \n",
    "\n",
    "for split, wiki_dataset in wiki_tensor_dataset.items():\n",
    "    wiki_loaders[split] = DataLoader(wiki_dataset, \n",
    "                                     batch_size=batch_size, \n",
    "                                     shuffle=True, \n",
    "                                     collate_fn=pad_collate_fn)"
   ]
  },
  {
   "cell_type": "markdown",
   "metadata": {
    "id": "gbugaRMgjMGj"
   },
   "source": [
    "#### Model + Training (5 pts)"
   ]
  },
  {
   "cell_type": "code",
   "execution_count": 12,
   "metadata": {
    "id": "SiyT9W9LjKmU"
   },
   "outputs": [],
   "source": [
    "# create a LSTM model that is very similar to RNN model that was covered in the lab \n",
    "\n",
    "class LSTMLanguageModel(nn.Module):\n",
    "    \"\"\"\n",
    "    This model combines embedding, lstm and projection layer into a single model\n",
    "    \"\"\"\n",
    "    def __init__(self, options):\n",
    "        super().__init__()\n",
    "        \n",
    "        # create each LM part here \n",
    "        # for the first part, we need embeddings to make each words as list of embeddings\n",
    "        # then we set a lstm \n",
    "        # then we take a projection \n",
    "        self.lookup = nn.Embedding(num_embeddings=options['num_embeddings'], embedding_dim=options['embedding_dim'], padding_idx=options['padding_idx'])\n",
    "        self.lstm = nn.LSTM(options['input_size'], options['hidden_size'], options['num_layers'], dropout=options['lstm_dropout'], batch_first=True)\n",
    "        self.projection = nn.Linear(options['hidden_size'], options['num_embeddings'])\n",
    "        \n",
    "    def forward(self, encoded_input_sequence):\n",
    "        \"\"\"\n",
    "        Forward method process the input from token ids to logits\n",
    "        \"\"\"\n",
    "        # [batch_size, sen_length]\n",
    "        embeddings = self.lookup(encoded_input_sequence)\n",
    "        # [batch_size, sen_length, embed_length]\n",
    "        lstm_outputs = self.lstm(embeddings)\n",
    "        # [batch_size, sen_length, state_dim]\n",
    "        logits = self.projection(lstm_outputs[0]) #convenient for seq to seq models. check shape of output. lstm gives different\n",
    "        \n",
    "        return logits"
   ]
  },
  {
   "cell_type": "markdown",
   "metadata": {},
   "source": [
    "#### Experiment 1: hidden_size = 512"
   ]
  },
  {
   "cell_type": "code",
   "execution_count": 17,
   "metadata": {},
   "outputs": [],
   "source": [
    "# Create a model if we do not want to use pretrained model\n",
    "\n",
    "load_pretrained = False # False or True\n",
    "num_gpus = torch.cuda.device_count()\n",
    "\n",
    "if num_gpus > 0:\n",
    "    current_device = 'cuda' \n",
    "else:\n",
    "    current_device = 'cpu'\n",
    "\n",
    "if load_pretrained:\n",
    "    if not os.path.exists('/home/yp2201/wiki_lstm_lm_512.pt'):\n",
    "        raise EOFError('Download pretrained model!')\n",
    "    model_dict = torch.load('/home/yp2201/wiki_lstm_lm_512.pt', map_location=current_device) # change the path \n",
    "    \n",
    "    options = model_dict['options']\n",
    "    model = LSTMLanguageModel(options).to(current_device)\n",
    "    model.load_state_dict(model_dict['model_dict'])\n",
    "    \n",
    "else:\n",
    "    # this is example parameters, and different values will be used \n",
    "    embedding_size = 256\n",
    "    hidden_size = 512   ## This is the parameter that i am changing \n",
    "    num_layers = 3\n",
    "    lstm_dropout = 0.3\n",
    "\n",
    "    options = {\n",
    "        'num_embeddings': len(wiki_dict),\n",
    "        'embedding_dim': embedding_size,\n",
    "        'padding_idx': wiki_dict.get_id('<pad>'),\n",
    "        'input_size': embedding_size,\n",
    "        'hidden_size': hidden_size,\n",
    "        'num_layers': num_layers,\n",
    "        'lstm_dropout': lstm_dropout,\n",
    "    }\n",
    "\n",
    "\n",
    "    model = LSTMLanguageModel(options).to(current_device)\n",
    "\n",
    "criterion = nn.CrossEntropyLoss(ignore_index=wiki_dict.get_id('<pad>'))\n",
    "\n",
    "model_parameters = [p for p in model.parameters() if p.requires_grad]\n",
    "optimizer = optim.SGD(model_parameters, lr=0.001, momentum=0.999)"
   ]
  },
  {
   "cell_type": "code",
   "execution_count": 18,
   "metadata": {
    "scrolled": true
   },
   "outputs": [
    {
     "name": "stdout",
     "output_type": "stream",
     "text": [
      "Validation loss after 0 epoch = 7.8501\n",
      "Validation loss after 1 epoch = 7.4869\n",
      "Validation loss after 2 epoch = 7.1811\n",
      "Validation loss after 3 epoch = 6.9255\n",
      "Validation loss after 4 epoch = 6.7055\n",
      "Validation loss after 5 epoch = 6.5526\n",
      "Validation loss after 6 epoch = 6.4181\n",
      "Validation loss after 7 epoch = 6.3147\n",
      "Validation loss after 8 epoch = 6.2261\n",
      "Validation loss after 9 epoch = 6.1406\n",
      "Validation loss after 10 epoch = 6.0671\n",
      "Validation loss after 11 epoch = 5.9973\n",
      "Validation loss after 12 epoch = 5.9340\n",
      "Validation loss after 13 epoch = 5.8708\n",
      "Validation loss after 14 epoch = 5.8193\n",
      "Validation loss after 15 epoch = 5.7715\n",
      "Validation loss after 16 epoch = 5.7283\n",
      "Validation loss after 17 epoch = 5.6803\n",
      "Validation loss after 18 epoch = 5.6433\n",
      "Validation loss after 19 epoch = 5.6057\n",
      "Validation loss after 20 epoch = 5.5791\n",
      "Validation loss after 21 epoch = 5.5423\n",
      "Validation loss after 22 epoch = 5.5156\n",
      "Validation loss after 23 epoch = 5.4869\n",
      "Validation loss after 24 epoch = 5.4624\n",
      "Validation loss after 25 epoch = 5.4379\n",
      "Validation loss after 26 epoch = 5.4225\n",
      "Validation loss after 27 epoch = 5.3948\n",
      "Validation loss after 28 epoch = 5.3773\n",
      "Validation loss after 29 epoch = 5.3554\n",
      "Validation loss after 30 epoch = 5.3397\n",
      "Validation loss after 31 epoch = 5.3190\n",
      "Validation loss after 32 epoch = 5.3113\n",
      "Validation loss after 33 epoch = 5.2947\n",
      "Validation loss after 34 epoch = 5.2765\n",
      "Validation loss after 35 epoch = 5.2654\n",
      "Validation loss after 36 epoch = 5.2527\n",
      "Validation loss after 37 epoch = 5.2422\n",
      "Validation loss after 38 epoch = 5.2301\n",
      "Validation loss after 39 epoch = 5.2170\n",
      "Validation loss after 40 epoch = 5.2088\n",
      "Validation loss after 41 epoch = 5.1953\n",
      "Validation loss after 42 epoch = 5.1886\n",
      "Validation loss after 43 epoch = 5.1800\n",
      "Validation loss after 44 epoch = 5.1710\n",
      "Validation loss after 45 epoch = 5.1650\n",
      "Validation loss after 46 epoch = 5.1577\n",
      "Validation loss after 47 epoch = 5.1504\n",
      "Validation loss after 48 epoch = 5.1438\n",
      "Validation loss after 49 epoch = 5.1384\n",
      "Validation loss after 50 epoch = 5.1311\n",
      "Validation loss after 51 epoch = 5.1258\n",
      "Validation loss after 52 epoch = 5.1229\n",
      "Validation loss after 53 epoch = 5.1182\n",
      "Validation loss after 54 epoch = 5.1075\n",
      "Validation loss after 55 epoch = 5.1139\n",
      "Validation loss after 56 epoch = 5.1103\n",
      "Validation loss after 57 epoch = 5.1076\n",
      "Early stopped at epoch:  54\n"
     ]
    }
   ],
   "source": [
    "### This is for \n",
    "\n",
    "plot_cache = []\n",
    "\n",
    "# add variables for early stopping\n",
    "# max_patience : if the validation performance does not improve for m epochs, terminate the training process\n",
    "# early_stop: this will be use to determine if the training has reached the early stopping point \n",
    "\n",
    "max_patience = 3 \n",
    "init_loss = float('inf')\n",
    "num_epochs = 100\n",
    "\n",
    "for epoch_number in range(num_epochs):\n",
    "    \n",
    "    # if there are already pretrained model\n",
    "    if load_pretrained:\n",
    "        break    \n",
    "    \n",
    "    avg_loss=0\n",
    "    if not load_pretrained:\n",
    "        # do train\n",
    "        model.train()\n",
    "        train_log_cache = []\n",
    "        for i, (inp, target) in enumerate(wiki_loaders['train']):\n",
    "            optimizer.zero_grad()\n",
    "            inp = inp.to(current_device)\n",
    "            target = target.to(current_device)\n",
    "            logits = model(inp)\n",
    "            \n",
    "            loss = criterion(logits.view(-1, logits.size(-1)), target.view(-1))\n",
    "            \n",
    "            loss.backward()\n",
    "            optimizer.step()\n",
    "            \n",
    "            train_log_cache.append(loss.item())\n",
    "            \n",
    "            if i % 100 == 0:\n",
    "                avg_loss = sum(train_log_cache)/len(train_log_cache)\n",
    "#                 print('Step {} avg train loss = {:.{prec}f}'.format(i, avg_loss, prec=4))\n",
    "                train_log_cache = []\n",
    "            \n",
    "    #do valid\n",
    "    valid_losses = []\n",
    "    model.eval()\n",
    "    with torch.no_grad():\n",
    "        for i, (inp, target) in enumerate(wiki_loaders['valid']):\n",
    "            inp = inp.to(current_device)\n",
    "            target = target.to(current_device)\n",
    "            logits = model(inp)\n",
    "\n",
    "            loss = criterion(logits.view(-1, logits.size(-1)), target.view(-1))\n",
    "            valid_losses.append(loss.item())\n",
    "        avg_val_loss = sum(valid_losses) / len(valid_losses)\n",
    "        print('Validation loss after {} epoch = {:.{prec}f}'.format(epoch_number, avg_val_loss, prec=4))\n",
    "        \n",
    "    plot_cache.append((avg_loss, avg_val_loss))\n",
    "    \n",
    "    # defining early stopping point\n",
    "    # if given loss is less than the init loss, then update the best model\n",
    "    # also, change the init_loss\n",
    "    if avg_val_loss < init_loss:\n",
    "        best_model = model\n",
    "        best_epoch = epoch_number\n",
    "        stop_epoch_cnt = 0\n",
    "        init_loss = avg_val_loss\n",
    "    \n",
    "    # if not, just add stop count. \n",
    "    else:\n",
    "        stop_epoch_cnt += 1\n",
    "\n",
    "    \n",
    "\n",
    "    # when training meets early stop point, save best model and exit training loop \n",
    "    if stop_epoch_cnt >= max_patience:\n",
    "        print('Early stopped at epoch: ', best_epoch)\n",
    "        torch.save({\n",
    "            'options': options,\n",
    "            'loss_cache': plot_cache,\n",
    "            'model_dict': best_model.state_dict()\n",
    "        }, '/home/yp2201/wiki_lstm_lm_512.pt')\n",
    "        break\n",
    "\n",
    "    # if you was not able to save early-stopping point,\n",
    "    # then save the final epoch of the model \n",
    "    if epoch_number == (num_epochs -1):\n",
    "        print('Did not Early stopped. Saving the model at the last epoch ')\n",
    "        torch.save({\n",
    "            'options': options,\n",
    "            'loss_cache': plot_cache,\n",
    "            'model_dict': model.state_dict()\n",
    "        }, '/home/yp2201/wiki_lstm_lm_512.pt')"
   ]
  },
  {
   "cell_type": "markdown",
   "metadata": {},
   "source": [
    "#### Experiment 2: hidden_size = 256"
   ]
  },
  {
   "cell_type": "code",
   "execution_count": 16,
   "metadata": {},
   "outputs": [],
   "source": [
    "# Create a model if we do not want to use pretrained model\n",
    "\n",
    "load_pretrained = False # False or True\n",
    "num_gpus = torch.cuda.device_count()\n",
    "\n",
    "if num_gpus > 0:\n",
    "    current_device = 'cuda' \n",
    "else:\n",
    "    current_device = 'cpu'\n",
    "\n",
    "if load_pretrained:\n",
    "    if not os.path.exists('/home/yp2201/wiki_lstm_lm_256.pt'):\n",
    "        raise EOFError('Download pretrained model!')\n",
    "    model_dict = torch.load('/home/yp2201/wiki_lstm_lm_256.pt', map_location=current_device) # change the path \n",
    "    \n",
    "    options = model_dict['options']\n",
    "    model = LSTMLanguageModel(options).to(current_device)\n",
    "    model.load_state_dict(model_dict['model_dict'])\n",
    "    \n",
    "else:\n",
    "    # this is example parameters, and different values will be used \n",
    "    embedding_size = 256\n",
    "    hidden_size = 256   ## This is the parameter that i am changing \n",
    "    num_layers = 3\n",
    "    lstm_dropout = 0.3\n",
    "\n",
    "    options = {\n",
    "        'num_embeddings': len(wiki_dict),\n",
    "        'embedding_dim': embedding_size,\n",
    "        'padding_idx': wiki_dict.get_id('<pad>'),\n",
    "        'input_size': embedding_size,\n",
    "        'hidden_size': hidden_size,\n",
    "        'num_layers': num_layers,\n",
    "        'lstm_dropout': lstm_dropout,\n",
    "    }\n",
    "\n",
    "\n",
    "    model = LSTMLanguageModel(options).to(current_device)\n",
    "\n",
    "criterion = nn.CrossEntropyLoss(ignore_index=wiki_dict.get_id('<pad>'))\n",
    "\n",
    "model_parameters = [p for p in model.parameters() if p.requires_grad]\n",
    "optimizer = optim.SGD(model_parameters, lr=0.001, momentum=0.999)"
   ]
  },
  {
   "cell_type": "code",
   "execution_count": 17,
   "metadata": {
    "scrolled": true
   },
   "outputs": [
    {
     "name": "stdout",
     "output_type": "stream",
     "text": [
      "Validation loss after 0 epoch = 7.8500\n",
      "Validation loss after 1 epoch = 7.5624\n",
      "Validation loss after 2 epoch = 7.3595\n",
      "Validation loss after 3 epoch = 7.0814\n",
      "Validation loss after 4 epoch = 6.8470\n",
      "Validation loss after 5 epoch = 6.6604\n",
      "Validation loss after 6 epoch = 6.5289\n",
      "Validation loss after 7 epoch = 6.4217\n",
      "Validation loss after 8 epoch = 6.3373\n",
      "Validation loss after 9 epoch = 6.2595\n",
      "Validation loss after 10 epoch = 6.1954\n",
      "Validation loss after 11 epoch = 6.1301\n",
      "Validation loss after 12 epoch = 6.0744\n",
      "Validation loss after 13 epoch = 6.0183\n",
      "Validation loss after 14 epoch = 5.9680\n",
      "Validation loss after 15 epoch = 5.9196\n",
      "Validation loss after 16 epoch = 5.8765\n",
      "Validation loss after 17 epoch = 5.8422\n",
      "Validation loss after 18 epoch = 5.8070\n",
      "Validation loss after 19 epoch = 5.7772\n",
      "Validation loss after 20 epoch = 5.7477\n",
      "Validation loss after 21 epoch = 5.7167\n",
      "Validation loss after 22 epoch = 5.6916\n",
      "Validation loss after 23 epoch = 5.6714\n",
      "Validation loss after 24 epoch = 5.6454\n",
      "Validation loss after 25 epoch = 5.6199\n",
      "Validation loss after 26 epoch = 5.6098\n",
      "Validation loss after 27 epoch = 5.5881\n",
      "Validation loss after 28 epoch = 5.5670\n",
      "Validation loss after 29 epoch = 5.5531\n",
      "Validation loss after 30 epoch = 5.5418\n",
      "Validation loss after 31 epoch = 5.5237\n",
      "Validation loss after 32 epoch = 5.5026\n",
      "Validation loss after 33 epoch = 5.4927\n",
      "Validation loss after 34 epoch = 5.4757\n",
      "Validation loss after 35 epoch = 5.4660\n",
      "Validation loss after 36 epoch = 5.4530\n",
      "Validation loss after 37 epoch = 5.4419\n",
      "Validation loss after 38 epoch = 5.4252\n",
      "Validation loss after 39 epoch = 5.4164\n",
      "Validation loss after 40 epoch = 5.4092\n",
      "Validation loss after 41 epoch = 5.3923\n",
      "Validation loss after 42 epoch = 5.3851\n",
      "Validation loss after 43 epoch = 5.3719\n",
      "Validation loss after 44 epoch = 5.3646\n",
      "Validation loss after 45 epoch = 5.3574\n",
      "Validation loss after 46 epoch = 5.3503\n",
      "Validation loss after 47 epoch = 5.3411\n",
      "Validation loss after 48 epoch = 5.3304\n",
      "Validation loss after 49 epoch = 5.3262\n",
      "Validation loss after 50 epoch = 5.3127\n",
      "Validation loss after 51 epoch = 5.3085\n",
      "Validation loss after 52 epoch = 5.3030\n",
      "Validation loss after 53 epoch = 5.2919\n",
      "Validation loss after 54 epoch = 5.2925\n",
      "Validation loss after 55 epoch = 5.2808\n",
      "Validation loss after 56 epoch = 5.2775\n",
      "Validation loss after 57 epoch = 5.2673\n",
      "Validation loss after 58 epoch = 5.2513\n",
      "Validation loss after 59 epoch = 5.2527\n",
      "Validation loss after 60 epoch = 5.2540\n",
      "Validation loss after 61 epoch = 5.2397\n",
      "Validation loss after 62 epoch = 5.2396\n",
      "Validation loss after 63 epoch = 5.2348\n",
      "Validation loss after 64 epoch = 5.2266\n",
      "Validation loss after 65 epoch = 5.2226\n",
      "Validation loss after 66 epoch = 5.2162\n",
      "Validation loss after 67 epoch = 5.2108\n",
      "Validation loss after 68 epoch = 5.2081\n",
      "Validation loss after 69 epoch = 5.1983\n",
      "Validation loss after 70 epoch = 5.1967\n",
      "Validation loss after 71 epoch = 5.1936\n",
      "Validation loss after 72 epoch = 5.1877\n",
      "Validation loss after 73 epoch = 5.1797\n",
      "Validation loss after 74 epoch = 5.1781\n",
      "Validation loss after 75 epoch = 5.1762\n",
      "Validation loss after 76 epoch = 5.1719\n",
      "Validation loss after 77 epoch = 5.1717\n",
      "Validation loss after 78 epoch = 5.1693\n",
      "Validation loss after 79 epoch = 5.1636\n",
      "Validation loss after 80 epoch = 5.1580\n",
      "Validation loss after 81 epoch = 5.1565\n",
      "Validation loss after 82 epoch = 5.1540\n",
      "Validation loss after 83 epoch = 5.1483\n",
      "Validation loss after 84 epoch = 5.1449\n",
      "Validation loss after 85 epoch = 5.1497\n",
      "Validation loss after 86 epoch = 5.1385\n",
      "Validation loss after 87 epoch = 5.1367\n",
      "Validation loss after 88 epoch = 5.1304\n",
      "Validation loss after 89 epoch = 5.1335\n",
      "Validation loss after 90 epoch = 5.1318\n",
      "Validation loss after 91 epoch = 5.1314\n",
      "Early stopped at epoch:  88\n"
     ]
    }
   ],
   "source": [
    "## experiment2: case of hid_size = 256\n",
    "\n",
    "plot_cache = []\n",
    "\n",
    "# add variables for early stopping\n",
    "# max_patience : if the validation performance does not improve for m epochs, terminate the training process\n",
    "# early_stop: this will be use to determine if the training has reached the early stopping point \n",
    "\n",
    "max_patience = 3 \n",
    "init_loss = float('inf')\n",
    "num_epochs = 100\n",
    "\n",
    "for epoch_number in range(num_epochs):\n",
    "    \n",
    "    # if there are already pretrained model\n",
    "    if load_pretrained:\n",
    "        break    \n",
    "    \n",
    "    avg_loss=0\n",
    "    if not load_pretrained:\n",
    "        # do train\n",
    "        model.train()\n",
    "        train_log_cache = []\n",
    "        for i, (inp, target) in enumerate(wiki_loaders['train']):\n",
    "            optimizer.zero_grad()\n",
    "            inp = inp.to(current_device)\n",
    "            target = target.to(current_device)\n",
    "            logits = model(inp)\n",
    "            \n",
    "            loss = criterion(logits.view(-1, logits.size(-1)), target.view(-1))\n",
    "            \n",
    "            loss.backward()\n",
    "            optimizer.step()\n",
    "            \n",
    "            train_log_cache.append(loss.item())\n",
    "            \n",
    "            if i % 100 == 0:\n",
    "                avg_loss = sum(train_log_cache)/len(train_log_cache)\n",
    "#                 print('Step {} avg train loss = {:.{prec}f}'.format(i, avg_loss, prec=4))\n",
    "                train_log_cache = []\n",
    "            \n",
    "    #do valid\n",
    "    valid_losses = []\n",
    "    model.eval()\n",
    "    with torch.no_grad():\n",
    "        for i, (inp, target) in enumerate(wiki_loaders['valid']):\n",
    "            inp = inp.to(current_device)\n",
    "            target = target.to(current_device)\n",
    "            logits = model(inp)\n",
    "\n",
    "            loss = criterion(logits.view(-1, logits.size(-1)), target.view(-1))\n",
    "            valid_losses.append(loss.item())\n",
    "        avg_val_loss = sum(valid_losses) / len(valid_losses)\n",
    "        print('Validation loss after {} epoch = {:.{prec}f}'.format(epoch_number, avg_val_loss, prec=4))\n",
    "        \n",
    "    plot_cache.append((avg_loss, avg_val_loss))\n",
    "    \n",
    "    # defining early stopping point\n",
    "    if avg_val_loss < init_loss:\n",
    "        best_model = model\n",
    "        best_epoch = epoch_number\n",
    "        stop_epoch_cnt = 0\n",
    "        init_loss = avg_val_loss\n",
    "    else:\n",
    "        stop_epoch_cnt += 1\n",
    "\n",
    "    # when training meets early stop point, save best model and exit training loop \n",
    "    if stop_epoch_cnt >= max_patience:\n",
    "        print('Early stopped at epoch: ', best_epoch)\n",
    "        torch.save({\n",
    "            'options': options,\n",
    "            'loss_cache': plot_cache,\n",
    "            'model_dict': best_model.state_dict()\n",
    "        }, '/home/yp2201/wiki_lstm_lm_256.pt')\n",
    "        break\n",
    "\n",
    "    # if you was not able to save early-stopping point,\n",
    "    # then save the final epoch of the model \n",
    "    if epoch_number == (num_epochs -1):\n",
    "        print('Did not Early stopped. Saving the model at the last epoch ')\n",
    "        torch.save({\n",
    "            'options': options,\n",
    "            'loss_cache': plot_cache,\n",
    "            'model_dict': model.state_dict()\n",
    "        }, '/home/yp2201/wiki_lstm_lm_256.pt')"
   ]
  },
  {
   "cell_type": "code",
   "execution_count": null,
   "metadata": {},
   "outputs": [],
   "source": []
  },
  {
   "cell_type": "markdown",
   "metadata": {},
   "source": [
    "#### Experiment 3: hidden_size = 128"
   ]
  },
  {
   "cell_type": "code",
   "execution_count": 18,
   "metadata": {},
   "outputs": [],
   "source": [
    "# Create a model if we do not want to use pretrained model\n",
    "\n",
    "load_pretrained = False # False or True\n",
    "num_gpus = torch.cuda.device_count()\n",
    "\n",
    "if num_gpus > 0:\n",
    "    current_device = 'cuda' \n",
    "else:\n",
    "    current_device = 'cpu'\n",
    "\n",
    "if load_pretrained:\n",
    "    if not os.path.exists('/home/yp2201/wiki_lstm_lm_128.pt'):\n",
    "        raise EOFError('Download pretrained model!')\n",
    "    model_dict = torch.load('/home/yp2201/wiki_lstm_lm_128.pt', map_location=current_device) # change the path \n",
    "    \n",
    "    options = model_dict['options']\n",
    "    model = LSTMLanguageModel(options).to(current_device)\n",
    "    model.load_state_dict(model_dict['model_dict'])\n",
    "    \n",
    "else:\n",
    "    # this is example parameters, and different values will be used \n",
    "    embedding_size = 128\n",
    "    hidden_size = 128   ## This is the parameter that i am changing \n",
    "    num_layers = 3\n",
    "    lstm_dropout = 0.3\n",
    "\n",
    "    options = {\n",
    "        'num_embeddings': len(wiki_dict),\n",
    "        'embedding_dim': embedding_size,\n",
    "        'padding_idx': wiki_dict.get_id('<pad>'),\n",
    "        'input_size': embedding_size,\n",
    "        'hidden_size': hidden_size,\n",
    "        'num_layers': num_layers,\n",
    "        'lstm_dropout': lstm_dropout,\n",
    "    }\n",
    "\n",
    "\n",
    "    model = LSTMLanguageModel(options).to(current_device)\n",
    "\n",
    "criterion = nn.CrossEntropyLoss(ignore_index=wiki_dict.get_id('<pad>'))\n",
    "\n",
    "model_parameters = [p for p in model.parameters() if p.requires_grad]\n",
    "optimizer = optim.SGD(model_parameters, lr=0.001, momentum=0.999)"
   ]
  },
  {
   "cell_type": "code",
   "execution_count": 19,
   "metadata": {},
   "outputs": [
    {
     "name": "stdout",
     "output_type": "stream",
     "text": [
      "Validation loss after 0 epoch = 7.9228\n",
      "Validation loss after 1 epoch = 7.6143\n",
      "Validation loss after 2 epoch = 7.4691\n",
      "Validation loss after 3 epoch = 7.2670\n",
      "Validation loss after 4 epoch = 7.0087\n",
      "Validation loss after 5 epoch = 6.8179\n",
      "Validation loss after 6 epoch = 6.6815\n",
      "Validation loss after 7 epoch = 6.5699\n",
      "Validation loss after 8 epoch = 6.4797\n",
      "Validation loss after 9 epoch = 6.4158\n",
      "Validation loss after 10 epoch = 6.3596\n",
      "Validation loss after 11 epoch = 6.3131\n",
      "Validation loss after 12 epoch = 6.2819\n",
      "Validation loss after 13 epoch = 6.2429\n",
      "Validation loss after 14 epoch = 6.2065\n",
      "Validation loss after 15 epoch = 6.1799\n",
      "Validation loss after 16 epoch = 6.1460\n",
      "Validation loss after 17 epoch = 6.1165\n",
      "Validation loss after 18 epoch = 6.0890\n",
      "Validation loss after 19 epoch = 6.0561\n",
      "Validation loss after 20 epoch = 6.0345\n",
      "Validation loss after 21 epoch = 6.0045\n",
      "Validation loss after 22 epoch = 5.9820\n",
      "Validation loss after 23 epoch = 5.9568\n",
      "Validation loss after 24 epoch = 5.9403\n",
      "Validation loss after 25 epoch = 5.9192\n",
      "Validation loss after 26 epoch = 5.9008\n",
      "Validation loss after 27 epoch = 5.8845\n",
      "Validation loss after 28 epoch = 5.8741\n",
      "Validation loss after 29 epoch = 5.8538\n",
      "Validation loss after 30 epoch = 5.8393\n",
      "Validation loss after 31 epoch = 5.8277\n",
      "Validation loss after 32 epoch = 5.8154\n",
      "Validation loss after 33 epoch = 5.7967\n",
      "Validation loss after 34 epoch = 5.7911\n",
      "Validation loss after 35 epoch = 5.7819\n",
      "Validation loss after 36 epoch = 5.7671\n",
      "Validation loss after 37 epoch = 5.7609\n",
      "Validation loss after 38 epoch = 5.7496\n",
      "Validation loss after 39 epoch = 5.7328\n",
      "Validation loss after 40 epoch = 5.7282\n",
      "Validation loss after 41 epoch = 5.7129\n",
      "Validation loss after 42 epoch = 5.7080\n",
      "Validation loss after 43 epoch = 5.6997\n",
      "Validation loss after 44 epoch = 5.6901\n",
      "Validation loss after 45 epoch = 5.6794\n",
      "Validation loss after 46 epoch = 5.6757\n",
      "Validation loss after 47 epoch = 5.6660\n",
      "Validation loss after 48 epoch = 5.6550\n",
      "Validation loss after 49 epoch = 5.6481\n",
      "Validation loss after 50 epoch = 5.6426\n",
      "Validation loss after 51 epoch = 5.6301\n",
      "Validation loss after 52 epoch = 5.6258\n",
      "Validation loss after 53 epoch = 5.6216\n",
      "Validation loss after 54 epoch = 5.6135\n",
      "Validation loss after 55 epoch = 5.6096\n",
      "Validation loss after 56 epoch = 5.5997\n",
      "Validation loss after 57 epoch = 5.5927\n",
      "Validation loss after 58 epoch = 5.5903\n",
      "Validation loss after 59 epoch = 5.5833\n",
      "Validation loss after 60 epoch = 5.5770\n",
      "Validation loss after 61 epoch = 5.5705\n",
      "Validation loss after 62 epoch = 5.5589\n",
      "Validation loss after 63 epoch = 5.5583\n",
      "Validation loss after 64 epoch = 5.5546\n",
      "Validation loss after 65 epoch = 5.5505\n",
      "Validation loss after 66 epoch = 5.5396\n",
      "Validation loss after 67 epoch = 5.5389\n",
      "Validation loss after 68 epoch = 5.5341\n",
      "Validation loss after 69 epoch = 5.5257\n",
      "Validation loss after 70 epoch = 5.5195\n",
      "Validation loss after 71 epoch = 5.5156\n",
      "Validation loss after 72 epoch = 5.5135\n",
      "Validation loss after 73 epoch = 5.5088\n",
      "Validation loss after 74 epoch = 5.5066\n",
      "Validation loss after 75 epoch = 5.4979\n",
      "Validation loss after 76 epoch = 5.4949\n",
      "Validation loss after 77 epoch = 5.4905\n",
      "Validation loss after 78 epoch = 5.4818\n",
      "Validation loss after 79 epoch = 5.4816\n",
      "Validation loss after 80 epoch = 5.4791\n",
      "Validation loss after 81 epoch = 5.4679\n",
      "Validation loss after 82 epoch = 5.4714\n",
      "Validation loss after 83 epoch = 5.4665\n",
      "Validation loss after 84 epoch = 5.4580\n",
      "Validation loss after 85 epoch = 5.4626\n",
      "Validation loss after 86 epoch = 5.4469\n",
      "Validation loss after 87 epoch = 5.4489\n",
      "Validation loss after 88 epoch = 5.4456\n",
      "Validation loss after 89 epoch = 5.4416\n",
      "Validation loss after 90 epoch = 5.4402\n",
      "Validation loss after 91 epoch = 5.4404\n",
      "Validation loss after 92 epoch = 5.4357\n",
      "Validation loss after 93 epoch = 5.4274\n",
      "Validation loss after 94 epoch = 5.4250\n",
      "Validation loss after 95 epoch = 5.4233\n",
      "Validation loss after 96 epoch = 5.4248\n",
      "Validation loss after 97 epoch = 5.4102\n",
      "Validation loss after 98 epoch = 5.4134\n",
      "Validation loss after 99 epoch = 5.4087\n",
      "Did not Early stopped. Saving the model at the last epoch \n"
     ]
    }
   ],
   "source": [
    "### This is for hid_size 128\n",
    "\n",
    "plot_cache = []\n",
    "\n",
    "# add variables for early stopping\n",
    "# max_patience : if the validation performance does not improve for m epochs, terminate the training process\n",
    "# early_stop: this will be use to determine if the training has reached the early stopping point \n",
    "\n",
    "max_patience = 3 \n",
    "init_loss = float('inf')\n",
    "num_epochs = 100\n",
    "\n",
    "for epoch_number in range(num_epochs):\n",
    "    \n",
    "    # if there are already pretrained model\n",
    "    if load_pretrained:\n",
    "        break    \n",
    "    \n",
    "    avg_loss=0\n",
    "    if not load_pretrained:\n",
    "        # do train\n",
    "        model.train()\n",
    "        train_log_cache = []\n",
    "        for i, (inp, target) in enumerate(wiki_loaders['train']):\n",
    "            optimizer.zero_grad()\n",
    "            inp = inp.to(current_device)\n",
    "            target = target.to(current_device)\n",
    "            logits = model(inp)\n",
    "            \n",
    "            loss = criterion(logits.view(-1, logits.size(-1)), target.view(-1))\n",
    "            \n",
    "            loss.backward()\n",
    "            optimizer.step()\n",
    "            \n",
    "            train_log_cache.append(loss.item())\n",
    "            \n",
    "            if i % 100 == 0:\n",
    "                avg_loss = sum(train_log_cache)/len(train_log_cache)\n",
    "#                 print('Step {} avg train loss = {:.{prec}f}'.format(i, avg_loss, prec=4))\n",
    "                train_log_cache = []\n",
    "            \n",
    "    #do valid\n",
    "    valid_losses = []\n",
    "    model.eval()\n",
    "    with torch.no_grad():\n",
    "        for i, (inp, target) in enumerate(wiki_loaders['valid']):\n",
    "            inp = inp.to(current_device)\n",
    "            target = target.to(current_device)\n",
    "            logits = model(inp)\n",
    "\n",
    "            loss = criterion(logits.view(-1, logits.size(-1)), target.view(-1))\n",
    "            valid_losses.append(loss.item())\n",
    "        avg_val_loss = sum(valid_losses) / len(valid_losses)\n",
    "        print('Validation loss after {} epoch = {:.{prec}f}'.format(epoch_number, avg_val_loss, prec=4))\n",
    "        \n",
    "    plot_cache.append((avg_loss, avg_val_loss))\n",
    "    \n",
    "    # defining early stopping point\n",
    "    if avg_val_loss < init_loss:\n",
    "        best_model = model\n",
    "        best_epoch = epoch_number\n",
    "        stop_epoch_cnt = 0\n",
    "        init_loss = avg_val_loss        \n",
    "    else:\n",
    "        stop_epoch_cnt += 1\n",
    "\n",
    "    # when training meets early stop point, save best model and exit training loop \n",
    "    if stop_epoch_cnt >= max_patience:\n",
    "        print('Early stopped at epoch: ', best_epoch)\n",
    "        torch.save({\n",
    "            'options': options,\n",
    "            'loss_cache': plot_cache,\n",
    "            'model_dict': best_model.state_dict()\n",
    "        }, '/home/yp2201/wiki_lstm_lm_128.pt')\n",
    "        break\n",
    "\n",
    "    # if you was not able to save early-stopping point,\n",
    "    # then save the final epoch of the model \n",
    "    if epoch_number == (num_epochs -1):\n",
    "        print('Did not Early stopped. Saving the model at the last epoch ')\n",
    "        torch.save({\n",
    "            'options': options,\n",
    "            'loss_cache': plot_cache,\n",
    "            'model_dict': model.state_dict()\n",
    "        }, '/home/yp2201/wiki_lstm_lm_128.pt')"
   ]
  },
  {
   "cell_type": "code",
   "execution_count": null,
   "metadata": {},
   "outputs": [],
   "source": []
  },
  {
   "cell_type": "markdown",
   "metadata": {},
   "source": [
    "#### Experiment 4: hidden_size = 1024"
   ]
  },
  {
   "cell_type": "code",
   "execution_count": 20,
   "metadata": {},
   "outputs": [],
   "source": [
    "# Create a model if we do not want to use pretrained model\n",
    "\n",
    "load_pretrained = False # False or True\n",
    "num_gpus = torch.cuda.device_count()\n",
    "\n",
    "if num_gpus > 0:\n",
    "    current_device = 'cuda' \n",
    "else:\n",
    "    current_device = 'cpu'\n",
    "\n",
    "if load_pretrained:\n",
    "    if not os.path.exists('/home/yp2201/wiki_lstm_lm_1024.pt'):\n",
    "        raise EOFError('Download pretrained model!')\n",
    "    model_dict = torch.load('/home/yp2201/wiki_lstm_lm_1024.pt', map_location=current_device) # change the path \n",
    "    \n",
    "    options = model_dict['options']\n",
    "    model = LSTMLanguageModel(options).to(current_device)\n",
    "    model.load_state_dict(model_dict['model_dict'])\n",
    "    \n",
    "else:\n",
    "    # this is example parameters, and different values will be used \n",
    "    embedding_size = 1024\n",
    "    hidden_size = 1024   ## This is the parameter that i am changing \n",
    "    num_layers = 3\n",
    "    lstm_dropout = 0.3\n",
    "\n",
    "    options = {\n",
    "        'num_embeddings': len(wiki_dict),\n",
    "        'embedding_dim': embedding_size,\n",
    "        'padding_idx': wiki_dict.get_id('<pad>'),\n",
    "        'input_size': embedding_size,\n",
    "        'hidden_size': hidden_size,\n",
    "        'num_layers': num_layers,\n",
    "        'lstm_dropout': lstm_dropout,\n",
    "    }\n",
    "\n",
    "    model = LSTMLanguageModel(options).to(current_device)\n",
    "\n",
    "criterion = nn.CrossEntropyLoss(ignore_index=wiki_dict.get_id('<pad>'))\n",
    "\n",
    "model_parameters = [p for p in model.parameters() if p.requires_grad]\n",
    "optimizer = optim.SGD(model_parameters, lr=0.001, momentum=0.999)"
   ]
  },
  {
   "cell_type": "code",
   "execution_count": 21,
   "metadata": {
    "scrolled": true
   },
   "outputs": [
    {
     "name": "stdout",
     "output_type": "stream",
     "text": [
      "Validation loss after 0 epoch = 7.8418\n",
      "Validation loss after 1 epoch = 7.2855\n",
      "Validation loss after 2 epoch = 6.9238\n",
      "Validation loss after 3 epoch = 6.6212\n",
      "Validation loss after 4 epoch = 6.4416\n",
      "Validation loss after 5 epoch = 6.2811\n",
      "Validation loss after 6 epoch = 6.1529\n",
      "Validation loss after 7 epoch = 6.0468\n",
      "Validation loss after 8 epoch = 5.9400\n",
      "Validation loss after 9 epoch = 5.8501\n",
      "Validation loss after 10 epoch = 5.7644\n",
      "Validation loss after 11 epoch = 5.6859\n",
      "Validation loss after 12 epoch = 5.6202\n",
      "Validation loss after 13 epoch = 5.5595\n",
      "Validation loss after 14 epoch = 5.5097\n",
      "Validation loss after 15 epoch = 5.4622\n",
      "Validation loss after 16 epoch = 5.4175\n",
      "Validation loss after 17 epoch = 5.3698\n",
      "Validation loss after 18 epoch = 5.3416\n",
      "Validation loss after 19 epoch = 5.3084\n",
      "Validation loss after 20 epoch = 5.2858\n",
      "Validation loss after 21 epoch = 5.2476\n",
      "Validation loss after 22 epoch = 5.2320\n",
      "Validation loss after 23 epoch = 5.2040\n",
      "Validation loss after 24 epoch = 5.1860\n",
      "Validation loss after 25 epoch = 5.1771\n",
      "Validation loss after 26 epoch = 5.1602\n",
      "Validation loss after 27 epoch = 5.1564\n",
      "Validation loss after 28 epoch = 5.1460\n",
      "Validation loss after 29 epoch = 5.1536\n",
      "Validation loss after 30 epoch = 5.1588\n",
      "Validation loss after 31 epoch = 5.1447\n",
      "Validation loss after 32 epoch = 5.1568\n",
      "Validation loss after 33 epoch = 5.1726\n",
      "Validation loss after 34 epoch = 5.1806\n",
      "Early stopped at epoch:  31\n"
     ]
    }
   ],
   "source": [
    "### This is for hid_size = 1024\n",
    "\n",
    "plot_cache = []\n",
    "\n",
    "# add variables for early stopping\n",
    "# max_patience : if the validation performance does not improve for m epochs, terminate the training process\n",
    "# early_stop: this will be use to determine if the training has reached the early stopping point \n",
    "\n",
    "max_patience = 3 \n",
    "init_loss = float('inf')\n",
    "num_epochs = 100\n",
    "\n",
    "for epoch_number in range(num_epochs):\n",
    "    \n",
    "    # if there are already pretrained model\n",
    "    if load_pretrained:\n",
    "        break    \n",
    "    \n",
    "    avg_loss=0\n",
    "    if not load_pretrained:\n",
    "        # do train\n",
    "        model.train()\n",
    "        train_log_cache = []\n",
    "        for i, (inp, target) in enumerate(wiki_loaders['train']):\n",
    "            optimizer.zero_grad()\n",
    "            inp = inp.to(current_device)\n",
    "            target = target.to(current_device)\n",
    "            logits = model(inp)\n",
    "            \n",
    "            loss = criterion(logits.view(-1, logits.size(-1)), target.view(-1))\n",
    "            \n",
    "            loss.backward()\n",
    "            optimizer.step()\n",
    "            \n",
    "            train_log_cache.append(loss.item())\n",
    "            \n",
    "            if i % 100 == 0:\n",
    "                avg_loss = sum(train_log_cache)/len(train_log_cache)\n",
    "#                 print('Step {} avg train loss = {:.{prec}f}'.format(i, avg_loss, prec=4))\n",
    "                train_log_cache = []\n",
    "            \n",
    "    #do valid\n",
    "    valid_losses = []\n",
    "    model.eval()\n",
    "    with torch.no_grad():\n",
    "        for i, (inp, target) in enumerate(wiki_loaders['valid']):\n",
    "            inp = inp.to(current_device)\n",
    "            target = target.to(current_device)\n",
    "            logits = model(inp)\n",
    "\n",
    "            loss = criterion(logits.view(-1, logits.size(-1)), target.view(-1))\n",
    "            valid_losses.append(loss.item())\n",
    "        avg_val_loss = sum(valid_losses) / len(valid_losses)\n",
    "        print('Validation loss after {} epoch = {:.{prec}f}'.format(epoch_number, avg_val_loss, prec=4))\n",
    "        \n",
    "    plot_cache.append((avg_loss, avg_val_loss))\n",
    "    \n",
    "    # defining early stopping point\n",
    "    if avg_val_loss < init_loss:\n",
    "        best_model = model\n",
    "        best_epoch = epoch_number\n",
    "        stop_epoch_cnt = 0\n",
    "        init_loss = avg_val_loss        \n",
    "    else:\n",
    "        stop_epoch_cnt += 1\n",
    "\n",
    "    # when training meets early stop point, save best model and exit training loop \n",
    "    if stop_epoch_cnt >= max_patience:\n",
    "        print('Early stopped at epoch: ', best_epoch)\n",
    "        torch.save({\n",
    "            'options': options,\n",
    "            'loss_cache': plot_cache,\n",
    "            'model_dict': best_model.state_dict()\n",
    "        }, '/home/yp2201/wiki_lstm_lm_1024.pt')\n",
    "        break\n",
    "\n",
    "    # if you was not able to save early-stopping point,\n",
    "    # then save the final epoch of the model \n",
    "    if epoch_number == (num_epochs -1):\n",
    "        print('Did not Early stopped. Saving the model at the last epoch ')\n",
    "        torch.save({\n",
    "            'options': options,\n",
    "            'loss_cache': plot_cache,\n",
    "            'model_dict': model.state_dict()\n",
    "        }, '/home/yp2201/wiki_lstm_lm_1024.pt')"
   ]
  },
  {
   "cell_type": "code",
   "execution_count": 22,
   "metadata": {},
   "outputs": [],
   "source": [
    "## load all models\n",
    "model_512 = torch.load('/home/yp2201/wiki_lstm_lm_512.pt')\n",
    "model_256 = torch.load('/home/yp2201/wiki_lstm_lm_256.pt')\n",
    "model_128 = torch.load('/home/yp2201/wiki_lstm_lm_128.pt')\n",
    "model_1024 = torch.load('/home/yp2201/wiki_lstm_lm_1024.pt')"
   ]
  },
  {
   "cell_type": "markdown",
   "metadata": {
    "id": "39EioMvNoGej"
   },
   "source": [
    "#### Performance variation based on hyper-parameter values (5 pts)\n"
   ]
  },
  {
   "cell_type": "code",
   "execution_count": 23,
   "metadata": {
    "scrolled": true
   },
   "outputs": [
    {
     "data": {
      "image/png": "[encoded data removed]",
      "text/plain": [
       "<Figure size 432x288 with 1 Axes>"
      ]
     },
     "metadata": {
      "needs_background": "light"
     },
     "output_type": "display_data"
    }
   ],
   "source": [
    "import numpy as np\n",
    "\n",
    "plt.plot([i[0] for i in model_512['loss_cache']], label='Train loss (hid: 512)')\n",
    "plt.plot([i[0] for i in model_256['loss_cache']], label='Train loss (hid: 256)')\n",
    "plt.plot([i[0] for i in model_128['loss_cache']], label='Train loss (hid: 128)')\n",
    "plt.plot([i[0] for i in model_1024['loss_cache']], label='Train loss (hid: 1024)')\n",
    "\n",
    "plt.legend()\n",
    "plt.title('Train loss curves')\n",
    "plt.show()    "
   ]
  },
  {
   "cell_type": "code",
   "execution_count": 24,
   "metadata": {},
   "outputs": [
    {
     "data": {
      "image/png": "[encoded data removed]",
      "text/plain": [
       "<Figure size 432x288 with 1 Axes>"
      ]
     },
     "metadata": {
      "needs_background": "light"
     },
     "output_type": "display_data"
    }
   ],
   "source": [
    "## Based on the valiation performance among models, I've selected hidden_size = 512 as a best model\n",
    "# hid_128: Validation loss after 99 epoch = 5.4087\n",
    "# hid_256: Validation loss after 88 epoch = 5.1304\n",
    "# hid_512: Validation loss after 54 epoch = 5.1075\n",
    "# hid_1024: Validation loss after 31 epoch = 5.1447\n",
    "\n",
    "import numpy as np\n",
    "\n",
    "plt.plot([i[1] for i in model_512['loss_cache']], label='Val loss (hid: 512)')\n",
    "plt.plot([i[1] for i in model_256['loss_cache']], label='Val loss (hid: 256)')\n",
    "plt.plot([i[1] for i in model_128['loss_cache']], label='Val loss (hid: 128)')\n",
    "plt.plot([i[1] for i in model_1024['loss_cache']], label='Val loss (hid: 1024)')\n",
    "\n",
    "plt.legend()\n",
    "plt.title('Validation loss curves')\n",
    "plt.show()    "
   ]
  },
  {
   "cell_type": "code",
   "execution_count": 25,
   "metadata": {},
   "outputs": [
    {
     "data": {
      "text/plain": [
       "<All keys matched successfully>"
      ]
     },
     "execution_count": 25,
     "metadata": {},
     "output_type": "execute_result"
    }
   ],
   "source": [
    "## Also, define best model so that we can use this model for next questions \n",
    "model_dict = torch.load('/home/yp2201/wiki_lstm_lm_512.pt', map_location=current_device) # change the path \n",
    "options = model_dict['options']\n",
    "model = LSTMLanguageModel(options).to(current_device)\n",
    "model.load_state_dict(model_dict['model_dict'])"
   ]
  },
  {
   "cell_type": "code",
   "execution_count": null,
   "metadata": {},
   "outputs": [],
   "source": []
  },
  {
   "cell_type": "markdown",
   "metadata": {
    "id": "aOWSz7GRoGel"
   },
   "source": [
    "---\n",
    "### 2 Learned embeddings (6 pts)\n",
    "Next you will analyze the word embeddings that the model learns.\n"
   ]
  },
  {
   "cell_type": "markdown",
   "metadata": {
    "id": "-lWn6wotoGem"
   },
   "source": [
    "#### Utilities\n",
    "\n",
    "Below is code to use [UMAP](https://umap-learn.readthedocs.io/en/latest/) to find a 2-dimensional representation of a weight matrix, and plot the resulting 2-dimensional points that correspond to certain words.\n",
    "\n",
    "Use `!pip install umap-learn` to install UMAP."
   ]
  },
  {
   "cell_type": "code",
   "execution_count": 26,
   "metadata": {},
   "outputs": [
    {
     "name": "stdout",
     "output_type": "stream",
     "text": [
      "Defaulting to user installation because normal site-packages is not writeable\n",
      "Requirement already satisfied: umap-learn in ./.local/lib/python3.8/site-packages (0.5.3)\n",
      "Requirement already satisfied: numpy>=1.17 in /share/apps/python/3.8.6/intel/lib/python3.8/site-packages/numpy-1.19.2-py3.8-linux-x86_64.egg (from umap-learn) (1.19.2)\n",
      "Requirement already satisfied: scikit-learn>=0.22 in ./.local/lib/python3.8/site-packages (from umap-learn) (1.1.3)\n",
      "Requirement already satisfied: tqdm in ./.local/lib/python3.8/site-packages (from umap-learn) (4.64.1)\n",
      "Requirement already satisfied: scipy>=1.0 in /share/apps/python/3.8.6/intel/lib/python3.8/site-packages/scipy-1.5.2-py3.8-linux-x86_64.egg (from umap-learn) (1.5.2)\n",
      "Requirement already satisfied: pynndescent>=0.5 in ./.local/lib/python3.8/site-packages (from umap-learn) (0.5.7)\n",
      "Requirement already satisfied: numba>=0.49 in ./.local/lib/python3.8/site-packages (from umap-learn) (0.56.3)\n",
      "Requirement already satisfied: joblib>=1.0.0 in ./.local/lib/python3.8/site-packages (from scikit-learn>=0.22->umap-learn) (1.2.0)\n",
      "Requirement already satisfied: threadpoolctl>=2.0.0 in ./.local/lib/python3.8/site-packages (from scikit-learn>=0.22->umap-learn) (3.1.0)\n",
      "Requirement already satisfied: llvmlite>=0.30 in ./.local/lib/python3.8/site-packages (from pynndescent>=0.5->umap-learn) (0.39.1)\n",
      "Requirement already satisfied: importlib-metadata; python_version < \"3.9\" in ./.local/lib/python3.8/site-packages (from numba>=0.49->umap-learn) (5.0.0)\n",
      "Requirement already satisfied: setuptools in /share/apps/python/3.8.6/intel/lib/python3.8/site-packages (from numba>=0.49->umap-learn) (49.2.1)\n",
      "Requirement already satisfied: zipp>=0.5 in ./.local/lib/python3.8/site-packages (from importlib-metadata; python_version < \"3.9\"->numba>=0.49->umap-learn) (3.10.0)\n",
      "\u001b[33mWARNING: You are using pip version 20.2.3; however, version 22.3 is available.\n",
      "You should consider upgrading via the '/share/apps/python/3.8.6/intel/bin/python -m pip install --upgrade pip' command.\u001b[0m\n"
     ]
    }
   ],
   "source": [
    "!pip install umap-learn"
   ]
  },
  {
   "cell_type": "code",
   "execution_count": 27,
   "metadata": {
    "id": "-jXDUrdMoGem",
    "outputId": "dff99e77-2e05-4b23-b29b-5eef20b91acb"
   },
   "outputs": [
    {
     "name": "stdout",
     "output_type": "stream",
     "text": [
      "Populating the interactive namespace from numpy and matplotlib\n"
     ]
    },
    {
     "name": "stderr",
     "output_type": "stream",
     "text": [
      "/share/apps/python/3.8.6/intel/lib/python3.8/site-packages/IPython/core/magics/pylab.py:159: UserWarning: pylab import has clobbered these variables: ['split']\n",
      "`%matplotlib` prevents importing * from pylab and numpy\n",
      "  warn(\"pylab import has clobbered these variables: %s\"  % clobbered +\n"
     ]
    }
   ],
   "source": [
    "%pylab inline \n",
    "import umap\n",
    "import matplotlib.pyplot as plt\n",
    "\n",
    "def umap_plot(weight_matrix, word_ids, words):\n",
    "    \"\"\"Run UMAP on the entire Vxd `weight_matrix` (e.g. model.lookup.weight or model.projection.weight),\n",
    "    And plot the points corresponding to the given `word_ids`. \"\"\"\n",
    "    reduced = umap.UMAP(min_dist=0.0001).fit_transform(weight_matrix.detach().cpu().numpy())\n",
    "    plt.figure(figsize=(10,10))\n",
    "\n",
    "    to_plot = reduced[word_ids, :]\n",
    "    plt.scatter(to_plot[:, 0], to_plot[:, 1])\n",
    "    for i, word_id in enumerate(word_ids):\n",
    "        current_point = to_plot[i]\n",
    "        plt.annotate(words[i], (current_point[0], current_point[1]))\n",
    "\n",
    "    plt.grid()\n",
    "    plt.show()"
   ]
  },
  {
   "cell_type": "code",
   "execution_count": 28,
   "metadata": {
    "id": "kPhcd4wKoGeo",
    "outputId": "ec68210e-b2d7-4fd5-bffe-bbd16576cd48"
   },
   "outputs": [
    {
     "data": {
      "image/png": "[encoded data removed]",
      "text/plain": [
       "<Figure size 720x720 with 1 Axes>"
      ]
     },
     "metadata": {
      "needs_background": "light"
     },
     "output_type": "display_data"
    }
   ],
   "source": [
    "Vsize = 100                                 # e.g. len(dictionary)\n",
    "d = 32                                      # e.g. model.lookup.weight.size(1) \n",
    "fake_weight_matrix = torch.randn(Vsize, d)  # e.g. model.lookup.weight\n",
    "\n",
    "words = ['the', 'dog', 'ran']\n",
    "word_ids = [4, 54, 20]                  # e.g. use dictionary.get_id on a list of words\n",
    "\n",
    "umap_plot(fake_weight_matrix, word_ids, words)"
   ]
  },
  {
   "cell_type": "markdown",
   "metadata": {
    "id": "v6s7wYxXoGeq"
   },
   "source": [
    "#### 2.1 Word similarity (3 pts)\n"
   ]
  },
  {
   "cell_type": "code",
   "execution_count": 31,
   "metadata": {},
   "outputs": [
    {
     "name": "stdout",
     "output_type": "stream",
     "text": [
      "=========RESULT=========\n",
      "run\n",
      "Close 10 top words:\n",
      "{'pass': 0.6370318, 'drive': 0.6332831, 'deal': 0.59699416, 'win': 0.5855623, 'play': 0.57692116, 'match': 0.5757888, 'stop': 0.57095724, 'campaign': 0.55919915, 'move': 0.54972816, 'visit': 0.54227906}\n",
      "\n",
      "Far 10 top words:\n",
      "{'europaeus': -0.3085718, 'Prism': -0.30350292, 'lupus': -0.30346975, 'CHR': -0.3028563, 'calospora': -0.30050015, 'Binh': -0.29142722, 'sud': -0.2906273, 'Giles': -0.28940132, 'Émile': -0.28918272, 'Imperioli': -0.28896073}\n",
      "\n",
      "=========RESULT=========\n",
      "dog\n",
      "Close 10 top words:\n",
      "{'depiction': 0.51344395, 'fox': 0.50922054, 'message': 0.50387347, 'woman': 0.50045955, 'narrative': 0.49382448, 'wedding': 0.49342328, 'portrait': 0.49141005, 'desire': 0.49131003, 'hero': 0.4885246, 'girl': 0.48535383}\n",
      "\n",
      "Far 10 top words:\n",
      "{'Township': -0.4232492, 'Avenue': -0.40427306, 'Rapids': -0.37123275, 'a.m.': -0.3652697, 'peaking': -0.3631055, 'Canyon': -0.36107212, 'Flow': -0.36053333, 'Mile': -0.35253647, 'Cove': -0.35131896, 'p.m.': -0.34999397}\n",
      "\n",
      "=========RESULT=========\n",
      "where\n",
      "Close 10 top words:\n",
      "{'when': 0.74295026, 'but': 0.7304352, 'during': 0.71042556, 'which': 0.7093325, 'between': 0.6972248, 'before': 0.6921004, 'along': 0.68849695, 'against': 0.6824025, 'who': 0.67690945, 'within': 0.6732897}\n",
      "\n",
      "Far 10 top words:\n",
      "{'gunboat': -0.28089243, 'resumption': -0.27579504, 'nationalists': -0.2753745, 'bison': -0.2658861, 'sidelines': -0.26493913, 'tomentum': -0.26081693, 'Periplus': -0.26028466, 'docks': -0.25818223, 'Saintly': -0.25653028, 'stabilizing': -0.25359526}\n",
      "\n",
      "=========RESULT=========\n",
      "quick\n",
      "Close 10 top words:\n",
      "{'weak': 0.5216699, 'normal': 0.51619565, 'short': 0.5061006, 'severe': 0.49748838, 'solid': 0.4964797, 'slow': 0.48111042, 'rapid': 0.48016685, 'steep': 0.46585843, 'fixed': 0.4638835, 'shallow': 0.4599284}\n",
      "\n",
      "Far 10 top words:\n",
      "{'Pantocrator': -0.35457212, 'Affairs': -0.3500106, 'Stones': -0.3471184, 'Stories': -0.34011653, 'reads': -0.33501032, 'says': -0.33431765, 'Veera': -0.3323407, 'Claws': -0.32754153, 'Hubbard': -0.32721022, 'Fei': -0.32299137}\n",
      "\n"
     ]
    }
   ],
   "source": [
    "'''\n",
    "Choose a set of 4 works, e.g., {run, dog, where, quick}. \n",
    "For each word, find the 10 closest words and 10 furthest words in the trained \n",
    "LSTM model’s final projection layer according to cosine similarity. \n",
    "You will need to implement your own cosine similarity function. (3 pts)\n",
    "'''\n",
    "\n",
    "# define Vsize, dimension, weight_matrix\n",
    "# weight_matrix contains embeddings for each word\n",
    "# this means that we can find the most similary embedding for each word\n",
    "Vsize = len(wiki_dict)\n",
    "\n",
    "d = model.projection.weight.size(1)\n",
    "weight_matrix = model.projection.weight\n",
    "\n",
    "# first, we want to know words - index that is defined in our wiki_dict\n",
    "# {'run': 3636, 'dog': 5388, 'where': 163, 'quick': 1690}\n",
    "words = ['run', 'dog', 'where', 'quick']\n",
    "word_dict = {}\n",
    "for word in words: \n",
    "    word_dict[word] = wiki_dict.get_id(word)\n",
    "    \n",
    "# now given index embedding, define cos_sim function that returns similarity score \n",
    "def cos_sim(word_idx, ref_idx):\n",
    "    list_a = weight_matrix[word_idx].detach().cpu().numpy()\n",
    "    list_b = weight_matrix[ref_idx].detach().cpu().numpy()\n",
    "    \n",
    "    cos_sim_score = np.dot(list_a,list_b)/((norm(list_a)*norm(list_b)))\n",
    "    \n",
    "    return cos_sim_score\n",
    "\n",
    "\n",
    "# for each word, check sim_score for all words in wiki_dict\n",
    "# then print out top 10 close/far words given target word\n",
    "\n",
    "# this is needed in question 2\n",
    "related_word_list = []\n",
    "\n",
    "for word, word_idx in word_dict.items():\n",
    "    sim_score = {}\n",
    "    # this is to ignore <bos>, <eos>, <pad>, <unk>\n",
    "    for ref_idx in range(4, Vsize):\n",
    "        sim_score[wiki_dict.get_token(ref_idx)] = cos_sim(word_idx, ref_idx)\n",
    "        \n",
    "    close_words = dict(list(sorted(sim_score.items(), key=lambda item: item[1], reverse=True))[1:11])\n",
    "    further_words = dict(list(sorted(sim_score.items(), key=lambda item: item[1]))[:10])\n",
    "    \n",
    "    # use extend to make one list \n",
    "    related_word_list.extend(list(close_words.keys()))\n",
    "    related_word_list.extend(list(further_words.keys()))\n",
    "    \n",
    "    print('=========RESULT=========')\n",
    "    print(word)\n",
    "    print('Close 10 top words:')\n",
    "    print(close_words)\n",
    "    print()\n",
    "    print('Far 10 top words:')\n",
    "    print(further_words)\n",
    "    print()    "
   ]
  },
  {
   "cell_type": "markdown",
   "metadata": {
    "id": "KI1lsvVzoGes"
   },
   "source": [
    "#### 2.2 UMAP (3 pts)"
   ]
  },
  {
   "cell_type": "code",
   "execution_count": 32,
   "metadata": {
    "id": "QfDWQ0l7oGet"
   },
   "outputs": [
    {
     "data": {
      "image/png": "[encoded data removed]",
      "text/plain": [
       "<Figure size 720x720 with 1 Axes>"
      ]
     },
     "metadata": {
      "needs_background": "light"
     },
     "output_type": "display_data"
    }
   ],
   "source": [
    "# use umap function \n",
    "# words: 'ran', 'dog', 'where', 'quick'\n",
    "related_word_ids = [wiki_dict.get_id(x) for x in related_word_list]\n",
    "\n",
    "umap_plot(weight_matrix, related_word_ids, related_word_list)"
   ]
  },
  {
   "cell_type": "markdown",
   "metadata": {
    "id": "-d1AKIXPoGe4"
   },
   "source": [
    "---\n",
    "### 3 Sampling (14 pts)\n"
   ]
  },
  {
   "cell_type": "markdown",
   "metadata": {
    "id": "bJFXKrYEHDne"
   },
   "source": [
    "#### 3.1 Sampling implementation (4 pts)"
   ]
  },
  {
   "cell_type": "code",
   "execution_count": 34,
   "metadata": {
    "scrolled": false
   },
   "outputs": [],
   "source": [
    "# prefix = '<bos>'\n",
    "def sampling_algo(prefix):\n",
    "    \n",
    "    # always starts from bos\n",
    "    sampled_sequence = ['<bos>']\n",
    "    \n",
    "    log_prob = 0\n",
    "    \n",
    "    # initialize h_0, and c_0 ([num_layers, batch_size, hidden_size]\n",
    "    h_0 = torch.tensor(np.zeros([3, 1, 512]), dtype=torch.float).to(current_device)\n",
    "    c_0 = torch.tensor(np.zeros([3, 1, 512]), dtype=torch.float).to(current_device)\n",
    "    \n",
    "    cnt = 0\n",
    "    \n",
    "    with torch.no_grad():\n",
    "        model.eval()\n",
    "\n",
    "        # iterate until given length of sequence\n",
    "        while prefix != '<eos>':\n",
    "\n",
    "            # convert prefix into inp (this creates an index)\n",
    "            inp = torch.tensor(wiki_dict.ids[prefix], dtype=torch.long).to(current_device)\n",
    "            \n",
    "            # run the model and get logits (projection(ht)), needs reshaping as (1, 256)\n",
    "            embeddings = model.lookup(inp.reshape(1, -1))\n",
    "            \n",
    "            # set hidden state with embeddings\n",
    "            output, (h_n, c_n) = model.lstm(embeddings, (h_0, c_0))\n",
    "\n",
    "            # update h_0 and c_0 to next hidden state (and cell state)\n",
    "            h_0, c_0 = h_n, c_n\n",
    "            \n",
    "            # take projection\n",
    "            logits = model.projection(output) \n",
    "            \n",
    "            # get softmax distribution\n",
    "            prob_distr = torch.softmax(logits[0,-1], dim=-1)\n",
    "\n",
    "            # get multinomial to get the index number\n",
    "            prob_multi = torch.multinomial(prob_distr, 1).item()\n",
    "\n",
    "            # add log prob\n",
    "            log_prob += torch.log(prob_distr)[prob_multi].item()\n",
    "\n",
    "            # we look at the index number from wiki_dict to assign a new prefix \n",
    "            prefix = wiki_dict.decode_idx_seq([prob_multi])[0]\n",
    "\n",
    "            # append decoded prefix\n",
    "            sampled_sequence.append(prefix)\n",
    "            \n",
    "            # add cnt\n",
    "            cnt += 1\n",
    "    \n",
    "    # get the avergae log probability\n",
    "    log_prob = log_prob / cnt\n",
    "        \n",
    "    # return sampled_seqeucne, and also log_probability \n",
    "    return sampled_sequence, log_prob          "
   ]
  },
  {
   "cell_type": "markdown",
   "metadata": {
    "id": "Hcf3aWxiHI2m"
   },
   "source": [
    "#### 3.2 1,000 samples and average log probability implementation (4 pts)"
   ]
  },
  {
   "cell_type": "markdown",
   "metadata": {},
   "source": [
    "- Average log probability:  -5.095095393773505"
   ]
  },
  {
   "cell_type": "code",
   "execution_count": 35,
   "metadata": {
    "scrolled": false
   },
   "outputs": [
    {
     "data": {
      "application/vnd.jupyter.widget-view+json": {
       "model_id": "4b63550cc9014fa3aaf03835dea00437",
       "version_major": 2,
       "version_minor": 0
      },
      "text/plain": [
       "  0%|          | 0/1000 [00:00<?, ?it/s]"
      ]
     },
     "metadata": {},
     "output_type": "display_data"
    },
    {
     "name": "stdout",
     "output_type": "stream",
     "text": [
      "Average log probability:  -5.095095393773505\n",
      "\n"
     ]
    }
   ],
   "source": [
    "# create 1000 samples by using function defined in 3.1\n",
    "# we have sample_list as 1000 sample sentences, \n",
    "# and avg_log_prob \n",
    "\n",
    "sample_list = []\n",
    "prefix = '<bos>'\n",
    "avg_log_prob = 0\n",
    "\n",
    "for i in tqdm(range(1000)):\n",
    "    sampled_sequence, log_prob = sampling_algo('<bos>')\n",
    "    sample_list.append(sampled_sequence)\n",
    "    avg_log_prob += log_prob\n",
    "    \n",
    "avg_log_prob = avg_log_prob / 1000\n",
    "print('Average log probability: ', avg_log_prob)    \n",
    "print()"
   ]
  },
  {
   "cell_type": "markdown",
   "metadata": {
    "id": "VUILpdtCoGe6"
   },
   "source": [
    "#### 3.3 Number of unique tokens and sequence length (3 pts)\n",
    "\n",
    "(1,000 samples vs. 1,000 randomly selected validation-set sequences)\n"
   ]
  },
  {
   "cell_type": "markdown",
   "metadata": {},
   "source": [
    "- Samples from the best model:  \n",
    "    Average unique tokens:  24.52  \n",
    "    Average sequence length:  27.443  \n",
    "\n",
    "\n",
    "- Samples from the validation set:  \n",
    "    Average unique tokens:  21.877  \n",
    "    Average sequence length:  24.99  "
   ]
  },
  {
   "cell_type": "code",
   "execution_count": 36,
   "metadata": {},
   "outputs": [],
   "source": [
    "import random\n",
    "\n",
    "# randomly select 1000 sequences from validation set (without replacement)\n",
    "val_tokenized_samples = random.sample(wiki_tokenized_datasets['valid'], 1000)\n",
    "\n",
    "# then convert back to words \n",
    "val_sample_list = [wiki_dict.decode_idx_seq(sample) for sample in val_tokenized_samples]"
   ]
  },
  {
   "cell_type": "code",
   "execution_count": 37,
   "metadata": {},
   "outputs": [],
   "source": [
    "# create a function that returns average number of unique tokens and average sequence length,\n",
    "# given list of sample sequences\n",
    "def num_of_tokens_and_seq_length(sample_list):\n",
    "    num_uniq_tokens = []\n",
    "    seq_length = []\n",
    "    \n",
    "    for sample in sample_list:\n",
    "        num_uniq_tokens.append(len(set(sample)))\n",
    "        seq_length.append(len(sample))\n",
    "        \n",
    "    avg_num_uniq_tokens = sum(num_uniq_tokens) / len(sample_list)\n",
    "    avg_seq_length = sum(seq_length) / len(sample_list)\n",
    "    \n",
    "    return avg_num_uniq_tokens, avg_seq_length"
   ]
  },
  {
   "cell_type": "code",
   "execution_count": 38,
   "metadata": {},
   "outputs": [
    {
     "name": "stdout",
     "output_type": "stream",
     "text": [
      "Samples from the best model:\n",
      "Average unique tokens:  24.52\n",
      "Average sequence length:  27.443\n",
      "\n",
      "Samples from the validation set:\n",
      "Average unique tokens:  21.877\n",
      "Average sequence length:  24.99\n"
     ]
    }
   ],
   "source": [
    "# generate each average unique tokens and sequence length\n",
    "sample_avg_num_uniq_tokens, sample_avg_seq_length = num_of_tokens_and_seq_length(sample_list)\n",
    "val_avg_num_uniq_tokens, val_avg_seq_length = num_of_tokens_and_seq_length(val_sample_list)\n",
    "\n",
    "print('Samples from the best model:')\n",
    "print('Average unique tokens: ', sample_avg_num_uniq_tokens)\n",
    "print('Average sequence length: ', sample_avg_seq_length)\n",
    "print()\n",
    "\n",
    "print('Samples from the validation set:')\n",
    "print('Average unique tokens: ', val_avg_num_uniq_tokens)\n",
    "print('Average sequence length: ', val_avg_seq_length)"
   ]
  },
  {
   "cell_type": "code",
   "execution_count": null,
   "metadata": {},
   "outputs": [],
   "source": []
  },
  {
   "cell_type": "markdown",
   "metadata": {
    "id": "fR38_cdGoGfA"
   },
   "source": [
    "#### 3.4 Example samples (3 pts)"
   ]
  },
  {
   "cell_type": "markdown",
   "metadata": {},
   "source": [
    "- Choose 3 sampled sequences and discuss their characteristics. Does anything suggest these sequences are machine-generated rather than human-generated? Do these sequences stay on topic? Are they grammatically correct?"
   ]
  },
  {
   "cell_type": "markdown",
   "metadata": {},
   "source": [
    "Ans) \n",
    "- These sequences stays on topic and grammatically correct when we look at the first part of the sequence. Also, they seem very similar to human generated sentences and cannot easily find the clue that these sequences are machine-generated. \n",
    "\n",
    "- However, when we look at the long sequenced sentences, we can see that it gets out of the topic or gets grammatically incorrect, suggesting that these sequences are machine-generated.\n",
    "\n",
    "- This makes sense as machine is generating the next sequence based on the predicted prefix, and this will make the model's prediction worse as the sequence moves on to the next words. "
   ]
  },
  {
   "cell_type": "code",
   "execution_count": 40,
   "metadata": {
    "scrolled": true
   },
   "outputs": [
    {
     "name": "stdout",
     "output_type": "stream",
     "text": [
      "Sample 1:\n",
      "fund spearhead had anybody for various daughters in southern Europe , although these proteins have been used upon the value of Eshmun . with eradicate MacArthur , and people about Varanasi metal Maryang architecture , including grandson aviation , Curtis , vowed , others ; Isabella and commercial arms and clubs .\n",
      "\n",
      "Sample 2:\n",
      "is the earliest time of roots , as to be displayed in <unk> , Muldaur and its children date while Steve A Magic Edward <unk>\n",
      "\n",
      "Sample 3:\n",
      "To produce one , for example , Emmanuel Félix Dark cousin wrote that the General will take one role in basketball .\n",
      "\n"
     ]
    }
   ],
   "source": [
    "for i, sample in enumerate(random.sample(sample_list, 3)):\n",
    "    print('Sample {}:'.format(i+1))\n",
    "    print(' '.join(sample[1:-1]))\n",
    "    print()"
   ]
  },
  {
   "cell_type": "code",
   "execution_count": null,
   "metadata": {},
   "outputs": [],
   "source": []
  }
 ],
 "metadata": {
  "accelerator": "GPU",
  "colab": {
   "collapsed_sections": [],
   "name": "hw2-part2-nlm.ipynb",
   "provenance": [],
   "toc_visible": true
  },
  "kernelspec": {
   "display_name": "Python 3",
   "language": "python",
   "name": "python3"
  },
  "language_info": {
   "codemirror_mode": {
    "name": "ipython",
    "version": 3
   },
   "file_extension": ".py",
   "mimetype": "text/x-python",
   "name": "python",
   "nbconvert_exporter": "python",
   "pygments_lexer": "ipython3",
   "version": "3.8.9"
  },
  "vscode": {
   "interpreter": {
    "hash": "31f2aee4e71d21fbe5cf8b01ff0e069b9275f58929596ceb00d14d90e3e16cd6"
   }
  }
 },
 "nbformat": 4,
 "nbformat_minor": 1
}
