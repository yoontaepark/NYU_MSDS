{
 "cells": [
  {
   "cell_type": "markdown",
   "metadata": {
    "id": "aafMIEuhoGeE"
   },
   "source": [
    "# Fall 2022: DS-GA 1011 NLP with Representation Learning\n",
    "## Homework 2\n",
    "## Part 2: Neural Language Modeling (30 pts)\n",
    "In this assignment, you will build and analyze a neural language model with a recurrent neural network."
   ]
  },
  {
   "cell_type": "code",
   "execution_count": 1,
   "metadata": {
    "id": "xqlguqV9oGeF"
   },
   "outputs": [],
   "source": [
    "# Import required packages\n",
    "import os\n",
    "import json\n",
    "import numpy as np\n",
    "from collections import defaultdict\n",
    "\n",
    "import torch\n",
    "import torch.nn as nn\n",
    "import torch.nn.functional as F\n",
    "\n",
    "### added lib\n",
    "from tqdm.auto import tqdm\n",
    "import torch.optim as optim\n",
    "from torch.utils.data import Dataset, DataLoader\n",
    "import matplotlib.pyplot as plt"
   ]
  },
  {
   "cell_type": "markdown",
   "metadata": {
    "id": "LZYu0UrL2VLr"
   },
   "source": [
    "---\n",
    "### 1 LSTM and Hyper-parameters (10 pts)\n",
    "Your first task is to train a neural recurrent language model on Wikitext-2."
   ]
  },
  {
   "cell_type": "markdown",
   "metadata": {
    "id": "-h2bkwWt25m3"
   },
   "source": [
    "#### Load data"
   ]
  },
  {
   "cell_type": "code",
   "execution_count": 2,
   "metadata": {
    "id": "7V-b8kAKoGeJ"
   },
   "outputs": [],
   "source": [
    "def load_wikitext(filename='wikitext2-sentencized.json'):\n",
    "    if not os.path.exists(filename):\n",
    "        !wget \"https://nyu.box.com/shared/static/9kb7l7ci30hb6uahhbssjlq0kctr5ii4.json\" -O $filename\n",
    "    \n",
    "    datasets = json.load(open(filename, 'r'))\n",
    "    for name in datasets:\n",
    "        datasets[name] = [x.split() for x in datasets[name]]\n",
    "    vocab = list(set([t for ts in datasets['train'] for t in ts]))      \n",
    "    print(\"Vocab size: %d\" % (len(vocab)))\n",
    "    return datasets, vocab\n",
    "\n",
    "def perplexity(model, sequences):\n",
    "    n_total = 0\n",
    "    logp_total = 0\n",
    "    for sequence in sequences:\n",
    "        logp_total += model.sequence_logp(sequence)\n",
    "        n_total += len(sequence) + 1  \n",
    "    ppl = 2 ** (- (1.0 / n_total) * logp_total)  \n",
    "    return ppl"
   ]
  },
  {
   "cell_type": "code",
   "execution_count": 3,
   "metadata": {
    "id": "0UaYVHf3oGeQ"
   },
   "outputs": [
    {
     "name": "stdout",
     "output_type": "stream",
     "text": [
      "Vocab size: 33175\n"
     ]
    }
   ],
   "source": [
    "datasets, vocab = load_wikitext()"
   ]
  },
  {
   "cell_type": "markdown",
   "metadata": {
    "id": "LWyZB12ioGeb"
   },
   "source": [
    "#### Utilities\n",
    "\n",
    "(Hint: you can adopt the `Dictionary`, dataset loading, `Dataloader`, `pad_collate_fn`, and training code from the lab: [**07-rnn_lm.ipynb**](https://drive.google.com/file/d/1scqLM26Njy4ACL9zyIQEVcoP32eTN77i/view?usp=sharing) for use here)"
   ]
  },
  {
   "cell_type": "code",
   "execution_count": 4,
   "metadata": {},
   "outputs": [],
   "source": [
    "# reference from class Dictionary from lab code \n",
    "# creating a dictionary, this will be used when tokenizing the dataset\n",
    "\n",
    "class Dictionary(object): #maps words to indices\n",
    "    def __init__(self, datasets, include_valid=False):\n",
    "        self.tokens = []\n",
    "        self.ids = {}\n",
    "        self.counts = {}\n",
    "        \n",
    "        # add special tokens\n",
    "        self.add_token('<bos>') #beginning of sentence\n",
    "        self.add_token('<eos>') #end of sentence\n",
    "        self.add_token('<pad>')\n",
    "        self.add_token('<unk>') #unknown. Needed in case use with text with word that isn't in vocab\n",
    "        \n",
    "        # add every word in training set \n",
    "        for line in tqdm(datasets['train']):\n",
    "            for w in line:\n",
    "                self.add_token(w)\n",
    "        \n",
    "        # if we want to add valiation set, add this code as well\n",
    "        if include_valid is True:\n",
    "            for line in tqdm(datasets['valid']):\n",
    "                for w in line:\n",
    "                    self.add_token(w)\n",
    "    \n",
    "    ## this function is to add tokens \n",
    "    ## this addes tokens as well as idx and counts\n",
    "    def add_token(self, w):\n",
    "        if w not in self.tokens:\n",
    "            self.tokens.append(w)\n",
    "            _w_id = len(self.tokens) - 1\n",
    "            self.ids[w] = _w_id\n",
    "            self.counts[w] = 1\n",
    "        else:\n",
    "            self.counts[w] += 1\n",
    "    \n",
    "    # this function is called when we want to know the index of the token\n",
    "    def get_id(self, w):\n",
    "        return self.ids[w]\n",
    "    \n",
    "    # \n",
    "    def get_token(self, idx):\n",
    "        return self.tokens[idx]\n",
    "    \n",
    "    def decode_idx_seq(self, l):\n",
    "        return [self.tokens[i] for i in l]\n",
    "    \n",
    "    def encode_token_seq(self, l):\n",
    "        return [self.ids[i] if i in self.ids else self.ids['<unk>'] for i in l]\n",
    "    \n",
    "    def __len__(self):\n",
    "        return len(self.tokens)"
   ]
  },
  {
   "cell_type": "code",
   "execution_count": 5,
   "metadata": {},
   "outputs": [
    {
     "data": {
      "application/vnd.jupyter.widget-view+json": {
       "model_id": "5b16249b716b46269beb93209753a380",
       "version_major": 2,
       "version_minor": 0
      },
      "text/plain": [
       "  0%|          | 0/78274 [00:00<?, ?it/s]"
      ]
     },
     "metadata": {},
     "output_type": "display_data"
    },
    {
     "data": {
      "application/vnd.jupyter.widget-view+json": {
       "model_id": "7ec45ec2ae974fa5bd3f5d5e5ac00751",
       "version_major": 2,
       "version_minor": 0
      },
      "text/plain": [
       "  0%|          | 0/8464 [00:00<?, ?it/s]"
      ]
     },
     "metadata": {},
     "output_type": "display_data"
    }
   ],
   "source": [
    "# we call this function to create wiki_dict\n",
    "# this contains token, id, count \n",
    "wiki_dict = Dictionary(datasets, include_valid=True)"
   ]
  },
  {
   "cell_type": "code",
   "execution_count": 6,
   "metadata": {},
   "outputs": [
    {
     "name": "stdout",
     "output_type": "stream",
     "text": [
      "33181\n",
      "0 <bos>\n",
      "1 <eos>\n",
      "2 <pad>\n",
      "3 <unk>\n",
      "4 Valkyria\n",
      "5 of\n",
      "6 the\n",
      "7 Battlefield\n",
      "8 3\n",
      "9 )\n"
     ]
    }
   ],
   "source": [
    "# as expected, we get results as below examples \n",
    "print(len(wiki_dict))\n",
    "for i in range(10):\n",
    "    print(i, wiki_dict.get_token(i))"
   ]
  },
  {
   "cell_type": "code",
   "execution_count": 7,
   "metadata": {},
   "outputs": [],
   "source": [
    "# this code was also referenced by lab 4\n",
    "## now moving on to creating a tokenized dataset\n",
    "\n",
    "def tokenize_dataset(datasets, dictionary, ngram_order=2): \n",
    "    tokenized_datasets = {}\n",
    "    for split, dataset in datasets.items():\n",
    "        _current_dictified = []\n",
    "        for l in tqdm(dataset):\n",
    "            l = ['<bos>']*(ngram_order-1) + l + ['<eos>']\n",
    "            encoded_l = dictionary.encode_token_seq(l)\n",
    "            _current_dictified.append(encoded_l)\n",
    "        tokenized_datasets[split] = _current_dictified\n",
    "        \n",
    "    return tokenized_datasets"
   ]
  },
  {
   "cell_type": "code",
   "execution_count": 8,
   "metadata": {},
   "outputs": [],
   "source": [
    "# this code was also referenced by lab 4\n",
    "# creating a dataset class that has input_tensors and target_tensors\n",
    "# note that input_tensors and target_tensors are windowed by 1\n",
    "\n",
    "class TensoredDataset(Dataset):\n",
    "    def __init__(self, list_of_lists_of_tokens):\n",
    "        self.input_tensors = []\n",
    "        self.target_tensors = []\n",
    "        \n",
    "        for sample in list_of_lists_of_tokens:\n",
    "            self.input_tensors.append(torch.tensor([sample[:-1]], dtype=torch.long))\n",
    "            self.target_tensors.append(torch.tensor([sample[1:]], dtype=torch.long))\n",
    "    \n",
    "    def __len__(self):\n",
    "        return len(self.input_tensors)\n",
    "    \n",
    "    def __getitem__(self, idx):\n",
    "        return (self.input_tensors[idx], self.target_tensors[idx])"
   ]
  },
  {
   "cell_type": "code",
   "execution_count": 9,
   "metadata": {
    "scrolled": true
   },
   "outputs": [
    {
     "data": {
      "application/vnd.jupyter.widget-view+json": {
       "model_id": "5d3f4adfe3bb469d994423cea17f4743",
       "version_major": 2,
       "version_minor": 0
      },
      "text/plain": [
       "  0%|          | 0/78274 [00:00<?, ?it/s]"
      ]
     },
     "metadata": {},
     "output_type": "display_data"
    },
    {
     "data": {
      "application/vnd.jupyter.widget-view+json": {
       "model_id": "9a3751003f6b4ce18dd62a83ea1235f2",
       "version_major": 2,
       "version_minor": 0
      },
      "text/plain": [
       "  0%|          | 0/8464 [00:00<?, ?it/s]"
      ]
     },
     "metadata": {},
     "output_type": "display_data"
    },
    {
     "data": {
      "application/vnd.jupyter.widget-view+json": {
       "model_id": "1b70d4365ea442dab23e8386e049e76a",
       "version_major": 2,
       "version_minor": 0
      },
      "text/plain": [
       "  0%|          | 0/9708 [00:00<?, ?it/s]"
      ]
     },
     "metadata": {},
     "output_type": "display_data"
    },
    {
     "data": {
      "text/plain": [
       "(tensor([[ 0,  4,  5,  6,  7,  8,  9, 10, 11, 12, 13, 14,  4, 15, 16, 17, 18, 10,\n",
       "          19, 20, 21, 22, 23, 24, 25, 26, 27, 28, 29, 30, 31]]),\n",
       " tensor([[ 4,  5,  6,  7,  8,  9, 10, 11, 12, 13, 14,  4, 15, 16, 17, 18, 10, 19,\n",
       "          20, 21, 22, 23, 24, 25, 26, 27, 28, 29, 30, 31,  1]]))"
      ]
     },
     "execution_count": 9,
     "metadata": {},
     "output_type": "execute_result"
    }
   ],
   "source": [
    "# generate tokenized dataset\n",
    "wiki_tokenized_datasets = tokenize_dataset(datasets, wiki_dict)\n",
    "\n",
    "# now, create a tensored_tokenized dataset\n",
    "wiki_tensor_dataset = {}\n",
    "\n",
    "for split, listoflists in wiki_tokenized_datasets.items():\n",
    "    wiki_tensor_dataset[split] = TensoredDataset(listoflists)\n",
    "    \n",
    "# first example\n",
    "wiki_tensor_dataset['train'][0]"
   ]
  },
  {
   "cell_type": "code",
   "execution_count": 10,
   "metadata": {},
   "outputs": [],
   "source": [
    "# this code was also referenced by lab 4\n",
    "\n",
    "def pad_list_of_tensors(list_of_tensors, pad_token):\n",
    "    max_length = max([t.size(-1) for t in list_of_tensors])\n",
    "    padded_list = []\n",
    "    \n",
    "    for t in list_of_tensors:\n",
    "        padded_tensor = torch.cat([t, torch.tensor([[pad_token]*(max_length - t.size(-1))], dtype=torch.long)], dim = -1)\n",
    "        padded_list.append(padded_tensor)\n",
    "        \n",
    "    padded_tensor = torch.cat(padded_list, dim=0)\n",
    "    \n",
    "    return padded_tensor\n",
    "\n",
    "def pad_collate_fn(batch):\n",
    "    # batch is a list of sample tuples\n",
    "    input_list = [s[0] for s in batch]\n",
    "    target_list = [s[1] for s in batch]\n",
    "    \n",
    "    pad_token = wiki_dict.get_id('<pad>') # 2\n",
    "    \n",
    "    input_tensor = pad_list_of_tensors(input_list, pad_token)\n",
    "    target_tensor = pad_list_of_tensors(target_list, pad_token)\n",
    "    \n",
    "    return input_tensor, target_tensor"
   ]
  },
  {
   "cell_type": "code",
   "execution_count": 12,
   "metadata": {},
   "outputs": [],
   "source": [
    "wiki_loaders = {}\n",
    "\n",
    "batch_size = 128 #128 \n",
    "\n",
    "for split, wiki_dataset in wiki_tensor_dataset.items():\n",
    "    wiki_loaders[split] = DataLoader(wiki_dataset, \n",
    "                                     batch_size=batch_size, \n",
    "                                     shuffle=True, \n",
    "                                     collate_fn=pad_collate_fn)"
   ]
  },
  {
   "cell_type": "markdown",
   "metadata": {
    "id": "gbugaRMgjMGj"
   },
   "source": [
    "#### Model + Training (5 pts)"
   ]
  },
  {
   "cell_type": "code",
   "execution_count": 13,
   "metadata": {
    "id": "SiyT9W9LjKmU"
   },
   "outputs": [],
   "source": [
    "# create a LSTM model that is very similar to RNN model that was covered in the lab \n",
    "\n",
    "class LSTMLanguageModel(nn.Module):\n",
    "    \"\"\"\n",
    "    This model combines embedding, lstm and projection layer into a single model\n",
    "    \"\"\"\n",
    "    def __init__(self, options):\n",
    "        super().__init__()\n",
    "        \n",
    "        # create each LM part here \n",
    "        # for the first part, we need embeddings to make each words as list of embeddings\n",
    "        # then we set a lstm \n",
    "        # then we take a projection \n",
    "        self.lookup = nn.Embedding(num_embeddings=options['num_embeddings'], embedding_dim=options['embedding_dim'], padding_idx=options['padding_idx'])\n",
    "        self.lstm = nn.LSTM(options['input_size'], options['hidden_size'], options['num_layers'], dropout=options['lstm_dropout'], batch_first=True)\n",
    "        self.projection = nn.Linear(options['hidden_size'], options['num_embeddings'])\n",
    "        \n",
    "    def forward(self, encoded_input_sequence):\n",
    "        \"\"\"\n",
    "        Forward method process the input from token ids to logits\n",
    "        \"\"\"\n",
    "        # [batch_size, sen_length]\n",
    "        embeddings = self.lookup(encoded_input_sequence)\n",
    "        # [batch_size, sen_length, embed_length]\n",
    "        lstm_outputs = self.lstm(embeddings)\n",
    "        # [batch_size, sen_length, state_dim]\n",
    "        logits = self.projection(lstm_outputs[0]) #convenient for seq to seq models. check shape of output. lstm gives different\n",
    "        \n",
    "        return logits"
   ]
  },
  {
   "cell_type": "code",
   "execution_count": 14,
   "metadata": {},
   "outputs": [],
   "source": [
    "# Create a model if we do not want to use pretrained model\n",
    "\n",
    "load_pretrained = True # False\n",
    "num_gpus = torch.cuda.device_count()\n",
    "\n",
    "if num_gpus > 0:\n",
    "    current_device = 'cuda' # try mps \n",
    "else:\n",
    "    current_device = 'cpu'\n",
    "\n",
    "\n",
    "## this is mps version, not using it \n",
    "# if torch.has_mps:\n",
    "#     current_device = torch.device('mps')\n",
    "# else: \n",
    "#     current_device = 'cpu'    \n",
    "\n",
    "# gdrive/My Drive/nlp_hw_fall22/wiki_lstm_lm.pt\n",
    "if load_pretrained:\n",
    "    if not os.path.exists('/home/yp2201/wiki_lstm_lm.pt'):\n",
    "        raise EOFError('Download pretrained model!')\n",
    "    model_dict = torch.load('/home/yp2201/wiki_lstm_lm.pt', map_location=current_device)\n",
    "    \n",
    "    options = model_dict['options']\n",
    "    model = LSTMLanguageModel(options).to(current_device)\n",
    "    model.load_state_dict(model_dict['model_dict'])\n",
    "    \n",
    "else:\n",
    "    # this is example parameters, and different values will be used \n",
    "    embedding_size = 256\n",
    "    hidden_size = 512\n",
    "    num_layers = 3\n",
    "    lstm_dropout = 0.3\n",
    "\n",
    "    options = {\n",
    "        'num_embeddings': len(wiki_dict),\n",
    "        'embedding_dim': embedding_size,\n",
    "        'padding_idx': wiki_dict.get_id('<pad>'),\n",
    "        'input_size': embedding_size,\n",
    "        'hidden_size': hidden_size,\n",
    "        'num_layers': num_layers,\n",
    "        'lstm_dropout': lstm_dropout,\n",
    "    }\n",
    "\n",
    "\n",
    "    model = LSTMLanguageModel(options).to(current_device)\n",
    "\n",
    "criterion = nn.CrossEntropyLoss(ignore_index=wiki_dict.get_id('<pad>'))\n",
    "\n",
    "model_parameters = [p for p in model.parameters() if p.requires_grad]\n",
    "optimizer = optim.SGD(model_parameters, lr=0.001, momentum=0.999)"
   ]
  },
  {
   "cell_type": "code",
   "execution_count": 15,
   "metadata": {},
   "outputs": [],
   "source": [
    "plot_cache = []\n",
    "\n",
    "# add variables for early stopping\n",
    "# max_patience : if the validation performance does not improve for m epochs, terminate the training process\n",
    "# early_stop: this will be use to determine if the training has reached the early stopping point \n",
    "\n",
    "max_patience = 3 \n",
    "init_loss = float('inf')\n",
    "num_epochs = 100\n",
    "\n",
    "for epoch_number in range(num_epochs):\n",
    "    \n",
    "    # if there are already pretrained model\n",
    "    if load_pretrained:\n",
    "        break    \n",
    "    \n",
    "    avg_loss=0\n",
    "    if not load_pretrained:\n",
    "        # do train\n",
    "        model.train()\n",
    "        train_log_cache = []\n",
    "        for i, (inp, target) in enumerate(wiki_loaders['train']):\n",
    "            optimizer.zero_grad()\n",
    "            inp = inp.to(current_device)\n",
    "            target = target.to(current_device)\n",
    "            logits = model(inp)\n",
    "            \n",
    "            loss = criterion(logits.view(-1, logits.size(-1)), target.view(-1))\n",
    "            \n",
    "            loss.backward()\n",
    "            optimizer.step()\n",
    "            \n",
    "            train_log_cache.append(loss.item())\n",
    "            \n",
    "            if i % 100 == 0:\n",
    "                avg_loss = sum(train_log_cache)/len(train_log_cache)\n",
    "                print('Step {} avg train loss = {:.{prec}f}'.format(i, avg_loss, prec=4))\n",
    "                train_log_cache = []\n",
    "            \n",
    "    #do valid\n",
    "    valid_losses = []\n",
    "    model.eval()\n",
    "    with torch.no_grad():\n",
    "        for i, (inp, target) in enumerate(wiki_loaders['valid']):\n",
    "            inp = inp.to(current_device)\n",
    "            target = target.to(current_device)\n",
    "            logits = model(inp)\n",
    "\n",
    "            loss = criterion(logits.view(-1, logits.size(-1)), target.view(-1))\n",
    "            valid_losses.append(loss.item())\n",
    "        avg_val_loss = sum(valid_losses) / len(valid_losses)\n",
    "        print('Validation loss after {} epoch = {:.{prec}f}'.format(epoch_number, avg_val_loss, prec=4))\n",
    "        \n",
    "    plot_cache.append((avg_loss, avg_val_loss))\n",
    "    \n",
    "    # defining early stopping point\n",
    "    if avg_val_loss < init_loss:\n",
    "        best_model = model\n",
    "        best_epoch = epoch_number\n",
    "        stop_epoch_cnt = 0\n",
    "    else:\n",
    "        stop_epoch_cnt += 1\n",
    "\n",
    "    init_loss = avg_val_loss\n",
    "\n",
    "    # when training meets early stop point, save best model and exit training loop \n",
    "    if stop_epoch_cnt >= max_patience:\n",
    "        print('Early stopped at epoch: ', best_epoch)\n",
    "        torch.save({\n",
    "            'options': options,\n",
    "            'loss_cache': plot_cache,\n",
    "            'model_dict': best_model.state_dict()\n",
    "        }, '/home/yp2201/wiki_lstm_lm.pt')\n",
    "        break\n",
    "\n",
    "    # if you was not able to save early-stopping point,\n",
    "    # then save the final epoch of the model \n",
    "    if epoch_number == (num_epochs -1):\n",
    "        print('Did not Early stopped. Saving the model at the last epoch ')\n",
    "        torch.save({\n",
    "            'options': options,\n",
    "            'loss_cache': plot_cache,\n",
    "            'model_dict': model.state_dict()\n",
    "        }, '/home/yp2201/wiki_lstm_lm.pt')"
   ]
  },
  {
   "cell_type": "code",
   "execution_count": 16,
   "metadata": {},
   "outputs": [],
   "source": [
    "# ## save point (This point was used before, but integrated)\n",
    "# torch.save({\n",
    "#     'options': options,\n",
    "#     'loss_cache': plot_cache,\n",
    "#     'model_dict': best_model.state_dict()\n",
    "# }, '/home/yp2201/wiki_lstm_lm.pt')"
   ]
  },
  {
   "cell_type": "markdown",
   "metadata": {
    "id": "39EioMvNoGej"
   },
   "source": [
    "#### Performance variation based on hyper-parameter values (5 pts)\n"
   ]
  },
  {
   "cell_type": "code",
   "execution_count": 17,
   "metadata": {},
   "outputs": [
    {
     "data": {
      "image/png": "[encoded data removed]",
      "text/plain": [
       "<Figure size 432x288 with 1 Axes>"
      ]
     },
     "metadata": {
      "needs_background": "light"
     },
     "output_type": "display_data"
    }
   ],
   "source": [
    "import numpy as np\n",
    "\n",
    "if load_pretrained:\n",
    "    plot_cache = model_dict['loss_cache']\n",
    "    \n",
    "epochs = np.array(list(range(len(plot_cache))))\n",
    "plt.plot(epochs, [i[0] for i in plot_cache], label='Train loss')\n",
    "plt.plot(epochs, [i[1] for i in plot_cache], label='Valid loss')\n",
    "\n",
    "plt.legend()\n",
    "plt.title('Loss curves')\n",
    "plt.show()    "
   ]
  },
  {
   "cell_type": "code",
   "execution_count": 18,
   "metadata": {},
   "outputs": [
    {
     "data": {
      "image/png": "[encoded data removed]",
      "text/plain": [
       "<Figure size 432x288 with 1 Axes>"
      ]
     },
     "metadata": {
      "needs_background": "light"
     },
     "output_type": "display_data"
    }
   ],
   "source": [
    "epochs = np.array(list(range(len(plot_cache))))\n",
    "plt.plot(epochs, [2**(i[0]/np.log(2)) for i in plot_cache], label='Train ppl')\n",
    "plt.plot(epochs, [2**(i[1]/np.log(2)) for i in plot_cache], label='Valid ppl')\n",
    "\n",
    "plt.legend()\n",
    "plt.title('PPL curves')\n",
    "plt.show()"
   ]
  },
  {
   "cell_type": "code",
   "execution_count": null,
   "metadata": {},
   "outputs": [],
   "source": []
  },
  {
   "cell_type": "markdown",
   "metadata": {
    "id": "aOWSz7GRoGel"
   },
   "source": [
    "---\n",
    "### 2 Learned embeddings (6 pts)\n",
    "Next you will analyze the word embeddings that the model learns.\n"
   ]
  },
  {
   "cell_type": "markdown",
   "metadata": {
    "id": "-lWn6wotoGem"
   },
   "source": [
    "#### Utilities\n",
    "\n",
    "Below is code to use [UMAP](https://umap-learn.readthedocs.io/en/latest/) to find a 2-dimensional representation of a weight matrix, and plot the resulting 2-dimensional points that correspond to certain words.\n",
    "\n",
    "Use `!pip install umap-learn` to install UMAP."
   ]
  },
  {
   "cell_type": "code",
   "execution_count": 19,
   "metadata": {},
   "outputs": [
    {
     "name": "stdout",
     "output_type": "stream",
     "text": [
      "Defaulting to user installation because normal site-packages is not writeable\n",
      "Requirement already satisfied: umap-learn in ./.local/lib/python3.8/site-packages (0.5.3)\n",
      "Requirement already satisfied: scikit-learn>=0.22 in ./.local/lib/python3.8/site-packages (from umap-learn) (1.1.3)\n",
      "Requirement already satisfied: pynndescent>=0.5 in ./.local/lib/python3.8/site-packages (from umap-learn) (0.5.7)\n",
      "Requirement already satisfied: numba>=0.49 in ./.local/lib/python3.8/site-packages (from umap-learn) (0.56.3)\n",
      "Requirement already satisfied: tqdm in ./.local/lib/python3.8/site-packages (from umap-learn) (4.64.1)\n",
      "Requirement already satisfied: numpy>=1.17 in /share/apps/python/3.8.6/intel/lib/python3.8/site-packages/numpy-1.19.2-py3.8-linux-x86_64.egg (from umap-learn) (1.19.2)\n",
      "Requirement already satisfied: scipy>=1.0 in /share/apps/python/3.8.6/intel/lib/python3.8/site-packages/scipy-1.5.2-py3.8-linux-x86_64.egg (from umap-learn) (1.5.2)\n",
      "Requirement already satisfied: threadpoolctl>=2.0.0 in ./.local/lib/python3.8/site-packages (from scikit-learn>=0.22->umap-learn) (3.1.0)\n",
      "Requirement already satisfied: joblib>=1.0.0 in ./.local/lib/python3.8/site-packages (from scikit-learn>=0.22->umap-learn) (1.2.0)\n",
      "Requirement already satisfied: llvmlite>=0.30 in ./.local/lib/python3.8/site-packages (from pynndescent>=0.5->umap-learn) (0.39.1)\n",
      "Requirement already satisfied: importlib-metadata; python_version < \"3.9\" in ./.local/lib/python3.8/site-packages (from numba>=0.49->umap-learn) (5.0.0)\n",
      "Requirement already satisfied: setuptools in /share/apps/python/3.8.6/intel/lib/python3.8/site-packages (from numba>=0.49->umap-learn) (49.2.1)\n",
      "Requirement already satisfied: zipp>=0.5 in ./.local/lib/python3.8/site-packages (from importlib-metadata; python_version < \"3.9\"->numba>=0.49->umap-learn) (3.10.0)\n",
      "\u001b[33mWARNING: You are using pip version 20.2.3; however, version 22.3 is available.\n",
      "You should consider upgrading via the '/share/apps/python/3.8.6/intel/bin/python -m pip install --upgrade pip' command.\u001b[0m\n"
     ]
    }
   ],
   "source": [
    "!pip install umap-learn"
   ]
  },
  {
   "cell_type": "code",
   "execution_count": 20,
   "metadata": {
    "id": "-jXDUrdMoGem",
    "outputId": "dff99e77-2e05-4b23-b29b-5eef20b91acb"
   },
   "outputs": [
    {
     "name": "stdout",
     "output_type": "stream",
     "text": [
      "Populating the interactive namespace from numpy and matplotlib\n"
     ]
    },
    {
     "name": "stderr",
     "output_type": "stream",
     "text": [
      "/share/apps/python/3.8.6/intel/lib/python3.8/site-packages/IPython/core/magics/pylab.py:159: UserWarning: pylab import has clobbered these variables: ['split']\n",
      "`%matplotlib` prevents importing * from pylab and numpy\n",
      "  warn(\"pylab import has clobbered these variables: %s\"  % clobbered +\n"
     ]
    }
   ],
   "source": [
    "%pylab inline \n",
    "import umap\n",
    "import matplotlib.pyplot as plt\n",
    "\n",
    "def umap_plot(weight_matrix, word_ids, words):\n",
    "    \"\"\"Run UMAP on the entire Vxd `weight_matrix` (e.g. model.lookup.weight or model.projection.weight),\n",
    "    And plot the points corresponding to the given `word_ids`. \"\"\"\n",
    "    reduced = umap.UMAP(min_dist=0.0001).fit_transform(weight_matrix.detach().cpu().numpy())\n",
    "    plt.figure(figsize=(10,10))\n",
    "\n",
    "    to_plot = reduced[word_ids, :]\n",
    "    plt.scatter(to_plot[:, 0], to_plot[:, 1])\n",
    "    for i, word_id in enumerate(word_ids):\n",
    "        current_point = to_plot[i]\n",
    "        plt.annotate(words[i], (current_point[0], current_point[1]))\n",
    "\n",
    "    plt.grid()\n",
    "    plt.show()"
   ]
  },
  {
   "cell_type": "code",
   "execution_count": 21,
   "metadata": {
    "id": "kPhcd4wKoGeo",
    "outputId": "ec68210e-b2d7-4fd5-bffe-bbd16576cd48"
   },
   "outputs": [
    {
     "data": {
      "image/png": "[encoded data removed]",
      "text/plain": [
       "<Figure size 720x720 with 1 Axes>"
      ]
     },
     "metadata": {
      "needs_background": "light"
     },
     "output_type": "display_data"
    }
   ],
   "source": [
    "Vsize = 100                                 # e.g. len(dictionary)\n",
    "d = 32                                      # e.g. model.lookup.weight.size(1) \n",
    "fake_weight_matrix = torch.randn(Vsize, d)  # e.g. model.lookup.weight\n",
    "\n",
    "words = ['the', 'dog', 'ran']\n",
    "word_ids = [4, 54, 20]                  # e.g. use dictionary.get_id on a list of words\n",
    "\n",
    "umap_plot(fake_weight_matrix, word_ids, words)"
   ]
  },
  {
   "cell_type": "markdown",
   "metadata": {
    "id": "v6s7wYxXoGeq"
   },
   "source": [
    "#### 2.1 Word similarity (3 pts)\n"
   ]
  },
  {
   "cell_type": "code",
   "execution_count": 22,
   "metadata": {},
   "outputs": [
    {
     "name": "stdout",
     "output_type": "stream",
     "text": [
      "=========RESULT=========\n",
      "run\n",
      "Close 10 top words:\n",
      "{'pass': 0.54682064, 'drive': 0.5098546, 'break': 0.4982172, 'finish': 0.4945756, 'take': 0.4924766, 'move': 0.4913017, 'campaign': 0.48996246, 'deal': 0.48601598, 'block': 0.47644833, 'drop': 0.47538382}\n",
      "\n",
      "Far 10 top words:\n",
      "{'bernissartensis': -0.36341915, 'fragilis': -0.34758317, 'anglicus': -0.32621548, 'muscaria': -0.32136977, 'hygrometricus': -0.31941143, 'Bracknell': -0.30317295, 'Copsey': -0.29897878, 'Pine': -0.29621506, 'banksia': -0.29536334, 'Ysland': -0.2950321}\n",
      "\n",
      "=========RESULT=========\n",
      "dog\n",
      "Close 10 top words:\n",
      "{'fox': 0.53049934, 'gang': 0.5244155, 'desire': 0.515364, 'wolf': 0.5141901, 'demon': 0.51332426, 'girl': 0.510985, 'boy': 0.49382287, 'killer': 0.4906981, 'goat': 0.48583588, 'nightingale': 0.48576754}\n",
      "\n",
      "Far 10 top words:\n",
      "{'dissipating': -0.41391802, 'Sweden': -0.40746716, 'peaking': -0.40080592, '1903': -0.3921504, 'Verde': -0.38838905, 'Abby': -0.38404632, 'Bermuda': -0.3834172, '1908': -0.38123018, 'Veracruz': -0.3807316, 'Greece': -0.3780643}\n",
      "\n",
      "=========RESULT=========\n",
      "where\n",
      "Close 10 top words:\n",
      "{'when': 0.6719557, 'which': 0.669404, 'but': 0.663984, 'who': 0.654761, 'before': 0.6389101, 'during': 0.6051672, 'after': 0.5936863, 'between': 0.5935586, 'against': 0.59002113, 'at': 0.5884437}\n",
      "\n",
      "Far 10 top words:\n",
      "{'jackrabbits': -0.30146483, 'jackrabbit': -0.2751865, 'disintegration': -0.26653007, 'Maian': -0.25702104, 'cookery': -0.25345945, 'Thoroughbred': -0.25235844, 'Makropoulos': -0.2519237, 'Ayyubid': -0.24826172, \"'Leary\": -0.2465073, 'Aegis': -0.24502957}\n",
      "\n",
      "=========RESULT=========\n",
      "quick\n",
      "Close 10 top words:\n",
      "{'weak': 0.49103117, 'solid': 0.4860212, 'deep': 0.48234376, 'depth': 0.47411495, 'steady': 0.4671468, 'rough': 0.46402797, 'normal': 0.46079388, 'narrow': 0.45067704, 'severe': 0.4417801, 'steep': 0.4415988}\n",
      "\n",
      "Far 10 top words:\n",
      "{'F.': -0.38103855, 'Affairs': -0.37336186, 'Riata': -0.37163267, 'Juarez': -0.36995426, 'Spielberg': -0.36492154, 'Chun': -0.36402807, 'Arnold': -0.356111, 'Veera': -0.35606977, 'Agnes': -0.3553529, 'Luther': -0.35471812}\n",
      "\n",
      "=========RESULT=========\n",
      "baby\n",
      "Close 10 top words:\n",
      "{'romantic': 0.57106346, 'girl': 0.5422121, 'voice': 0.52915454, 'boy': 0.52806836, 'child': 0.52222097, 'job': 0.51627964, 'memories': 0.51175064, 'feeling': 0.506588, 'personality': 0.4993935, 'couple': 0.49934644}\n",
      "\n",
      "Far 10 top words:\n",
      "{'Canyon': -0.41751593, 'Abby': -0.41669294, 'Avenue': -0.3921183, 'Sur': -0.38826862, 'Christi': -0.38689426, 'Airport': -0.3861346, '261': -0.38566175, 'Cove': -0.37950256, '448': -0.37890407, 'Farmington': -0.37656298}\n",
      "\n"
     ]
    }
   ],
   "source": [
    "'''\n",
    "Choose a set of 4 works, e.g., {run, dog, where, quick}. \n",
    "For each word, find the 10 closest words and 10 furthest words in the trained \n",
    "LSTM model’s final projection layer according to cosine similarity. \n",
    "You will need to implement your own cosine similarity function. (3 pts)\n",
    "'''\n",
    "\n",
    "# define Vsize, dimension, weight_matrix\n",
    "# weight_matrix contains embeddings for each word\n",
    "# this means that we can find the most similary embedding for each word\n",
    "Vsize = len(wiki_dict)\n",
    "\n",
    "d = model.projection.weight.size(1)\n",
    "weight_matrix = model.projection.weight\n",
    "\n",
    "# first, we want to know words - index that is defined in our wiki_dict\n",
    "# {'run': 3636, 'dog': 5388, 'where': 163, 'quick': 1690}\n",
    "words = ['run', 'dog', 'where', 'quick', 'baby']\n",
    "word_dict = {}\n",
    "for word in words: \n",
    "    word_dict[word] = wiki_dict.get_id(word)\n",
    "    \n",
    "# now given index embedding, define cos_sim function that returns similarity score \n",
    "def cos_sim(word_idx, ref_idx):\n",
    "    list_a = weight_matrix[word_idx].detach().cpu().numpy()\n",
    "    list_b = weight_matrix[ref_idx].detach().cpu().numpy()\n",
    "    \n",
    "    cos_sim_score = np.dot(list_a,list_b)/((norm(list_a)*norm(list_b)))\n",
    "    \n",
    "    return cos_sim_score\n",
    "\n",
    "\n",
    "# for each word, check sim_score for all words in wiki_dict\n",
    "# then print out top 10 close/far words given target word\n",
    "\n",
    "# this is needed in question 2\n",
    "related_word_list = []\n",
    "\n",
    "for word, word_idx in word_dict.items():\n",
    "    sim_score = {}\n",
    "    # this is to ignore <bos>, <eos>, <pad>, <unk>\n",
    "    for ref_idx in range(4, Vsize):\n",
    "        sim_score[wiki_dict.get_token(ref_idx)] = cos_sim(word_idx, ref_idx)\n",
    "        \n",
    "    close_words = dict(list(sorted(sim_score.items(), key=lambda item: item[1], reverse=True))[1:11])\n",
    "    further_words = dict(list(sorted(sim_score.items(), key=lambda item: item[1]))[:10])\n",
    "    \n",
    "    # use extend to make one list \n",
    "    related_word_list.extend(list(close_words.keys()))\n",
    "    \n",
    "    print('=========RESULT=========')\n",
    "    print(word)\n",
    "    print('Close 10 top words:')\n",
    "    print(close_words)\n",
    "    print()\n",
    "    print('Far 10 top words:')\n",
    "    print(further_words)\n",
    "    print()    "
   ]
  },
  {
   "cell_type": "markdown",
   "metadata": {
    "id": "KI1lsvVzoGes"
   },
   "source": [
    "#### 2.2 UMAP (3 pts)"
   ]
  },
  {
   "cell_type": "code",
   "execution_count": 23,
   "metadata": {
    "id": "QfDWQ0l7oGet"
   },
   "outputs": [
    {
     "data": {
      "image/png": "[encoded data removed]",
      "text/plain": [
       "<Figure size 720x720 with 1 Axes>"
      ]
     },
     "metadata": {
      "needs_background": "light"
     },
     "output_type": "display_data"
    }
   ],
   "source": [
    "# use umap function \n",
    "# words: 'ran', 'dog', 'where', 'quick', 'baby'\n",
    "related_word_ids = [wiki_dict.get_id(x) for x in related_word_list]\n",
    "\n",
    "umap_plot(weight_matrix, related_word_ids, related_word_list)"
   ]
  },
  {
   "cell_type": "markdown",
   "metadata": {
    "id": "-d1AKIXPoGe4"
   },
   "source": [
    "---\n",
    "### 3 Sampling (14 pts)\n"
   ]
  },
  {
   "cell_type": "markdown",
   "metadata": {
    "id": "bJFXKrYEHDne"
   },
   "source": [
    "#### 3.1 Sampling implementation (4 pts)"
   ]
  },
  {
   "cell_type": "code",
   "execution_count": 24,
   "metadata": {
    "scrolled": false
   },
   "outputs": [],
   "source": [
    "# prefix = '<bos>'\n",
    "def sampling_algo(prefix):\n",
    "    \n",
    "    # always starts from bos\n",
    "    sampled_sequence = ['<bos>']\n",
    "    \n",
    "    # initialization of hidden state and cell state \n",
    "    h_n = torch.tensor(np.zeros([3, 1, 512]), dtype=torch.float).to(current_device)\n",
    "    c_n = torch.tensor(np.zeros([3, 1, 512]), dtype=torch.float).to(current_device)\n",
    "    log_prob = 0\n",
    "    \n",
    "    with torch.no_grad():\n",
    "        model.eval()\n",
    "\n",
    "        # iterate until given length of sequence\n",
    "        while prefix != '<eos>':\n",
    "            \n",
    "            # convert prefix into inp (this creates a list of index in a character level)\n",
    "            inp = torch.tensor([wiki_dict.encode_token_seq(prefix)], dtype=torch.long).to(current_device)\n",
    "            \n",
    "            # run the model and get logits (projection(ht))\n",
    "            embeddings = model.lookup(inp)\n",
    "            \n",
    "            # we track hidden state here. so firstly use zeros as hidden state\n",
    "            # but updates its hidden state and uses for the next iteration \n",
    "            output, (h_n, c_n) = model.lstm(embeddings, (h_n, c_n))\n",
    "            \n",
    "            logits = model.projection(output) \n",
    "            \n",
    "            # get softmax distribution\n",
    "            prob_distr = torch.softmax(logits[0,-1], dim=-1)\n",
    "            \n",
    "            # get multinomial to get the index number\n",
    "            prob_multi = torch.multinomial(prob_distr, 1).item()\n",
    "            \n",
    "            # add log prob\n",
    "            log_prob += torch.log(prob_distr)[prob_multi].item()\n",
    "            \n",
    "            # we look at the index number from wiki_dict to assign a new prefix \n",
    "            prefix = wiki_dict.decode_idx_seq([prob_multi])[0]\n",
    "            \n",
    "            # append decoded prefix\n",
    "            sampled_sequence.append(prefix)\n",
    "    \n",
    "    # return sampled_seqeucne, and also log_probability \n",
    "    return sampled_sequence, log_prob          "
   ]
  },
  {
   "cell_type": "markdown",
   "metadata": {
    "id": "Hcf3aWxiHI2m"
   },
   "source": [
    "#### 3.2 1,000 samples and average log probability implementation (4 pts)"
   ]
  },
  {
   "cell_type": "code",
   "execution_count": 77,
   "metadata": {},
   "outputs": [
    {
     "data": {
      "application/vnd.jupyter.widget-view+json": {
       "model_id": "aa28bc85ae524163bed7bd06506e4eeb",
       "version_major": 2,
       "version_minor": 0
      },
      "text/plain": [
       "  0%|          | 0/1000 [00:00<?, ?it/s]"
      ]
     },
     "metadata": {},
     "output_type": "display_data"
    },
    {
     "name": "stdout",
     "output_type": "stream",
     "text": [
      "Average log probability:  -36.96698833117788\n",
      "\n",
      "Example of sample list:  ['<bos>', ',', 'a', 'console', 'rate', '(', '10', 'in', ')', '.', '<eos>']\n"
     ]
    }
   ],
   "source": [
    "# create 1000 samples by using function defined in 3.1\n",
    "# we have sample_list as 1000 sample sentences, \n",
    "# and avg_log_prob \n",
    "\n",
    "sample_list = []\n",
    "prefix = '<bos>'\n",
    "avg_log_prob = 0\n",
    "\n",
    "for i in tqdm(range(1000)):\n",
    "    sampled_sequence, log_prob = sampling_algo('<bos>')\n",
    "    sample_list.append(sampled_sequence)\n",
    "    avg_log_prob += log_prob\n",
    "    \n",
    "avg_log_prob = avg_log_prob / 1000\n",
    "print('Average log probability: ', avg_log_prob)    \n",
    "print()\n",
    "print('Example of sample list: ', sample_list[0])"
   ]
  },
  {
   "cell_type": "markdown",
   "metadata": {
    "id": "VUILpdtCoGe6"
   },
   "source": [
    "#### 3.3 Number of unique tokens and sequence length (3 pts)\n",
    "\n",
    "(1,000 samples vs. 1,000 randomly selected validation-set sequences)\n"
   ]
  },
  {
   "cell_type": "code",
   "execution_count": 87,
   "metadata": {},
   "outputs": [],
   "source": [
    "import random\n",
    "\n",
    "# randomly select 1000 sequences from validation set (without replacement)\n",
    "val_tokenized_samples = random.sample(wiki_tokenized_datasets['valid'], 1000)\n",
    "\n",
    "# then convert back to words \n",
    "val_sample_list = [wiki_dict.decode_idx_seq(sample) for sample in val_tokenized_samples]"
   ]
  },
  {
   "cell_type": "code",
   "execution_count": 88,
   "metadata": {},
   "outputs": [],
   "source": [
    "# create a function that returns average number of unique tokens and average sequence length,\n",
    "# given list of sample sequences\n",
    "def num_of_tokens_and_seq_length(sample_list):\n",
    "    num_uniq_tokens = []\n",
    "    seq_length = []\n",
    "    \n",
    "    for sample in sample_list:\n",
    "        num_uniq_tokens.append(len(set(sample)))\n",
    "        seq_length.append(len(sample))\n",
    "        \n",
    "    avg_num_uniq_tokens = sum(num_uniq_tokens) / len(sample_list)\n",
    "    avg_seq_length = sum(seq_length) / len(sample_list)\n",
    "    \n",
    "    return avg_num_uniq_tokens, avg_seq_length"
   ]
  },
  {
   "cell_type": "code",
   "execution_count": 89,
   "metadata": {},
   "outputs": [
    {
     "name": "stdout",
     "output_type": "stream",
     "text": [
      "Samples from the best model:\n",
      "Average unique tokens:  9.369\n",
      "Average sequence length:  10.833\n",
      "\n",
      "Samples from the validation set:\n",
      "Average unique tokens:  21.616\n",
      "Average sequence length:  24.521\n"
     ]
    }
   ],
   "source": [
    "# generate each average unique tokens and sequence length\n",
    "sample_avg_num_uniq_tokens, sample_avg_seq_length = num_of_tokens_and_seq_length(sample_list)\n",
    "val_avg_num_uniq_tokens, val_avg_seq_length = num_of_tokens_and_seq_length(val_sample_list)\n",
    "\n",
    "print('Samples from the best model:')\n",
    "print('Average unique tokens: ', sample_avg_num_uniq_tokens)\n",
    "print('Average sequence length: ', sample_avg_seq_length)\n",
    "print()\n",
    "\n",
    "print('Samples from the validation set:')\n",
    "print('Average unique tokens: ', val_avg_num_uniq_tokens)\n",
    "print('Average sequence length: ', val_avg_seq_length)"
   ]
  },
  {
   "cell_type": "code",
   "execution_count": null,
   "metadata": {},
   "outputs": [],
   "source": []
  },
  {
   "cell_type": "markdown",
   "metadata": {
    "id": "fR38_cdGoGfA"
   },
   "source": [
    "#### 3.4 Example samples (3 pts)"
   ]
  },
  {
   "cell_type": "code",
   "execution_count": 115,
   "metadata": {},
   "outputs": [
    {
     "name": "stdout",
     "output_type": "stream",
     "text": [
      "Sample 1:\n",
      ", which Pirates and and ; 23 / 4 @.@ <unk> beads , 3 , use , and long times , mass unique , 13 @.@ 24 per , a roughly topped , 57 @-@ , seven , two Patrol Shades .\n",
      "\n",
      "Sample 2:\n",
      "century , and for for , and , and student , the at which , the , 4 metres , and , and , 57 mi , 5 2 lb , Habroptila <unk> , 10 @.@ to @,@ outflow — coerced\n",
      "\n",
      "Sample 3:\n",
      ", a Swiss , also from stressed of with 7 @.@ , each from , 2 @.@ , 24 inches , 6 @,@ funnels , 3 @,@ , and , 2 @.@\n",
      "\n"
     ]
    }
   ],
   "source": [
    "for i, sample in enumerate(random.sample(sample_list, 3)):\n",
    "    print('Sample {}:'.format(i+1))\n",
    "    print(' '.join(sample[1:-1]))\n",
    "    print()"
   ]
  },
  {
   "cell_type": "code",
   "execution_count": null,
   "metadata": {},
   "outputs": [],
   "source": []
  }
 ],
 "metadata": {
  "accelerator": "GPU",
  "colab": {
   "collapsed_sections": [],
   "name": "hw2-part2-nlm.ipynb",
   "provenance": [],
   "toc_visible": true
  },
  "kernelspec": {
   "display_name": "Python 3 (ipykernel)",
   "language": "python",
   "name": "python3"
  },
  "language_info": {
   "codemirror_mode": {
    "name": "ipython",
    "version": 3
   },
   "file_extension": ".py",
   "mimetype": "text/x-python",
   "name": "python",
   "nbconvert_exporter": "python",
   "pygments_lexer": "ipython3",
   "version": "3.9.12"
  },
  "vscode": {
   "interpreter": {
    "hash": "31f2aee4e71d21fbe5cf8b01ff0e069b9275f58929596ceb00d14d90e3e16cd6"
   }
  }
 },
 "nbformat": 4,
 "nbformat_minor": 1
}
