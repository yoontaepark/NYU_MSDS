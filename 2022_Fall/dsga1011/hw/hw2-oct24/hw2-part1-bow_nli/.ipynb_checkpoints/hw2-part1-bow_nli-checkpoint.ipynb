{
 "cells": [
  {
   "cell_type": "markdown",
   "metadata": {
    "id": "ghp8QxzO0RdR"
   },
   "source": [
    "# Fall 2022: DS-GA 1011 NLP with Representation Learning\n",
    "## Homework 2\n",
    "## Part 1: Bag-of-Words based Natural Language Inference (30 pts)\n",
    "\n",
    "In this assignment, you will train a Bag-of-Words encoder to tackle the Stanford Natural Language Inference (SNLI) task.\n",
    "\n",
    "We have 5 coding questions and 3 written questions. Some coding functions are provided for your reference, but you are welcome to change and write your own functions. You should deliver your training and validation results in written questions."
   ]
  },
  {
   "cell_type": "code",
   "execution_count": null,
   "metadata": {
    "id": "i5aHuTNU0RdT"
   },
   "outputs": [],
   "source": [
    "# Import required packages\n",
    "import os \n",
    "import numpy as np\n",
    "import pickle as pkl\n",
    "from collections import Counter\n",
    "\n",
    "import torch\n",
    "import torch\n",
    "import torch.nn as nn\n",
    "import torch.nn.functional as F\n",
    "from torch.utils.data import Dataset"
   ]
  },
  {
   "cell_type": "code",
   "execution_count": null,
   "metadata": {
    "id": "iz4dPsuT0Rdb"
   },
   "outputs": [],
   "source": [
    "# save index 0 for unk and 1 for pad\n",
    "global PAD_IDX, UNK_IDX\n",
    "UNK_IDX = 0\n",
    "PAD_IDX = 1"
   ]
  },
  {
   "cell_type": "markdown",
   "metadata": {
    "id": "yvqyeTS80Rdh"
   },
   "source": [
    "---\n",
    "### 1 Dataset (6 pts)\n",
    "#### Data Processing"
   ]
  },
  {
   "cell_type": "code",
   "execution_count": null,
   "metadata": {
    "id": "qR5v5jXa0Rdi"
   },
   "outputs": [],
   "source": [
    "# Read data\n",
    "# tokenized data provided or you can tokenize data by your self\n",
    "folder = os.getcwd() + '/data_after_process/'\n",
    "\n",
    "hypo_data_tokens_train = pkl.load(open(folder+\"hypo_data_tokens_train.p\", \"rb\"))\n",
    "prem_data_tokens_train = pkl.load(open(folder+\"prem_data_tokens_train.p\", \"rb\"))\n",
    "\n",
    "hypo_data_tokens_val = pkl.load(open(folder+\"hypo_data_tokens_val.p\", \"rb\"))\n",
    "prem_data_tokens_val = pkl.load(open(folder+\"prem_data_tokens_val.p\", \"rb\"))\n",
    "\n",
    "label_index_train = pkl.load(open(folder+\"label_index_train.p\", \"rb\"))\n",
    "label_index_val = pkl.load(open(folder+\"label_index_val.p\", \"rb\"))"
   ]
  },
  {
   "cell_type": "markdown",
   "metadata": {
    "id": "8wTxlKpqYyiq"
   },
   "source": [
    "**Coding 1: finish `build_vocab` function** (2 pts)\n"
   ]
  },
  {
   "cell_type": "code",
   "execution_count": null,
   "metadata": {
    "id": "0R0nDtls0Rdq"
   },
   "outputs": [],
   "source": [
    "def build_vocab(hypo_tokens, prem_tokens, max_vocab_size=10000):\n",
    "    # TODO:\n",
    "    # build vocab\n",
    "    # returns: \n",
    "    # - id2token: list of tokens, where id2token[i] returns token that corresponds to token i\n",
    "    # - token2id: dictionary where keys represent tokens and corresponding values represent indices\n",
    "    \n",
    "    pass"
   ]
  },
  {
   "cell_type": "markdown",
   "metadata": {
    "id": "YThK-Xe0Y2TV"
   },
   "source": [
    "**Coding 2: finish `token2index` function** (2 pts)"
   ]
  },
  {
   "cell_type": "code",
   "execution_count": null,
   "metadata": {
    "id": "9VtPDPI-0Rdv"
   },
   "outputs": [],
   "source": [
    "def token2index(tokens_data):\n",
    "    # TODO:\n",
    "    # convert token to id in the dataset\n",
    "    # returns:\n",
    "    # - indices_data: return list of index_list (index list for each sentence)\n",
    "    \n",
    "    pass\n"
   ]
  },
  {
   "cell_type": "code",
   "execution_count": null,
   "metadata": {
    "id": "VjpmsGz30Rd4",
    "jupyter": {
     "outputs_hidden": true
    },
    "outputId": "67c1161e-e7fb-429b-fa0e-bc9005c16319"
   },
   "outputs": [],
   "source": [
    "token2id, id2token = build_vocab(hypo_data_tokens_train, prem_data_tokens_train, max_vocab_size=10000)\n",
    "hypo_data_indices_train = token2index(hypo_data_tokens_train)\n",
    "prem_data_indices_train = token2index(prem_data_tokens_train)\n",
    "hypo_data_indices_val = token2index(hypo_data_tokens_val)\n",
    "prem_data_indices_val= token2index(prem_data_tokens_val)  "
   ]
  },
  {
   "cell_type": "markdown",
   "metadata": {
    "id": "AGrcEtft0ReA"
   },
   "source": [
    "#### DataLoader\n",
    "\n",
    "**Coding 3: finish DataLoader** (2 pts)"
   ]
  },
  {
   "cell_type": "code",
   "execution_count": null,
   "metadata": {
    "id": "x5pOa2JK0ReB"
   },
   "outputs": [],
   "source": [
    "def newsgroup_collate_func(batch):\n",
    "    \"\"\"\n",
    "    Customized function for DataLoader that dynamically pads the batch so that all\n",
    "    data have the same length\n",
    "    \"\"\"\n",
    "    hypo_list = []\n",
    "    len_hypo_list = []\n",
    "    prem_list = []\n",
    "    len_prem_list = []\n",
    "    label_list = []\n",
    "\n",
    "    for datum in batch:\n",
    "        label_list.append(datum[4])\n",
    "        len_hypo_list.append(datum[1])\n",
    "        len_prem_list.append(datum[3])\n",
    "    # padding\n",
    "    for datum in batch:\n",
    "        # hypo\n",
    "        padded_vec = np.pad(np.array(datum[0]), pad_width=((0,max_sentence_length-datum[1])), mode=\"constant\", constant_values=0)\n",
    "        hypo_list.append(padded_vec)\n",
    "        # prem\n",
    "        padded_vec = np.pad(np.array(datum[2]), pad_width=((0,max_sentence_length-datum[3])), mode=\"constant\", constant_values=0)\n",
    "        prem_list.append(padded_vec)\n",
    "    return [torch.from_numpy(np.array(hypo_list)), torch.LongTensor(len_hypo_list), \n",
    "            torch.from_numpy(np.array(prem_list)), torch.LongTensor(len_prem_list), torch.LongTensor(label_list)]"
   ]
  },
  {
   "cell_type": "code",
   "execution_count": null,
   "metadata": {
    "id": "8A2axNV60ReI"
   },
   "outputs": [],
   "source": [
    "class NewsGroupDataset(Dataset):\n",
    "    \"\"\"\n",
    "    Class that represents a train/validation/test dataset that's readable for PyTorch\n",
    "    Note that this class inherits torch.utils.data.Dataset\n",
    "    \"\"\"\n",
    "\n",
    "    def __init__(self, hypo_list, prem_list, target_list, max_sentence_length):\n",
    "        \"\"\"\n",
    "        @param hypo_list: list of hypo tokens\n",
    "        @param prem_list: list of prem tokens\n",
    "        @param target_list: list of newsgroup targets\n",
    "        @param max_sentence_length: fixed length of all sentence\n",
    "        \"\"\"\n",
    "        self.hypo_list = hypo_list\n",
    "        self.prem_list = prem_list\n",
    "        self.target_list = target_list\n",
    "        self.max_sentence_length = max_sentence_length\n",
    "        assert (len(self.hypo_list) == len(self.target_list))\n",
    "        assert (len(self.prem_list) == len(self.target_list))\n",
    "        \n",
    "    def __len__(self):\n",
    "        return len(self.hypo_list)\n",
    "\n",
    "    def __getitem__(self, key):\n",
    "        \"\"\"\n",
    "        Triggered when you call dataset[i]\n",
    "        \"\"\"\n",
    "        token_hypo_idx = self.hypo_list[key][:self.max_sentence_length]\n",
    "        token_prem_idx = self.prem_list[key][:self.max_sentence_length]\n",
    "        label = self.target_list[key]\n",
    "        return [token_hypo_idx, len(token_hypo_idx), token_prem_idx, len(token_prem_idx), label]"
   ]
  },
  {
   "cell_type": "code",
   "execution_count": null,
   "metadata": {
    "id": "t8BsgmFy0ReM",
    "jupyter": {
     "outputs_hidden": true
    },
    "outputId": "9bbb51a7-05e2-49b4-e8f0-8f466e2a97fb"
   },
   "outputs": [],
   "source": [
    "max_sentence_length = 20\n",
    "\n",
    "train_dataset = NewsGroupDataset(hypo_data_indices_train, prem_data_indices_train, label_index_train, max_sentence_length)\n",
    "val_dataset = NewsGroupDataset(hypo_data_indices_val, prem_data_indices_val, label_index_val,max_sentence_length)"
   ]
  },
  {
   "cell_type": "code",
   "execution_count": null,
   "metadata": {
    "id": "iIbmV24nZA2I"
   },
   "outputs": [],
   "source": [
    "# TODO:\n",
    "# finish DataLoader"
   ]
  },
  {
   "cell_type": "markdown",
   "metadata": {
    "id": "a20X11dM0ReR"
   },
   "source": [
    "---\n",
    "### 2 Model (8 pts)"
   ]
  },
  {
   "cell_type": "markdown",
   "metadata": {
    "id": "L69K-oqg0ReS"
   },
   "source": [
    "We will use a BoW encoder to map each string of text (hypothesis and premise) to a fixed-dimension vector representation. At this point, we have one vector representation corresponding to hypothesis and one for premise. \n",
    "\n",
    "We will interact the two representations and perform classification on this. For combining the two vector representations, you should try at least methods: concatenate, sum, and element-wise product. \n",
    "\n",
    "Once we’ve the combined representation, we will to do a 3-class classification Logistic Model on this input vector. \n",
    "\n",
    "**Coding 4: finish `LogisticsModelPytorch` Class** (code from the labs may be helpful). (8 pts)"
   ]
  },
  {
   "cell_type": "code",
   "execution_count": null,
   "metadata": {
    "id": "-F34X0bY0ReT"
   },
   "outputs": [],
   "source": [
    "class LogisticsModelPytorch(nn.Module):\n",
    "\n",
    "    def __init__(self, vocab_size, emb_dim, n_out, reduce):\n",
    "        \"\"\"\n",
    "        @param vocab_size: size of the vocabulary.\n",
    "        @param emb_dim: size of the word embedding.\n",
    "        @param n_out: size of the class.\n",
    "        @param reduce: interaction type: [sum, concat, element-wise].\n",
    "        \"\"\"\n",
    "        \n",
    "        super(LogisticsModelPytorch, self).__init__()\n",
    "        \n",
    "        # TODO: \n",
    "        # 1. Embedding\n",
    "        # 2. Linear Layers\n",
    "        \n",
    "\n",
    "    def forward(self, data_hypo, length_hypo, data_prem, length_prem):\n",
    "        \"\"\"\n",
    "            @param data_hypo: matrix of size (batch_size, max_sentence_length). Each row in data represents a\n",
    "            review that is represented using n-gram index. Note that they are padded to have same length.\n",
    "            @param length_hypo: an int tensor of size (batch_size), which represents the non-trivial (excludes padding)\n",
    "            length of each sentences in data_hypo.\n",
    "            @param data_prem: matrix of size (batch_size, max_sentence_length).\n",
    "            @param length_hypo: an int tensor of size (batch_size), which represents the non-trivial (excludes padding)\n",
    "                length of each sentences in data_prem.\n",
    "            \"\"\"\n",
    "        \n",
    "        # TODO:\n",
    "        # word embedding\n",
    "        # combine to sentence\n",
    "    \n",
    "        # interaction\n",
    "        # 1. sum\n",
    "        # 2. Hadamard (element-wise) product\n",
    "        # 3. concat (This will change embedding dimension, 2 times as many as before)\n",
    "        if reduce == 'concat':\n",
    "            pass\n",
    "        if reduce == 'sum':\n",
    "            pass\n",
    "        if reduce == 'hadamard':\n",
    "            pass\n",
    "        \n",
    "        # hidden layers \n",
    "\n",
    "\n",
    "        return out"
   ]
  },
  {
   "cell_type": "markdown",
   "metadata": {
    "id": "RGT4mWHz0ReZ"
   },
   "source": [
    "---\n",
    "### 3 Training and Validation (16 pts)\n",
    "\n",
    "Train your model in different settings. \n",
    "\n",
    "Perform tuning over at least two of the following hyperparameters:\n",
    "1. vocab size in `build_vocab` function\n",
    "2. embedding size in `LogisticsModelPytorch` class\n",
    "3. SGD vs Adam\n",
    "4. learning rate in training\n",
    "\n",
    "**For interaction type `reduce`, you need to try at least two methods: sum, element-wise product, and concatenation.** \n"
   ]
  },
  {
   "cell_type": "code",
   "execution_count": null,
   "metadata": {
    "id": "xtcWlGFi0Rea"
   },
   "outputs": [],
   "source": [
    "# Hyper paramter example\n",
    "\n",
    "# 1. size of vocab \n",
    "max_vocab_size = 10000\n",
    "# 2. embedding dimension\n",
    "emb_dim = 50\n",
    "# 3. reduce : [\"sum\", \"hadamard\", \"concat\"]\n",
    "reduce= \"hadamard\"\n",
    "# 4. learning_rate\n",
    "learning_rate = 0.01\n",
    "\n",
    "# you can change other configuration, e.g. SGD vs Adam, weight decay, dropout\n",
    "\n",
    "# training parameters\n",
    "num_epochs = 10 \n",
    "BATCH_SIZE = 1024"
   ]
  },
  {
   "cell_type": "code",
   "execution_count": null,
   "metadata": {
    "id": "2yyAGtjB0Rec"
   },
   "outputs": [],
   "source": [
    "model = LogisticsModelPytorch(len(id2token), emb_dim, len(set(label_index_train)), interaction_type)\n",
    "# Criterion and Optimizer\n",
    "criterion = torch.nn.CrossEntropyLoss()\n",
    "optimizer = torch.optim.Adam(model.parameters(), lr=learning_rate)\n",
    "\n",
    "train_losses = [] # record training loss after every epoch\n",
    "val_losses = [] # record validation loss after every epoch\n",
    "train_accs = [] # record training accuracy after every epoch\n",
    "val_accs = [] # record validation accuracy after every epoch\n",
    "\n",
    "train_losses_batch = [] # record training loss after every batch\n",
    "val_losses_batch = [] # record validation loss after every batch\n",
    "train_accs_batch = [] # record training accuracy after every batch\n",
    "val_accs_batch = [] # record validation accuracy after every batch"
   ]
  },
  {
   "cell_type": "markdown",
   "metadata": {
    "id": "fZirVUvnZnuy"
   },
   "source": [
    "\n",
    "**Coding 5: finish training and validation** (4 pts)"
   ]
  },
  {
   "cell_type": "markdown",
   "metadata": {},
   "source": [
    "The following incomplete code can get you started on your train loop. Feel free to modify the function signature to pass any arguments needed for the training."
   ]
  },
  {
   "cell_type": "code",
   "execution_count": null,
   "metadata": {
    "id": "gsq4v4uN0Reg",
    "outputId": "cafff26c-ce25-4f7a-f6b1-e6676859bddb"
   },
   "outputs": [],
   "source": [
    "# training:\n",
    "def train(model):\n",
    "    for epoch in range(num_epochs):\n",
    "        print(epoch)"
   ]
  },
  {
   "cell_type": "code",
   "execution_count": null,
   "metadata": {},
   "outputs": [],
   "source": [
    "model = LogisticsModelPytorch(...)\n",
    "train(model)"
   ]
  },
  {
   "cell_type": "markdown",
   "metadata": {
    "id": "OKGQZc2K0Rej"
   },
   "source": [
    "#### Performance variation based on hyper-parameter values\n",
    "\n",
    "**Written 1:** (4 pts)\n",
    "- For each mode of hyperparameter tuning (vocab size, embedding size, learning rate, reduce), report the training and validation losses and accuracies (in plotted curves). \n",
    "- Discuss the implications of each hyperparameter tuned.\n",
    "\n",
    "Take the figure below as an example."
   ]
  },
  {
   "cell_type": "markdown",
   "metadata": {
    "id": "izwTMxk40Rek"
   },
   "source": [
    "<!-- <img src=\"example.png\" alt=\"drawing\" style=\"width:400px;\"/> -->\n",
    "![example.png](data:image/png;base64,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)"
   ]
  },
  {
   "cell_type": "markdown",
   "metadata": {},
   "source": [
    "The following function may be useful to you to accomplish this, but you are also welcome to modify it or write your own plotting code."
   ]
  },
  {
   "cell_type": "code",
   "execution_count": null,
   "metadata": {},
   "outputs": [],
   "source": [
    "def plot_over_training(per_epoch_metrics, title_name):\n",
    "  \"\"\"Utility function to plot train/val accuracies and losses.\n",
    "\n",
    "  @param per_epoch_metrics: a dictionary of lists, where each list represents a metric over the\n",
    "      course of training.\n",
    "  @param title_name: String to show on the plot title.\n",
    "  \"\"\"\n",
    "  t = np.arange(0, len(per_epoch_metrics['train_accs']))\n",
    "  train_acc = per_epoch_metrics['train_accs']\n",
    "  val_acc = per_epoch_metrics['val_accs']\n",
    "  train_loss = per_epoch_metrics['train_losses']\n",
    "  val_loss = per_epoch_metrics['val_losses']\n",
    "\n",
    "  fig, ax1 = plt.subplots()\n",
    "\n",
    "  color = 'tab:red'\n",
    "  ax1.set_xlabel('epochs')\n",
    "  ax1.set_ylabel('acc', color=color)\n",
    "  ax1.plot(t, train_acc, color=color, linewidth=1, label = 'train_acc')\n",
    "  ax1.plot(t, val_acc, color=color, linestyle='dashed', linewidth=1, label = 'val_acc')\n",
    "  ax1.tick_params(axis='y', labelcolor=color)\n",
    "  ax1.legend(loc='upper left')\n",
    "  ax2 = ax1.twinx() \n",
    "\n",
    "  color = 'tab:blue'\n",
    "  ax2.set_ylabel('loss', color=color)  # we already handled the x-label with ax1\n",
    "  ax2.plot(t, train_loss, color=color, linewidth=1, label = 'train_loss')\n",
    "  ax2.plot(t, val_loss, color=color, linestyle='dashed', linewidth=1, label = 'val_loss')\n",
    "  ax2.tick_params(axis='y', labelcolor=color)\n",
    "  ax2.legend(loc='lower right')\n",
    "  fig.tight_layout() \n",
    "  plt.title(title)\n",
    "  plt.show()"
   ]
  },
  {
   "cell_type": "markdown",
   "metadata": {
    "id": "ppLXVIGN0Rem"
   },
   "source": [
    "**Written 2:** (4 pts)   \n",
    "Take your best model based on validation performace and report its validation accuracy:"
   ]
  },
  {
   "cell_type": "code",
   "execution_count": null,
   "metadata": {
    "id": "NE_20b1a0Ren"
   },
   "outputs": [],
   "source": []
  },
  {
   "cell_type": "markdown",
   "metadata": {
    "id": "XPFC4Zy90Ret"
   },
   "source": [
    "**Written 3:** (4 pts)\n",
    "\n",
    "Highlight 3 correct and 3 incorrect predictions in this validation set. Describe why the model might have gotten the 3 incorrect predictions wrong."
   ]
  },
  {
   "cell_type": "code",
   "execution_count": null,
   "metadata": {
    "id": "TvjLhvaw0Rev"
   },
   "outputs": [],
   "source": []
  }
 ],
 "metadata": {
  "colab": {
   "collapsed_sections": [],
   "name": "hw2-part1-bow_nli.ipynb",
   "provenance": []
  },
  "kernelspec": {
   "display_name": "Python 3 (ipykernel)",
   "language": "python",
   "name": "python3"
  },
  "language_info": {
   "codemirror_mode": {
    "name": "ipython",
    "version": 3
   },
   "file_extension": ".py",
   "mimetype": "text/x-python",
   "name": "python",
   "nbconvert_exporter": "python",
   "pygments_lexer": "ipython3",
   "version": "3.10.6"
  },
  "vscode": {
   "interpreter": {
    "hash": "31f2aee4e71d21fbe5cf8b01ff0e069b9275f58929596ceb00d14d90e3e16cd6"
   }
  }
 },
 "nbformat": 4,
 "nbformat_minor": 1
}
