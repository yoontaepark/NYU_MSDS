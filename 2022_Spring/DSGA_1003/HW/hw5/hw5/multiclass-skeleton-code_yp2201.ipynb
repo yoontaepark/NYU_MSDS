{
 "cells": [
  {
   "cell_type": "code",
   "execution_count": 1,
   "metadata": {},
   "outputs": [],
   "source": [
    "import numpy as np\n",
    "import matplotlib.pyplot as plt\n",
    "try:\n",
    "    from sklearn.datasets.samples_generator import make_blobs\n",
    "except:\n",
    "    from sklearn.datasets import make_blobs\n",
    "\n",
    "%matplotlib inline"
   ]
  },
  {
   "cell_type": "code",
   "execution_count": 2,
   "metadata": {
    "scrolled": true
   },
   "outputs": [
    {
     "data": {
      "text/plain": [
       "<matplotlib.collections.PathCollection at 0x7fc389bdc160>"
      ]
     },
     "execution_count": 2,
     "metadata": {},
     "output_type": "execute_result"
    },
    {
     "data": {
      "image/png": "[encoded data removed]",
      "text/plain": [
       "<Figure size 432x288 with 1 Axes>"
      ]
     },
     "metadata": {
      "needs_background": "light"
     },
     "output_type": "display_data"
    }
   ],
   "source": [
    "# Create the  training data\n",
    "np.random.seed(2)\n",
    "X, y = make_blobs(n_samples=300,cluster_std=.25, centers=np.array([(-3,1),(0,2),(3,1)]))\n",
    "plt.scatter(X[:, 0], X[:, 1], c=y, s=50)"
   ]
  },
  {
   "cell_type": "markdown",
   "metadata": {},
   "source": [
    "# One VS All"
   ]
  },
  {
   "cell_type": "code",
   "execution_count": 3,
   "metadata": {},
   "outputs": [],
   "source": [
    "# Q11\n",
    "from sklearn.base import BaseEstimator, ClassifierMixin, clone\n",
    "\n",
    "class OneVsAllClassifier(BaseEstimator, ClassifierMixin):  \n",
    "    \"\"\"\n",
    "    One-vs-all classifier\n",
    "    We assume that the classes will be the integers 0,..,(n_classes-1).\n",
    "    We assume that the estimator provided to the class, after fitting, has a \"decision_function\" that \n",
    "    returns the score for the positive class.\n",
    "    \"\"\"\n",
    "    def __init__(self, estimator, n_classes):      \n",
    "        \"\"\"\n",
    "        Constructed with the number of classes and an estimator (e.g. an\n",
    "        SVM estimator from sklearn)\n",
    "        @param estimator : binary base classifier used\n",
    "        @param n_classes : number of classes\n",
    "        \"\"\"\n",
    "        self.n_classes = n_classes \n",
    "        self.estimators = [clone(estimator) for _ in range(n_classes)]\n",
    "        self.fitted = False\n",
    "\n",
    "    def fit(self, X, y=None):\n",
    "        \"\"\"\n",
    "        This should fit one classifier for each class.\n",
    "        self.estimators[i] should be fit on class i vs rest\n",
    "        @param X: array-like, shape = [n_samples,n_features], input data\n",
    "        @param y: array-like, shape = [n_samples,] class labels\n",
    "        @return returns self\n",
    "        \"\"\"\n",
    "        #Your code goes here\n",
    "        # for each selected class, convert selected y labels into 1 and -1 for others\n",
    "        # then, fit X with y_values\n",
    "        for i in range(self.n_classes):\n",
    "            y_converted = np.where(y==i,1,-1)\n",
    "            self.estimators[i].fit(X, y_converted)        \n",
    "              \n",
    "        self.fitted = True  \n",
    "        return self   \n",
    "\n",
    "    def decision_function(self, X):\n",
    "        \"\"\"\n",
    "        Returns the score of each input for each class. Assumes\n",
    "        that the given estimator also implements the decision_function method (which sklearn SVMs do), \n",
    "        and that fit has been called.\n",
    "        @param X : array-like, shape = [n_samples, n_features] input data\n",
    "        @return array-like, shape = [n_samples, n_classes]\n",
    "        \"\"\"\n",
    "        if not self.fitted:\n",
    "            raise RuntimeError(\"You must train classifer before predicting data.\")\n",
    "\n",
    "        if not hasattr(self.estimators[0], \"decision_function\"):\n",
    "            raise AttributeError(\n",
    "                \"Base estimator doesn't have a decision_function attribute.\")\n",
    "        \n",
    "        #Replace the following return statement with your code\n",
    "        \n",
    "        #initialize score as all zeros\n",
    "        score=np.zeros([self.n_classes,X.shape[0]])\n",
    "        \n",
    "        # for each rows, update score by using decision_function method\n",
    "        for i in range(self.n_classes):\n",
    "            score[i]=self.estimators[i].decision_function(X)\n",
    "        \n",
    "        # as we are returning shape = [n_samples, n_classes], retun transposed score\n",
    "        return score.T                \n",
    "    \n",
    "    \n",
    "    def predict(self, X):\n",
    "        \"\"\"\n",
    "        Predict the class with the highest score.\n",
    "        @param X: array-like, shape = [n_samples,n_features] input data\n",
    "        @returns array-like, shape = [n_samples,] the predicted classes for each input\n",
    "        \"\"\"\n",
    "        #Replace the following return statement with your code\n",
    "        \n",
    "        # calling score results\n",
    "        score = self.decision_function(X)\n",
    "        \n",
    "        # initialize y_pred as zeros\n",
    "        y_pred = np.zeros([score.shape[0]])\n",
    "        \n",
    "        # now iterate for each row and update class that has the max score\n",
    "        for i in range(len(y_pred)):\n",
    "            y_pred[i] = np.where(score[i] == max(score[i]))[0][0]\n",
    "        \n",
    "        return y_pred "
   ]
  },
  {
   "cell_type": "code",
   "execution_count": 18,
   "metadata": {
    "scrolled": false
   },
   "outputs": [
    {
     "name": "stderr",
     "output_type": "stream",
     "text": [
      "/Users/yoontaepark/opt/anaconda3/lib/python3.8/site-packages/sklearn/svm/_base.py:985: ConvergenceWarning: Liblinear failed to converge, increase the number of iterations.\n",
      "  warnings.warn(\"Liblinear failed to converge, increase \"\n"
     ]
    },
    {
     "name": "stdout",
     "output_type": "stream",
     "text": [
      "Coeffs 0\n",
      "[[-1.05853281 -0.90296639]]\n",
      "Coeffs 1\n",
      "[[ 0.2596985  -0.08742631]]\n",
      "Coeffs 2\n",
      "[[ 0.89161474 -0.82601573]]\n"
     ]
    },
    {
     "data": {
      "text/plain": [
       "array([[100,   0,   0],\n",
       "       [  0, 100,   0],\n",
       "       [  0,   0, 100]])"
      ]
     },
     "execution_count": 18,
     "metadata": {},
     "output_type": "execute_result"
    },
    {
     "data": {
      "image/png": "[encoded data removed]",
      "text/plain": [
       "<Figure size 432x288 with 1 Axes>"
      ]
     },
     "metadata": {
      "needs_background": "light"
     },
     "output_type": "display_data"
    }
   ],
   "source": [
    "#Q12 Here we test the OneVsAllClassifier\n",
    "from sklearn import svm\n",
    "svm_estimator = svm.LinearSVC(loss='hinge', fit_intercept=False, C=200)\n",
    "clf_onevsall = OneVsAllClassifier(svm_estimator, n_classes=3)\n",
    "clf_onevsall.fit(X,y)\n",
    "\n",
    "for i in range(3) :\n",
    "    print(\"Coeffs %d\"%i)\n",
    "    print(clf_onevsall.estimators[i].coef_) #Will fail if you haven't implemented fit yet\n",
    "\n",
    "# create a mesh to plot in\n",
    "h = .02  # step size in the mesh\n",
    "x_min, x_max = min(X[:,0])-3,max(X[:,0])+3\n",
    "y_min, y_max = min(X[:,1])-3,max(X[:,1])+3\n",
    "xx, yy = np.meshgrid(np.arange(x_min, x_max, h),\n",
    "                     np.arange(y_min, y_max, h))\n",
    "mesh_input = np.c_[xx.ravel(), yy.ravel()]\n",
    "\n",
    "Z = clf_onevsall.predict(mesh_input)\n",
    "Z = Z.reshape(xx.shape)\n",
    "plt.contourf(xx, yy, Z, cmap=plt.cm.coolwarm, alpha=0.8)\n",
    "# Plot also the training points\n",
    "plt.scatter(X[:, 0], X[:, 1], c=y, cmap=plt.cm.coolwarm)\n",
    "\n",
    "\n",
    "from sklearn import metrics\n",
    "metrics.confusion_matrix(y, clf_onevsall.predict(X))"
   ]
  },
  {
   "cell_type": "code",
   "execution_count": null,
   "metadata": {},
   "outputs": [],
   "source": []
  },
  {
   "cell_type": "markdown",
   "metadata": {},
   "source": [
    "# Multiclass SVM"
   ]
  },
  {
   "cell_type": "code",
   "execution_count": 5,
   "metadata": {},
   "outputs": [],
   "source": [
    "# Q13\n",
    "def zeroOne(y,a) :\n",
    "    '''\n",
    "    Computes the zero-one loss.\n",
    "    @param y: output class\n",
    "    @param a: predicted class\n",
    "    @return 1 if different, 0 if same\n",
    "    '''\n",
    "    return int(y != a)\n",
    "\n",
    "def featureMap(X,y,num_classes) :\n",
    "    '''\n",
    "    Computes the class-sensitive features.\n",
    "    @param X: array-like, shape = [n_samples,n_inFeatures] or [n_inFeatures,], input features for input data\n",
    "    @param y: a target class (in range 0,..,num_classes-1)\n",
    "    @return array-like, shape = [n_samples,n_outFeatures], the class sensitive features for class y\n",
    "    '''\n",
    "    #The following line handles X being a 1d-array or a 2d-array\n",
    "    num_samples, num_inFeatures = (1,X.shape[0]) if len(X.shape) == 1 else (X.shape[0],X.shape[1])\n",
    "    #your code goes here, and replaces following return\n",
    "    \n",
    "    # defining n_outFeatures as class * features, and initialize feature map\n",
    "    n_outFeatures = num_classes * num_inFeatures\n",
    "    feature_map = np.zeros([num_samples, n_outFeatures])\n",
    "    \n",
    "    # reshaping for 1d-array case\n",
    "    if num_samples == 1:\n",
    "        X = X.reshape((1,-1))\n",
    "        \n",
    "    # update feature map, so for selected target class columns, update x values\n",
    "    for i, X_i in enumerate(X):\n",
    "        feature_map[i, (y*num_inFeatures) : (y*num_inFeatures)+num_inFeatures] = X_i\n",
    "        \n",
    "    return feature_map\n",
    "\n",
    "# Q14\n",
    "def sgd(X, y, num_outFeatures, subgd, eta = 0.1, T = 10000):\n",
    "    '''\n",
    "    Runs subgradient descent, and outputs resulting parameter vector.\n",
    "    @param X: array-like, shape = [n_samples,n_features], input training data \n",
    "    @param y: array-like, shape = [n_samples,], class labels\n",
    "    @param num_outFeatures: number of class-sensitive features\n",
    "    @param subgd: function taking x,y,w and giving subgradient of objective\n",
    "    @param eta: learning rate for SGD\n",
    "    @param T: maximum number of iterations\n",
    "    @return: vector of weights\n",
    "    '''\n",
    "    num_samples = X.shape[0]\n",
    "    #your code goes here and replaces following return statement\n",
    "\n",
    "    # initialize w vector \n",
    "    w_vect = np.zeros(num_outFeatures)\n",
    "    \n",
    "    # iterate T times. For each iteration, shuffle index and update w_vect by using subgd param\n",
    "    for _ in range(T):\n",
    "        idx = np.random.randint(num_samples)\n",
    "        w_vect = w_vect - eta*subgd(X[idx],y[idx],w_vect)\n",
    "  \n",
    "    return w_vect    \n",
    "    \n",
    "\n",
    "# Q15    \n",
    "class MulticlassSVM(BaseEstimator, ClassifierMixin):\n",
    "    '''\n",
    "    Implements a Multiclass SVM estimator.\n",
    "    '''\n",
    "    def __init__(self, num_outFeatures, lam=1.0, num_classes=3, Delta=zeroOne, Psi=featureMap):       \n",
    "        '''\n",
    "        Creates a MulticlassSVM estimator.\n",
    "        @param num_outFeatures: number of class-sensitive features produced by Psi\n",
    "        @param lam: l2 regularization parameter\n",
    "        @param num_classes: number of classes (assumed numbered 0,..,num_classes-1)\n",
    "        @param Delta: class-sensitive loss function taking two arguments (i.e., target margin)\n",
    "        @param Psi: class-sensitive feature map taking two arguments\n",
    "        '''\n",
    "        self.num_outFeatures = num_outFeatures\n",
    "        self.lam = lam\n",
    "        self.num_classes = num_classes\n",
    "        self.Delta = Delta\n",
    "        self.Psi = lambda X,y : Psi(X,y,num_classes)\n",
    "        self.fitted = False\n",
    "    \n",
    "    def subgradient(self,x,y,w):\n",
    "        '''\n",
    "        Computes the subgradient at a given data point x,y\n",
    "        @param x: sample input\n",
    "        @param y: sample class\n",
    "        @param w: parameter vector\n",
    "        @return returns subgradient vector at given x,y,w\n",
    "        '''\n",
    "        #Your code goes here and replaces the following return statement\n",
    "\n",
    "        # initialze y_hat as 0, and get the result based on y_hat\n",
    "        y_hat = 0\n",
    "        res_tmp = self.Delta(y, y_hat) + np.dot(w, (self.Psi(x,y_hat)-self.Psi(x,y)).T)\n",
    "        \n",
    "        # iterate for given classes, and for each classes, get the result\n",
    "        # compare and update if result for given class is larger\n",
    "        for y_i in range(self.num_classes):\n",
    "            res_y_i = self.Delta(y, y_i) + np.dot(w, (self.Psi(x,y_i)-self.Psi(x,y)).T)\n",
    "            if res_tmp < res_y_i:\n",
    "                res_tmp = res_y_i\n",
    "                y_hat = y_i\n",
    "        \n",
    "        # retrun subgradient vector at given x,y,w\n",
    "        return (2*self.lam*w + self.Psi(x,y_hat) - self.Psi(x,y))\n",
    "\n",
    "        \n",
    "    def fit(self,X,y,eta=0.1,T=10000):\n",
    "        '''\n",
    "        Fits multiclass SVM\n",
    "        @param X: array-like, shape = [num_samples,num_inFeatures], input data\n",
    "        @param y: array-like, shape = [num_samples,], input classes\n",
    "        @param eta: learning rate for SGD\n",
    "        @param T: maximum number of iterations\n",
    "        @return returns self\n",
    "        '''\n",
    "        self.coef_ = sgd(X,y,self.num_outFeatures,self.subgradient,eta,T)\n",
    "        self.fitted = True\n",
    "        return self\n",
    "    \n",
    "    def decision_function(self, X):\n",
    "        '''\n",
    "        Returns the score on each input for each class. Assumes\n",
    "        that fit has been called.\n",
    "        @param X : array-like, shape = [n_samples, n_inFeatures]\n",
    "        @return array-like, shape = [n_samples, n_classes] giving scores for each sample,class pairing\n",
    "        '''\n",
    "        if not self.fitted:\n",
    "            raise RuntimeError(\"You must train classifer before predicting data.\")\n",
    "\n",
    "        #Your code goes here and replaces following return statement\n",
    "        # initialize score\n",
    "        score = np.zeros((X.shape[0], self.num_classes))\n",
    "        \n",
    "        # update score\n",
    "        for i in range(X.shape[0]):\n",
    "            for j in range(self.num_classes): # j values are y classes \n",
    "                score[i][j] = np.dot(self.coef_, self.Psi(X[i], j).T)        \n",
    "        \n",
    "        # return score\n",
    "        return score        \n",
    "            \n",
    "    def predict(self, X):\n",
    "        '''\n",
    "        Predict the class with the highest score.\n",
    "        @param X: array-like, shape = [n_samples, n_inFeatures], input data to predict\n",
    "        @return array-like, shape = [n_samples,], class labels predicted for each data point\n",
    "        '''\n",
    "\n",
    "        #Your code goes here and replaces following return statement\n",
    "        # recall score by using pre-defined decision function\n",
    "        score = self.decision_function(X)\n",
    "        \n",
    "        y_pred = np.zeros(X.shape[0])\n",
    "        \n",
    "        for i in range(X.shape[0]):\n",
    "            y_pred[i] = np.where(score[i] == max(score[i]))[0][0]\n",
    "        \n",
    "        return y_pred\n",
    "        "
   ]
  },
  {
   "cell_type": "code",
   "execution_count": 11,
   "metadata": {},
   "outputs": [
    {
     "name": "stdout",
     "output_type": "stream",
     "text": [
      "w:\n",
      "[[-0.32248241 -0.02890479 -0.00091071  0.1444795   0.32339312 -0.1155747 ]]\n"
     ]
    },
    {
     "data": {
      "text/plain": [
       "array([[100,   0,   0],\n",
       "       [  0, 100,   0],\n",
       "       [  0,   0, 100]])"
      ]
     },
     "execution_count": 11,
     "metadata": {},
     "output_type": "execute_result"
    },
    {
     "data": {
      "image/png": "[encoded data removed]",
      "text/plain": [
       "<Figure size 432x288 with 1 Axes>"
      ]
     },
     "metadata": {
      "needs_background": "light"
     },
     "output_type": "display_data"
    }
   ],
   "source": [
    "#Q16 the following code tests the MulticlassSVM and sgd\n",
    "#will fail if MulticlassSVM is not implemented yet\n",
    "est = MulticlassSVM(6,lam=1)\n",
    "est.fit(X,y,eta=0.1)\n",
    "print(\"w:\")\n",
    "print(est.coef_)\n",
    "Z = est.predict(mesh_input)\n",
    "Z = Z.reshape(xx.shape)\n",
    "plt.contourf(xx, yy, Z, cmap=plt.cm.coolwarm, alpha=0.8)\n",
    "# Plot also the training points\n",
    "plt.scatter(X[:, 0], X[:, 1], c=y, cmap=plt.cm.coolwarm)\n",
    "\n",
    "from sklearn import metrics\n",
    "metrics.confusion_matrix(y, est.predict(X))"
   ]
  },
  {
   "cell_type": "code",
   "execution_count": null,
   "metadata": {},
   "outputs": [],
   "source": []
  },
  {
   "cell_type": "code",
   "execution_count": null,
   "metadata": {},
   "outputs": [],
   "source": []
  }
 ],
 "metadata": {
  "kernelspec": {
   "display_name": "Python 3",
   "language": "python",
   "name": "python3"
  },
  "language_info": {
   "codemirror_mode": {
    "name": "ipython",
    "version": 3
   },
   "file_extension": ".py",
   "mimetype": "text/x-python",
   "name": "python",
   "nbconvert_exporter": "python",
   "pygments_lexer": "ipython3",
   "version": "3.8.8"
  }
 },
 "nbformat": 4,
 "nbformat_minor": 1
}
