{
 "cells": [
  {
   "cell_type": "markdown",
   "id": "f9242262",
   "metadata": {},
   "source": [
    "## Q5\n",
    "Complete the f objective function in the skeleton code, which computes the objective function for Jlogistic(w). (Hint: you may get numerical overflow when computing the exponential literally, e.g. try e1000 in Numpy. Make sure to read about the log-sum-exp trick and use the numpy function logaddexp to get accurate calculations and to prevent overflow."
   ]
  },
  {
   "cell_type": "code",
   "execution_count": 1,
   "id": "08920cc2",
   "metadata": {
    "scrolled": false
   },
   "outputs": [
    {
     "name": "stderr",
     "output_type": "stream",
     "text": [
      "<ipython-input-1-f582a92b4683>:6: RuntimeWarning: overflow encountered in exp\n",
      "  np.exp(1000)\n"
     ]
    },
    {
     "data": {
      "text/plain": [
       "inf"
      ]
     },
     "execution_count": 1,
     "metadata": {},
     "output_type": "execute_result"
    }
   ],
   "source": [
    "# numerical overflow check\n",
    "import numpy as np\n",
    "import pandas as pd\n",
    "import matplotlib.pyplot as plt\n",
    "\n",
    "np.exp(1000)"
   ]
  },
  {
   "cell_type": "code",
   "execution_count": 2,
   "id": "385c947c",
   "metadata": {},
   "outputs": [],
   "source": [
    "def f_objective(theta, X, y, l2_param=1):\n",
    "    '''\n",
    "    Args:\n",
    "        theta: 1D numpy array of size num_features\n",
    "        X: 2D numpy array of size (num_instances, num_features)\n",
    "        y: 1D numpy array of size num_instances\n",
    "        l2_param: regularization parameter\n",
    "\n",
    "    Returns:\n",
    "        objective: scalar value of objective function\n",
    "    '''\n",
    "    \n",
    "    # objective function = avg loss + reg term\n",
    "    # avg_loss\n",
    "    avg_loss = (1/X.shape[0]) * sum(np.logaddexp(0, -y*(X @ theta.T )))\n",
    "    \n",
    "    # reg term\n",
    "    l2_reg = l2_param * (theta @ theta.T)             \n",
    "    \n",
    "    # return scalar value of objective function\n",
    "    objective = avg_loss + l2_reg\n",
    "    \n",
    "    return objective"
   ]
  },
  {
   "cell_type": "markdown",
   "id": "2fb97946",
   "metadata": {},
   "source": [
    "## Q6\n",
    "Complete the fit logistic regression function in the skeleton code using the minimize function from scipy.optimize. Use this function to train a model on the provided data. Make sure to take the appropriate preprocessing steps, such as standardizing the data and adding a column for the bias term."
   ]
  },
  {
   "cell_type": "code",
   "execution_count": 3,
   "id": "1e17c71b",
   "metadata": {},
   "outputs": [],
   "source": [
    "from scipy.optimize import minimize\n",
    "\n",
    "def fit_logistic_reg(X, y, objective_function, l2_param=1):\n",
    "    '''\n",
    "    Args:\n",
    "        X: 2D numpy array of size (num_instances, num_features)\n",
    "        y: 1D numpy array of size num_instances\n",
    "        objective_function: function returning the value of the objective\n",
    "        l2_param: regularization parameter\n",
    "        \n",
    "    Returns:\n",
    "        optimal_theta: 1D numpy array of size num_features\n",
    "    '''\n",
    "    \n",
    "    # initialize optimal theta\n",
    "    optimal_theta = np.zeros(X.shape[1])\n",
    "    \n",
    "    # update optimal theta by using minimize function                          \n",
    "    optimal_theta = minimize(objective_function, optimal_theta, args = (X, y, l2_param)).x\n",
    "    \n",
    "    return optimal_theta"
   ]
  },
  {
   "cell_type": "code",
   "execution_count": 4,
   "id": "1b812c28",
   "metadata": {},
   "outputs": [],
   "source": [
    "# preprocessing steps: Source from HW2 code \n",
    "def feature_normalization(train, test):\n",
    "    \n",
    "    # discard features that are constant in the training set\n",
    "    remove = []\n",
    "    for i in range(train.shape[1]):\n",
    "        if len(set(train[:, i])) == 1:\n",
    "            remove.append(i)\n",
    "    for i in remove:\n",
    "        np.delete(train, i, axis=1)\n",
    "        np.delete(test, i, axis=1)\n",
    "    \n",
    "    # min-max scaling\n",
    "    train_normalized = np.array(train.shape)\n",
    "    test_normalized = np.array(test.shape)\n",
    "    train_max_vals = np.max(train, axis=0)\n",
    "    train_min_vals = np.min(train, axis=0)\n",
    "    \n",
    "    # use train min-max to transform both train/test dataset\n",
    "    train_normalized = (train - train_min_vals) / (train_max_vals - train_min_vals)\n",
    "    test_normalized = (test - train_min_vals) / (train_max_vals - train_min_vals)\n",
    "    \n",
    "    return train_normalized, test_normalized"
   ]
  },
  {
   "cell_type": "code",
   "execution_count": 5,
   "id": "f618e44a",
   "metadata": {},
   "outputs": [],
   "source": [
    "# import txt files\n",
    "X_train = np.loadtxt('./X_train.txt', delimiter = ',')\n",
    "y_train = np.loadtxt('./y_train.txt', delimiter = ',')\n",
    "X_val = np.loadtxt('./X_val.txt', delimiter = ',')\n",
    "y_val = np.loadtxt('./y_val.txt', delimiter = ',')"
   ]
  },
  {
   "cell_type": "code",
   "execution_count": 6,
   "id": "7d2f8760",
   "metadata": {},
   "outputs": [],
   "source": [
    "# standardizing the data \n",
    "X_train_normalized, X_val_normalized = feature_normalization(X_train, X_val)"
   ]
  },
  {
   "cell_type": "code",
   "execution_count": 7,
   "id": "87250903",
   "metadata": {},
   "outputs": [],
   "source": [
    "# adding a column for the bias term\n",
    "X_train_normalized = np.hstack((X_train_normalized, np.ones((X_train_normalized.shape[0], 1))))\n",
    "X_val_normalized = np.hstack((X_val_normalized, np.ones((X_val_normalized.shape[0], 1))))"
   ]
  },
  {
   "cell_type": "code",
   "execution_count": 8,
   "id": "32f912fe",
   "metadata": {},
   "outputs": [],
   "source": [
    "# as we assume outcome space Y± = {−1, 1}, convert y = 0 values into -1\n",
    "y_train[y_train == 0] = -1\n",
    "y_val[y_val == 0] = -1"
   ]
  },
  {
   "cell_type": "code",
   "execution_count": 9,
   "id": "d18df6ca",
   "metadata": {},
   "outputs": [
    {
     "data": {
      "text/plain": [
       "array([ 0.00098731,  0.00086963,  0.00030947,  0.02207394,  0.00024183,\n",
       "        0.00074032,  0.00011989,  0.00085942,  0.00090577, -0.01224866,\n",
       "        0.0019563 ,  0.000236  ,  0.00459849,  0.00012707,  0.00047895,\n",
       "        0.00117241,  0.00037255, -0.00044841, -0.00044868, -0.00069619,\n",
       "        0.00178106])"
      ]
     },
     "execution_count": 9,
     "metadata": {},
     "output_type": "execute_result"
    }
   ],
   "source": [
    "# Train model\n",
    "# we need to define f_objective \n",
    "optimal_theta = fit_logistic_reg(X_train_normalized, y_train, f_objective, l2_param=1)\n",
    "optimal_theta"
   ]
  },
  {
   "cell_type": "markdown",
   "id": "661506c2",
   "metadata": {},
   "source": [
    "## Q7\n",
    "Find the l2 regularization parameter that minimizes the log-likelihood on the validation set.  \n",
    "Plot the log-likelihood for different values of the regularization parameter."
   ]
  },
  {
   "cell_type": "code",
   "execution_count": 56,
   "id": "a02c5e7a",
   "metadata": {},
   "outputs": [
    {
     "name": "stdout",
     "output_type": "stream",
     "text": [
      "Best l2 param:0.001, NLL: -233.41486969339837\n"
     ]
    },
    {
     "data": {
      "image/png": "[encoded data removed]",
      "text/plain": [
       "<Figure size 432x288 with 1 Axes>"
      ]
     },
     "metadata": {
      "needs_background": "light"
     },
     "output_type": "display_data"
    }
   ],
   "source": [
    "import matplotlib.pyplot as plt\n",
    "\n",
    "def neg_log_likelihood(theta, X, y, l2_param):\n",
    "    \n",
    "    # From Q1, we know that n*Rn(w) = NLL(w), in terms of w \n",
    "    # avg_loss\n",
    "    avg_loss = (1/X.shape[0]) * sum(np.logaddexp(0, -y*(X @ theta.T )))       \n",
    "    \n",
    "    # return scalar value of objective function\n",
    "    objective = avg_loss\n",
    "    \n",
    "    # multiplying by n and return\n",
    "    return -1*X.shape[0] * objective\n",
    "\n",
    "# creating nll empty set, and l2 param range\n",
    "NLL_res = []\n",
    "l2_param_range = np.arange(0.000001, 0.3, 0.0001)\n",
    "# l2_param_range = [1e-05, 0.001, 0.01, 0.05, 0.1, 0.5, 1, 10, 100]\n",
    "\n",
    "# for given l2 param range, calculate theta\n",
    "for l2_param in l2_param_range:\n",
    "    optimal_theta = fit_logistic_reg(X_train_normalized, y_train, f_objective, l2_param)\n",
    "    NLL_res.append(neg_log_likelihood(optimal_theta, X_val_normalized, y_val, l2_param))\n",
    "\n",
    "# plotting the answers   \n",
    "# print(l2_param_range, NLL_res)\n",
    "print('Best l2 param:{}, NLL: {}'.format(l2_param_range[np.argmax(NLL_res)], np.max(NLL_res)))\n",
    "plt.plot(np.log10(l2_param_range), NLL_res)\n",
    "plt.plot(np.log10(l2_param_range), NLL_res, 'bx')\n",
    "plt.xlabel('l2_param')\n",
    "plt.ylabel('NLL')\n",
    "plt.show()"
   ]
  },
  {
   "cell_type": "markdown",
   "id": "df9cce24",
   "metadata": {},
   "source": [
    "## Q8\n",
    "[Optional]It seems reasonable to interpret the predictionf(x)=φ(wTx)=1/(1+e−wTx) as the probability that y = 1, for a randomly drawn pair (x, y). Since we only have a finite sample (and we are regularizing, which will bias things a bit) there is a question of how well “calibrated” our predicted probabilities are. Roughly speaking, we say f(x) is well calibrated if we look at all examples (x,y) for which f(x) ≈ 0.7 and we find that close to 70% of those examples have y = 1, as predicted... and then we repeat that for all predicted probabilities in (0, 1). To see how well-calibrated our predicted probabilities are, break the predictions on the validation set into groups based on the predicted probability (you can play with the size of the groups to get a result you think is informative). For each group, examine the percentage of positive labels. You can make a table or graph. Summarize the results. You may get some ideas and references from scikit-learn’s discussion."
   ]
  },
  {
   "cell_type": "markdown",
   "id": "7b755de9",
   "metadata": {},
   "source": [
    "### Ans) LogisticRegression returns well calibrated predictions by default as it directly optimizes Log loss"
   ]
  },
  {
   "cell_type": "code",
   "execution_count": 11,
   "id": "86bdb350",
   "metadata": {},
   "outputs": [],
   "source": [
    "# Best l2 param: 0.000501\n",
    "from sklearn.calibration import calibration_curve\n",
    "\n",
    "optimal_theta = fit_logistic_reg(X_train_normalized, y_train, f_objective, l2_param = 0.000501)\n",
    "y_pred = 1/(1+np.exp(-(X_val_normalized @ optimal_theta.T)))\n",
    "\n",
    "prob_true, prob_pred = calibration_curve(y_val, y_pred, normalize=False, n_bins=10)"
   ]
  },
  {
   "cell_type": "code",
   "execution_count": 12,
   "id": "d7c60d30",
   "metadata": {
    "scrolled": false
   },
   "outputs": [
    {
     "data": {
      "image/png": "[encoded data removed]",
      "text/plain": [
       "<Figure size 432x288 with 1 Axes>"
      ]
     },
     "metadata": {
      "needs_background": "light"
     },
     "output_type": "display_data"
    }
   ],
   "source": [
    "plt.plot(prob_pred, prob_true, marker = 's', label = 'Logistic')\n",
    "plt.plot([0, 1], [0, 1], label = 'Perfectly Calibrated')\n",
    "plt.xlabel('Mean predicted probability(prob_pred)')\n",
    "plt.ylabel('Fraction of positiveness(prob_true)')\n",
    "plt.legend()\n",
    "plt.show()"
   ]
  },
  {
   "cell_type": "markdown",
   "id": "7220764d",
   "metadata": {},
   "source": [
    "### The percentage of positive labels for each group"
   ]
  },
  {
   "cell_type": "code",
   "execution_count": 13,
   "id": "515eb9d7",
   "metadata": {},
   "outputs": [
    {
     "name": "stdout",
     "output_type": "stream",
     "text": [
      "Group 1) Percentage of positive labels: 0.25\n",
      "Group 2) Percentage of positive labels: 0.31\n",
      "Group 3) Percentage of positive labels: 0.23\n",
      "Group 4) Percentage of positive labels: 0.26\n",
      "Group 5) Percentage of positive labels: 0.36\n",
      "Group 6) Percentage of positive labels: 0.63\n",
      "Group 7) Percentage of positive labels: 0.82\n",
      "Group 8) Percentage of positive labels: 0.87\n",
      "Group 9) Percentage of positive labels: 0.76\n",
      "Group 10) Percentage of positive labels: 0.87\n"
     ]
    }
   ],
   "source": [
    "# The percentage of positive labels for each group\n",
    "for idx, value in enumerate(prob_true):\n",
    "    print('Group {}) Percentage of positive labels: {:.2f}'.format(idx+1, value))"
   ]
  },
  {
   "cell_type": "code",
   "execution_count": null,
   "id": "43418973",
   "metadata": {},
   "outputs": [],
   "source": []
  }
 ],
 "metadata": {
  "kernelspec": {
   "display_name": "Python 3",
   "language": "python",
   "name": "python3"
  },
  "language_info": {
   "codemirror_mode": {
    "name": "ipython",
    "version": 3
   },
   "file_extension": ".py",
   "mimetype": "text/x-python",
   "name": "python",
   "nbconvert_exporter": "python",
   "pygments_lexer": "ipython3",
   "version": "3.8.8"
  }
 },
 "nbformat": 4,
 "nbformat_minor": 5
}
