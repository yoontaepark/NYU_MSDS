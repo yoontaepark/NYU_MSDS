{
 "cells": [
  {
   "cell_type": "markdown",
   "id": "1817c69c",
   "metadata": {},
   "source": [
    "### Import dataset "
   ]
  },
  {
   "cell_type": "code",
   "execution_count": 1,
   "id": "c432840d",
   "metadata": {},
   "outputs": [],
   "source": [
    "import pandas as pd\n",
    "import numpy as np\n",
    "import time\n",
    "\n",
    "train_df_small = pd.read_csv('./final_project_movielens/train_df_small.csv')\n",
    "val_df_small = pd.read_csv('./final_project_movielens/val_df_small.csv')\n",
    "test_df_small = pd.read_csv('./final_project_movielens/test_df_small.csv')"
   ]
  },
  {
   "cell_type": "code",
   "execution_count": 2,
   "id": "ee94a2d7",
   "metadata": {},
   "outputs": [],
   "source": [
    "train_df_large = pd.read_csv('./final_project_movielens/train_df_large.csv')\n",
    "val_df_large = pd.read_csv('./final_project_movielens/val_df_large.csv')\n",
    "test_df_large = pd.read_csv('./final_project_movielens/test_df_large.csv')"
   ]
  },
  {
   "cell_type": "markdown",
   "id": "c202ddfd",
   "metadata": {},
   "source": [
    "### Load lenskit"
   ]
  },
  {
   "cell_type": "code",
   "execution_count": 3,
   "id": "5ce22deb",
   "metadata": {},
   "outputs": [],
   "source": [
    "# pip install lenskit"
   ]
  },
  {
   "cell_type": "code",
   "execution_count": 38,
   "id": "1f5c4de4",
   "metadata": {},
   "outputs": [],
   "source": [
    "# from lenskit.datasets import ML100K\n",
    "from lenskit import batch, topn, util\n",
    "from lenskit import crossfold as xf\n",
    "from lenskit.algorithms import Recommender, als, item_knn as knn\n",
    "from lenskit import topn"
   ]
  },
  {
   "cell_type": "markdown",
   "id": "78699f19",
   "metadata": {},
   "source": [
    "### Small dataset"
   ]
  },
  {
   "cell_type": "code",
   "execution_count": 39,
   "id": "107e2758",
   "metadata": {},
   "outputs": [],
   "source": [
    "train_df_small.columns = ['user', 'item', 'rating', 'timestamp']\n",
    "val_df_small.columns = ['user', 'item', 'rating', 'timestamp']\n",
    "test_df_small.columns = ['user', 'item', 'rating', 'timestamp']"
   ]
  },
  {
   "cell_type": "markdown",
   "id": "cfbecca5",
   "metadata": {},
   "source": [
    "### -train function with hyper parameter tuning"
   ]
  },
  {
   "cell_type": "code",
   "execution_count": 40,
   "id": "ae1cd7f7",
   "metadata": {},
   "outputs": [],
   "source": [
    "# training function \n",
    "def eval(aname, algo, train, test):\n",
    "    fittable = util.clone(algo)\n",
    "    fittable = Recommender.adapt(fittable)\n",
    "    \n",
    "    # measure training time (fit)\n",
    "    start_time = time.time()\n",
    "    fittable.fit(train)\n",
    "    end_time = time.time()\n",
    "    print(\"Total execution time: {} seconds\".format(end_time - start_time))\n",
    "    \n",
    "    users = test.user.unique()\n",
    "    # now we run the recommender\n",
    "    recs = batch.recommend(fittable, users, 100)\n",
    "    # add the algorithm name for analyzability\n",
    "    recs['Algorithm'] = aname\n",
    "    return recs"
   ]
  },
  {
   "cell_type": "code",
   "execution_count": 61,
   "id": "eb7d8235",
   "metadata": {},
   "outputs": [
    {
     "name": "stdout",
     "output_type": "stream",
     "text": [
      "test_size:  8553\n",
      "Total execution time: 0.19531989097595215 seconds\n",
      "test_size:  17106\n",
      "Total execution time: 0.241441011428833 seconds\n",
      "test_size:  25659\n",
      "Total execution time: 0.29753899574279785 seconds\n",
      "test_size:  34212\n",
      "Total execution time: 0.3342018127441406 seconds\n",
      "test_size:  42765\n",
      "Total execution time: 0.425494909286499 seconds\n",
      "test_size:  51318\n",
      "Total execution time: 0.49080991744995117 seconds\n",
      "test_size:  59870\n",
      "Total execution time: 0.6120648384094238 seconds\n",
      "test_size:  68424\n",
      "Total execution time: 0.6114380359649658 seconds\n",
      "test_size:  76977\n",
      "Total execution time: 0.6592328548431396 seconds\n",
      "test_size:  85530\n",
      "Total execution time: 0.7269601821899414 seconds\n"
     ]
    }
   ],
   "source": [
    "test_size = [0.1, 0.2, 0.3 ,0.4, 0.5, 0.6, 0.7, 0.8, 0.9, 1]\n",
    "\n",
    "for i in test_size:\n",
    "    algo_als = als.BiasedMF(features=100, reg=0.0001, iterations=15)\n",
    "    print('test_size: ', int(len(train_df_small) * i))\n",
    "    all_recs = eval('ALS', algo_als, train_df_small[:int(len(train_df_small)*i)], val_df_small)"
   ]
  },
  {
   "cell_type": "code",
   "execution_count": 54,
   "id": "0fb8e21d",
   "metadata": {
    "scrolled": true
   },
   "outputs": [
    {
     "name": "stdout",
     "output_type": "stream",
     "text": [
      "Hyperparameters) rank:  50 regParam:  1e-05 maxIter:  5\n",
      "Total execution time: 0.19615983963012695 seconds\n",
      "val_score:  0.05726957549863248\n",
      "\n",
      "Hyperparameters) rank:  50 regParam:  1e-05 maxIter:  10\n",
      "Total execution time: 0.26905107498168945 seconds\n",
      "val_score:  0.05175166653057153\n",
      "\n",
      "Hyperparameters) rank:  50 regParam:  1e-05 maxIter:  15\n",
      "Total execution time: 0.3735520839691162 seconds\n",
      "val_score:  0.05386986055024137\n",
      "\n",
      "Hyperparameters) rank:  50 regParam:  5e-05 maxIter:  5\n",
      "Total execution time: 0.15253591537475586 seconds\n",
      "val_score:  0.05665616716793309\n",
      "\n",
      "Hyperparameters) rank:  50 regParam:  5e-05 maxIter:  10\n",
      "Total execution time: 0.2769949436187744 seconds\n",
      "val_score:  0.05371244997257696\n",
      "\n",
      "Hyperparameters) rank:  50 regParam:  5e-05 maxIter:  15\n",
      "Total execution time: 0.37346887588500977 seconds\n",
      "val_score:  0.05363593369018333\n",
      "\n",
      "Hyperparameters) rank:  50 regParam:  0.0001 maxIter:  5\n",
      "Total execution time: 0.15373015403747559 seconds\n",
      "val_score:  0.05166733517459215\n",
      "\n",
      "Hyperparameters) rank:  50 regParam:  0.0001 maxIter:  10\n",
      "Total execution time: 0.26578712463378906 seconds\n",
      "val_score:  0.05433043580586256\n",
      "\n",
      "Hyperparameters) rank:  50 regParam:  0.0001 maxIter:  15\n",
      "Total execution time: 0.37178611755371094 seconds\n",
      "val_score:  0.05106053457285962\n",
      "\n",
      "Hyperparameters) rank:  50 regParam:  0.0005 maxIter:  5\n",
      "Total execution time: 0.15076994895935059 seconds\n",
      "val_score:  0.05381429851753823\n",
      "\n",
      "Hyperparameters) rank:  50 regParam:  0.0005 maxIter:  10\n",
      "Total execution time: 0.28752994537353516 seconds\n",
      "val_score:  0.055893149433376484\n",
      "\n",
      "Hyperparameters) rank:  50 regParam:  0.0005 maxIter:  15\n",
      "Total execution time: 0.3702518939971924 seconds\n",
      "val_score:  0.05252743400415822\n",
      "\n",
      "Hyperparameters) rank:  100 regParam:  1e-05 maxIter:  5\n",
      "Total execution time: 0.2815873622894287 seconds\n",
      "val_score:  0.06280380310759981\n",
      "\n",
      "Hyperparameters) rank:  100 regParam:  1e-05 maxIter:  10\n",
      "Total execution time: 0.4995288848876953 seconds\n",
      "val_score:  0.05785971460239942\n",
      "\n",
      "Hyperparameters) rank:  100 regParam:  1e-05 maxIter:  15\n",
      "Total execution time: 0.6987612247467041 seconds\n",
      "val_score:  0.05648308629182767\n",
      "\n",
      "Hyperparameters) rank:  100 regParam:  5e-05 maxIter:  5\n",
      "Total execution time: 0.2842223644256592 seconds\n",
      "val_score:  0.05758966747819459\n",
      "\n",
      "Hyperparameters) rank:  100 regParam:  5e-05 maxIter:  10\n",
      "Total execution time: 0.49260425567626953 seconds\n",
      "val_score:  0.05813137111634818\n",
      "\n",
      "Hyperparameters) rank:  100 regParam:  5e-05 maxIter:  15\n",
      "Total execution time: 0.7060909271240234 seconds\n",
      "val_score:  0.05647366222469566\n",
      "\n",
      "Hyperparameters) rank:  100 regParam:  0.0001 maxIter:  5\n",
      "Total execution time: 0.27743101119995117 seconds\n",
      "val_score:  0.05862188042948657\n",
      "\n",
      "Hyperparameters) rank:  100 regParam:  0.0001 maxIter:  10\n",
      "Total execution time: 0.48465585708618164 seconds\n",
      "val_score:  0.05439554702159794\n",
      "\n",
      "Hyperparameters) rank:  100 regParam:  0.0001 maxIter:  15\n",
      "Total execution time: 0.6882679462432861 seconds\n",
      "val_score:  0.056966383586658634\n",
      "\n",
      "Hyperparameters) rank:  100 regParam:  0.0005 maxIter:  5\n",
      "Total execution time: 0.28279805183410645 seconds\n",
      "val_score:  0.05792531170304299\n",
      "\n",
      "Hyperparameters) rank:  100 regParam:  0.0005 maxIter:  10\n",
      "Total execution time: 0.4945368766784668 seconds\n",
      "val_score:  0.05720492856678029\n",
      "\n",
      "Hyperparameters) rank:  100 regParam:  0.0005 maxIter:  15\n",
      "Total execution time: 0.7091038227081299 seconds\n",
      "val_score:  0.05628999298240943\n",
      "\n",
      "Hyperparameters) rank:  200 regParam:  1e-05 maxIter:  5\n",
      "Total execution time: 0.5281732082366943 seconds\n",
      "val_score:  0.06264393843361639\n",
      "\n",
      "Hyperparameters) rank:  200 regParam:  1e-05 maxIter:  10\n",
      "Total execution time: 0.9221770763397217 seconds\n",
      "val_score:  0.05694421361207112\n",
      "\n",
      "Hyperparameters) rank:  200 regParam:  1e-05 maxIter:  15\n",
      "Total execution time: 1.3380098342895508 seconds\n",
      "val_score:  0.057685640225396434\n",
      "\n",
      "Hyperparameters) rank:  200 regParam:  5e-05 maxIter:  5\n",
      "Total execution time: 0.5134677886962891 seconds\n",
      "val_score:  0.05904091029904156\n",
      "\n",
      "Hyperparameters) rank:  200 regParam:  5e-05 maxIter:  10\n",
      "Total execution time: 1.0030279159545898 seconds\n",
      "val_score:  0.05735723272731903\n",
      "\n",
      "Hyperparameters) rank:  200 regParam:  5e-05 maxIter:  15\n",
      "Total execution time: 1.3502728939056396 seconds\n",
      "val_score:  0.058260837232936846\n",
      "\n",
      "Hyperparameters) rank:  200 regParam:  0.0001 maxIter:  5\n",
      "Total execution time: 0.5119340419769287 seconds\n",
      "val_score:  0.06036597104695411\n",
      "\n",
      "Hyperparameters) rank:  200 regParam:  0.0001 maxIter:  10\n",
      "Total execution time: 0.9250922203063965 seconds\n",
      "val_score:  0.05681792910760119\n",
      "\n",
      "Hyperparameters) rank:  200 regParam:  0.0001 maxIter:  15\n",
      "Total execution time: 1.404425859451294 seconds\n",
      "val_score:  0.05790152303595424\n",
      "\n",
      "Hyperparameters) rank:  200 regParam:  0.0005 maxIter:  5\n",
      "Total execution time: 0.5238058567047119 seconds\n",
      "val_score:  0.061486011947935654\n",
      "\n",
      "Hyperparameters) rank:  200 regParam:  0.0005 maxIter:  10\n",
      "Total execution time: 0.918942928314209 seconds\n",
      "val_score:  0.057093831259739346\n",
      "\n",
      "Hyperparameters) rank:  200 regParam:  0.0005 maxIter:  15\n",
      "Total execution time: 1.3580570220947266 seconds\n",
      "val_score:  0.05727516274824684\n",
      "\n"
     ]
    }
   ],
   "source": [
    "import itertools as it\n",
    "\n",
    "rank = [50, 100, 200]\n",
    "regParam = [0.00001, 0.00005, 0.0001, 0.0005]\n",
    "maxIter = [5, 10, 15]\n",
    "params = it.product(rank, regParam, maxIter)\n",
    "\n",
    "for rank, regParam, maxIter in params:\n",
    "    algo_als = als.BiasedMF(features=rank, reg=regParam, iterations=maxIter)\n",
    "    print('Hyperparameters) rank: ', rank, 'regParam: ', regParam, 'maxIter: ', maxIter)\n",
    "    \n",
    "    all_recs = eval('ALS', algo_als, train_df_small, val_df_small)\n",
    "    rla = topn.RecListAnalysis()\n",
    "    rla.add_metric(topn.ndcg)\n",
    "    results = rla.compute(all_recs, val_df_small)\n",
    "    als_result = results.groupby('Algorithm').ndcg.mean()\n",
    "    print('val_score: ', als_result[0])\n",
    "    print()"
   ]
  },
  {
   "cell_type": "code",
   "execution_count": null,
   "id": "2e39163b",
   "metadata": {},
   "outputs": [],
   "source": []
  },
  {
   "cell_type": "code",
   "execution_count": null,
   "id": "3368015b",
   "metadata": {},
   "outputs": [],
   "source": []
  },
  {
   "cell_type": "markdown",
   "id": "2fcc194a",
   "metadata": {},
   "source": [
    "### -validation dataset"
   ]
  },
  {
   "cell_type": "code",
   "execution_count": 32,
   "id": "dacf569d",
   "metadata": {},
   "outputs": [
    {
     "name": "stdout",
     "output_type": "stream",
     "text": [
      "Total execution time: 0.1879270076751709 seconds\n"
     ]
    }
   ],
   "source": [
    "all_recs = eval('ALS', algo_als, train_df_small, val_df_small)"
   ]
  },
  {
   "cell_type": "code",
   "execution_count": 30,
   "id": "72bfba72",
   "metadata": {},
   "outputs": [
    {
     "data": {
      "text/html": [
       "<div>\n",
       "<style scoped>\n",
       "    .dataframe tbody tr th:only-of-type {\n",
       "        vertical-align: middle;\n",
       "    }\n",
       "\n",
       "    .dataframe tbody tr th {\n",
       "        vertical-align: top;\n",
       "    }\n",
       "\n",
       "    .dataframe thead th {\n",
       "        text-align: right;\n",
       "    }\n",
       "</style>\n",
       "<table border=\"1\" class=\"dataframe\">\n",
       "  <thead>\n",
       "    <tr style=\"text-align: right;\">\n",
       "      <th></th>\n",
       "      <th></th>\n",
       "      <th>nrecs</th>\n",
       "      <th>ndcg</th>\n",
       "    </tr>\n",
       "    <tr>\n",
       "      <th>Algorithm</th>\n",
       "      <th>user</th>\n",
       "      <th></th>\n",
       "      <th></th>\n",
       "    </tr>\n",
       "  </thead>\n",
       "  <tbody>\n",
       "    <tr>\n",
       "      <th rowspan=\"3\" valign=\"top\">ALS</th>\n",
       "      <th>580</th>\n",
       "      <td>100</td>\n",
       "      <td>0.047678</td>\n",
       "    </tr>\n",
       "    <tr>\n",
       "      <th>53</th>\n",
       "      <td>100</td>\n",
       "      <td>0.000000</td>\n",
       "    </tr>\n",
       "    <tr>\n",
       "      <th>322</th>\n",
       "      <td>100</td>\n",
       "      <td>0.207109</td>\n",
       "    </tr>\n",
       "  </tbody>\n",
       "</table>\n",
       "</div>"
      ],
      "text/plain": [
       "                nrecs      ndcg\n",
       "Algorithm user                 \n",
       "ALS       580     100  0.047678\n",
       "          53      100  0.000000\n",
       "          322     100  0.207109"
      ]
     },
     "execution_count": 30,
     "metadata": {},
     "output_type": "execute_result"
    }
   ],
   "source": [
    "rla = topn.RecListAnalysis()\n",
    "rla.add_metric(topn.ndcg)\n",
    "results = rla.compute(all_recs, val_df_small)\n",
    "results.head(3)"
   ]
  },
  {
   "cell_type": "code",
   "execution_count": 50,
   "id": "78dcecbd",
   "metadata": {},
   "outputs": [
    {
     "data": {
      "text/plain": [
       "0.0766641368587348"
      ]
     },
     "execution_count": 50,
     "metadata": {},
     "output_type": "execute_result"
    }
   ],
   "source": [
    "a = results.groupby('Algorithm').ndcg.mean()\n",
    "a[0]"
   ]
  },
  {
   "cell_type": "markdown",
   "id": "848d837d",
   "metadata": {},
   "source": [
    "### -test dataset"
   ]
  },
  {
   "cell_type": "code",
   "execution_count": 35,
   "id": "686dde4c",
   "metadata": {},
   "outputs": [
    {
     "name": "stdout",
     "output_type": "stream",
     "text": [
      "Total execution time: 0.946160078048706 seconds\n"
     ]
    }
   ],
   "source": [
    "all_recs = eval('ALS', algo_als, train_df_small, test_df_small)"
   ]
  },
  {
   "cell_type": "code",
   "execution_count": 36,
   "id": "e693c42d",
   "metadata": {
    "scrolled": true
   },
   "outputs": [
    {
     "data": {
      "text/plain": [
       "(12200, 7877)"
      ]
     },
     "execution_count": 36,
     "metadata": {},
     "output_type": "execute_result"
    }
   ],
   "source": [
    "len(all_recs), len(test_df_small)"
   ]
  },
  {
   "cell_type": "code",
   "execution_count": 37,
   "id": "7f85bc66",
   "metadata": {},
   "outputs": [
    {
     "data": {
      "text/html": [
       "<div>\n",
       "<style scoped>\n",
       "    .dataframe tbody tr th:only-of-type {\n",
       "        vertical-align: middle;\n",
       "    }\n",
       "\n",
       "    .dataframe tbody tr th {\n",
       "        vertical-align: top;\n",
       "    }\n",
       "\n",
       "    .dataframe thead th {\n",
       "        text-align: right;\n",
       "    }\n",
       "</style>\n",
       "<table border=\"1\" class=\"dataframe\">\n",
       "  <thead>\n",
       "    <tr style=\"text-align: right;\">\n",
       "      <th></th>\n",
       "      <th></th>\n",
       "      <th>nrecs</th>\n",
       "      <th>ndcg</th>\n",
       "    </tr>\n",
       "    <tr>\n",
       "      <th>Algorithm</th>\n",
       "      <th>user</th>\n",
       "      <th></th>\n",
       "      <th></th>\n",
       "    </tr>\n",
       "  </thead>\n",
       "  <tbody>\n",
       "    <tr>\n",
       "      <th rowspan=\"5\" valign=\"top\">ALS</th>\n",
       "      <th>496</th>\n",
       "      <td>100</td>\n",
       "      <td>0.387574</td>\n",
       "    </tr>\n",
       "    <tr>\n",
       "      <th>85</th>\n",
       "      <td>100</td>\n",
       "      <td>0.105765</td>\n",
       "    </tr>\n",
       "    <tr>\n",
       "      <th>251</th>\n",
       "      <td>100</td>\n",
       "      <td>0.185802</td>\n",
       "    </tr>\n",
       "    <tr>\n",
       "      <th>588</th>\n",
       "      <td>100</td>\n",
       "      <td>0.262360</td>\n",
       "    </tr>\n",
       "    <tr>\n",
       "      <th>78</th>\n",
       "      <td>100</td>\n",
       "      <td>0.253692</td>\n",
       "    </tr>\n",
       "  </tbody>\n",
       "</table>\n",
       "</div>"
      ],
      "text/plain": [
       "                nrecs      ndcg\n",
       "Algorithm user                 \n",
       "ALS       496     100  0.387574\n",
       "          85      100  0.105765\n",
       "          251     100  0.185802\n",
       "          588     100  0.262360\n",
       "          78      100  0.253692"
      ]
     },
     "execution_count": 37,
     "metadata": {},
     "output_type": "execute_result"
    }
   ],
   "source": [
    "rla = topn.RecListAnalysis()\n",
    "rla.add_metric(topn.ndcg)\n",
    "results = rla.compute(all_recs, test_df_small)\n",
    "results.head()"
   ]
  },
  {
   "cell_type": "code",
   "execution_count": 38,
   "id": "60e5617e",
   "metadata": {
    "scrolled": true
   },
   "outputs": [
    {
     "data": {
      "text/plain": [
       "Algorithm\n",
       "ALS    0.076414\n",
       "Name: ndcg, dtype: float64"
      ]
     },
     "execution_count": 38,
     "metadata": {},
     "output_type": "execute_result"
    }
   ],
   "source": [
    "results.groupby('Algorithm').ndcg.mean()"
   ]
  },
  {
   "cell_type": "markdown",
   "id": "f1688430",
   "metadata": {},
   "source": [
    "### large dataset"
   ]
  },
  {
   "cell_type": "code",
   "execution_count": 40,
   "id": "081461d7",
   "metadata": {},
   "outputs": [],
   "source": [
    "train_df_large.columns = ['user', 'item', 'rating', 'timestamp']\n",
    "val_df_large.columns = ['user', 'item', 'rating', 'timestamp']\n",
    "test_df_large.columns = ['user', 'item', 'rating', 'timestamp']"
   ]
  },
  {
   "cell_type": "markdown",
   "id": "cf4ad420",
   "metadata": {},
   "source": [
    "### -train function"
   ]
  },
  {
   "cell_type": "code",
   "execution_count": 41,
   "id": "f232ff76",
   "metadata": {},
   "outputs": [],
   "source": [
    "algo_als = als.BiasedMF(100)"
   ]
  },
  {
   "cell_type": "code",
   "execution_count": 42,
   "id": "0396c3f8",
   "metadata": {},
   "outputs": [],
   "source": [
    "def eval(aname, algo, train, test):\n",
    "    fittable = util.clone(algo)\n",
    "    fittable = Recommender.adapt(fittable)\n",
    "    \n",
    "    # measure training time (fit)\n",
    "    start_time = time.time()\n",
    "    fittable.fit(train)\n",
    "    end_time = time.time()\n",
    "    print(\"Total execution time: {} seconds\".format(end_time - start_time))\n",
    "    \n",
    "    users = test.user.unique()\n",
    "    # now we run the recommender\n",
    "    recs = batch.recommend(fittable, users, 100)\n",
    "    # add the algorithm name for analyzability\n",
    "    recs['Algorithm'] = aname\n",
    "    return recs"
   ]
  },
  {
   "cell_type": "markdown",
   "id": "3521569b",
   "metadata": {},
   "source": [
    "### -validation dataset"
   ]
  },
  {
   "cell_type": "code",
   "execution_count": 43,
   "id": "16237da7",
   "metadata": {},
   "outputs": [
    {
     "name": "stdout",
     "output_type": "stream",
     "text": [
      "Total execution time: 307.5095829963684 seconds\n"
     ]
    }
   ],
   "source": [
    "all_recs = eval('ALS', algo_als, train_df_large, val_df_large)"
   ]
  },
  {
   "cell_type": "code",
   "execution_count": 44,
   "id": "db34d8fe",
   "metadata": {
    "scrolled": true
   },
   "outputs": [
    {
     "data": {
      "text/plain": [
       "(5398500, 2223502)"
      ]
     },
     "execution_count": 44,
     "metadata": {},
     "output_type": "execute_result"
    }
   ],
   "source": [
    "len(all_recs), len(val_df_large)"
   ]
  },
  {
   "cell_type": "code",
   "execution_count": 45,
   "id": "0478c67b",
   "metadata": {},
   "outputs": [
    {
     "data": {
      "text/html": [
       "<div>\n",
       "<style scoped>\n",
       "    .dataframe tbody tr th:only-of-type {\n",
       "        vertical-align: middle;\n",
       "    }\n",
       "\n",
       "    .dataframe tbody tr th {\n",
       "        vertical-align: top;\n",
       "    }\n",
       "\n",
       "    .dataframe thead th {\n",
       "        text-align: right;\n",
       "    }\n",
       "</style>\n",
       "<table border=\"1\" class=\"dataframe\">\n",
       "  <thead>\n",
       "    <tr style=\"text-align: right;\">\n",
       "      <th></th>\n",
       "      <th></th>\n",
       "      <th>nrecs</th>\n",
       "      <th>ndcg</th>\n",
       "    </tr>\n",
       "    <tr>\n",
       "      <th>Algorithm</th>\n",
       "      <th>user</th>\n",
       "      <th></th>\n",
       "      <th></th>\n",
       "    </tr>\n",
       "  </thead>\n",
       "  <tbody>\n",
       "    <tr>\n",
       "      <th rowspan=\"5\" valign=\"top\">ALS</th>\n",
       "      <th>471</th>\n",
       "      <td>100</td>\n",
       "      <td>0.043053</td>\n",
       "    </tr>\n",
       "    <tr>\n",
       "      <th>833</th>\n",
       "      <td>100</td>\n",
       "      <td>0.000000</td>\n",
       "    </tr>\n",
       "    <tr>\n",
       "      <th>2659</th>\n",
       "      <td>100</td>\n",
       "      <td>0.061246</td>\n",
       "    </tr>\n",
       "    <tr>\n",
       "      <th>3997</th>\n",
       "      <td>100</td>\n",
       "      <td>0.000000</td>\n",
       "    </tr>\n",
       "    <tr>\n",
       "      <th>4818</th>\n",
       "      <td>100</td>\n",
       "      <td>0.011212</td>\n",
       "    </tr>\n",
       "  </tbody>\n",
       "</table>\n",
       "</div>"
      ],
      "text/plain": [
       "                nrecs      ndcg\n",
       "Algorithm user                 \n",
       "ALS       471     100  0.043053\n",
       "          833     100  0.000000\n",
       "          2659    100  0.061246\n",
       "          3997    100  0.000000\n",
       "          4818    100  0.011212"
      ]
     },
     "execution_count": 45,
     "metadata": {},
     "output_type": "execute_result"
    }
   ],
   "source": [
    "rla = topn.RecListAnalysis()\n",
    "rla.add_metric(topn.ndcg)\n",
    "results = rla.compute(all_recs, val_df_large)\n",
    "results.head()"
   ]
  },
  {
   "cell_type": "code",
   "execution_count": 46,
   "id": "9e21b2d6",
   "metadata": {},
   "outputs": [
    {
     "data": {
      "text/plain": [
       "Algorithm\n",
       "ALS    0.024968\n",
       "Name: ndcg, dtype: float64"
      ]
     },
     "execution_count": 46,
     "metadata": {},
     "output_type": "execute_result"
    }
   ],
   "source": [
    "results.groupby('Algorithm').ndcg.mean()"
   ]
  },
  {
   "cell_type": "markdown",
   "id": "c1d6fef1",
   "metadata": {},
   "source": [
    "### -test dataset"
   ]
  },
  {
   "cell_type": "code",
   "execution_count": 47,
   "id": "515962e6",
   "metadata": {},
   "outputs": [
    {
     "name": "stdout",
     "output_type": "stream",
     "text": [
      "Total execution time: 308.6373801231384 seconds\n"
     ]
    }
   ],
   "source": [
    "all_recs = eval('ALS', algo_als, train_df_large, test_df_large)"
   ]
  },
  {
   "cell_type": "code",
   "execution_count": 48,
   "id": "339d1b41",
   "metadata": {
    "scrolled": true
   },
   "outputs": [
    {
     "data": {
      "text/plain": [
       "(5400900, 2177556)"
      ]
     },
     "execution_count": 48,
     "metadata": {},
     "output_type": "execute_result"
    }
   ],
   "source": [
    "len(all_recs), len(test_df_large)"
   ]
  },
  {
   "cell_type": "code",
   "execution_count": 49,
   "id": "b90b323f",
   "metadata": {},
   "outputs": [
    {
     "data": {
      "text/html": [
       "<div>\n",
       "<style scoped>\n",
       "    .dataframe tbody tr th:only-of-type {\n",
       "        vertical-align: middle;\n",
       "    }\n",
       "\n",
       "    .dataframe tbody tr th {\n",
       "        vertical-align: top;\n",
       "    }\n",
       "\n",
       "    .dataframe thead th {\n",
       "        text-align: right;\n",
       "    }\n",
       "</style>\n",
       "<table border=\"1\" class=\"dataframe\">\n",
       "  <thead>\n",
       "    <tr style=\"text-align: right;\">\n",
       "      <th></th>\n",
       "      <th></th>\n",
       "      <th>nrecs</th>\n",
       "      <th>ndcg</th>\n",
       "    </tr>\n",
       "    <tr>\n",
       "      <th>Algorithm</th>\n",
       "      <th>user</th>\n",
       "      <th></th>\n",
       "      <th></th>\n",
       "    </tr>\n",
       "  </thead>\n",
       "  <tbody>\n",
       "    <tr>\n",
       "      <th rowspan=\"5\" valign=\"top\">ALS</th>\n",
       "      <th>1591</th>\n",
       "      <td>100</td>\n",
       "      <td>0.0</td>\n",
       "    </tr>\n",
       "    <tr>\n",
       "      <th>1959</th>\n",
       "      <td>100</td>\n",
       "      <td>0.0</td>\n",
       "    </tr>\n",
       "    <tr>\n",
       "      <th>2142</th>\n",
       "      <td>100</td>\n",
       "      <td>0.0</td>\n",
       "    </tr>\n",
       "    <tr>\n",
       "      <th>3175</th>\n",
       "      <td>100</td>\n",
       "      <td>0.0</td>\n",
       "    </tr>\n",
       "    <tr>\n",
       "      <th>3749</th>\n",
       "      <td>100</td>\n",
       "      <td>0.0</td>\n",
       "    </tr>\n",
       "  </tbody>\n",
       "</table>\n",
       "</div>"
      ],
      "text/plain": [
       "                nrecs  ndcg\n",
       "Algorithm user             \n",
       "ALS       1591    100   0.0\n",
       "          1959    100   0.0\n",
       "          2142    100   0.0\n",
       "          3175    100   0.0\n",
       "          3749    100   0.0"
      ]
     },
     "execution_count": 49,
     "metadata": {},
     "output_type": "execute_result"
    }
   ],
   "source": [
    "rla = topn.RecListAnalysis()\n",
    "rla.add_metric(topn.ndcg)\n",
    "results = rla.compute(all_recs, test_df_large)\n",
    "results.head()"
   ]
  },
  {
   "cell_type": "code",
   "execution_count": 50,
   "id": "1fb95615",
   "metadata": {
    "scrolled": true
   },
   "outputs": [
    {
     "data": {
      "text/plain": [
       "Algorithm\n",
       "ALS    0.024963\n",
       "Name: ndcg, dtype: float64"
      ]
     },
     "execution_count": 50,
     "metadata": {},
     "output_type": "execute_result"
    }
   ],
   "source": [
    "results.groupby('Algorithm').ndcg.mean()"
   ]
  },
  {
   "cell_type": "code",
   "execution_count": null,
   "id": "d2dda0b6",
   "metadata": {},
   "outputs": [],
   "source": []
  },
  {
   "cell_type": "code",
   "execution_count": null,
   "id": "c911d8f9",
   "metadata": {},
   "outputs": [],
   "source": []
  }
 ],
 "metadata": {
  "kernelspec": {
   "display_name": "Python 3",
   "language": "python",
   "name": "python3"
  },
  "language_info": {
   "codemirror_mode": {
    "name": "ipython",
    "version": 3
   },
   "file_extension": ".py",
   "mimetype": "text/x-python",
   "name": "python",
   "nbconvert_exporter": "python",
   "pygments_lexer": "ipython3",
   "version": "3.8.8"
  }
 },
 "nbformat": 4,
 "nbformat_minor": 5
}
