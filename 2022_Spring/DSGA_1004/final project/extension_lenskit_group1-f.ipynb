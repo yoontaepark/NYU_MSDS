{
 "cells": [
  {
   "cell_type": "markdown",
   "id": "2dbe2066",
   "metadata": {},
   "source": [
    "### Import dataset "
   ]
  },
  {
   "cell_type": "code",
   "execution_count": 5,
   "id": "c3e7f0b8",
   "metadata": {},
   "outputs": [],
   "source": [
    "import pandas as pd\n",
    "import numpy as np\n",
    "import time\n",
    "\n",
    "train_df_small = pd.read_csv('./final_project_movielens/train_df_small.csv')\n",
    "val_df_small = pd.read_csv('./final_project_movielens/val_df_small.csv')\n",
    "test_df_small = pd.read_csv('./final_project_movielens/test_df_small.csv')"
   ]
  },
  {
   "cell_type": "code",
   "execution_count": 6,
   "id": "01ff612f",
   "metadata": {},
   "outputs": [],
   "source": [
    "train_df_large = pd.read_csv('./final_project_movielens/train_df_large.csv')\n",
    "val_df_large = pd.read_csv('./final_project_movielens/val_df_large.csv')\n",
    "test_df_large = pd.read_csv('./final_project_movielens/test_df_large.csv')"
   ]
  },
  {
   "cell_type": "markdown",
   "id": "6d58eef8",
   "metadata": {},
   "source": [
    "### Load lenskit"
   ]
  },
  {
   "cell_type": "code",
   "execution_count": 7,
   "id": "2c95819e",
   "metadata": {},
   "outputs": [],
   "source": [
    "# pip install lenskit"
   ]
  },
  {
   "cell_type": "code",
   "execution_count": 8,
   "id": "4e5feb7d",
   "metadata": {},
   "outputs": [],
   "source": [
    "# from lenskit.datasets import ML100K\n",
    "from lenskit import batch, topn, util\n",
    "from lenskit import crossfold as xf\n",
    "from lenskit.algorithms import Recommender, als, item_knn as knn\n",
    "from lenskit import topn"
   ]
  },
  {
   "cell_type": "markdown",
   "id": "ac005b0f",
   "metadata": {},
   "source": [
    "### Small dataset"
   ]
  },
  {
   "cell_type": "code",
   "execution_count": 9,
   "id": "64c98cb3",
   "metadata": {},
   "outputs": [],
   "source": [
    "train_df_small.columns = ['user', 'item', 'rating', 'timestamp']\n",
    "val_df_small.columns = ['user', 'item', 'rating', 'timestamp']\n",
    "test_df_small.columns = ['user', 'item', 'rating', 'timestamp']"
   ]
  },
  {
   "cell_type": "markdown",
   "id": "a377217c",
   "metadata": {},
   "source": [
    "### -train function with hyper parameter tuning"
   ]
  },
  {
   "cell_type": "code",
   "execution_count": 40,
   "id": "1e46ba45",
   "metadata": {},
   "outputs": [],
   "source": [
    "# training function \n",
    "def eval(aname, algo, train, test):\n",
    "    fittable = util.clone(algo)\n",
    "    fittable = Recommender.adapt(fittable)\n",
    "    \n",
    "    # measure training time (fit)\n",
    "    start_time = time.time()\n",
    "    fittable.fit(train)\n",
    "    end_time = time.time()\n",
    "    print(\"Total execution time: {} seconds\".format(end_time - start_time))\n",
    "    \n",
    "    users = test.user.unique()\n",
    "    # now we run the recommender\n",
    "    recs = batch.recommend(fittable, users, 100)\n",
    "    # add the algorithm name for analyzability\n",
    "    recs['Algorithm'] = aname\n",
    "    return recs"
   ]
  },
  {
   "cell_type": "code",
   "execution_count": 20,
   "id": "b9c95cd5",
   "metadata": {
    "scrolled": false
   },
   "outputs": [
    {
     "name": "stdout",
     "output_type": "stream",
     "text": [
      "test_size:  8553\n",
      "Total execution time: 0.19010472297668457 seconds\n",
      "test_size:  17106\n",
      "Total execution time: 0.23639893531799316 seconds\n",
      "test_size:  25659\n",
      "Total execution time: 0.30144309997558594 seconds\n",
      "test_size:  34212\n",
      "Total execution time: 0.3651740550994873 seconds\n",
      "test_size:  42765\n",
      "Total execution time: 0.4164409637451172 seconds\n",
      "test_size:  51318\n",
      "Total execution time: 0.46843409538269043 seconds\n",
      "test_size:  59870\n",
      "Total execution time: 0.549260139465332 seconds\n",
      "test_size:  68424\n",
      "Total execution time: 0.6039140224456787 seconds\n",
      "test_size:  76977\n",
      "Total execution time: 0.6754753589630127 seconds\n",
      "test_size:  85530\n",
      "Total execution time: 0.7380328178405762 seconds\n"
     ]
    }
   ],
   "source": [
    "# checking training data size - training time\n",
    "test_size = [0.1, 0.2, 0.3 ,0.4, 0.5, 0.6, 0.7, 0.8, 0.9, 1]\n",
    "res_time = []\n",
    "\n",
    "for i in test_size:\n",
    "    algo_als = als.BiasedMF(features=100, reg=0.0001, iterations=15)\n",
    "    train_size = int(len(train_df_small) * i)\n",
    "    print('test_size: ', train_size)\n",
    "    res_size.append(train_size)\n",
    "    \n",
    "    fittable = util.clone(algo_als)\n",
    "    fittable = Recommender.adapt(fittable)    \n",
    "    start_time = time.time()\n",
    "    fittable.fit(train_df_small[:train_size])\n",
    "    end_time = time.time()\n",
    "    train_time = end_time - start_time\n",
    "    print(\"Total execution time: {} seconds\".format(train_time))\n",
    "    res_time.append(train_time)"
   ]
  },
  {
   "cell_type": "code",
   "execution_count": 41,
   "id": "dac5ce40",
   "metadata": {},
   "outputs": [],
   "source": [
    "# adding result for spark als training data size / training time\n",
    "spark_time = [16.433910131454468, 20.001993656158447, 24.58430767059326, 28.43294906616211, 32.00606560707092,\n",
    "              35.43891978263855, 39.58369994163513, 41.847962617874146, 41.75053405761719, 32.59766674041748]"
   ]
  },
  {
   "cell_type": "code",
   "execution_count": 45,
   "id": "544e9790",
   "metadata": {
    "scrolled": true
   },
   "outputs": [
    {
     "data": {
      "image/png": "[encoded data removed]",
      "text/plain": [
       "<Figure size 432x288 with 1 Axes>"
      ]
     },
     "metadata": {
      "needs_background": "light"
     },
     "output_type": "display_data"
    }
   ],
   "source": [
    "# plotting the result\n",
    "import matplotlib.pyplot as plt\n",
    "\n",
    "plt.title('training time for small dataset')\n",
    "plt.plot(res_size, res_time, marker = 's', label = 'LensKit(small)')\n",
    "plt.plot(res_size, spark_time, marker = 's', color = 'r', label = 'Spark(small)')\n",
    "plt.xlabel('Data size')\n",
    "plt.ylabel('training time')\n",
    "plt.legend()\n",
    "plt.show()"
   ]
  },
  {
   "cell_type": "code",
   "execution_count": 15,
   "id": "dcf8c386",
   "metadata": {
    "scrolled": false
   },
   "outputs": [
    {
     "name": "stdout",
     "output_type": "stream",
     "text": [
      "Hyperparameters) rank:  100 regParam:  0.0001 maxIter:  5\n",
      "Total execution time: 0.3176712989807129 seconds\n",
      "val_score:  0.05961486687567417\n",
      "\n",
      "Total execution time: 0.2900516986846924 seconds\n",
      "test_score:  0.07532731308048904\n",
      "\n",
      "Hyperparameters) rank:  100 regParam:  0.0001 maxIter:  10\n",
      "Total execution time: 0.4993300437927246 seconds\n",
      "val_score:  0.05812086251801631\n",
      "\n",
      "Total execution time: 0.5022611618041992 seconds\n",
      "test_score:  0.07370470214220019\n",
      "\n",
      "Hyperparameters) rank:  100 regParam:  0.0001 maxIter:  15\n",
      "Total execution time: 0.7007009983062744 seconds\n",
      "val_score:  0.05681039415023906\n",
      "\n",
      "Total execution time: 0.7035200595855713 seconds\n",
      "test_score:  0.07508359358948152\n",
      "\n"
     ]
    }
   ],
   "source": [
    "import itertools as it\n",
    "\n",
    "rank = [100]\n",
    "regParam = [0.0001]\n",
    "maxIter = [5, 10, 15]\n",
    "params = it.product(rank, regParam, maxIter)\n",
    "\n",
    "for rank, regParam, maxIter in params:\n",
    "    algo_als = als.BiasedMF(features=rank, reg=regParam, iterations=maxIter)\n",
    "    print('Hyperparameters) rank: ', rank, 'regParam: ', regParam, 'maxIter: ', maxIter)\n",
    "    \n",
    "    all_recs = eval('ALS', algo_als, train_df_small, val_df_small)\n",
    "    rla = topn.RecListAnalysis()\n",
    "    rla.add_metric(topn.ndcg)\n",
    "    results = rla.compute(all_recs, val_df_small)\n",
    "    als_result = results.groupby('Algorithm').ndcg.mean()\n",
    "    print('val_score: ', als_result[0])\n",
    "    \n",
    "    all_recs = eval('ALS', algo_als, train_df_small, test_df_small)\n",
    "    rla = topn.RecListAnalysis()\n",
    "    rla.add_metric(topn.ndcg)\n",
    "    results = rla.compute(all_recs, test_df_small)\n",
    "    als_result = results.groupby('Algorithm').ndcg.mean()\n",
    "    print('test_score: ', als_result[0])\n",
    "    print()"
   ]
  },
  {
   "cell_type": "code",
   "execution_count": null,
   "id": "199296c7",
   "metadata": {},
   "outputs": [],
   "source": []
  },
  {
   "cell_type": "markdown",
   "id": "aecd1ae7",
   "metadata": {},
   "source": [
    "# ----------------------------------------------------"
   ]
  },
  {
   "cell_type": "markdown",
   "id": "ac38c6e7",
   "metadata": {},
   "source": [
    "### large dataset"
   ]
  },
  {
   "cell_type": "code",
   "execution_count": 9,
   "id": "30ce7f9d",
   "metadata": {},
   "outputs": [],
   "source": [
    "train_df_large.columns = ['user', 'item', 'rating', 'timestamp']\n",
    "val_df_large.columns = ['user', 'item', 'rating', 'timestamp']\n",
    "test_df_large.columns = ['user', 'item', 'rating', 'timestamp']"
   ]
  },
  {
   "cell_type": "markdown",
   "id": "0fe0dabc",
   "metadata": {},
   "source": [
    "### -train function with hyper parameter tuning"
   ]
  },
  {
   "cell_type": "code",
   "execution_count": 10,
   "id": "7e66eb1d",
   "metadata": {},
   "outputs": [],
   "source": [
    "# training function \n",
    "def eval(aname, algo, train, test):\n",
    "    fittable = util.clone(algo)\n",
    "    fittable = Recommender.adapt(fittable)\n",
    "    \n",
    "    # measure training time (fit)\n",
    "    start_time = time.time()\n",
    "    fittable.fit(train)\n",
    "    end_time = time.time()\n",
    "    print(\"Total execution time: {} seconds\".format(end_time - start_time))\n",
    "    \n",
    "    users = test.user.unique()\n",
    "    # now we run the recommender\n",
    "    recs = batch.recommend(fittable, users, 100)\n",
    "    # add the algorithm name for analyzability\n",
    "    recs['Algorithm'] = aname\n",
    "    return recs"
   ]
  },
  {
   "cell_type": "code",
   "execution_count": 11,
   "id": "369fb20e",
   "metadata": {
    "scrolled": false
   },
   "outputs": [
    {
     "name": "stdout",
     "output_type": "stream",
     "text": [
      "test_size:  2335238\n"
     ]
    },
    {
     "name": "stderr",
     "output_type": "stream",
     "text": [
      "BLAS using multiple threads - can cause oversubscription\n",
      "found 1 potential runtime problems - see https://boi.st/lkpy-perf\n"
     ]
    },
    {
     "name": "stdout",
     "output_type": "stream",
     "text": [
      "Total execution time: 40.68474531173706 seconds\n",
      "test_size:  4670477\n",
      "Total execution time: 86.83887910842896 seconds\n",
      "test_size:  7005715\n",
      "Total execution time: 143.78360390663147 seconds\n",
      "test_size:  9340954\n",
      "Total execution time: 212.28115892410278 seconds\n",
      "test_size:  11676193\n",
      "Total execution time: 280.508581161499 seconds\n",
      "test_size:  14011431\n",
      "Total execution time: 352.19370126724243 seconds\n",
      "test_size:  16346670\n",
      "Total execution time: 429.5296959877014 seconds\n",
      "test_size:  18681908\n",
      "Total execution time: 519.1176099777222 seconds\n",
      "test_size:  21017147\n",
      "Total execution time: 598.2305738925934 seconds\n",
      "test_size:  23352386\n",
      "Total execution time: 679.0631191730499 seconds\n"
     ]
    }
   ],
   "source": [
    "# checking training data size - training time\n",
    "test_size = [0.1, 0.2, 0.3 ,0.4, 0.5, 0.6, 0.7, 0.8, 0.9, 1]\n",
    "res_time_l = []\n",
    "\n",
    "for i in test_size:\n",
    "    algo_als = als.BiasedMF(features=300, reg=0.01, iterations=15)\n",
    "    train_size = int(len(train_df_large) * i)\n",
    "    print('test_size: ', train_size)\n",
    "    res_size_l.append(train_size)\n",
    "    \n",
    "    fittable = util.clone(algo_als)\n",
    "    fittable = Recommender.adapt(fittable)    \n",
    "    start_time = time.time()\n",
    "    fittable.fit(train_df_large[:train_size])\n",
    "    end_time = time.time()\n",
    "    train_time = end_time - start_time\n",
    "    print(\"Total execution time: {} seconds\".format(train_time))\n",
    "    res_time_l.append(train_time)"
   ]
  },
  {
   "cell_type": "code",
   "execution_count": 12,
   "id": "c77017af",
   "metadata": {},
   "outputs": [],
   "source": [
    "# adding result for spark als training data size / training time\n",
    "spark_time_l = [889.8123462200165, 1426.1737356185913, 1940.3998234272003, 2402.7107257843018, 2726.5582246780396,\n",
    "                3473.0376164913177, 3915.3467049598694, 4370.167536735535, 4823.548748731613, 5380.3844339847565]"
   ]
  },
  {
   "cell_type": "code",
   "execution_count": 13,
   "id": "d7b068fb",
   "metadata": {
    "scrolled": true
   },
   "outputs": [
    {
     "data": {
      "image/png": "[encoded data removed]",
      "text/plain": [
       "<Figure size 432x288 with 1 Axes>"
      ]
     },
     "metadata": {
      "needs_background": "light"
     },
     "output_type": "display_data"
    }
   ],
   "source": [
    "# plotting the result\n",
    "import matplotlib.pyplot as plt\n",
    "\n",
    "plt.title('training time for large dataset')\n",
    "plt.plot(res_size_l, res_time_l, marker = 's', label = 'LensKit(large)')\n",
    "plt.plot(res_size_l, spark_time_l, marker = 's', color = 'r', label = 'Spark(large)')\n",
    "plt.xlabel('Data size')\n",
    "plt.ylabel('training time')\n",
    "plt.legend()\n",
    "plt.show()"
   ]
  },
  {
   "cell_type": "code",
   "execution_count": 35,
   "id": "714a5ef6",
   "metadata": {
    "scrolled": true
   },
   "outputs": [
    {
     "name": "stdout",
     "output_type": "stream",
     "text": [
      "Hyperparameters) rank:  300 regParam:  0.005 maxIter:  5\n",
      "Total execution time: 246.8783152103424 seconds\n",
      "val_score:  0.02837698192865911\n",
      "Total execution time: 258.78653264045715 seconds\n",
      "test_score:  0.028403027472402465\n",
      "\n",
      "Hyperparameters) rank:  300 regParam:  0.005 maxIter:  10\n",
      "Total execution time: 600.5703210830688 seconds\n",
      "val_score:  0.025962549816462434\n",
      "Total execution time: 500.07431292533875 seconds\n",
      "test_score:  0.02594980106913568\n",
      "\n",
      "Hyperparameters) rank:  300 regParam:  0.005 maxIter:  15\n",
      "Total execution time: 770.1668217182159 seconds\n",
      "val_score:  0.025350117607059436\n",
      "Total execution time: 701.3095932006836 seconds\n",
      "test_score:  0.02540554399838886\n",
      "\n"
     ]
    }
   ],
   "source": [
    "import itertools as it\n",
    "\n",
    "rank = [300]\n",
    "regParam = [0.005]\n",
    "maxIter = [5, 10, 15]\n",
    "params = it.product(rank, regParam, maxIter)\n",
    "\n",
    "for rank, regParam, maxIter in params:\n",
    "    algo_als = als.BiasedMF(features=rank, reg=regParam, iterations=maxIter)\n",
    "    print('Hyperparameters) rank: ', rank, 'regParam: ', regParam, 'maxIter: ', maxIter)\n",
    "    \n",
    "    all_recs = eval('ALS', algo_als, train_df_large, val_df_large)\n",
    "    rla = topn.RecListAnalysis()\n",
    "    rla.add_metric(topn.ndcg)\n",
    "    results = rla.compute(all_recs, val_df_large)\n",
    "    als_result = results.groupby('Algorithm').ndcg.mean()\n",
    "    print('val_score: ', als_result[0])\n",
    "    \n",
    "    all_recs = eval('ALS', algo_als, train_df_large, test_df_large)\n",
    "    rla = topn.RecListAnalysis()\n",
    "    rla.add_metric(topn.ndcg)\n",
    "    results = rla.compute(all_recs, test_df_large)\n",
    "    als_result = results.groupby('Algorithm').ndcg.mean()\n",
    "    print('test_score: ', als_result[0])\n",
    "    print()"
   ]
  },
  {
   "cell_type": "code",
   "execution_count": 36,
   "id": "c1284d2d",
   "metadata": {},
   "outputs": [
    {
     "name": "stdout",
     "output_type": "stream",
     "text": [
      "Hyperparameters) rank:  300 regParam:  0.01 maxIter:  5\n",
      "Total execution time: 241.3149130344391 seconds\n",
      "val_score:  0.028336329662717596\n",
      "Total execution time: 251.8516697883606 seconds\n",
      "test_score:  0.028584531743021863\n",
      "\n",
      "Hyperparameters) rank:  300 regParam:  0.01 maxIter:  10\n",
      "Total execution time: 475.1515848636627 seconds\n",
      "val_score:  0.02590920827237602\n",
      "Total execution time: 457.14285492897034 seconds\n",
      "test_score:  0.025973842678105548\n",
      "\n",
      "Hyperparameters) rank:  300 regParam:  0.01 maxIter:  15\n",
      "Total execution time: 676.6912682056427 seconds\n",
      "val_score:  0.02544386216893131\n",
      "Total execution time: 676.7379970550537 seconds\n",
      "test_score:  0.025418904175635783\n",
      "\n"
     ]
    }
   ],
   "source": [
    "import itertools as it\n",
    "\n",
    "rank = [300]\n",
    "regParam = [0.01]\n",
    "maxIter = [5, 10, 15]\n",
    "params = it.product(rank, regParam, maxIter)\n",
    "\n",
    "for rank, regParam, maxIter in params:\n",
    "    algo_als = als.BiasedMF(features=rank, reg=regParam, iterations=maxIter)\n",
    "    print('Hyperparameters) rank: ', rank, 'regParam: ', regParam, 'maxIter: ', maxIter)\n",
    "    \n",
    "    all_recs = eval('ALS', algo_als, train_df_large, val_df_large)\n",
    "    rla = topn.RecListAnalysis()\n",
    "    rla.add_metric(topn.ndcg)\n",
    "    results = rla.compute(all_recs, val_df_large)\n",
    "    als_result = results.groupby('Algorithm').ndcg.mean()\n",
    "    print('val_score: ', als_result[0])\n",
    "    \n",
    "    all_recs = eval('ALS', algo_als, train_df_large, test_df_large)\n",
    "    rla = topn.RecListAnalysis()\n",
    "    rla.add_metric(topn.ndcg)\n",
    "    results = rla.compute(all_recs, test_df_large)\n",
    "    als_result = results.groupby('Algorithm').ndcg.mean()\n",
    "    print('test_score: ', als_result[0])\n",
    "    print()"
   ]
  },
  {
   "cell_type": "code",
   "execution_count": null,
   "id": "93f00be5",
   "metadata": {},
   "outputs": [],
   "source": []
  }
 ],
 "metadata": {
  "kernelspec": {
   "display_name": "Python 3",
   "language": "python",
   "name": "python3"
  },
  "language_info": {
   "codemirror_mode": {
    "name": "ipython",
    "version": 3
   },
   "file_extension": ".py",
   "mimetype": "text/x-python",
   "name": "python",
   "nbconvert_exporter": "python",
   "pygments_lexer": "ipython3",
   "version": "3.8.8"
  }
 },
 "nbformat": 4,
 "nbformat_minor": 5
}
