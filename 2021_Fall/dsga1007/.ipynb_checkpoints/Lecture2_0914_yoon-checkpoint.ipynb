{
 "cells": [
  {
   "cell_type": "code",
   "execution_count": 6,
   "id": "0dbcd061",
   "metadata": {},
   "outputs": [
    {
     "name": "stdout",
     "output_type": "stream",
     "text": [
      "ctrl + return\n"
     ]
    }
   ],
   "source": [
    "print('ctrl + return')"
   ]
  },
  {
   "cell_type": "code",
   "execution_count": 5,
   "id": "b22ebc8d",
   "metadata": {},
   "outputs": [
    {
     "name": "stdout",
     "output_type": "stream",
     "text": [
      "shift + return\n"
     ]
    }
   ],
   "source": [
    "print('shift + return')"
   ]
  },
  {
   "cell_type": "code",
   "execution_count": 8,
   "id": "007cbb03",
   "metadata": {},
   "outputs": [],
   "source": [
    "import numpy"
   ]
  },
  {
   "cell_type": "code",
   "execution_count": 9,
   "id": "80723c55",
   "metadata": {},
   "outputs": [
    {
     "name": "stdout",
     "output_type": "stream",
     "text": [
      "Lab01.ipynb\r\n",
      "Lecture1_210907.ipynb\r\n",
      "Untitled.ipynb\r\n",
      "new_file.txt\r\n"
     ]
    }
   ],
   "source": [
    "!ls -1"
   ]
  },
  {
   "cell_type": "code",
   "execution_count": null,
   "id": "04ff0288",
   "metadata": {},
   "outputs": [],
   "source": [
    "numpy.loadtxt(fname='', delimiter='')"
   ]
  },
  {
   "cell_type": "code",
   "execution_count": 17,
   "id": "2967d3bf",
   "metadata": {},
   "outputs": [],
   "source": [
    "a = ['1', '2,', '3']\n",
    "b = numpy.array(a)"
   ]
  },
  {
   "cell_type": "code",
   "execution_count": 18,
   "id": "bf7500d3",
   "metadata": {},
   "outputs": [
    {
     "data": {
      "text/plain": [
       "numpy.ndarray"
      ]
     },
     "execution_count": 18,
     "metadata": {},
     "output_type": "execute_result"
    }
   ],
   "source": [
    "type(b)"
   ]
  },
  {
   "cell_type": "code",
   "execution_count": 20,
   "id": "cf5153d1",
   "metadata": {},
   "outputs": [
    {
     "name": "stdout",
     "output_type": "stream",
     "text": [
      "<U2\n"
     ]
    }
   ],
   "source": [
    "print(b.dtype)"
   ]
  },
  {
   "cell_type": "code",
   "execution_count": 21,
   "id": "21ca4e74",
   "metadata": {},
   "outputs": [
    {
     "name": "stdout",
     "output_type": "stream",
     "text": [
      "(3,)\n"
     ]
    }
   ],
   "source": [
    "print(b.shape)"
   ]
  },
  {
   "cell_type": "code",
   "execution_count": 24,
   "id": "72eaf82d",
   "metadata": {},
   "outputs": [
    {
     "name": "stdout",
     "output_type": "stream",
     "text": [
      "wc: illegal option -- 1\r\n",
      "usage: wc [-clmw] [file ...]\r\n"
     ]
    }
   ],
   "source": [
    "# !wc -1: prints number of lines \n",
    "!wc -1 new_file.txt"
   ]
  },
  {
   "cell_type": "code",
   "execution_count": null,
   "id": "8cdb01f8",
   "metadata": {},
   "outputs": [],
   "source": [
    "# data[30, 20] or data[30][20]"
   ]
  },
  {
   "cell_type": "code",
   "execution_count": null,
   "id": "caa18568",
   "metadata": {},
   "outputs": [],
   "source": [
    "# slicing"
   ]
  },
  {
   "cell_type": "code",
   "execution_count": null,
   "id": "569ca990",
   "metadata": {},
   "outputs": [],
   "source": [
    "# numpy.max(data, axis=1), axis1(column) 방향으로 결과값이 나오기 때문에 shape은 row 개 가 된다. \n",
    "# numpy.mean(data, axis=0), axis0(row) 방향으로 결과값이 나오기 때문에 shape은 column 개 가 된다. "
   ]
  },
  {
   "cell_type": "code",
   "execution_count": 25,
   "id": "d4ed3297",
   "metadata": {},
   "outputs": [],
   "source": [
    "# np.min, np.max, np.std, np.mean....(data, axis=0(or 1))"
   ]
  },
  {
   "cell_type": "code",
   "execution_count": null,
   "id": "f327b164",
   "metadata": {},
   "outputs": [],
   "source": [
    "# sum, axis를 안두고 하면 전체의 합(값이 하나)이 나온다. "
   ]
  },
  {
   "cell_type": "code",
   "execution_count": 36,
   "id": "43cc6a13",
   "metadata": {},
   "outputs": [],
   "source": [
    "arr = [1,0,2,0,0,3,3]"
   ]
  },
  {
   "cell_type": "code",
   "execution_count": 37,
   "id": "a7f9fe8f",
   "metadata": {},
   "outputs": [
    {
     "data": {
      "text/plain": [
       "0"
      ]
     },
     "execution_count": 37,
     "metadata": {},
     "output_type": "execute_result"
    }
   ],
   "source": [
    "import numpy as np\n",
    "\n",
    "arr_min = np.min(arr)\n",
    "arr_min\n"
   ]
  },
  {
   "cell_type": "code",
   "execution_count": 39,
   "id": "275aa4de",
   "metadata": {},
   "outputs": [
    {
     "data": {
      "text/plain": [
       "(array([1, 3, 4]),)"
      ]
     },
     "execution_count": 39,
     "metadata": {},
     "output_type": "execute_result"
    }
   ],
   "source": [
    "# finding index of every values that fits the statement in () \n",
    "np.where(arr==arr_min)\n"
   ]
  },
  {
   "cell_type": "markdown",
   "id": "446cb25a",
   "metadata": {},
   "source": [
    "## Stacking Arrays"
   ]
  },
  {
   "cell_type": "code",
   "execution_count": 58,
   "id": "2ea5d8af",
   "metadata": {},
   "outputs": [],
   "source": [
    "# using hstack, vstack\n",
    "A = np.array([[1,2,3],[4,5,6], [7,8,10]])"
   ]
  },
  {
   "cell_type": "code",
   "execution_count": 59,
   "id": "7aa2a883",
   "metadata": {},
   "outputs": [
    {
     "data": {
      "text/plain": [
       "array([[ 1,  2,  3],\n",
       "       [ 4,  5,  6],\n",
       "       [ 7,  8, 10]])"
      ]
     },
     "execution_count": 59,
     "metadata": {},
     "output_type": "execute_result"
    }
   ],
   "source": [
    "A"
   ]
  },
  {
   "cell_type": "code",
   "execution_count": 60,
   "id": "780a1f33",
   "metadata": {},
   "outputs": [],
   "source": [
    "# 수평으로(가로로)배열을 합쳐준다. \n",
    "B = np.hstack([A,A])"
   ]
  },
  {
   "cell_type": "code",
   "execution_count": 61,
   "id": "5c32fb07",
   "metadata": {},
   "outputs": [
    {
     "data": {
      "text/plain": [
       "array([[ 1,  2,  3,  1,  2,  3],\n",
       "       [ 4,  5,  6,  4,  5,  6],\n",
       "       [ 7,  8, 10,  7,  8, 10]])"
      ]
     },
     "execution_count": 61,
     "metadata": {},
     "output_type": "execute_result"
    }
   ],
   "source": [
    "B"
   ]
  },
  {
   "cell_type": "code",
   "execution_count": 62,
   "id": "3072e8a0",
   "metadata": {},
   "outputs": [],
   "source": [
    "# 수직으로(세로로) vertical하게 배열을 합쳐준다. \n",
    "C = np.vstack([A,A])"
   ]
  },
  {
   "cell_type": "code",
   "execution_count": 63,
   "id": "ac9a21b3",
   "metadata": {},
   "outputs": [
    {
     "data": {
      "text/plain": [
       "array([[ 1,  2,  3],\n",
       "       [ 4,  5,  6],\n",
       "       [ 7,  8, 10],\n",
       "       [ 1,  2,  3],\n",
       "       [ 4,  5,  6],\n",
       "       [ 7,  8, 10]])"
      ]
     },
     "execution_count": 63,
     "metadata": {},
     "output_type": "execute_result"
    }
   ],
   "source": [
    "C"
   ]
  },
  {
   "cell_type": "code",
   "execution_count": 73,
   "id": "8749dd16",
   "metadata": {},
   "outputs": [],
   "source": [
    "# 다양하게 짤라서 더할 수 있다. (물론 더할 행 개수는 같아야 함(h 니까))\n",
    "D = np.hstack([A[:,1:], A[:,-1:]])"
   ]
  },
  {
   "cell_type": "code",
   "execution_count": 74,
   "id": "6e5a9d15",
   "metadata": {},
   "outputs": [
    {
     "data": {
      "text/plain": [
       "array([[ 2,  3,  3],\n",
       "       [ 5,  6,  6],\n",
       "       [ 8, 10, 10]])"
      ]
     },
     "execution_count": 74,
     "metadata": {},
     "output_type": "execute_result"
    }
   ],
   "source": [
    "D"
   ]
  },
  {
   "cell_type": "code",
   "execution_count": 66,
   "id": "3e34b443",
   "metadata": {},
   "outputs": [
    {
     "data": {
      "text/plain": [
       "array([[ 1,  2,  3],\n",
       "       [ 4,  5,  6],\n",
       "       [ 7,  8, 10]])"
      ]
     },
     "execution_count": 66,
     "metadata": {},
     "output_type": "execute_result"
    }
   ],
   "source": [
    "A"
   ]
  },
  {
   "cell_type": "code",
   "execution_count": 67,
   "id": "64a8e601",
   "metadata": {},
   "outputs": [
    {
     "data": {
      "text/plain": [
       "array([[1, 1],\n",
       "       [1, 1],\n",
       "       [1, 2]])"
      ]
     },
     "execution_count": 67,
     "metadata": {},
     "output_type": "execute_result"
    }
   ],
   "source": [
    "# default: axis=1\n",
    "np.diff(A)"
   ]
  },
  {
   "cell_type": "code",
   "execution_count": 68,
   "id": "74919953",
   "metadata": {},
   "outputs": [
    {
     "data": {
      "text/plain": [
       "array([[1, 1],\n",
       "       [1, 1],\n",
       "       [1, 2]])"
      ]
     },
     "execution_count": 68,
     "metadata": {},
     "output_type": "execute_result"
    }
   ],
   "source": [
    "np.diff(A, axis=1)"
   ]
  },
  {
   "cell_type": "code",
   "execution_count": 69,
   "id": "4ef60a19",
   "metadata": {},
   "outputs": [
    {
     "data": {
      "text/plain": [
       "array([[3, 3, 3],\n",
       "       [3, 3, 4]])"
      ]
     },
     "execution_count": 69,
     "metadata": {},
     "output_type": "execute_result"
    }
   ],
   "source": [
    "np.diff(A, axis=0)"
   ]
  },
  {
   "cell_type": "code",
   "execution_count": 76,
   "id": "82b866e9",
   "metadata": {},
   "outputs": [
    {
     "name": "stdout",
     "output_type": "stream",
     "text": [
      "Lab01.ipynb              Lecture2_0914_yoon.ipynb\r\n",
      "Lecture1_210907.ipynb    new_file.txt\r\n"
     ]
    }
   ],
   "source": [
    "# Reading multiple files\n",
    "!ls"
   ]
  },
  {
   "cell_type": "code",
   "execution_count": 77,
   "id": "0c1b4621",
   "metadata": {},
   "outputs": [
    {
     "name": "stdout",
     "output_type": "stream",
     "text": [
      "zsh:1: no matches found: *.csv\r\n"
     ]
    }
   ],
   "source": [
    "!ls *.csv"
   ]
  },
  {
   "cell_type": "code",
   "execution_count": null,
   "id": "41958d08",
   "metadata": {},
   "outputs": [],
   "source": [
    "!ls ./file path"
   ]
  },
  {
   "cell_type": "code",
   "execution_count": 78,
   "id": "d549046b",
   "metadata": {},
   "outputs": [],
   "source": [
    "import glob"
   ]
  },
  {
   "cell_type": "code",
   "execution_count": 79,
   "id": "01ee92e6",
   "metadata": {},
   "outputs": [],
   "source": [
    "glob.glob"
   ]
  },
  {
   "cell_type": "code",
   "execution_count": 80,
   "id": "1a1b3957",
   "metadata": {},
   "outputs": [],
   "source": [
    "# write as a function \n",
    "def process_data(data):\n",
    "    \n",
    "    minval = np.min(A)\n",
    "    print(minval)"
   ]
  },
  {
   "cell_type": "code",
   "execution_count": 81,
   "id": "3cb156c3",
   "metadata": {},
   "outputs": [
    {
     "name": "stdout",
     "output_type": "stream",
     "text": [
      "1\n"
     ]
    }
   ],
   "source": [
    "process_data(A)"
   ]
  },
  {
   "cell_type": "code",
   "execution_count": null,
   "id": "886e531a",
   "metadata": {},
   "outputs": [],
   "source": [
    "# use function to avoid writing repeated code\n",
    "# -> this relates to the quality of code (more elegant)"
   ]
  },
  {
   "cell_type": "code",
   "execution_count": 82,
   "id": "39da16f4",
   "metadata": {},
   "outputs": [],
   "source": [
    "def process_data_modified(data):\n",
    "    \n",
    "    return np.min(data), np.mean(data), np.max(data), np.std(data)"
   ]
  },
  {
   "cell_type": "code",
   "execution_count": 83,
   "id": "4d1fc357",
   "metadata": {},
   "outputs": [
    {
     "name": "stdout",
     "output_type": "stream",
     "text": [
      "0 :  (1, 2.0, 3, 0.816496580927726)\n",
      "1 :  (4, 5.0, 6, 0.816496580927726)\n",
      "2 :  (7, 8.333333333333334, 10, 1.247219128924647)\n"
     ]
    }
   ],
   "source": [
    "# enumerate 해서 인덱스: 결과값처럼 풀기\n",
    "for cnt, data in enumerate(A):\n",
    "    output = process_data_modified(data)\n",
    "    \n",
    "    print(cnt, ': ', output)"
   ]
  },
  {
   "cell_type": "code",
   "execution_count": 88,
   "id": "1d527e06",
   "metadata": {},
   "outputs": [],
   "source": [
    "# enumerate 하지말고 아예 함수안에서 dic 형태로 구성하자\n",
    "def process_data_stats(data):\n",
    "    minval, avgval, maxval, stdval = np.min(data), np.mean(data), np.max(data), np.std(data)\n",
    "    \n",
    "    output = {'minval': minval,\n",
    "              'avgval': avgval,\n",
    "              'maxval': maxval,\n",
    "              'stdval': stdval\n",
    "             }\n",
    "    \n",
    "    return output\n",
    "#     print('output is: ', output)"
   ]
  },
  {
   "cell_type": "code",
   "execution_count": 89,
   "id": "58772482",
   "metadata": {},
   "outputs": [
    {
     "data": {
      "text/plain": [
       "{'minval': 1,\n",
       " 'avgval': 5.111111111111111,\n",
       " 'maxval': 10,\n",
       " 'stdval': 2.7666443551086073}"
      ]
     },
     "execution_count": 89,
     "metadata": {},
     "output_type": "execute_result"
    }
   ],
   "source": [
    "process_data_stats(A)"
   ]
  },
  {
   "cell_type": "code",
   "execution_count": 90,
   "id": "1b441f7c",
   "metadata": {},
   "outputs": [
    {
     "name": "stdout",
     "output_type": "stream",
     "text": [
      "{'minval': 1, 'avgval': 2.0, 'maxval': 3, 'stdval': 0.816496580927726}\n",
      "{'minval': 4, 'avgval': 5.0, 'maxval': 6, 'stdval': 0.816496580927726}\n",
      "{'minval': 7, 'avgval': 8.333333333333334, 'maxval': 10, 'stdval': 1.247219128924647}\n"
     ]
    }
   ],
   "source": [
    "for data in A:\n",
    "    print(process_data_stats(data))"
   ]
  },
  {
   "cell_type": "code",
   "execution_count": 92,
   "id": "9726f75c",
   "metadata": {},
   "outputs": [
    {
     "name": "stdout",
     "output_type": "stream",
     "text": [
      "0 :  {'minval': 1, 'avgval': 2.0, 'maxval': 3, 'stdval': 0.816496580927726}\n",
      "1 :  {'minval': 4, 'avgval': 5.0, 'maxval': 6, 'stdval': 0.816496580927726}\n",
      "2 :  {'minval': 7, 'avgval': 8.333333333333334, 'maxval': 10, 'stdval': 1.247219128924647}\n"
     ]
    }
   ],
   "source": [
    "# enumerate 해서 인덱스: 결과값처럼 풀기\n",
    "for cnt, data in enumerate(A):\n",
    "    output = process_data_stats(data)\n",
    "    \n",
    "    print(cnt, ': ', output)"
   ]
  },
  {
   "cell_type": "code",
   "execution_count": null,
   "id": "0b5b09d2",
   "metadata": {},
   "outputs": [],
   "source": []
  },
  {
   "cell_type": "code",
   "execution_count": null,
   "id": "118c1fa9",
   "metadata": {},
   "outputs": [],
   "source": []
  },
  {
   "cell_type": "code",
   "execution_count": null,
   "id": "27dd1688",
   "metadata": {},
   "outputs": [],
   "source": []
  },
  {
   "cell_type": "code",
   "execution_count": null,
   "id": "4d1fe622",
   "metadata": {},
   "outputs": [],
   "source": []
  },
  {
   "cell_type": "code",
   "execution_count": null,
   "id": "8224b95b",
   "metadata": {},
   "outputs": [],
   "source": []
  }
 ],
 "metadata": {
  "kernelspec": {
   "display_name": "Python 3",
   "language": "python",
   "name": "python3"
  },
  "language_info": {
   "codemirror_mode": {
    "name": "ipython",
    "version": 3
   },
   "file_extension": ".py",
   "mimetype": "text/x-python",
   "name": "python",
   "nbconvert_exporter": "python",
   "pygments_lexer": "ipython3",
   "version": "3.8.8"
  }
 },
 "nbformat": 4,
 "nbformat_minor": 5
}
