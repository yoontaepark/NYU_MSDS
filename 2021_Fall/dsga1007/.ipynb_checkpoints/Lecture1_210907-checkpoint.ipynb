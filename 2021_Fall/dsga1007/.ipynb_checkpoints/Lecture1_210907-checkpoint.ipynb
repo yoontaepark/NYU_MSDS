{
 "cells": [
  {
   "cell_type": "code",
   "execution_count": 1,
   "id": "5e05c313",
   "metadata": {},
   "outputs": [
    {
     "name": "stdout",
     "output_type": "stream",
     "text": [
      "Welcome to DSGA1007!\n"
     ]
    }
   ],
   "source": [
    "print('Welcome to DSGA1007!')"
   ]
  },
  {
   "cell_type": "markdown",
   "id": "54846f51",
   "metadata": {},
   "source": [
    "## Basic types\n",
    "### Numerical types: int, float, complex:"
   ]
  },
  {
   "cell_type": "code",
   "execution_count": 2,
   "id": "303ef444",
   "metadata": {},
   "outputs": [
    {
     "name": "stdout",
     "output_type": "stream",
     "text": [
      "value: 1 type: <class 'int'>\n"
     ]
    }
   ],
   "source": [
    "a = 1\n",
    "print('value:', a, 'type:', type(a))"
   ]
  },
  {
   "cell_type": "code",
   "execution_count": 4,
   "id": "b54ff350",
   "metadata": {},
   "outputs": [
    {
     "name": "stdout",
     "output_type": "stream",
     "text": [
      "value: 2.0 type: <class 'float'>\n"
     ]
    }
   ],
   "source": [
    "b = 2.0\n",
    "print('value:', b, 'type:', type(b))"
   ]
  },
  {
   "cell_type": "code",
   "execution_count": 6,
   "id": "786c3d35",
   "metadata": {
    "scrolled": true
   },
   "outputs": [
    {
     "name": "stdout",
     "output_type": "stream",
     "text": [
      "vclue: (10.52+10j) type: <class 'complex'>\n",
      "real: 10.52 img: 10.0\n"
     ]
    }
   ],
   "source": [
    "# complex = real + imag\n",
    "c = 10.52 + 10j\n",
    "print('vclue:', c, 'type:', type(c))\n",
    "print('real:', c.real, 'img:', c.imag)"
   ]
  },
  {
   "cell_type": "code",
   "execution_count": 8,
   "id": "b5bc013c",
   "metadata": {},
   "outputs": [
    {
     "name": "stdout",
     "output_type": "stream",
     "text": [
      "value: 201 type: <class 'int'>\n",
      "value: 27.0 type: <class 'float'>\n",
      "vclue: (-9.48+5j) type: <class 'complex'>\n",
      "real: -9.48 img: 5.0\n"
     ]
    }
   ],
   "source": [
    "a = a + 100\n",
    "print('value:', a, 'type:', type(a))\n",
    "\n",
    "b += 25\n",
    "print('value:', b, 'type:', type(b))\n",
    "\n",
    "c -= 20 + 5j\n",
    "print('vclue:', c, 'type:', type(c))\n",
    "print('real:', c.real, 'img:', c.imag)"
   ]
  },
  {
   "cell_type": "markdown",
   "id": "13ce120e",
   "metadata": {},
   "source": [
    "## Containers:\n",
    "### Lists"
   ]
  },
  {
   "cell_type": "code",
   "execution_count": 9,
   "id": "82555078",
   "metadata": {},
   "outputs": [
    {
     "name": "stdout",
     "output_type": "stream",
     "text": [
      "[]\n"
     ]
    }
   ],
   "source": [
    "empty_list= []\n",
    "print(empty_list)"
   ]
  },
  {
   "cell_type": "code",
   "execution_count": 10,
   "id": "b44ac95f",
   "metadata": {},
   "outputs": [
    {
     "name": "stdout",
     "output_type": "stream",
     "text": [
      "[100]\n"
     ]
    }
   ],
   "source": [
    "one_elemnet_list = [100]\n",
    "print(one_elemnet_list)"
   ]
  },
  {
   "cell_type": "code",
   "execution_count": 11,
   "id": "6bdd8a63",
   "metadata": {},
   "outputs": [
    {
     "data": {
      "text/plain": [
       "[100]"
      ]
     },
     "execution_count": 11,
     "metadata": {},
     "output_type": "execute_result"
    }
   ],
   "source": [
    "# adding empty list will affect nothing\n",
    "one_elemnet_list + empty_list"
   ]
  },
  {
   "cell_type": "code",
   "execution_count": 12,
   "id": "080a3852",
   "metadata": {},
   "outputs": [
    {
     "data": {
      "text/plain": [
       "[100]"
      ]
     },
     "execution_count": 12,
     "metadata": {},
     "output_type": "execute_result"
    }
   ],
   "source": [
    "empty_list + one_elemnet_list"
   ]
  },
  {
   "cell_type": "code",
   "execution_count": 14,
   "id": "66461e93",
   "metadata": {},
   "outputs": [
    {
     "data": {
      "text/plain": [
       "list"
      ]
     },
     "execution_count": 14,
     "metadata": {},
     "output_type": "execute_result"
    }
   ],
   "source": [
    "lint_of_ints = [1,2,3,4,5,6,7]\n",
    "type(lint_of_ints)"
   ]
  },
  {
   "cell_type": "code",
   "execution_count": 15,
   "id": "a4a6b4c6",
   "metadata": {},
   "outputs": [
    {
     "name": "stdout",
     "output_type": "stream",
     "text": [
      "[1, 2, 3, 4, 5, 6, 7]\n"
     ]
    }
   ],
   "source": [
    "print(lint_of_ints)"
   ]
  },
  {
   "cell_type": "code",
   "execution_count": 16,
   "id": "7f2b5beb",
   "metadata": {},
   "outputs": [
    {
     "name": "stdout",
     "output_type": "stream",
     "text": [
      "[1, 2, 3, 4, 5, 6, 7, 8]\n"
     ]
    }
   ],
   "source": [
    "lint_of_ints.append(8)\n",
    "print(lint_of_ints)"
   ]
  },
  {
   "cell_type": "code",
   "execution_count": 17,
   "id": "c6609a1e",
   "metadata": {
    "scrolled": true
   },
   "outputs": [
    {
     "data": {
      "text/plain": [
       "8"
      ]
     },
     "execution_count": 17,
     "metadata": {},
     "output_type": "execute_result"
    }
   ],
   "source": [
    "len(lint_of_ints)"
   ]
  },
  {
   "cell_type": "code",
   "execution_count": 18,
   "id": "d22f85f9",
   "metadata": {},
   "outputs": [
    {
     "data": {
      "text/plain": [
       "[1, -2, 3, 17, 8, 9, 10]"
      ]
     },
     "execution_count": 18,
     "metadata": {},
     "output_type": "execute_result"
    }
   ],
   "source": [
    "# adding list = appending list\n",
    "[1,-2,3] + [17,8,9,10]"
   ]
  },
  {
   "cell_type": "code",
   "execution_count": 19,
   "id": "5f9983bd",
   "metadata": {},
   "outputs": [
    {
     "name": "stdout",
     "output_type": "stream",
     "text": [
      "[1, 2, 3, 4, 5, 6, 7, 8, 1, 2, 3, 4, 5, 6, 7, 8]\n"
     ]
    }
   ],
   "source": [
    "lint_of_ints += lint_of_ints\n",
    "print(lint_of_ints)"
   ]
  },
  {
   "cell_type": "code",
   "execution_count": 20,
   "id": "9d0bf715",
   "metadata": {},
   "outputs": [
    {
     "name": "stdout",
     "output_type": "stream",
     "text": [
      "[1, 1, 2, 2, 3, 3, 4, 4, 5, 5, 6, 6, 7, 7, 8, 8]\n"
     ]
    }
   ],
   "source": [
    "lint_of_ints = sorted(lint_of_ints)\n",
    "print(lint_of_ints)"
   ]
  },
  {
   "cell_type": "code",
   "execution_count": 24,
   "id": "77df3fc0",
   "metadata": {},
   "outputs": [
    {
     "data": {
      "text/plain": [
       "2"
      ]
     },
     "execution_count": 24,
     "metadata": {},
     "output_type": "execute_result"
    }
   ],
   "source": [
    "# Indexing and Slicing \n",
    "lint_of_ints[3]"
   ]
  },
  {
   "cell_type": "code",
   "execution_count": 25,
   "id": "570ca6e9",
   "metadata": {},
   "outputs": [
    {
     "data": {
      "text/plain": [
       "7"
      ]
     },
     "execution_count": 25,
     "metadata": {},
     "output_type": "execute_result"
    }
   ],
   "source": [
    "# counts from the end(end = -1)\n",
    "lint_of_ints[-3]"
   ]
  },
  {
   "cell_type": "code",
   "execution_count": 26,
   "id": "b49bd0d9",
   "metadata": {
    "scrolled": true
   },
   "outputs": [
    {
     "name": "stdout",
     "output_type": "stream",
     "text": [
      "[1, 1, 2, 2, 3, 3]\n"
     ]
    }
   ],
   "source": [
    "# slicing [start:end(end doesnt count)]\n",
    "print(lint_of_ints[:6])"
   ]
  },
  {
   "cell_type": "code",
   "execution_count": 27,
   "id": "75e57f81",
   "metadata": {},
   "outputs": [
    {
     "name": "stdout",
     "output_type": "stream",
     "text": [
      "[4, 4, 5, 5, 6, 6, 7, 7, 8, 8]\n"
     ]
    }
   ],
   "source": [
    "# start from index no.6(so 7th)\n",
    "print(lint_of_ints[6:])"
   ]
  },
  {
   "cell_type": "code",
   "execution_count": 28,
   "id": "8ce85d5f",
   "metadata": {
    "scrolled": true
   },
   "outputs": [
    {
     "name": "stdout",
     "output_type": "stream",
     "text": [
      "[2, 2, 3, 3]\n"
     ]
    }
   ],
   "source": [
    "#index 2,3,4,5\n",
    "print(lint_of_ints[2:6])"
   ]
  },
  {
   "cell_type": "code",
   "execution_count": 29,
   "id": "b62bfe42",
   "metadata": {},
   "outputs": [
    {
     "name": "stdout",
     "output_type": "stream",
     "text": [
      "[7, 8, 8]\n"
     ]
    }
   ],
   "source": [
    "# last three element, use minus(-)\n",
    "print(lint_of_ints[-3:])"
   ]
  },
  {
   "cell_type": "markdown",
   "id": "8e64f6d3",
   "metadata": {},
   "source": [
    "### Set"
   ]
  },
  {
   "cell_type": "code",
   "execution_count": 13,
   "id": "c6422838",
   "metadata": {},
   "outputs": [
    {
     "data": {
      "text/plain": [
       "True"
      ]
     },
     "execution_count": 13,
     "metadata": {},
     "output_type": "execute_result"
    }
   ],
   "source": [
    "# order x\n",
    "demo_set = {1,2,3}\n",
    "\n",
    "{1,2,3} == {2,3,1}"
   ]
  },
  {
   "cell_type": "code",
   "execution_count": 23,
   "id": "ca97c55b",
   "metadata": {},
   "outputs": [
    {
     "data": {
      "text/plain": [
       "{1, 2, 3, 4, 5, 6, 7, 8}"
      ]
     },
     "execution_count": 23,
     "metadata": {},
     "output_type": "execute_result"
    }
   ],
   "source": [
    "# duplication x\n",
    "set(lint_of_ints)"
   ]
  },
  {
   "cell_type": "markdown",
   "id": "6917238c",
   "metadata": {},
   "source": [
    "## Strings"
   ]
  },
  {
   "cell_type": "code",
   "execution_count": 30,
   "id": "ade7df43",
   "metadata": {},
   "outputs": [],
   "source": [
    "# immutable(cannot change)\n",
    "string_one = 'welcome_to_dsga_1007'\n",
    "string_two = '_at_nyu'"
   ]
  },
  {
   "cell_type": "code",
   "execution_count": 31,
   "id": "e746ab32",
   "metadata": {},
   "outputs": [
    {
     "name": "stdout",
     "output_type": "stream",
     "text": [
      "welcome_to_dsga_1007 _at_nyu\n"
     ]
    }
   ],
   "source": [
    "print(string_one, string_two)"
   ]
  },
  {
   "cell_type": "code",
   "execution_count": 32,
   "id": "f88dd527",
   "metadata": {},
   "outputs": [
    {
     "name": "stdout",
     "output_type": "stream",
     "text": [
      "<class 'str'> <class 'str'>\n",
      "20 7\n"
     ]
    }
   ],
   "source": [
    "# Can use len to list but also to strings\n",
    "print(type(string_one), type(string_two))\n",
    "print(len(string_one), len(string_two))"
   ]
  },
  {
   "cell_type": "code",
   "execution_count": 33,
   "id": "9395e335",
   "metadata": {},
   "outputs": [
    {
     "name": "stdout",
     "output_type": "stream",
     "text": [
      "welcome\n",
      "t_nyu\n"
     ]
    }
   ],
   "source": [
    "# slicing o\n",
    "print(string_one[:7])\n",
    "\n",
    "print(string_two[-5:])"
   ]
  },
  {
   "cell_type": "code",
   "execution_count": 34,
   "id": "a23549e3",
   "metadata": {},
   "outputs": [
    {
     "ename": "TypeError",
     "evalue": "'str' object does not support item assignment",
     "output_type": "error",
     "traceback": [
      "\u001b[0;31m---------------------------------------------------------------------------\u001b[0m",
      "\u001b[0;31mTypeError\u001b[0m                                 Traceback (most recent call last)",
      "\u001b[0;32m<ipython-input-34-e3885d506578>\u001b[0m in \u001b[0;36m<module>\u001b[0;34m\u001b[0m\n\u001b[1;32m      2\u001b[0m \u001b[0;31m# this will occur error\u001b[0m\u001b[0;34m\u001b[0m\u001b[0;34m\u001b[0m\u001b[0;34m\u001b[0m\u001b[0m\n\u001b[1;32m      3\u001b[0m \u001b[0;34m\u001b[0m\u001b[0m\n\u001b[0;32m----> 4\u001b[0;31m \u001b[0mstring_one\u001b[0m\u001b[0;34m[\u001b[0m\u001b[0;36m2\u001b[0m\u001b[0;34m]\u001b[0m \u001b[0;34m=\u001b[0m \u001b[0;34m'b'\u001b[0m\u001b[0;34m\u001b[0m\u001b[0;34m\u001b[0m\u001b[0m\n\u001b[0m",
      "\u001b[0;31mTypeError\u001b[0m: 'str' object does not support item assignment"
     ]
    }
   ],
   "source": [
    "# immutable, so not possible to modify\n",
    "# this will generate error \n",
    "\n",
    "string_one[2] = 'b'"
   ]
  },
  {
   "cell_type": "code",
   "execution_count": 35,
   "id": "346439d1",
   "metadata": {},
   "outputs": [
    {
     "data": {
      "text/plain": [
       "'weNcome_to_dsga_1007'"
      ]
     },
     "execution_count": 35,
     "metadata": {},
     "output_type": "execute_result"
    }
   ],
   "source": [
    "# how to modify strings? slicing and adding a new one\n",
    "# i.e. changing index no.2 to 'N'\n",
    "string_one[:2] + 'N' + string_one[3:]"
   ]
  },
  {
   "cell_type": "code",
   "execution_count": 37,
   "id": "226cd6ec",
   "metadata": {},
   "outputs": [
    {
     "name": "stdout",
     "output_type": "stream",
     "text": [
      "weNcome_to_dsga_1007\n"
     ]
    }
   ],
   "source": [
    "# reassign to same variable, this will modify certain variable\n",
    "string_one = string_one[:2] + 'N' + string_one[3:]\n",
    "print(string_one)"
   ]
  },
  {
   "cell_type": "code",
   "execution_count": 38,
   "id": "4f831430",
   "metadata": {},
   "outputs": [
    {
     "name": "stdout",
     "output_type": "stream",
     "text": [
      "weNcome_to_dsga_1007_at_nyu\n"
     ]
    }
   ],
   "source": [
    "# adding o\n",
    "string_one += string_two\n",
    "print(string_one)"
   ]
  },
  {
   "cell_type": "code",
   "execution_count": 39,
   "id": "6a8ae8f9",
   "metadata": {},
   "outputs": [
    {
     "data": {
      "text/plain": [
       "'weNcome*to*dsga*1007*at*nyu'"
      ]
     },
     "execution_count": 39,
     "metadata": {},
     "output_type": "execute_result"
    }
   ],
   "source": [
    "# replace, reassigns the variable so can be changed \n",
    "string_one.replace('_', '*')"
   ]
  },
  {
   "cell_type": "markdown",
   "id": "4d7020b0",
   "metadata": {},
   "source": [
    "## Dictionaries = {'key': 'value'}"
   ]
  },
  {
   "cell_type": "code",
   "execution_count": 47,
   "id": "ae436f4b",
   "metadata": {},
   "outputs": [],
   "source": [
    "dict_empty = {}\n",
    "\n",
    "dict_one = {0:10, 1:11, 2:12}\n",
    "\n",
    "dict_two = {1: 'a', 2: 'bb', 3: 'ccc'}\n"
   ]
  },
  {
   "cell_type": "code",
   "execution_count": 48,
   "id": "43eeb43e",
   "metadata": {},
   "outputs": [
    {
     "data": {
      "text/plain": [
       "10"
      ]
     },
     "execution_count": 48,
     "metadata": {},
     "output_type": "execute_result"
    }
   ],
   "source": [
    "# accessing to values\n",
    "dict_one[0]"
   ]
  },
  {
   "cell_type": "code",
   "execution_count": 49,
   "id": "28d991b2",
   "metadata": {},
   "outputs": [
    {
     "data": {
      "text/plain": [
       "'ccc'"
      ]
     },
     "execution_count": 49,
     "metadata": {},
     "output_type": "execute_result"
    }
   ],
   "source": [
    "dict_two[3]"
   ]
  },
  {
   "cell_type": "code",
   "execution_count": 50,
   "id": "18a5aeeb",
   "metadata": {},
   "outputs": [
    {
     "name": "stdout",
     "output_type": "stream",
     "text": [
      "{1: 'a', 2: 'bb', 3: 'ccc', 4: 123456}\n"
     ]
    }
   ],
   "source": [
    "# create a new key\n",
    "dict_two[4] = 123456\n",
    "print(dict_two)"
   ]
  },
  {
   "cell_type": "markdown",
   "id": "ac10637e",
   "metadata": {},
   "source": [
    "## Control flows\n",
    "### if/elif/else"
   ]
  },
  {
   "cell_type": "code",
   "execution_count": 52,
   "id": "6a366723",
   "metadata": {},
   "outputs": [
    {
     "name": "stdout",
     "output_type": "stream",
     "text": [
      "1 != 2\n"
     ]
    }
   ],
   "source": [
    "if 1 == 2:\n",
    "    print('1 == 2')\n",
    "else:\n",
    "    print('1 != 2')"
   ]
  },
  {
   "cell_type": "code",
   "execution_count": 53,
   "id": "d735f8c0",
   "metadata": {},
   "outputs": [
    {
     "name": "stdout",
     "output_type": "stream",
     "text": [
      "the vale of a is:\n",
      "2\n"
     ]
    }
   ],
   "source": [
    "a = 2\n",
    "\n",
    "print('the vale of a is:')\n",
    "if a == 1:\n",
    "    print(1)\n",
    "elif a == 2:\n",
    "    print(2)\n",
    "elif a == 3:\n",
    "    print(3)\n",
    "else:\n",
    "    print('neither 1,2,3 but', a)"
   ]
  },
  {
   "cell_type": "markdown",
   "id": "9f81497b",
   "metadata": {},
   "source": [
    "### for/range\n",
    "#### to iterate with an index"
   ]
  },
  {
   "cell_type": "code",
   "execution_count": 54,
   "id": "02172a56",
   "metadata": {},
   "outputs": [
    {
     "name": "stdout",
     "output_type": "stream",
     "text": [
      "i: 0\n",
      "i: 1\n",
      "i: 2\n",
      "i: 3\n",
      "i: 4\n",
      "i: 5\n",
      "i: 6\n",
      "i: 7\n",
      "i: 8\n",
      "i: 9\n",
      "i: 10\n",
      "i: 11\n",
      "i: 12\n",
      "i: 13\n",
      "i: 14\n"
     ]
    }
   ],
   "source": [
    "# range(15) == 0~14\n",
    "for i in range(15):\n",
    "    print('i:', i)\n",
    "#     print('the total num is 15')"
   ]
  },
  {
   "cell_type": "code",
   "execution_count": 55,
   "id": "8aa36832",
   "metadata": {},
   "outputs": [
    {
     "name": "stdout",
     "output_type": "stream",
     "text": [
      "welcome\n",
      "to\n",
      "the\n",
      "class\n",
      "all\n",
      "the\n",
      "best\n"
     ]
    }
   ],
   "source": [
    "lst_of_words = ['welcome', 'to', 'the', 'class', 'all', 'the', 'best']\n",
    "\n",
    "for word in lst_of_words:\n",
    "    print(word)"
   ]
  },
  {
   "cell_type": "code",
   "execution_count": 56,
   "id": "1c6095ad",
   "metadata": {},
   "outputs": [
    {
     "name": "stdout",
     "output_type": "stream",
     "text": [
      "key: 1; value: a\n",
      "key: 2; value: bb\n",
      "key: 3; value: ccc\n",
      "key: 4; value: 123456\n"
     ]
    }
   ],
   "source": [
    "for key, val in dict_two.items():\n",
    "    print('key: %s; value: %s' % (key, val))"
   ]
  },
  {
   "cell_type": "markdown",
   "id": "79c2660f",
   "metadata": {},
   "source": [
    "### enumeration"
   ]
  },
  {
   "cell_type": "code",
   "execution_count": 61,
   "id": "8949a6e9",
   "metadata": {},
   "outputs": [
    {
     "name": "stdout",
     "output_type": "stream",
     "text": [
      "(index, word)\n",
      "0 welcome\n",
      "1 to\n",
      "2 the\n",
      "3 class\n",
      "4 all\n",
      "5 the\n",
      "6 best\n"
     ]
    }
   ],
   "source": [
    "# creating index number\n",
    "print('(index, word)')\n",
    "\n",
    "for index, word in enumerate(lst_of_words):\n",
    "    print(index, word)"
   ]
  },
  {
   "cell_type": "markdown",
   "id": "304de18c",
   "metadata": {},
   "source": [
    "### while/break/continue\n"
   ]
  },
  {
   "cell_type": "code",
   "execution_count": 62,
   "id": "5d619d4e",
   "metadata": {},
   "outputs": [
    {
     "name": "stdout",
     "output_type": "stream",
     "text": [
      "1.0\n",
      "0.5\n",
      "0.3333333333333333\n",
      "0.25\n",
      "0.2\n",
      "division by 0\n"
     ]
    }
   ],
   "source": [
    "# break: exit the for loop\n",
    "\n",
    "lst_of_numbers = [1,2,3,4,5,0,6,7,8,9,10]\n",
    "\n",
    "for element in lst_of_numbers:\n",
    "    if element == 0.0:\n",
    "        print('division by 0')\n",
    "        break\n",
    "    else:\n",
    "        print(1 / element)"
   ]
  },
  {
   "cell_type": "code",
   "execution_count": 63,
   "id": "eea2d3e7",
   "metadata": {},
   "outputs": [
    {
     "name": "stdout",
     "output_type": "stream",
     "text": [
      "1.0\n",
      "0.5\n",
      "0.3333333333333333\n",
      "0.25\n",
      "0.2\n",
      "division by 0\n",
      "0.16666666666666666\n",
      "0.14285714285714285\n",
      "0.125\n",
      "0.1111111111111111\n",
      "0.1\n"
     ]
    }
   ],
   "source": [
    "# continue: exit the for loop for certain iteration, but continues with next iteration\n",
    "\n",
    "lst_of_numbers = [1,2,3,4,5,0,6,7,8,9,10]\n",
    "\n",
    "for element in lst_of_numbers:\n",
    "    if element == 0.0:\n",
    "        print('division by 0')\n",
    "        continue\n",
    "    else:\n",
    "        print(1 / element)"
   ]
  },
  {
   "cell_type": "markdown",
   "id": "0a16a54d",
   "metadata": {},
   "source": [
    "## List Comprehensions"
   ]
  },
  {
   "cell_type": "code",
   "execution_count": 65,
   "id": "a5b26726",
   "metadata": {},
   "outputs": [
    {
     "name": "stdout",
     "output_type": "stream",
     "text": [
      "lst: [0, 1, 4, 9, 16, 25, 36, 49, 64, 81, 100]\n"
     ]
    }
   ],
   "source": [
    "lst = [ x ** 2 for x in range(11)]\n",
    "print('lst:', lst)"
   ]
  },
  {
   "cell_type": "markdown",
   "id": "f1a586fe",
   "metadata": {},
   "source": [
    "## Functions"
   ]
  },
  {
   "cell_type": "code",
   "execution_count": 66,
   "id": "9e7a2189",
   "metadata": {},
   "outputs": [],
   "source": [
    "# can create functions by using definition\n",
    "def test_pass():\n",
    "    pass"
   ]
  },
  {
   "cell_type": "code",
   "execution_count": 67,
   "id": "91472381",
   "metadata": {},
   "outputs": [],
   "source": [
    "test_pass()"
   ]
  },
  {
   "cell_type": "code",
   "execution_count": 68,
   "id": "2976e636",
   "metadata": {},
   "outputs": [],
   "source": [
    "def welcom_message():\n",
    "    print('welcome to DSGA1007. all the best!')"
   ]
  },
  {
   "cell_type": "code",
   "execution_count": 69,
   "id": "5d468d4e",
   "metadata": {},
   "outputs": [
    {
     "name": "stdout",
     "output_type": "stream",
     "text": [
      "welcome to DSGA1007. all the best!\n"
     ]
    }
   ],
   "source": [
    "welcom_message()"
   ]
  },
  {
   "cell_type": "markdown",
   "id": "4cde0776",
   "metadata": {},
   "source": [
    "### return statement"
   ]
  },
  {
   "cell_type": "code",
   "execution_count": 70,
   "id": "186197c5",
   "metadata": {},
   "outputs": [],
   "source": [
    "def test_function():\n",
    "    return 1"
   ]
  },
  {
   "cell_type": "code",
   "execution_count": 71,
   "id": "6a96e823",
   "metadata": {},
   "outputs": [
    {
     "data": {
      "text/plain": [
       "1"
      ]
     },
     "execution_count": 71,
     "metadata": {},
     "output_type": "execute_result"
    }
   ],
   "source": [
    "test_function()"
   ]
  },
  {
   "cell_type": "markdown",
   "id": "12db380a",
   "metadata": {},
   "source": [
    "### positional arguments"
   ]
  },
  {
   "cell_type": "code",
   "execution_count": 73,
   "id": "aacc9e96",
   "metadata": {},
   "outputs": [],
   "source": [
    "def area_of_rectangle(length, width):\n",
    "    area = length * width\n",
    "    return area"
   ]
  },
  {
   "cell_type": "code",
   "execution_count": 74,
   "id": "9b0e518a",
   "metadata": {},
   "outputs": [
    {
     "data": {
      "text/plain": [
       "200"
      ]
     },
     "execution_count": 74,
     "metadata": {},
     "output_type": "execute_result"
    }
   ],
   "source": [
    "area_of_rectangle(10,20)"
   ]
  },
  {
   "cell_type": "code",
   "execution_count": 75,
   "id": "688214bf",
   "metadata": {},
   "outputs": [],
   "source": [
    "def area_of_rectangle(length, width):\n",
    "    \n",
    "    # setting exceptions, or makes any of conditions to return if statement(if true)\n",
    "    if length < 0 or width < 0:\n",
    "        return -1\n",
    "    else:\n",
    "        return length * width\n",
    "    "
   ]
  },
  {
   "cell_type": "code",
   "execution_count": 76,
   "id": "b2d35ca4",
   "metadata": {},
   "outputs": [
    {
     "data": {
      "text/plain": [
       "-1"
      ]
     },
     "execution_count": 76,
     "metadata": {},
     "output_type": "execute_result"
    }
   ],
   "source": [
    "area_of_rectangle(-10,-20)"
   ]
  },
  {
   "cell_type": "code",
   "execution_count": 78,
   "id": "8bb011a3",
   "metadata": {},
   "outputs": [
    {
     "data": {
      "text/plain": [
       "-1"
      ]
     },
     "execution_count": 78,
     "metadata": {},
     "output_type": "execute_result"
    }
   ],
   "source": [
    "area_of_rectangle(-10,20)"
   ]
  },
  {
   "cell_type": "markdown",
   "id": "f24dd10b",
   "metadata": {},
   "source": [
    "## Global variables"
   ]
  },
  {
   "cell_type": "code",
   "execution_count": 79,
   "id": "3c2212d5",
   "metadata": {},
   "outputs": [
    {
     "data": {
      "text/plain": [
       "120"
      ]
     },
     "execution_count": 79,
     "metadata": {},
     "output_type": "execute_result"
    }
   ],
   "source": [
    "# a variable works regardless of in/out of function\n",
    "\n",
    "GLOB_VAR = 100\n",
    "\n",
    "def function_example_glob_var(x):\n",
    "    \n",
    "    y = x + GLOB_VAR\n",
    "    \n",
    "    return y\n",
    "\n",
    "function_example_glob_var(20)"
   ]
  },
  {
   "cell_type": "markdown",
   "id": "838a20b5",
   "metadata": {},
   "source": [
    "## Iterative and Recursive Functions"
   ]
  },
  {
   "cell_type": "code",
   "execution_count": 80,
   "id": "defcceb2",
   "metadata": {},
   "outputs": [],
   "source": [
    "# iterative function\n",
    "def fact_it(n):\n",
    "    prod = 1\n",
    "    for i in range(1, n+1):\n",
    "        prod *= i\n",
    "    \n",
    "    return prod"
   ]
  },
  {
   "cell_type": "code",
   "execution_count": 83,
   "id": "e37c6ad7",
   "metadata": {},
   "outputs": [
    {
     "name": "stdout",
     "output_type": "stream",
     "text": [
      "1 1 6 24 120\n"
     ]
    }
   ],
   "source": [
    "print(fact_it(0), fact_it(1), fact_it(3), fact_it(4), fact_it(5))"
   ]
  },
  {
   "cell_type": "code",
   "execution_count": 84,
   "id": "d54b2e34",
   "metadata": {},
   "outputs": [],
   "source": [
    "# recursive function\n",
    "def fact_rec(n):\n",
    "    if n <= 1:\n",
    "        return 1\n",
    "    else:\n",
    "        return n * fact_rec(n-1)"
   ]
  },
  {
   "cell_type": "code",
   "execution_count": 85,
   "id": "18459e07",
   "metadata": {},
   "outputs": [
    {
     "name": "stdout",
     "output_type": "stream",
     "text": [
      "1 1 6 24 120\n"
     ]
    }
   ],
   "source": [
    "print(fact_it(0), fact_it(1), fact_it(3), fact_it(4), fact_it(5))"
   ]
  },
  {
   "cell_type": "markdown",
   "id": "76448f7b",
   "metadata": {},
   "source": [
    "## Function Convolution\n",
    "### one can perform a function convoultion: for f(x) and g(x) to compute g(f(x))"
   ]
  },
  {
   "cell_type": "code",
   "execution_count": 86,
   "id": "aba0e0ef",
   "metadata": {},
   "outputs": [
    {
     "name": "stdout",
     "output_type": "stream",
     "text": [
      "202 ---- 2 * (x+100)\n",
      "102 ---- (2*x) + 100\n"
     ]
    }
   ],
   "source": [
    "def f(x):\n",
    "    return x + 100\n",
    "\n",
    "def g(x):\n",
    "    return 2 * x\n",
    "\n",
    "print(g(f(1)), \"---- 2 * (x+100)\")\n",
    "print(f(g(1)), \"---- (2*x) + 100\")\n"
   ]
  },
  {
   "cell_type": "markdown",
   "id": "f6e0e1e2",
   "metadata": {},
   "source": [
    "## Docstring\n",
    "### documentation about what the function does and its parameters"
   ]
  },
  {
   "cell_type": "code",
   "execution_count": 89,
   "id": "ffdad274",
   "metadata": {},
   "outputs": [],
   "source": [
    "def factorial_recursive(n):\n",
    "    '''\n",
    "    Function to calculate facctorial of the input in a rec. way\n",
    "    :param n: (int) non-negative integer value for which we calculate\n",
    "    :return: (int) factorial of the given input\n",
    "    '''\n",
    "    \n",
    "    if n <= 0:\n",
    "        return 1\n",
    "    else:\n",
    "        return n * factorial_recursive(n-1)"
   ]
  },
  {
   "cell_type": "code",
   "execution_count": 90,
   "id": "e8f2d0c2",
   "metadata": {},
   "outputs": [
    {
     "data": {
      "text/plain": [
       "'\\n    Function to calculate facctorial of the input in a rec. way\\n    :param n: (int) non-negative integer value for which we calculate\\n    :return: (int) factorial of the given input\\n    '"
      ]
     },
     "execution_count": 90,
     "metadata": {},
     "output_type": "execute_result"
    }
   ],
   "source": [
    "factorial_recursive.__doc__"
   ]
  }
 ],
 "metadata": {
  "kernelspec": {
   "display_name": "Python 3",
   "language": "python",
   "name": "python3"
  },
  "language_info": {
   "codemirror_mode": {
    "name": "ipython",
    "version": 3
   },
   "file_extension": ".py",
   "mimetype": "text/x-python",
   "name": "python",
   "nbconvert_exporter": "python",
   "pygments_lexer": "ipython3",
   "version": "3.8.8"
  }
 },
 "nbformat": 4,
 "nbformat_minor": 5
}
