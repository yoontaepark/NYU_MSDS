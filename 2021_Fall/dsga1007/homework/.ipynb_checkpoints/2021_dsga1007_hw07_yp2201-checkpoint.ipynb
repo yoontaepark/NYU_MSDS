{
 "cells": [
  {
   "cell_type": "markdown",
   "metadata": {},
   "source": [
    "--- \n",
    "\n",
    "### DSGA1007\n",
    "\n",
    "--- \n",
    "\n",
    "### HW07 \n",
    "\n",
    "### Due Date: Sunday 2021-12-05, 8 PM\n",
    "\n",
    "---\n",
    "\n",
    "#### Student Name: Yoon Tae Park\n",
    "\n",
    "#### Student NetID: yp2201"
   ]
  },
  {
   "cell_type": "markdown",
   "metadata": {},
   "source": [
    "**Problem 1 (100 points)**\n",
    "\n",
    "\n",
    "In this HW as in Lab11 we consider some of the data sets on `restaurant-data-with-consumer-ratings` from: https://www.kaggle.com/uciml/restaurant-data-with-consumer-ratings\n",
    "\n",
    "The data is attached. For all details on data sets, see descriptions in the README file. \n"
   ]
  },
  {
   "cell_type": "markdown",
   "metadata": {},
   "source": [
    "**1.1 (5 points)**\n",
    "\n",
    "Use a shell command to display all provided `*.csv` files (i.e. display the names of all csv files provided)."
   ]
  },
  {
   "cell_type": "markdown",
   "metadata": {},
   "source": [
    "**1.2 (5 points)**\n",
    "\n",
    "Read `./userpayment.csv`, print its head, and print the number of all transactions, i.e. `Upayment`s."
   ]
  },
  {
   "cell_type": "markdown",
   "metadata": {},
   "source": [
    "**1.3 (5 points)**\n",
    "\n",
    "Read `'./userprofile.csv'`, and print its head."
   ]
  },
  {
   "cell_type": "markdown",
   "metadata": {},
   "source": [
    "**1.4 (5 points)**\n",
    "\n",
    "\n",
    "From this table, one can get many characteristics of the users. Let us consider heights of the users. What are the minimum height and the maximum height of all users? "
   ]
  },
  {
   "cell_type": "markdown",
   "metadata": {},
   "source": [
    "**1.5 (5 points)** \n",
    "\n",
    "Plot a histogram of the heights of users. \n",
    "\n",
    "Set the parameter `bins=250` (which is the number of bins in the given histogram)."
   ]
  },
  {
   "cell_type": "markdown",
   "metadata": {},
   "source": [
    "**1.6 (5 points)**\n",
    "\n",
    "\n",
    "What is the number of users with the height of 1.80 meters?"
   ]
  },
  {
   "cell_type": "markdown",
   "metadata": {},
   "source": [
    "**1.7 (5 points)**\n",
    "\n",
    "Read `./rating_final.csv`, and print its head."
   ]
  },
  {
   "cell_type": "markdown",
   "metadata": {},
   "source": [
    "**1.8 (5 points)**\n",
    "\n",
    "Read `./geoplaces2.csv`, print its head."
   ]
  },
  {
   "cell_type": "markdown",
   "metadata": {},
   "source": [
    "**1.9 (5 points)**\n",
    "\n",
    "Print the number of unique users(i.e. 'userID') as well as the number of unique restaurants (i.e. 'placeID'),\n",
    "included in `./rating_final.csv`."
   ]
  },
  {
   "cell_type": "markdown",
   "metadata": {},
   "source": [
    "**1.10 (15 points)**\n",
    "\n",
    "Use the ratings `rating_final.csv`. 'Group by' the data by `placeID` and obtain `mean` and `std` of each of the ratings (`rating`, `food_rating`, and `service_rating`) for each restaurant (i.e. for each `placeID`).\n",
    "\n",
    "Print the head of this frame so to show the results. "
   ]
  },
  {
   "cell_type": "markdown",
   "metadata": {},
   "source": [
    "**1.11 (10 points)**\n",
    "\n",
    "\n",
    "Rank the restaurants IDs (i.e. 'placeID') by their `mean ratings` increasingly.\n",
    "\n",
    "Print the restaurants IDs (i.e. 'placeID') and `mean ratings` with the lowest `mean ratings` (hint: lowest appears at the top).\n",
    "\n",
    "Print the restaurants IDs (i.e. 'placeID') and `mean ratings` with the highest `mean ratings` (hint: highest appears at the bottom).\n",
    "\n"
   ]
  },
  {
   "cell_type": "markdown",
   "metadata": {},
   "source": [
    "**1.12 (10 points)**\n",
    "\n",
    "Make and print a table with columns (`place`, `mean`, `name`), \n",
    "which are the restaurant's ID, mean ratings, and name, \n",
    "of the 10 restaurants with the lowest `mean ratings`.\n"
   ]
  },
  {
   "cell_type": "markdown",
   "metadata": {},
   "source": [
    "**1.13 (10 points)**\n",
    "\n",
    "Make and print a table with columns (`place`, `mean`, `name`), \n",
    "which are the restaurant's ID, mean ratings, and name, \n",
    "of the 10 restaurants with the highest `mean ratings`.\n"
   ]
  },
  {
   "cell_type": "markdown",
   "metadata": {},
   "source": [
    "**1.14 (10 points)**\n",
    "\n",
    "\n",
    "Print `name`, `city`, `state` for the two restaurants with the lowest and highest rank from the \"1.11\" problem sorted data frame (which ranks the restaurants IDs (i.e. 'placeID') by their `mean ratings` increasingly).\n",
    "\n",
    "\n"
   ]
  },
  {
   "cell_type": "code",
   "execution_count": null,
   "metadata": {},
   "outputs": [],
   "source": []
  }
 ],
 "metadata": {
  "kernelspec": {
   "display_name": "Python 3",
   "language": "python",
   "name": "python3"
  },
  "language_info": {
   "codemirror_mode": {
    "name": "ipython",
    "version": 3
   },
   "file_extension": ".py",
   "mimetype": "text/x-python",
   "name": "python",
   "nbconvert_exporter": "python",
   "pygments_lexer": "ipython3",
   "version": "3.8.8"
  }
 },
 "nbformat": 4,
 "nbformat_minor": 2
}
