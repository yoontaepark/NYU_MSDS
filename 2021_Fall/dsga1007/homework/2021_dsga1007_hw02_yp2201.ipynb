{
 "cells": [
  {
   "cell_type": "markdown",
   "metadata": {},
   "source": [
    "--- \n",
    "\n",
    "### 2021 FALL\n",
    "### DSGA1007\n",
    "\n",
    "--- \n",
    "\n",
    "### HW02\n",
    "### Due Date: 2021-10-07, 8PM"
   ]
  },
  {
   "cell_type": "markdown",
   "metadata": {},
   "source": [
    "Firstname: Yoon Tae\n",
    "\n",
    "Lastname: Park \n",
    "\n",
    "E-mail: yp2201@nyu.edu\n",
    "\n",
    "\n",
    "--- \n",
    "\n",
    "Enter your solutions below,  and submit this notebook"
   ]
  },
  {
   "cell_type": "markdown",
   "metadata": {},
   "source": [
    "### Problem 01 (10 points):\n",
    "\n",
    "1. 1 (5 points) Write a function that iteratively calculates factorial $n!$ of an integer $n \\geq 0$, where $n!=1 \\cdot 2 \\cdot \\dots \\cdot n$. Evaluate the function for $n=10$.\n",
    "\n",
    "\n",
    "1. 2 (5 points) Write a function that recursively calculates factorial $n!$ of an integer $n \\geq 0$, where $n!=1 \\cdot 2 \\cdot \\dots \\cdot n$. Evaluate the function for $n=10$.\n"
   ]
  },
  {
   "cell_type": "markdown",
   "metadata": {},
   "source": [
    "### 1.1 Write a function that iteratively calculates factorial  𝑛!"
   ]
  },
  {
   "cell_type": "code",
   "execution_count": 1,
   "metadata": {
    "scrolled": true
   },
   "outputs": [
    {
     "data": {
      "text/plain": [
       "3628800"
      ]
     },
     "execution_count": 1,
     "metadata": {},
     "output_type": "execute_result"
    }
   ],
   "source": [
    "# 1.1\n",
    "def factorial_iter(n):\n",
    "    # if n = 0 then value should be 0! = 1\n",
    "    if n == 0: return 1\n",
    "    \n",
    "    res  = 1\n",
    "    for i in range(1, n+1):\n",
    "        res *= i\n",
    "    return res\n",
    "\n",
    "factorial_iter(10)"
   ]
  },
  {
   "cell_type": "markdown",
   "metadata": {},
   "source": [
    "### 1.2 Write a function that recursively calculates factorial  𝑛!"
   ]
  },
  {
   "cell_type": "code",
   "execution_count": 2,
   "metadata": {},
   "outputs": [
    {
     "data": {
      "text/plain": [
       "3628800"
      ]
     },
     "execution_count": 2,
     "metadata": {},
     "output_type": "execute_result"
    }
   ],
   "source": [
    "# 1.2\n",
    "def factorial_recur(n):\n",
    "    # if n = 0 then value should be 0! = 1\n",
    "    if n <= 1: return 1\n",
    "    else: return n * factorial_recur(n-1)\n",
    "\n",
    "factorial_recur(10)"
   ]
  },
  {
   "cell_type": "markdown",
   "metadata": {},
   "source": [
    "### Problem 02 (50 points)\n",
    "\n",
    "Let $M$ be a real quadratic matrix, that is, the number of rows and columns are the same. \n",
    "\n",
    "2.1 (20 points) Write a function that *recursively* calculates the power of matrix to the exponent $k$ (by the definition of the matrix multiplication). Here $k \\geq 0$ is an integer.\n",
    "\n",
    "```def matrix_mult_rec(M, k):\n",
    "    return M_to_power\n",
    "```    \n",
    "    \n",
    "2.2 (10 points) What is the number of calls, that is, how many times the function has been called for $k=100$?\n",
    "\n",
    "2.3 (15 points) Given the same question as the one in 2.2, what is the answer for a general input $k$?\n",
    "\n",
    "2.4. (5 points) What is the answer for `M=np.ones((5, 5))` and `k=5`?"
   ]
  },
  {
   "cell_type": "markdown",
   "metadata": {},
   "source": [
    "### 2.1 Write a function that recursively calculates the power of matrix to the exponent k"
   ]
  },
  {
   "cell_type": "code",
   "execution_count": 3,
   "metadata": {
    "scrolled": true
   },
   "outputs": [
    {
     "data": {
      "text/plain": [
       "array([[ 57,  78],\n",
       "       [156, 213]])"
      ]
     },
     "execution_count": 3,
     "metadata": {},
     "output_type": "execute_result"
    }
   ],
   "source": [
    "# 2.1 (20 points) Write a function that recursively calculates the power of matrix to the exponent k\n",
    "\n",
    "import numpy as np\n",
    "\n",
    "def power_of_matrix_recur(M, k):\n",
    "    # if k == 0 then, M^0 = I, so return identity matrix\n",
    "    if k == 0: return np.eye(M.shape[0])\n",
    "    \n",
    "    if k == 1: M_to_power = M       \n",
    "    else: M_to_power = np.matmul(M, power_of_matrix_recur(M, k-1))\n",
    "    \n",
    "    return M_to_power\n",
    "\n",
    "# example\n",
    "M = np.array([[1,2],[4,5]])\n",
    "k = 3\n",
    "\n",
    "power_of_matrix_recur(M, k)"
   ]
  },
  {
   "cell_type": "markdown",
   "metadata": {},
   "source": [
    "### 2.2 What is the number of calls, that is, how many times the function has been called for k = 100?\n",
    "### Answer: 100"
   ]
  },
  {
   "cell_type": "code",
   "execution_count": 4,
   "metadata": {
    "scrolled": true
   },
   "outputs": [
    {
     "name": "stdout",
     "output_type": "stream",
     "text": [
      "Number of calls: 100\n"
     ]
    },
    {
     "data": {
      "text/plain": [
       "array([[  483734416012797425, -7676837031707950280],\n",
       "       [ 3093070010293651056,  3576804426306448481]])"
      ]
     },
     "execution_count": 4,
     "metadata": {},
     "output_type": "execute_result"
    }
   ],
   "source": [
    "# 2.2 (10 points) What is the number of calls, that is, how many times the function has been called for k = 100?\n",
    "# Number of calls: 100\n",
    "\n",
    "import numpy as np\n",
    "\n",
    "def power_of_matrix_recur_cnt(M, k, count=1):  \n",
    "    \n",
    "    # if k == 0 then, M^0 = I, so return identity matrix\n",
    "    if k == 0:\n",
    "        print('Number of calls:', count)\n",
    "        return np.eye(M.shape[0])\n",
    "        \n",
    "    \n",
    "    if k == 1: \n",
    "        M_to_power = M\n",
    "        print('Number of calls:', count)\n",
    "        \n",
    "    else: \n",
    "        M_to_power = np.dot(M, power_of_matrix_recur_cnt(M, k-1, count+1))\n",
    "  \n",
    "        \n",
    "    return M_to_power\n",
    "\n",
    "# example\n",
    "M = np.array([[1,2],[4,5]])\n",
    "k = 100\n",
    "\n",
    "power_of_matrix_recur_cnt(M, k)\n"
   ]
  },
  {
   "cell_type": "markdown",
   "metadata": {},
   "source": [
    "### 2.3 Given the same question as the one in 2.2, what is the answer for a general input k?\n",
    "### Answer: Number of calls: k\n",
    "\n",
    "#### Intuitively, if input k=n , we will call function from function(k=n) to function(k=1)\n",
    "#### So total number of calls will be k times"
   ]
  },
  {
   "cell_type": "markdown",
   "metadata": {},
   "source": [
    "### 2.4. What is the answer for M=np.ones((5, 5)) and k=5?\n",
    "[[625., 625., 625., 625., 625.],  \n",
    " [625., 625., 625., 625., 625.],  \n",
    " [625., 625., 625., 625., 625.],  \n",
    " [625., 625., 625., 625., 625.],  \n",
    " [625., 625., 625., 625., 625.]]"
   ]
  },
  {
   "cell_type": "code",
   "execution_count": 5,
   "metadata": {},
   "outputs": [
    {
     "data": {
      "text/plain": [
       "array([[625., 625., 625., 625., 625.],\n",
       "       [625., 625., 625., 625., 625.],\n",
       "       [625., 625., 625., 625., 625.],\n",
       "       [625., 625., 625., 625., 625.],\n",
       "       [625., 625., 625., 625., 625.]])"
      ]
     },
     "execution_count": 5,
     "metadata": {},
     "output_type": "execute_result"
    }
   ],
   "source": [
    "# 2.4 code\n",
    "import numpy as np\n",
    "\n",
    "def power_of_matrix_recur(M, k):\n",
    "    # if k == 0 then, M^0 = I, so return identity matrix\n",
    "    if k == 0: return np.eye(M.shape[0])\n",
    "    \n",
    "    if k == 1: M_to_power = M       \n",
    "    else: M_to_power = np.dot(M, power_of_matrix_recur(M, k-1))\n",
    "    \n",
    "    return M_to_power\n",
    "\n",
    "# example\n",
    "M = np.ones((5, 5))\n",
    "k = 5\n",
    "\n",
    "power_of_matrix_recur(M, k)"
   ]
  },
  {
   "cell_type": "markdown",
   "metadata": {},
   "source": [
    "### Problem 03 (20 points):\n",
    "\n",
    "3.1 (5 points) Write a function that performs a bubble sort.(Function from the lecture is accepted)\n",
    "\n",
    "3.2 (5 points) Write a function that performs a merge sort.(Function from the lecture is accepted)\n",
    "\n",
    "3.3 (5 points) Generate a random numpy array $a$, of length $n=10000$, where each component is a random number independently and uniformly generated from the interval $[0, 1]$. \n",
    "\n",
    "3.4 (5 points) Estimate and print the actual running times for the functions from 3.1 and 3.2 when applied on the array $a$.\n",
    "\n",
    "**Hint**: In problem 3.4 you are asked to find the actual running time for each of the functions bubble sort and merge sort when applied on the random array $a$. In order to calculate the running time, that is, how long a function takes to run, you can use the following code:"
   ]
  },
  {
   "cell_type": "markdown",
   "metadata": {},
   "source": [
    "### 3.1 Write a function that performs a bubble sort.(Function from the lecture is accepted)"
   ]
  },
  {
   "cell_type": "code",
   "execution_count": 6,
   "metadata": {},
   "outputs": [],
   "source": [
    "# 3.1 code\n",
    "def bubble_sort(arr):\n",
    "    \"\"\"sort array: bubble sort\"\"\"\n",
    "    for i in range(len(arr) - 1):\n",
    "        for j in range(i + 1, len(arr)):\n",
    "            if arr[i] > arr[j]:\n",
    "                # swap elements:\n",
    "                arr[i], arr[j] = arr[j], arr[i]\n",
    "                \n",
    "    return arr"
   ]
  },
  {
   "cell_type": "code",
   "execution_count": 7,
   "metadata": {},
   "outputs": [
    {
     "data": {
      "text/plain": [
       "[0, 1, 2, 3, 4, 5, 6, 7, 8, 9]"
      ]
     },
     "execution_count": 7,
     "metadata": {},
     "output_type": "execute_result"
    }
   ],
   "source": [
    "arr = [9, 8, 7, 6, 5, 4, 3, 2, 1, 0]\n",
    "bubble_sort(arr)"
   ]
  },
  {
   "cell_type": "markdown",
   "metadata": {},
   "source": [
    "### 3.2 Write a function that performs a merge sort.(Function from the lecture is accepted)"
   ]
  },
  {
   "cell_type": "code",
   "execution_count": 8,
   "metadata": {},
   "outputs": [],
   "source": [
    "# 3.2 code\n",
    "def merge_sort(arr):\n",
    " \n",
    "    if len(arr) <= 1:\n",
    "        return arr\n",
    "    \n",
    "    # otherwise split into two halves \n",
    "    middle = len(arr) // 2\n",
    "    \n",
    "    arr_left = arr[: middle]    \n",
    "    arr_right = arr[middle: ]\n",
    "\n",
    "    arr_left = merge_sort(arr_left)\n",
    "    arr_right = merge_sort(arr_right)\n",
    "    \n",
    "    return list(merge_two_sorted(arr_left, arr_right))\n",
    "\n",
    "\n",
    "def merge_two_sorted(left_arr, right_arr):\n",
    "    \n",
    "    # init values\n",
    "    lst_result = []\n",
    "    left_point, right_point = 0, 0\n",
    "    \n",
    "    while left_point < len(left_arr) and right_point < len(right_arr):\n",
    "        \n",
    "        if left_arr[left_point] <= right_arr[right_point]:\n",
    "            lst_result.append(left_arr[left_point])\n",
    "            left_point += 1\n",
    "            \n",
    "        else:\n",
    "            lst_result.append(right_arr[right_point])\n",
    "            right_point += 1\n",
    "\n",
    "    # if we've reached the end of the left list:\n",
    "    # append the rest of the right list\n",
    "    if left_point == len(left_arr):\n",
    "        lst_result += right_arr[right_point: ]\n",
    "    else:\n",
    "        lst_result += left_arr[left_point: ]\n",
    "    \n",
    "    return lst_result"
   ]
  },
  {
   "cell_type": "code",
   "execution_count": 9,
   "metadata": {
    "scrolled": true
   },
   "outputs": [
    {
     "data": {
      "text/plain": [
       "[1, 2, 3, 4, 5, 6, 7, 9]"
      ]
     },
     "execution_count": 9,
     "metadata": {},
     "output_type": "execute_result"
    }
   ],
   "source": [
    "arr = [3, 7, 4, 9, 5, 2, 6, 1]\n",
    "merge_sort(arr)"
   ]
  },
  {
   "cell_type": "markdown",
   "metadata": {},
   "source": [
    "### 3.3 (5 points) Generate a random numpy array a of length = 10000, where each component is a random number independently and uniformly generated from the interval  [0,1]"
   ]
  },
  {
   "cell_type": "code",
   "execution_count": 10,
   "metadata": {},
   "outputs": [
    {
     "name": "stdout",
     "output_type": "stream",
     "text": [
      "[0.91087537 0.0683837  0.04565826 ... 0.6802513  0.82188066 0.53575747]\n"
     ]
    }
   ],
   "source": [
    "# 3.3 (5 points) Generate a random numpy array a of length = 10000,\n",
    "# where each component is a random number independently and uniformly generated from the interval  [0,1]\n",
    "\n",
    "x = np.random.rand(10000, )\n",
    "print(x)"
   ]
  },
  {
   "cell_type": "markdown",
   "metadata": {},
   "source": [
    "### 3.4 (5 points) Estimate and print the actual running times for the functions from 3.1 and 3.2 when applied on the array a."
   ]
  },
  {
   "cell_type": "code",
   "execution_count": 11,
   "metadata": {},
   "outputs": [
    {
     "name": "stdout",
     "output_type": "stream",
     "text": [
      "0:00:00.000046\n"
     ]
    }
   ],
   "source": [
    "# actual running times for 3.1\n",
    "import datetime\n",
    "\n",
    "arr = [10, 11, 12, 13, 9, 8, 7, 6, 5, 4, 3, 2, 1]\n",
    "\n",
    "start_time =  datetime.datetime.now()\n",
    "# function\n",
    "bubble_sort(arr)\n",
    "end_time =  datetime.datetime.now()\n",
    "run_time = end_time - start_time\n",
    "print(run_time)"
   ]
  },
  {
   "cell_type": "code",
   "execution_count": 12,
   "metadata": {},
   "outputs": [
    {
     "name": "stdout",
     "output_type": "stream",
     "text": [
      "0:00:00.000053\n"
     ]
    }
   ],
   "source": [
    "# actual running times for 3.2\n",
    "import datetime\n",
    "\n",
    "arr = [10, 11, 12, 13, 9, 8, 7, 6, 5, 4, 3, 2, 1]\n",
    "\n",
    "start_time =  datetime.datetime.now()\n",
    "# function\n",
    "merge_sort(arr)\n",
    "end_time =  datetime.datetime.now()\n",
    "run_time = end_time - start_time\n",
    "print(run_time)"
   ]
  },
  {
   "cell_type": "markdown",
   "metadata": {},
   "source": [
    "\n",
    "### Problem 04 (20 points)\n"
   ]
  },
  {
   "cell_type": "markdown",
   "metadata": {},
   "source": [
    "The provided file 'nba2020.csv' contains the schedules and information of the NBA games for 2020. Using the unix commands, covered in Lecture04, write scripts which will display:\n",
    "    \n",
    "4.1 (5 points) a unique list of NBA teams, provided in the file; (you can use either column \"Visitor\" or column \"Home\")\n",
    "\n",
    "4.2 (5 points) the number of those NBA teams;\n",
    "\n",
    "4.3 (5 points) a unique list of the times -- provided in the file -- when the NBA matches were played;\n",
    "\n",
    "4.4 (5 points) the number of these unique times."
   ]
  },
  {
   "cell_type": "markdown",
   "metadata": {},
   "source": [
    "**Important:** to skip the header of file you can use: \n",
    "    \n",
    "`!tail -n+2 nba2020.csv`\n",
    "\n",
    "\n",
    "Since,\n",
    "\n",
    "``-n, --lines=[+]NUM       output the last NUM lines, instead of the last 10;\n",
    "                             or use -n +NUM to output starting with line NUM``\n",
    "        \n",
    "        \n",
    "**Hint:** Problems 4.3 and 4.4 are asking for the list and unique times in the provided dataset/file. There is a column \"Start (ET)\" in the dataset, and you should process this column. For example \"3:30p\" is one of these times.  For this, you can use the \"cut\" command and the flag \"-f\" as described in class. "
   ]
  },
  {
   "cell_type": "markdown",
   "metadata": {},
   "source": [
    "### 4.1 (5 points) a unique list of NBA teams, provided in the file; (you can use either column \"Visitor\" or column \"Home\")"
   ]
  },
  {
   "cell_type": "code",
   "execution_count": 13,
   "metadata": {},
   "outputs": [
    {
     "name": "stdout",
     "output_type": "stream",
     "text": [
      "Atlanta Hawks\r\n",
      "Boston Celtics\r\n",
      "Brooklyn Nets\r\n",
      "Charlotte Hornets\r\n",
      "Chicago Bulls\r\n",
      "Cleveland Cavaliers\r\n",
      "Dallas Mavericks\r\n",
      "Denver Nuggets\r\n",
      "Detroit Pistons\r\n",
      "Golden State Warriors\r\n",
      "Houston Rockets\r\n",
      "Indiana Pacers\r\n",
      "Los Angeles Clippers\r\n",
      "Los Angeles Lakers\r\n",
      "Memphis Grizzlies\r\n",
      "Miami Heat\r\n",
      "Milwaukee Bucks\r\n",
      "Minnesota Timberwolves\r\n",
      "New Orleans Pelicans\r\n",
      "New York Knicks\r\n",
      "Oklahoma City Thunder\r\n",
      "Orlando Magic\r\n",
      "Philadelphia 76ers\r\n",
      "Phoenix Suns\r\n",
      "Portland Trail Blazers\r\n",
      "Sacramento Kings\r\n",
      "San Antonio Spurs\r\n",
      "Toronto Raptors\r\n",
      "Utah Jazz\r\n",
      "Washington Wizards\r\n"
     ]
    }
   ],
   "source": [
    "!tail -n+2 nba2020.csv |cut -d \",\" -f 3 | sort | uniq | sed '/^$/d'"
   ]
  },
  {
   "cell_type": "markdown",
   "metadata": {},
   "source": [
    "### 4.2 (5 points) the number of those NBA teams;"
   ]
  },
  {
   "cell_type": "code",
   "execution_count": 14,
   "metadata": {},
   "outputs": [
    {
     "name": "stdout",
     "output_type": "stream",
     "text": [
      "      30\r\n"
     ]
    }
   ],
   "source": [
    "!tail -n+2 nba2020.csv | cut -d \",\" -f 3  | sort | uniq | sed '/^$/d' | wc -l"
   ]
  },
  {
   "cell_type": "markdown",
   "metadata": {},
   "source": [
    "### 4.3 (5 points) a unique list of the times -- provided in the file -- when the NBA matches were played;"
   ]
  },
  {
   "cell_type": "code",
   "execution_count": 15,
   "metadata": {
    "scrolled": true
   },
   "outputs": [
    {
     "name": "stdout",
     "output_type": "stream",
     "text": [
      "10:00p\r\n",
      "10:30p\r\n",
      "3:30p\r\n",
      "5:00p\r\n",
      "6:00p\r\n",
      "7:00p\r\n",
      "7:30p\r\n",
      "8:00p\r\n",
      "8:30p\r\n",
      "9:00p\r\n",
      "9:30p\r\n"
     ]
    }
   ],
   "source": [
    "!tail -n+2 nba2020.csv | cut -d \",\" -f 2 | sort | uniq | sed '/^$/d'"
   ]
  },
  {
   "cell_type": "markdown",
   "metadata": {},
   "source": [
    "### 4.4 (5 points) the number of these unique times."
   ]
  },
  {
   "cell_type": "code",
   "execution_count": 16,
   "metadata": {
    "scrolled": true
   },
   "outputs": [
    {
     "name": "stdout",
     "output_type": "stream",
     "text": [
      "      11\r\n"
     ]
    }
   ],
   "source": [
    "!tail -n+2 nba2020.csv | cut -d \",\" -f 2 | sort | uniq | sed '/^$/d' | wc -l"
   ]
  }
 ],
 "metadata": {
  "kernelspec": {
   "display_name": "Python 3",
   "language": "python",
   "name": "python3"
  },
  "language_info": {
   "codemirror_mode": {
    "name": "ipython",
    "version": 3
   },
   "file_extension": ".py",
   "mimetype": "text/x-python",
   "name": "python",
   "nbconvert_exporter": "python",
   "pygments_lexer": "ipython3",
   "version": "3.8.8"
  }
 },
 "nbformat": 4,
 "nbformat_minor": 2
}
