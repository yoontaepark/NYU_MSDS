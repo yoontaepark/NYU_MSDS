{
 "cells": [
  {
   "cell_type": "code",
   "execution_count": 1,
   "id": "eebe996f",
   "metadata": {},
   "outputs": [],
   "source": [
    "# project 1007\n",
    "import numpy as np\n",
    "import pandas as pd\n",
    "import matplotlib.pyplot as plt\n",
    "import seaborn as sns\n",
    "\n",
    "plt.style.use('seaborn')\n",
    "sns.set(font_scale=2.5)\n",
    "\n",
    "#ignore warnings\n",
    "import warnings\n",
    "warnings.filterwarnings('ignore')\n",
    "\n",
    "# to see the result of plot graph in same screen\n",
    "%matplotlib inline\n",
    "\n",
    "# student_df_0 = pd.read_excel('./Data_For_Students_Fall_2021_1007.xlsx', sheet_name = 0, header=1)\n",
    "# student_df_1 = pd.read_excel('./Data_For_Students_Fall_2021_1007.xlsx', sheet_name = 1, header=1)\n",
    "# student_df_2 = pd.read_excel('./Data_For_Students_Fall_2021_1007.xlsx', sheet_name = 2, header=1)\n",
    "student_df_3 = pd.read_excel('./Data_For_Students_Fall_2021_1007.xlsx', sheet_name = 3, header=1)\n",
    "student_df_4 = pd.read_excel('./Data_For_Students_Fall_2021_1007.xlsx', sheet_name = 4, header=2)\n",
    "student_df_5 = pd.read_excel('./Data_For_Students_Fall_2021_1007.xlsx', sheet_name = 5, header=2)\n",
    "student_df_6 = pd.read_excel('./Data_For_Students_Fall_2021_1007.xlsx', sheet_name = 6, header=2)"
   ]
  },
  {
   "cell_type": "code",
   "execution_count": 2,
   "id": "491a2a32",
   "metadata": {},
   "outputs": [
    {
     "data": {
      "text/html": [
       "<div>\n",
       "<style scoped>\n",
       "    .dataframe tbody tr th:only-of-type {\n",
       "        vertical-align: middle;\n",
       "    }\n",
       "\n",
       "    .dataframe tbody tr th {\n",
       "        vertical-align: top;\n",
       "    }\n",
       "\n",
       "    .dataframe thead th {\n",
       "        text-align: right;\n",
       "    }\n",
       "</style>\n",
       "<table border=\"1\" class=\"dataframe\">\n",
       "  <thead>\n",
       "    <tr style=\"text-align: right;\">\n",
       "      <th></th>\n",
       "      <th>Semester</th>\n",
       "      <th>Organization</th>\n",
       "      <th>Job Title</th>\n",
       "      <th>Job Location</th>\n",
       "      <th>Unnamed: 4</th>\n",
       "      <th>Unnamed: 5</th>\n",
       "      <th>Unnamed: 6</th>\n",
       "      <th>Unnamed: 7</th>\n",
       "      <th>Unnamed: 8</th>\n",
       "      <th>Unnamed: 9</th>\n",
       "      <th>...</th>\n",
       "      <th>Unnamed: 17</th>\n",
       "      <th>Unnamed: 18</th>\n",
       "      <th>Unnamed: 19</th>\n",
       "      <th>Unnamed: 20</th>\n",
       "      <th>Unnamed: 21</th>\n",
       "      <th>Unnamed: 22</th>\n",
       "      <th>Unnamed: 23</th>\n",
       "      <th>Unnamed: 24</th>\n",
       "      <th>Unnamed: 25</th>\n",
       "      <th>Unnamed: 26</th>\n",
       "    </tr>\n",
       "  </thead>\n",
       "  <tbody>\n",
       "    <tr>\n",
       "      <th>0</th>\n",
       "      <td>Summer 2021</td>\n",
       "      <td>Citadel</td>\n",
       "      <td>Data Management Technical Intern</td>\n",
       "      <td>NaN</td>\n",
       "      <td>NaN</td>\n",
       "      <td>NaN</td>\n",
       "      <td>NaN</td>\n",
       "      <td>NaN</td>\n",
       "      <td>NaN</td>\n",
       "      <td>NaN</td>\n",
       "      <td>...</td>\n",
       "      <td>NaN</td>\n",
       "      <td>NaN</td>\n",
       "      <td>NaN</td>\n",
       "      <td>NaN</td>\n",
       "      <td>NaN</td>\n",
       "      <td>NaN</td>\n",
       "      <td>NaN</td>\n",
       "      <td>NaN</td>\n",
       "      <td>NaN</td>\n",
       "      <td>NaN</td>\n",
       "    </tr>\n",
       "    <tr>\n",
       "      <th>1</th>\n",
       "      <td>Summer 2021</td>\n",
       "      <td>Adobe</td>\n",
       "      <td>2021 Intern-Data Science Analyst</td>\n",
       "      <td>NaN</td>\n",
       "      <td>NaN</td>\n",
       "      <td>NaN</td>\n",
       "      <td>NaN</td>\n",
       "      <td>NaN</td>\n",
       "      <td>NaN</td>\n",
       "      <td>NaN</td>\n",
       "      <td>...</td>\n",
       "      <td>NaN</td>\n",
       "      <td>NaN</td>\n",
       "      <td>NaN</td>\n",
       "      <td>NaN</td>\n",
       "      <td>NaN</td>\n",
       "      <td>NaN</td>\n",
       "      <td>NaN</td>\n",
       "      <td>NaN</td>\n",
       "      <td>NaN</td>\n",
       "      <td>NaN</td>\n",
       "    </tr>\n",
       "    <tr>\n",
       "      <th>2</th>\n",
       "      <td>Summer 2021</td>\n",
       "      <td>Prudential</td>\n",
       "      <td>Masters Summer Associate</td>\n",
       "      <td>NaN</td>\n",
       "      <td>NaN</td>\n",
       "      <td>NaN</td>\n",
       "      <td>NaN</td>\n",
       "      <td>NaN</td>\n",
       "      <td>NaN</td>\n",
       "      <td>NaN</td>\n",
       "      <td>...</td>\n",
       "      <td>NaN</td>\n",
       "      <td>NaN</td>\n",
       "      <td>NaN</td>\n",
       "      <td>NaN</td>\n",
       "      <td>NaN</td>\n",
       "      <td>NaN</td>\n",
       "      <td>NaN</td>\n",
       "      <td>NaN</td>\n",
       "      <td>NaN</td>\n",
       "      <td>NaN</td>\n",
       "    </tr>\n",
       "  </tbody>\n",
       "</table>\n",
       "<p>3 rows × 27 columns</p>\n",
       "</div>"
      ],
      "text/plain": [
       "      Semester Organization                         Job Title Job Location  \\\n",
       "0  Summer 2021      Citadel  Data Management Technical Intern          NaN   \n",
       "1  Summer 2021        Adobe  2021 Intern-Data Science Analyst          NaN   \n",
       "2  Summer 2021   Prudential          Masters Summer Associate          NaN   \n",
       "\n",
       "   Unnamed: 4  Unnamed: 5  Unnamed: 6  Unnamed: 7  Unnamed: 8  Unnamed: 9  \\\n",
       "0         NaN         NaN         NaN         NaN         NaN         NaN   \n",
       "1         NaN         NaN         NaN         NaN         NaN         NaN   \n",
       "2         NaN         NaN         NaN         NaN         NaN         NaN   \n",
       "\n",
       "   ...  Unnamed: 17  Unnamed: 18  Unnamed: 19  Unnamed: 20  Unnamed: 21  \\\n",
       "0  ...          NaN          NaN          NaN          NaN          NaN   \n",
       "1  ...          NaN          NaN          NaN          NaN          NaN   \n",
       "2  ...          NaN          NaN          NaN          NaN          NaN   \n",
       "\n",
       "   Unnamed: 22  Unnamed: 23  Unnamed: 24  Unnamed: 25  Unnamed: 26  \n",
       "0          NaN          NaN          NaN          NaN          NaN  \n",
       "1          NaN          NaN          NaN          NaN          NaN  \n",
       "2          NaN          NaN          NaN          NaN          NaN  \n",
       "\n",
       "[3 rows x 27 columns]"
      ]
     },
     "execution_count": 2,
     "metadata": {},
     "output_type": "execute_result"
    }
   ],
   "source": [
    "# Since summer internship and career outcome have similar columns, simply add lines and make a merged dataset\n",
    "# df_3: Summer internship, df_4~6: career outcome for given academic years\n",
    "\n",
    "# Starting with summer internship dataset\n",
    "student_df_3.head(3)"
   ]
  },
  {
   "cell_type": "code",
   "execution_count": 3,
   "id": "5fa53ced",
   "metadata": {},
   "outputs": [
    {
     "name": "stdout",
     "output_type": "stream",
     "text": [
      "<class 'pandas.core.frame.DataFrame'>\n",
      "RangeIndex: 133 entries, 0 to 132\n",
      "Data columns (total 27 columns):\n",
      " #   Column        Non-Null Count  Dtype  \n",
      "---  ------        --------------  -----  \n",
      " 0   Semester      133 non-null    object \n",
      " 1   Organization  133 non-null    object \n",
      " 2   Job Title     130 non-null    object \n",
      " 3   Job Location  87 non-null     object \n",
      " 4   Unnamed: 4    0 non-null      float64\n",
      " 5   Unnamed: 5    0 non-null      float64\n",
      " 6   Unnamed: 6    0 non-null      float64\n",
      " 7   Unnamed: 7    0 non-null      float64\n",
      " 8   Unnamed: 8    0 non-null      float64\n",
      " 9   Unnamed: 9    0 non-null      float64\n",
      " 10  Unnamed: 10   0 non-null      float64\n",
      " 11  Unnamed: 11   0 non-null      float64\n",
      " 12  Unnamed: 12   0 non-null      float64\n",
      " 13  Unnamed: 13   0 non-null      float64\n",
      " 14  Unnamed: 14   0 non-null      float64\n",
      " 15  Unnamed: 15   0 non-null      float64\n",
      " 16  Unnamed: 16   0 non-null      float64\n",
      " 17  Unnamed: 17   0 non-null      float64\n",
      " 18  Unnamed: 18   0 non-null      float64\n",
      " 19  Unnamed: 19   0 non-null      float64\n",
      " 20  Unnamed: 20   0 non-null      float64\n",
      " 21  Unnamed: 21   0 non-null      float64\n",
      " 22  Unnamed: 22   0 non-null      float64\n",
      " 23  Unnamed: 23   0 non-null      float64\n",
      " 24  Unnamed: 24   0 non-null      float64\n",
      " 25  Unnamed: 25   0 non-null      float64\n",
      " 26  Unnamed: 26   0 non-null      float64\n",
      "dtypes: float64(23), object(4)\n",
      "memory usage: 28.2+ KB\n"
     ]
    }
   ],
   "source": [
    "# It seems that there are empty columns included. \n",
    "# Select 4 columns that have actual values \n",
    "student_df_3.info()"
   ]
  },
  {
   "cell_type": "code",
   "execution_count": 4,
   "id": "d0443876",
   "metadata": {},
   "outputs": [
    {
     "data": {
      "text/html": [
       "<div>\n",
       "<style scoped>\n",
       "    .dataframe tbody tr th:only-of-type {\n",
       "        vertical-align: middle;\n",
       "    }\n",
       "\n",
       "    .dataframe tbody tr th {\n",
       "        vertical-align: top;\n",
       "    }\n",
       "\n",
       "    .dataframe thead th {\n",
       "        text-align: right;\n",
       "    }\n",
       "</style>\n",
       "<table border=\"1\" class=\"dataframe\">\n",
       "  <thead>\n",
       "    <tr style=\"text-align: right;\">\n",
       "      <th></th>\n",
       "      <th>Semester</th>\n",
       "      <th>Organization</th>\n",
       "      <th>Job Location</th>\n",
       "      <th>Job Title</th>\n",
       "    </tr>\n",
       "  </thead>\n",
       "  <tbody>\n",
       "    <tr>\n",
       "      <th>0</th>\n",
       "      <td>Summer 2021</td>\n",
       "      <td>Citadel</td>\n",
       "      <td>NaN</td>\n",
       "      <td>Data Management Technical Intern</td>\n",
       "    </tr>\n",
       "    <tr>\n",
       "      <th>1</th>\n",
       "      <td>Summer 2021</td>\n",
       "      <td>Adobe</td>\n",
       "      <td>NaN</td>\n",
       "      <td>2021 Intern-Data Science Analyst</td>\n",
       "    </tr>\n",
       "    <tr>\n",
       "      <th>2</th>\n",
       "      <td>Summer 2021</td>\n",
       "      <td>Prudential</td>\n",
       "      <td>NaN</td>\n",
       "      <td>Masters Summer Associate</td>\n",
       "    </tr>\n",
       "  </tbody>\n",
       "</table>\n",
       "</div>"
      ],
      "text/plain": [
       "      Semester Organization Job Location                         Job Title\n",
       "0  Summer 2021      Citadel          NaN  Data Management Technical Intern\n",
       "1  Summer 2021        Adobe          NaN  2021 Intern-Data Science Analyst\n",
       "2  Summer 2021   Prudential          NaN          Masters Summer Associate"
      ]
     },
     "execution_count": 4,
     "metadata": {},
     "output_type": "execute_result"
    }
   ],
   "source": [
    "# Now we have 4 columns but more information including job location is needed\n",
    "student_df_3 = student_df_3[['Semester', 'Organization', 'Job Location', 'Job Title']]\n",
    "student_df_3.head(3)"
   ]
  },
  {
   "cell_type": "code",
   "execution_count": 5,
   "id": "7e0567a7",
   "metadata": {
    "scrolled": true
   },
   "outputs": [
    {
     "data": {
      "text/html": [
       "<div>\n",
       "<style scoped>\n",
       "    .dataframe tbody tr th:only-of-type {\n",
       "        vertical-align: middle;\n",
       "    }\n",
       "\n",
       "    .dataframe tbody tr th {\n",
       "        vertical-align: top;\n",
       "    }\n",
       "\n",
       "    .dataframe thead th {\n",
       "        text-align: right;\n",
       "    }\n",
       "</style>\n",
       "<table border=\"1\" class=\"dataframe\">\n",
       "  <thead>\n",
       "    <tr style=\"text-align: right;\">\n",
       "      <th></th>\n",
       "      <th>Organization</th>\n",
       "      <th>Job Location</th>\n",
       "      <th>Job Title</th>\n",
       "      <th>Unnamed: 3</th>\n",
       "      <th>Unnamed: 4</th>\n",
       "      <th>Unnamed: 5</th>\n",
       "      <th>Unnamed: 6</th>\n",
       "      <th>Unnamed: 7</th>\n",
       "      <th>Unnamed: 8</th>\n",
       "      <th>Unnamed: 9</th>\n",
       "      <th>...</th>\n",
       "      <th>Unnamed: 17</th>\n",
       "      <th>Unnamed: 18</th>\n",
       "      <th>Unnamed: 19</th>\n",
       "      <th>Unnamed: 20</th>\n",
       "      <th>Unnamed: 21</th>\n",
       "      <th>Unnamed: 22</th>\n",
       "      <th>Unnamed: 23</th>\n",
       "      <th>Unnamed: 24</th>\n",
       "      <th>Unnamed: 25</th>\n",
       "      <th>Unnamed: 26</th>\n",
       "    </tr>\n",
       "  </thead>\n",
       "  <tbody>\n",
       "    <tr>\n",
       "      <th>0</th>\n",
       "      <td>Vanguard</td>\n",
       "      <td>Philadelphia</td>\n",
       "      <td>Marketing Data Scientist</td>\n",
       "      <td>NaN</td>\n",
       "      <td>NaN</td>\n",
       "      <td>NaN</td>\n",
       "      <td>NaN</td>\n",
       "      <td>NaN</td>\n",
       "      <td>NaN</td>\n",
       "      <td>NaN</td>\n",
       "      <td>...</td>\n",
       "      <td>NaN</td>\n",
       "      <td>NaN</td>\n",
       "      <td>NaN</td>\n",
       "      <td>NaN</td>\n",
       "      <td>NaN</td>\n",
       "      <td>NaN</td>\n",
       "      <td>NaN</td>\n",
       "      <td>NaN</td>\n",
       "      <td>NaN</td>\n",
       "      <td>NaN</td>\n",
       "    </tr>\n",
       "    <tr>\n",
       "      <th>1</th>\n",
       "      <td>American Express</td>\n",
       "      <td>New York, NY</td>\n",
       "      <td>Manager, Enterprise Digital Analytics</td>\n",
       "      <td>NaN</td>\n",
       "      <td>NaN</td>\n",
       "      <td>NaN</td>\n",
       "      <td>NaN</td>\n",
       "      <td>NaN</td>\n",
       "      <td>NaN</td>\n",
       "      <td>NaN</td>\n",
       "      <td>...</td>\n",
       "      <td>NaN</td>\n",
       "      <td>NaN</td>\n",
       "      <td>NaN</td>\n",
       "      <td>NaN</td>\n",
       "      <td>NaN</td>\n",
       "      <td>NaN</td>\n",
       "      <td>NaN</td>\n",
       "      <td>NaN</td>\n",
       "      <td>NaN</td>\n",
       "      <td>NaN</td>\n",
       "    </tr>\n",
       "    <tr>\n",
       "      <th>2</th>\n",
       "      <td>Apple</td>\n",
       "      <td>NaN</td>\n",
       "      <td>NaN</td>\n",
       "      <td>NaN</td>\n",
       "      <td>NaN</td>\n",
       "      <td>NaN</td>\n",
       "      <td>NaN</td>\n",
       "      <td>NaN</td>\n",
       "      <td>NaN</td>\n",
       "      <td>NaN</td>\n",
       "      <td>...</td>\n",
       "      <td>NaN</td>\n",
       "      <td>NaN</td>\n",
       "      <td>NaN</td>\n",
       "      <td>NaN</td>\n",
       "      <td>NaN</td>\n",
       "      <td>NaN</td>\n",
       "      <td>NaN</td>\n",
       "      <td>NaN</td>\n",
       "      <td>NaN</td>\n",
       "      <td>NaN</td>\n",
       "    </tr>\n",
       "  </tbody>\n",
       "</table>\n",
       "<p>3 rows × 27 columns</p>\n",
       "</div>"
      ],
      "text/plain": [
       "       Organization  Job Location                              Job Title  \\\n",
       "0          Vanguard  Philadelphia               Marketing Data Scientist   \n",
       "1  American Express  New York, NY  Manager, Enterprise Digital Analytics   \n",
       "2             Apple           NaN                                    NaN   \n",
       "\n",
       "   Unnamed: 3  Unnamed: 4  Unnamed: 5  Unnamed: 6  Unnamed: 7  Unnamed: 8  \\\n",
       "0         NaN         NaN         NaN         NaN         NaN         NaN   \n",
       "1         NaN         NaN         NaN         NaN         NaN         NaN   \n",
       "2         NaN         NaN         NaN         NaN         NaN         NaN   \n",
       "\n",
       "   Unnamed: 9  ...  Unnamed: 17  Unnamed: 18  Unnamed: 19  Unnamed: 20  \\\n",
       "0         NaN  ...          NaN          NaN          NaN          NaN   \n",
       "1         NaN  ...          NaN          NaN          NaN          NaN   \n",
       "2         NaN  ...          NaN          NaN          NaN          NaN   \n",
       "\n",
       "   Unnamed: 21  Unnamed: 22  Unnamed: 23  Unnamed: 24  Unnamed: 25  \\\n",
       "0          NaN          NaN          NaN          NaN          NaN   \n",
       "1          NaN          NaN          NaN          NaN          NaN   \n",
       "2          NaN          NaN          NaN          NaN          NaN   \n",
       "\n",
       "   Unnamed: 26  \n",
       "0          NaN  \n",
       "1          NaN  \n",
       "2          NaN  \n",
       "\n",
       "[3 rows x 27 columns]"
      ]
     },
     "execution_count": 5,
     "metadata": {},
     "output_type": "execute_result"
    }
   ],
   "source": [
    "# For career outcome datasets, clean columns and create 'Semester' column to make a same format \n",
    "student_df_4.head(3)"
   ]
  },
  {
   "cell_type": "code",
   "execution_count": 6,
   "id": "156c36ca",
   "metadata": {},
   "outputs": [],
   "source": [
    "student_df_4['Semester'] = 'Career(20-21)'"
   ]
  },
  {
   "cell_type": "code",
   "execution_count": 7,
   "id": "a94aa7d4",
   "metadata": {},
   "outputs": [
    {
     "data": {
      "text/html": [
       "<div>\n",
       "<style scoped>\n",
       "    .dataframe tbody tr th:only-of-type {\n",
       "        vertical-align: middle;\n",
       "    }\n",
       "\n",
       "    .dataframe tbody tr th {\n",
       "        vertical-align: top;\n",
       "    }\n",
       "\n",
       "    .dataframe thead th {\n",
       "        text-align: right;\n",
       "    }\n",
       "</style>\n",
       "<table border=\"1\" class=\"dataframe\">\n",
       "  <thead>\n",
       "    <tr style=\"text-align: right;\">\n",
       "      <th></th>\n",
       "      <th>Semester</th>\n",
       "      <th>Organization</th>\n",
       "      <th>Job Location</th>\n",
       "      <th>Job Title</th>\n",
       "    </tr>\n",
       "  </thead>\n",
       "  <tbody>\n",
       "    <tr>\n",
       "      <th>0</th>\n",
       "      <td>Career(20-21)</td>\n",
       "      <td>Vanguard</td>\n",
       "      <td>Philadelphia</td>\n",
       "      <td>Marketing Data Scientist</td>\n",
       "    </tr>\n",
       "    <tr>\n",
       "      <th>1</th>\n",
       "      <td>Career(20-21)</td>\n",
       "      <td>American Express</td>\n",
       "      <td>New York, NY</td>\n",
       "      <td>Manager, Enterprise Digital Analytics</td>\n",
       "    </tr>\n",
       "    <tr>\n",
       "      <th>2</th>\n",
       "      <td>Career(20-21)</td>\n",
       "      <td>Apple</td>\n",
       "      <td>NaN</td>\n",
       "      <td>NaN</td>\n",
       "    </tr>\n",
       "  </tbody>\n",
       "</table>\n",
       "</div>"
      ],
      "text/plain": [
       "        Semester      Organization  Job Location  \\\n",
       "0  Career(20-21)          Vanguard  Philadelphia   \n",
       "1  Career(20-21)  American Express  New York, NY   \n",
       "2  Career(20-21)             Apple           NaN   \n",
       "\n",
       "                               Job Title  \n",
       "0               Marketing Data Scientist  \n",
       "1  Manager, Enterprise Digital Analytics  \n",
       "2                                    NaN  "
      ]
     },
     "execution_count": 7,
     "metadata": {},
     "output_type": "execute_result"
    }
   ],
   "source": [
    "student_df_4 = student_df_4[['Semester', 'Organization', 'Job Location', 'Job Title']]\n",
    "student_df_4.head(3)  "
   ]
  },
  {
   "cell_type": "code",
   "execution_count": 8,
   "id": "b976310d",
   "metadata": {},
   "outputs": [],
   "source": [
    "student_df_5['Semester'] = 'Career(19-20)'\n",
    "student_df_6['Semester'] = 'Career(18-19)'\n",
    "\n",
    "student_df_5 = student_df_5[['Semester', 'Organization', 'Job Location',  'Job Title']]\n",
    "student_df_6 = student_df_6[['Semester', 'Organization', 'Job Location',  'Job Title']]"
   ]
  },
  {
   "cell_type": "code",
   "execution_count": 9,
   "id": "43fa683a",
   "metadata": {},
   "outputs": [
    {
     "data": {
      "text/html": [
       "<div>\n",
       "<style scoped>\n",
       "    .dataframe tbody tr th:only-of-type {\n",
       "        vertical-align: middle;\n",
       "    }\n",
       "\n",
       "    .dataframe tbody tr th {\n",
       "        vertical-align: top;\n",
       "    }\n",
       "\n",
       "    .dataframe thead th {\n",
       "        text-align: right;\n",
       "    }\n",
       "</style>\n",
       "<table border=\"1\" class=\"dataframe\">\n",
       "  <thead>\n",
       "    <tr style=\"text-align: right;\">\n",
       "      <th></th>\n",
       "      <th>Semester</th>\n",
       "      <th>Organization</th>\n",
       "      <th>Job Location</th>\n",
       "      <th>Job Title</th>\n",
       "    </tr>\n",
       "  </thead>\n",
       "  <tbody>\n",
       "    <tr>\n",
       "      <th>0</th>\n",
       "      <td>Career(19-20)</td>\n",
       "      <td>Amazon</td>\n",
       "      <td>Seattle</td>\n",
       "      <td>Software Development Engineer</td>\n",
       "    </tr>\n",
       "    <tr>\n",
       "      <th>1</th>\n",
       "      <td>Career(19-20)</td>\n",
       "      <td>Lyft</td>\n",
       "      <td>NYC</td>\n",
       "      <td>Data Scientist</td>\n",
       "    </tr>\n",
       "    <tr>\n",
       "      <th>2</th>\n",
       "      <td>Career(19-20)</td>\n",
       "      <td>Amazon</td>\n",
       "      <td>Sunnyvale/CA/US</td>\n",
       "      <td>Software Engineer</td>\n",
       "    </tr>\n",
       "  </tbody>\n",
       "</table>\n",
       "</div>"
      ],
      "text/plain": [
       "        Semester Organization     Job Location                      Job Title\n",
       "0  Career(19-20)       Amazon          Seattle  Software Development Engineer\n",
       "1  Career(19-20)         Lyft              NYC                 Data Scientist\n",
       "2  Career(19-20)       Amazon  Sunnyvale/CA/US              Software Engineer"
      ]
     },
     "execution_count": 9,
     "metadata": {},
     "output_type": "execute_result"
    }
   ],
   "source": [
    "student_df_5.head(3)"
   ]
  },
  {
   "cell_type": "code",
   "execution_count": 10,
   "id": "84e42e0d",
   "metadata": {
    "scrolled": true
   },
   "outputs": [
    {
     "data": {
      "text/html": [
       "<div>\n",
       "<style scoped>\n",
       "    .dataframe tbody tr th:only-of-type {\n",
       "        vertical-align: middle;\n",
       "    }\n",
       "\n",
       "    .dataframe tbody tr th {\n",
       "        vertical-align: top;\n",
       "    }\n",
       "\n",
       "    .dataframe thead th {\n",
       "        text-align: right;\n",
       "    }\n",
       "</style>\n",
       "<table border=\"1\" class=\"dataframe\">\n",
       "  <thead>\n",
       "    <tr style=\"text-align: right;\">\n",
       "      <th></th>\n",
       "      <th>Semester</th>\n",
       "      <th>Organization</th>\n",
       "      <th>Job Location</th>\n",
       "      <th>Job Title</th>\n",
       "    </tr>\n",
       "  </thead>\n",
       "  <tbody>\n",
       "    <tr>\n",
       "      <th>0</th>\n",
       "      <td>Career(18-19)</td>\n",
       "      <td>Apple</td>\n",
       "      <td>Austin</td>\n",
       "      <td>Machine Learning engineer</td>\n",
       "    </tr>\n",
       "    <tr>\n",
       "      <th>1</th>\n",
       "      <td>Career(18-19)</td>\n",
       "      <td>SurveyMonkey</td>\n",
       "      <td>San Mateo, CA</td>\n",
       "      <td>Data Scientist</td>\n",
       "    </tr>\n",
       "    <tr>\n",
       "      <th>2</th>\n",
       "      <td>Career(18-19)</td>\n",
       "      <td>WarnerMedia</td>\n",
       "      <td>New York, NY, US</td>\n",
       "      <td>Data scientist</td>\n",
       "    </tr>\n",
       "  </tbody>\n",
       "</table>\n",
       "</div>"
      ],
      "text/plain": [
       "        Semester  Organization      Job Location                  Job Title\n",
       "0  Career(18-19)         Apple            Austin  Machine Learning engineer\n",
       "1  Career(18-19)  SurveyMonkey     San Mateo, CA             Data Scientist\n",
       "2  Career(18-19)   WarnerMedia  New York, NY, US             Data scientist"
      ]
     },
     "execution_count": 10,
     "metadata": {},
     "output_type": "execute_result"
    }
   ],
   "source": [
    "student_df_6.head(3)"
   ]
  },
  {
   "cell_type": "code",
   "execution_count": 11,
   "id": "f1c1689f",
   "metadata": {},
   "outputs": [],
   "source": [
    "# merge datasets as just adding rows \n",
    "career_merged = pd.concat([student_df_3, student_df_4, student_df_5, student_df_6] , ignore_index=True)"
   ]
  },
  {
   "cell_type": "code",
   "execution_count": 12,
   "id": "841875f4",
   "metadata": {},
   "outputs": [
    {
     "name": "stdout",
     "output_type": "stream",
     "text": [
      "student_df_3 length: 133\n",
      "student_df_4 length: 34\n",
      "student_df_5 length: 34\n",
      "student_df_6 length: 21\n",
      "\n",
      "career_merged length: 222\n"
     ]
    }
   ],
   "source": [
    "# Note: \n",
    "# summer internship dataset is merged dataset of 3 years \n",
    "# each career outcome contains about 30 rows\n",
    "\n",
    "# Summer internship is sourced from CDS's course DS-GA 1009: Practical training\n",
    "# if students don't enroll in this course, CDS cannot track internship results\n",
    "# and this is why there isn't full data for every other students\n",
    "\n",
    "# Career outcome is sourced by survey conducted by CDS\n",
    "# It means that students may ignore or forgot to do the survey\n",
    "\n",
    "print('student_df_3 length:', len(student_df_3))\n",
    "print('student_df_4 length:', len(student_df_4))\n",
    "print('student_df_5 length:', len(student_df_5))\n",
    "print('student_df_6 length:', len(student_df_6))\n",
    "print()\n",
    "print('career_merged length:', len(career_merged))"
   ]
  },
  {
   "cell_type": "code",
   "execution_count": 13,
   "id": "8425deac",
   "metadata": {
    "scrolled": true
   },
   "outputs": [
    {
     "data": {
      "text/plain": [
       "Summer 2019     58\n",
       "Summer 2020     37\n",
       "Summer 2021     38\n",
       "Name: Semester, dtype: int64"
      ]
     },
     "execution_count": 13,
     "metadata": {},
     "output_type": "execute_result"
    }
   ],
   "source": [
    "student_df_3['Semester'].value_counts().sort_index()"
   ]
  },
  {
   "cell_type": "markdown",
   "id": "903134d7",
   "metadata": {},
   "source": [
    "## Adding more columns and deciding with null values to have a better visualization"
   ]
  },
  {
   "cell_type": "code",
   "execution_count": 14,
   "id": "53709e67",
   "metadata": {
    "scrolled": true
   },
   "outputs": [
    {
     "name": "stdout",
     "output_type": "stream",
     "text": [
      "<class 'pandas.core.frame.DataFrame'>\n",
      "RangeIndex: 222 entries, 0 to 221\n",
      "Data columns (total 4 columns):\n",
      " #   Column        Non-Null Count  Dtype \n",
      "---  ------        --------------  ----- \n",
      " 0   Semester      222 non-null    object\n",
      " 1   Organization  221 non-null    object\n",
      " 2   Job Location  174 non-null    object\n",
      " 3   Job Title     216 non-null    object\n",
      "dtypes: object(4)\n",
      "memory usage: 7.1+ KB\n"
     ]
    }
   ],
   "source": [
    "# Even Organization is missing\n",
    "career_merged.info()"
   ]
  },
  {
   "cell_type": "code",
   "execution_count": 15,
   "id": "d17f57bb",
   "metadata": {
    "scrolled": true
   },
   "outputs": [
    {
     "data": {
      "text/html": [
       "<div>\n",
       "<style scoped>\n",
       "    .dataframe tbody tr th:only-of-type {\n",
       "        vertical-align: middle;\n",
       "    }\n",
       "\n",
       "    .dataframe tbody tr th {\n",
       "        vertical-align: top;\n",
       "    }\n",
       "\n",
       "    .dataframe thead th {\n",
       "        text-align: right;\n",
       "    }\n",
       "</style>\n",
       "<table border=\"1\" class=\"dataframe\">\n",
       "  <thead>\n",
       "    <tr style=\"text-align: right;\">\n",
       "      <th></th>\n",
       "      <th>Semester</th>\n",
       "      <th>Organization</th>\n",
       "      <th>Job Location</th>\n",
       "      <th>Job Title</th>\n",
       "    </tr>\n",
       "  </thead>\n",
       "  <tbody>\n",
       "    <tr>\n",
       "      <th>8</th>\n",
       "      <td>Summer 2021</td>\n",
       "      <td>Citadel</td>\n",
       "      <td>NaN</td>\n",
       "      <td>Data Management Technical Intern</td>\n",
       "    </tr>\n",
       "    <tr>\n",
       "      <th>15</th>\n",
       "      <td>Summer 2021</td>\n",
       "      <td>Citadel</td>\n",
       "      <td>NaN</td>\n",
       "      <td>Data Management Technical Intern</td>\n",
       "    </tr>\n",
       "    <tr>\n",
       "      <th>27</th>\n",
       "      <td>Summer 2021</td>\n",
       "      <td>IBM CAO</td>\n",
       "      <td>NaN</td>\n",
       "      <td>DS Intern</td>\n",
       "    </tr>\n",
       "    <tr>\n",
       "      <th>40</th>\n",
       "      <td>Summer 2020</td>\n",
       "      <td>Amazon</td>\n",
       "      <td>Seattle, WA</td>\n",
       "      <td>DS Intern</td>\n",
       "    </tr>\n",
       "    <tr>\n",
       "      <th>44</th>\n",
       "      <td>Summer 2020</td>\n",
       "      <td>Amazon</td>\n",
       "      <td>Seattle, WA</td>\n",
       "      <td>DS Intern</td>\n",
       "    </tr>\n",
       "    <tr>\n",
       "      <th>58</th>\n",
       "      <td>Summer 2020</td>\n",
       "      <td>Apple</td>\n",
       "      <td>Austin, TX</td>\n",
       "      <td>DS Intern</td>\n",
       "    </tr>\n",
       "    <tr>\n",
       "      <th>104</th>\n",
       "      <td>Summer 2019</td>\n",
       "      <td>IBM Chief Analytics Office</td>\n",
       "      <td>NY</td>\n",
       "      <td>DS Intern</td>\n",
       "    </tr>\n",
       "    <tr>\n",
       "      <th>105</th>\n",
       "      <td>Summer 2019</td>\n",
       "      <td>IBM Chief Analytics Office</td>\n",
       "      <td>NY</td>\n",
       "      <td>DS Intern</td>\n",
       "    </tr>\n",
       "    <tr>\n",
       "      <th>116</th>\n",
       "      <td>Summer 2019</td>\n",
       "      <td>Bombora</td>\n",
       "      <td>NY</td>\n",
       "      <td>DS Intern</td>\n",
       "    </tr>\n",
       "    <tr>\n",
       "      <th>130</th>\n",
       "      <td>Summer 2019</td>\n",
       "      <td>Expedia</td>\n",
       "      <td>WA</td>\n",
       "      <td>DS Intern</td>\n",
       "    </tr>\n",
       "  </tbody>\n",
       "</table>\n",
       "</div>"
      ],
      "text/plain": [
       "         Semester                Organization Job Location  \\\n",
       "8     Summer 2021                     Citadel          NaN   \n",
       "15    Summer 2021                     Citadel          NaN   \n",
       "27    Summer 2021                     IBM CAO          NaN   \n",
       "40    Summer 2020                      Amazon  Seattle, WA   \n",
       "44    Summer 2020                      Amazon  Seattle, WA   \n",
       "58    Summer 2020                       Apple   Austin, TX   \n",
       "104  Summer 2019   IBM Chief Analytics Office           NY   \n",
       "105  Summer 2019   IBM Chief Analytics Office           NY   \n",
       "116  Summer 2019                      Bombora           NY   \n",
       "130  Summer 2019                      Expedia           WA   \n",
       "\n",
       "                            Job Title  \n",
       "8    Data Management Technical Intern  \n",
       "15   Data Management Technical Intern  \n",
       "27                          DS Intern  \n",
       "40                          DS Intern  \n",
       "44                          DS Intern  \n",
       "58                          DS Intern  \n",
       "104                         DS Intern  \n",
       "105                         DS Intern  \n",
       "116                         DS Intern  \n",
       "130                         DS Intern  "
      ]
     },
     "execution_count": 15,
     "metadata": {},
     "output_type": "execute_result"
    }
   ],
   "source": [
    "# Checking duplicates: It makes sense for having duplicates (students might have same jobs)\n",
    "career_merged[career_merged.duplicated()]"
   ]
  },
  {
   "cell_type": "code",
   "execution_count": 16,
   "id": "bae55e90",
   "metadata": {},
   "outputs": [],
   "source": [
    "# We found that Semester 'Summer 2019' was actually including space\n",
    "# So, convert 'Summer 2019 ' into 'Summer 2019'\n",
    "\n",
    "career_merged['Semester'].replace('Summer 2019 ', 'Summer 2019', inplace=True)"
   ]
  },
  {
   "cell_type": "code",
   "execution_count": 18,
   "id": "44b90a5d",
   "metadata": {},
   "outputs": [
    {
     "data": {
      "text/html": [
       "<div>\n",
       "<style scoped>\n",
       "    .dataframe tbody tr th:only-of-type {\n",
       "        vertical-align: middle;\n",
       "    }\n",
       "\n",
       "    .dataframe tbody tr th {\n",
       "        vertical-align: top;\n",
       "    }\n",
       "\n",
       "    .dataframe thead th {\n",
       "        text-align: right;\n",
       "    }\n",
       "</style>\n",
       "<table border=\"1\" class=\"dataframe\">\n",
       "  <thead>\n",
       "    <tr style=\"text-align: right;\">\n",
       "      <th></th>\n",
       "      <th>Semester</th>\n",
       "      <th>Organization</th>\n",
       "      <th>Job Location</th>\n",
       "      <th>Job Title</th>\n",
       "    </tr>\n",
       "  </thead>\n",
       "  <tbody>\n",
       "    <tr>\n",
       "      <th>173</th>\n",
       "      <td>Career(19-20)</td>\n",
       "      <td>NaN</td>\n",
       "      <td>Beijing, China</td>\n",
       "      <td>Algorithm Engineer</td>\n",
       "    </tr>\n",
       "  </tbody>\n",
       "</table>\n",
       "</div>"
      ],
      "text/plain": [
       "          Semester Organization    Job Location           Job Title\n",
       "173  Career(19-20)          NaN  Beijing, China  Algorithm Engineer"
      ]
     },
     "execution_count": 18,
     "metadata": {},
     "output_type": "execute_result"
    }
   ],
   "source": [
    "# Checking Organization column, but we don't know this Organization at all\n",
    "# Decided to remove this row\n",
    "career_merged[career_merged['Organization'].isnull()]"
   ]
  },
  {
   "cell_type": "code",
   "execution_count": 19,
   "id": "04ee14af",
   "metadata": {},
   "outputs": [],
   "source": [
    "# droping row by calling index of given condition\n",
    "del_row = career_merged[career_merged['Organization'].isnull()]\n",
    "career_merged.drop(del_row.index, inplace=True)"
   ]
  },
  {
   "cell_type": "code",
   "execution_count": 20,
   "id": "49baaf85",
   "metadata": {
    "scrolled": false
   },
   "outputs": [
    {
     "name": "stdout",
     "output_type": "stream",
     "text": [
      "<class 'pandas.core.frame.DataFrame'>\n",
      "Int64Index: 221 entries, 0 to 221\n",
      "Data columns (total 4 columns):\n",
      " #   Column        Non-Null Count  Dtype \n",
      "---  ------        --------------  ----- \n",
      " 0   Semester      221 non-null    object\n",
      " 1   Organization  221 non-null    object\n",
      " 2   Job Location  173 non-null    object\n",
      " 3   Job Title     215 non-null    object\n",
      "dtypes: object(4)\n",
      "memory usage: 8.6+ KB\n"
     ]
    }
   ],
   "source": [
    "career_merged.info()"
   ]
  },
  {
   "cell_type": "code",
   "execution_count": 21,
   "id": "e868909a",
   "metadata": {},
   "outputs": [
    {
     "data": {
      "text/plain": [
       "Amazon                  17\n",
       "Apple                    8\n",
       "Facebook                 8\n",
       "Google                   7\n",
       "Prudential Financial     5\n",
       "                        ..\n",
       "Bluehill USA Inc         1\n",
       "Pluralsight Iris         1\n",
       "Ernst & Young            1\n",
       "Keps Capital             1\n",
       "Kuai                     1\n",
       "Name: Organization, Length: 137, dtype: int64"
      ]
     },
     "execution_count": 21,
     "metadata": {},
     "output_type": "execute_result"
    }
   ],
   "source": [
    "# Organization column has some noise values, and those need to be cleaned. \n",
    "career_merged['Organization'].value_counts()"
   ]
  },
  {
   "cell_type": "code",
   "execution_count": 22,
   "id": "f52402c3",
   "metadata": {},
   "outputs": [
    {
     "data": {
      "text/plain": [
       "137"
      ]
     },
     "execution_count": 22,
     "metadata": {},
     "output_type": "execute_result"
    }
   ],
   "source": [
    "len(career_merged['Organization'].unique())"
   ]
  },
  {
   "cell_type": "code",
   "execution_count": 23,
   "id": "f4385e81",
   "metadata": {},
   "outputs": [],
   "source": [
    "# Create a function that categorizes job title(cleaning some typos as well)\n",
    "# DiDi, Fiedlity, IBM, JP Morgan, Kepos Capital, NYU, Oracle, PIMCO, Prudential\n",
    "# Survey Monkey, Verisk, Zillow, Bombora\n",
    "\n",
    "def org_clean(organization):\n",
    "    \n",
    "    if any(s in organization for s in ('DiDi', 'Didi')): organization = 'DiDi'\n",
    "    elif 'Fidelity' in organization: organization = 'Fiedlity'    \n",
    "    elif 'IB' in organization: organization = 'IBM'\n",
    "    elif 'Morgan' in organization: organization = 'JP Morgan' \n",
    "    elif any(s in organization for s in ('Kepos', 'Keps')): organization = 'Kepos Capital'\n",
    "    elif 'NYU' in organization: organization = 'NYU'    \n",
    "    elif 'Oracle' in organization: organization = 'Oracle' \n",
    "    elif any(s in organization for s in ('Pimco', 'PIMCO')): organization = 'PIMCO'\n",
    "    elif 'Zillow' in organization: organization = 'Zillow'\n",
    "    elif 'Prudential' in organization: organization = 'Prudential'\n",
    "    elif any(s in organization for s in ('Survey Monkey', 'SurveyMonkey')): organization = 'Survey Monkey' \n",
    "    elif 'Verisk' in organization: organization = 'Verisk'   \n",
    "    elif 'Bombora' in organization: organization = 'Bombora'   \n",
    "        \n",
    "        \n",
    "    return organization\n",
    "\n",
    "career_merged['Organization_cleaned'] = career_merged['Organization'].apply(lambda x: org_clean(x))"
   ]
  },
  {
   "cell_type": "code",
   "execution_count": 24,
   "id": "14b745f2",
   "metadata": {},
   "outputs": [
    {
     "data": {
      "text/plain": [
       "113"
      ]
     },
     "execution_count": 24,
     "metadata": {},
     "output_type": "execute_result"
    }
   ],
   "source": [
    "len(career_merged['Organization_cleaned'].unique())"
   ]
  },
  {
   "cell_type": "code",
   "execution_count": 25,
   "id": "ae27c38a",
   "metadata": {},
   "outputs": [],
   "source": [
    "# Can't decide for job location\n",
    "# But deleting rows will lose its statistic power\n",
    "# therefore just convert into 'unidentified' for both rcolumns\n",
    "career_merged['Job Location'].fillna('Unidentified', inplace=True)"
   ]
  },
  {
   "cell_type": "code",
   "execution_count": 26,
   "id": "676e5f13",
   "metadata": {},
   "outputs": [],
   "source": [
    "# Same applies for Job Title\n",
    "career_merged['Job Title'].fillna('Unidentified', inplace=True)"
   ]
  },
  {
   "cell_type": "code",
   "execution_count": 28,
   "id": "59c15f40",
   "metadata": {},
   "outputs": [],
   "source": [
    "# Create a function that categorizes job title\n",
    "# Categories as below: 'Intern: Data Science', 'Intern: Data Analytics', 'Intern: Others', 'Intern: Research', \n",
    "# 'Intern: Software Engineering', 'Intern: Data Engineering', 'Intern: Product Manager', 'Intern: Machine learning'\n",
    "# 'Intern: Computer Vision'\n",
    "\n",
    "def loc_cat(location):\n",
    "    \n",
    "    location = location.lower()\n",
    "    \n",
    "    if any(s in location for s in ('ma', 'boston')): location = 'MA'  \n",
    "    elif any(s in location for s in ('va', 'boston')): location = 'VA'    \n",
    "    elif any(s in location for s in ('ca', 'la', 'mountain', 'san jose', 'palo', 'san francisco', 'menlo park')): location = 'CA'   \n",
    "    elif any(s in location for s in ('tx', 'austin')): location = 'TX'  \n",
    "    elif any(s in location for s in ('wa', 'seattle')): location = 'WA'   \n",
    "    elif any(s in location for s in ('nj', 'newark')): location = 'NJ'\n",
    "    elif 'ct' in location: location = 'CT'\n",
    "    elif 'co' in location: location = 'CO'\n",
    "    elif 'pa' in location: location = 'PA'\n",
    "    elif 'az' in location: location = 'AZ'    \n",
    "    elif 'mn' in location: location = 'MN'    \n",
    "    elif 'nm' in location: location = 'NM'\n",
    "#     elif any(s in location for s in ('nyc', 'new york city')): location = 'NYC'\n",
    "    elif any(s in location for s in ('ny', 'new york')): location = 'NYC'\n",
    "    else: location = 'Others'        \n",
    "        \n",
    "    return location\n",
    "\n",
    "career_merged['Location Category'] = career_merged['Job Location'].apply(lambda x: loc_cat(x))"
   ]
  },
  {
   "cell_type": "code",
   "execution_count": 30,
   "id": "5f92bc49",
   "metadata": {},
   "outputs": [],
   "source": [
    "# Create a function that categorizes job title\n",
    "# Categories as below: 'Intern: Data Science', 'Intern: Data Analytics', 'Intern: Others', 'Intern: Research', \n",
    "# 'Intern: Software Engineering', 'Intern: Data Engineering', 'Intern: Product Manager', 'Intern: Machine learning'\n",
    "# 'Intern: Computer Vision'\n",
    "\n",
    "def job_cat_career(job_title):\n",
    "    \n",
    "    job_title = job_title.lower()\n",
    "    \n",
    "    if any(s in job_title for s in ('data sci', 'ds', 'applied', 'datascien')): job_title = 'Data Scientist'  \n",
    "    elif 'quant' in job_title: job_title = 'Quantitiative Analyst' \n",
    "    elif any(s in job_title for s in ('analy', 'intelligence')): job_title = 'Data Analyst'   \n",
    "    elif any(s in job_title for s in ('software', 'sde', 'web developer', 'media engineer')): job_title = 'Software Engineer'\n",
    "    elif any(s in job_title for s in ('machine', 'vision')): job_title = 'Machine Learning Engineer'   \n",
    "    elif any(s in job_title for s in ('data engineer', 'intelligence engineer', 'data management', 'data quality', 'cognitive engineer')): job_title = 'Data Engineer'     \n",
    "    elif 'research' in job_title: job_title = 'Research Scientist' \n",
    "    elif any(s in job_title for s in ('product', 'manager', 'pm')): job_title = 'Product Manager'\n",
    "    else: job_title = 'Others'\n",
    "        \n",
    "    return job_title\n",
    "\n",
    "career_merged['Job Category'] = career_merged['Job Title'].apply(lambda x: job_cat_career(x))"
   ]
  },
  {
   "cell_type": "code",
   "execution_count": 32,
   "id": "d9122a45",
   "metadata": {},
   "outputs": [],
   "source": [
    "# Creating more columns based on company: creating organization category, location(HQ), and employee size\n",
    "\n",
    "company_cat = [\n",
    "               ['AI Cure', 'Computer Software', 'NY', '51-200'],\n",
    "               ['ASAPP', 'Computer Software', 'NY', '201-500'],\n",
    "               ['Abphina', 'Research', 'NY', '11-50'],\n",
    "               ['Adobe', 'Computer Software', 'CA', '10,001+'],\n",
    "               ['AllazoHealth', 'Hospital & Health Care', 'NY', '11-50'],               \n",
    "               ['Alpha Roc', 'Data Consulting', 'NJ', '11-50'],               \n",
    "               ['Altman Vilandrie & Co', 'Management Consulting', 'MA', '201-500'],\n",
    "               ['Altway', 'Wholesale', 'GA', '2-10'],\n",
    "               ['Amazon', 'Internet', 'WA', '10,001+'],\n",
    "               ['American Express', 'Financial Services', 'NY', '10,001+'],\n",
    "               ['Amir Baradaran Studio', 'Computer Software', 'NY', '2-10'],\n",
    "               ['Ansell Inc', 'Consumer Goods', 'NJ', '10,001+'],\n",
    "               ['Apple', 'Consumer Electronics', 'CA', '10,001+'],\n",
    "               ['Asana', 'Computer Software', 'CA', '1,001-5,000'],\n",
    "               ['BMW', 'Automotive', 'CA', '10,001+'],\n",
    "               ['BlackRock Inc', 'Financial Services', 'NY', '10,001+'],\n",
    "               ['Blooomberg LP', 'Financial Services', 'NY', '10,001+'],\n",
    "               ['Bluehill USA Inc', 'Financial Services', 'NY', '10,001+'],\n",
    "               ['Boehringer Ingelheim', 'Pharmaceuticals', 'CT', '10,001+'],\n",
    "               ['Bombora', 'Computer Software', 'NY', '51-200'],\n",
    "               ['Cadent', 'Marketing & Advertising', 'NY', '201-500'],\n",
    "               ['Capital One', 'Financial Services', 'VA', '10,001+'],\n",
    "               ['Chan Zuckerberg Initiative', 'Philanthropy', 'CA', '201-500'],\n",
    "               ['Chewy', 'Retail', 'FL', '10,001+'],             \n",
    "               ['Citadel', 'Financial Services', 'IL', '1,001-5,000'],\n",
    "               ['Citi', 'Financial Services', 'NY', '10,001+'],\n",
    "               ['Cleveland Indians', 'Sports', 'OH', '51-200'],\n",
    "               ['DE Shaw', 'Financial Services', 'NY', '1,001-5,000'],\n",
    "               ['DataCamp', 'Online Learning', 'NY', '51-200'],\n",
    "               ['DeepMagic', 'Computer Software', 'NY', '2-10'],\n",
    "               ['DiDi', 'Internet', 'Beijing', '10,001+'],\n",
    "               ['Digitas', 'Marketing & Advertising', 'MA', '1,001-5,000'],\n",
    "               ['EXLService.com, LLC', 'Information Technology & Services', 'NY', '10,001+'],\n",
    "               ['Epoch Investment Partners', 'Investment Management', 'NY', '51-200'],\n",
    "               ['Ernst & Young', 'Accounting', 'London', '10,001+'],\n",
    "               ['Expedia', 'Internet', 'WA', '10,001+'],\n",
    "               ['Facebook', 'Internet', 'CA','10,001+'],\n",
    "               ['FarFetch','Internet', 'NY', '5,001-10,000'],\n",
    "               ['FedEx', 'Package/Freight Delivery', 'TN', '10,001+'],\n",
    "               ['Fiedlity', 'Financial Services', 'MA', '10,001+'],\n",
    "               ['Frontier Communications', 'Telecommunications', 'CT', '10,001+'],\n",
    "               ['GEIRINA', 'Oil & Energy', 'CA', '11-50'],\n",
    "               ['Google', 'Internet', 'CA', '10,001+'],\n",
    "               ['HP', 'Information Technology & Services', 'CA', '10,001+'],\n",
    "               ['Health First', 'Hospital & Health Care', 'FL', '5,001-10,000'],\n",
    "               ['Hinge', 'Internet', 'NY', '51-200'],\n",
    "               ['IBM', 'Information Technology & Services', 'NY', '10,001+'],\n",
    "               ['Intercontinental Hotels Group', 'Hospitality', 'Denham', '10,001+'],\n",
    "               ['JP Morgan', 'Financial Services', 'NY', '10,001+'],\n",
    "               ['John Hancock Financials', 'Financial Services', 'MA', '10,001+'],\n",
    "               ['Johnson Controls', 'Mechanical Or Industrial Engineering', 'Cork', '10,001+'],\n",
    "               ['Johnson and Johnson', 'Hospital & Health Care', 'NJ', '10,001+'],\n",
    "               ['Kayak Software Corporation', 'Internet', 'CT', '1,001-5,000'],\n",
    "               ['Kepos Capital', 'Financial Services', 'NY', '11-50'],\n",
    "               ['Kuai', 'Internet', 'Beijing', '10,001+'],\n",
    "               ['Lampe Berger US', 'Consumer Goods', 'NJ', '11-50'],\n",
    "               ['Linkedin', 'Internet', 'CA', '10,001+'],\n",
    "               ['Los Angeles Dodgers', 'Sports', 'CA', '201-500'],\n",
    "               ['Lyft', 'Internet', 'CA', '5,001-10,000'],\n",
    "               ['MITRE', 'Information Technology & Services', 'VA', '5,001-10,000'],\n",
    "               ['Microsoft', 'Computer Software', 'WA', '10,001+'],\n",
    "               ['Mitre', 'Information Technology & Services', 'VA', '5,001-10,000'],\n",
    "               ['MobilityWare', 'Computer Games', 'CA', '51-200'],\n",
    "               ['NBCU', 'Marketing & Advertising', 'NY', '1,001-5,000'],\n",
    "               ['NVIDIA', 'Computer Hardware', 'CA', '10,001+'],\n",
    "               ['NYU', 'Univeristy', 'NY', '10,001+'],\n",
    "               ['Neuberger Berman', 'Financial Services', 'NY', '1,001-5,000'],\n",
    "               ['New York Life', 'Financial Services', 'NY', '10,001+'],\n",
    "               ['Nokia', 'Telecommunications', 'NJ', '10,001+'],\n",
    "               ['OSMO', 'Consumer Electronics', 'CA', '51-200'],\n",
    "               ['Opswat, Inc.', 'Computer & Network Security', 'FL', '501-1,000'],\n",
    "               ['Oracle', 'Information Technology & Services', 'TX', '10,001+'],\n",
    "               ['PIMCO', 'Investment Management', 'CA', '1,001-5,000'],\n",
    "               ['PepsiCo', 'Food & Beverages', 'NY', '10,001+'],\n",
    "               ['Piano.IO', 'Information Technology & Services', 'PA', '501-1,000'],\n",
    "               ['Pluralsight Iris', 'Information Technology & Services', 'UT', '1,001-5,000'],\n",
    "               ['Point72', 'Financial Services', 'CT', '1,001-5,000'],\n",
    "               ['Prudential', 'Financial Services', 'NJ', '10,001+'],\n",
    "               ['PulsePoint', 'Marketing & Advertising', 'NY', '51-200'],\n",
    "               ['Qualtrics XM', 'Think Tanks', 'MA', '1,001-5,000'],\n",
    "               ['Roku', 'Entertainment', 'CA', '1,001-5,000'],\n",
    "               ['RubiconMD Inc.', 'Information Technology & Services', 'NY', '11-50'],\n",
    "               ['SAP', 'Computer Software', 'BW', '10,001+'],\n",
    "               ['Sales Force', 'Human Resources', '', '2-10'],\n",
    "               ['Samsung', 'Consumer Electronics', 'NJ', '1,001-5,000'],\n",
    "               ['Seagate', 'Computer Hardware', 'CA', '10,001+'],\n",
    "               ['Search Discovery', 'Management Consulting', 'GA', '51-200'],\n",
    "               ['SenseBrain', 'Internet', 'CA', '11-50'],\n",
    "               ['Shopee', 'Internet', 'Singapore', '5,001-10,000'],\n",
    "               ['SimpleBet', 'Computer Software', 'NY', '51-200'],\n",
    "               ['Sofi', 'Financial Services', 'CA', '1,001-5,000'],\n",
    "               ['Software Tools Reviews', 'Information Services', 'CA', '2-10'],\n",
    "               ['Spectrum Labs', 'Internet', 'CA', '11-50'],\n",
    "               ['Survey Monkey', 'Market Research', 'CA', '1,001-5,000'],\n",
    "               ['Swiss Re', 'Insurance', 'Zürich', '10,001+'], \n",
    "               ['Tandem Diabetes', 'Medical Device', 'CA', '1,001-5,000'],\n",
    "               ['Tencent', 'Internet', 'Shenzhen', '10,001+'],\n",
    "               ['Tesla', 'Automotive', 'CA', '10,001+'], \n",
    "               ['The Climate Corporation', 'Computer Software', 'CA', '501-1,000'],\n",
    "               ['Travelers', 'Insurance', 'NY', '10,001+'],\n",
    "               ['Trip Advisor', 'Internet', 'MA', '1,001-5,000'],\n",
    "               ['Tu Simple', 'Computer Software', 'CA', '501-1,000'],\n",
    "               ['US Army', 'Military', 'VA', '10,001+'],\n",
    "               ['University of Wisconsin Foundation', 'Philanthropy', 'WI', '51-200'],\n",
    "               ['Vanguard', 'Financial Services', 'PA', '10,001+'],\n",
    "               ['Verisk', 'Information Services', 'NJ', '5,001-10,000'],\n",
    "               ['Waldron', 'Human Resources', 'WA', '11-50'],\n",
    "               ['WarnerMedia', 'Entertainment', 'NY', '10,001+'],\n",
    "               ['Workforce Logiq (Audible)', 'Information Technology & Services', 'FL', '501-1,000'],\n",
    "               ['ZS Associates', 'Management Consulting', 'IL', '10,001+'],\n",
    "               ['Zillow', 'Real Estate', 'WA', '5,001-10,000'],\n",
    "               ['Zurich', 'Insurance', 'IL', '10,001+'],\n",
    "               ['eBay', 'Internet', 'CA', '10,001+']             \n",
    "              ]"
   ]
  },
  {
   "cell_type": "code",
   "execution_count": null,
   "id": "e7b0bf7b",
   "metadata": {},
   "outputs": [],
   "source": []
  },
  {
   "cell_type": "code",
   "execution_count": null,
   "id": "8ffc3a70",
   "metadata": {},
   "outputs": [],
   "source": []
  },
  {
   "cell_type": "code",
   "execution_count": null,
   "id": "4f702fb8",
   "metadata": {},
   "outputs": [],
   "source": []
  },
  {
   "cell_type": "code",
   "execution_count": null,
   "id": "4ce92014",
   "metadata": {},
   "outputs": [],
   "source": []
  },
  {
   "cell_type": "code",
   "execution_count": null,
   "id": "8e72a6f3",
   "metadata": {},
   "outputs": [],
   "source": []
  },
  {
   "cell_type": "code",
   "execution_count": null,
   "id": "79716251",
   "metadata": {},
   "outputs": [],
   "source": []
  },
  {
   "cell_type": "code",
   "execution_count": null,
   "id": "7bbf4d03",
   "metadata": {},
   "outputs": [],
   "source": []
  },
  {
   "cell_type": "code",
   "execution_count": null,
   "id": "13d72644",
   "metadata": {},
   "outputs": [],
   "source": []
  },
  {
   "cell_type": "code",
   "execution_count": null,
   "id": "0f5318eb",
   "metadata": {},
   "outputs": [],
   "source": []
  },
  {
   "cell_type": "code",
   "execution_count": null,
   "id": "ca90da12",
   "metadata": {},
   "outputs": [],
   "source": []
  },
  {
   "cell_type": "code",
   "execution_count": null,
   "id": "d3903c5a",
   "metadata": {},
   "outputs": [],
   "source": []
  },
  {
   "cell_type": "code",
   "execution_count": null,
   "id": "62131202",
   "metadata": {},
   "outputs": [],
   "source": []
  },
  {
   "cell_type": "code",
   "execution_count": null,
   "id": "fbb8c467",
   "metadata": {},
   "outputs": [],
   "source": []
  },
  {
   "cell_type": "code",
   "execution_count": null,
   "id": "58ed5a05",
   "metadata": {},
   "outputs": [],
   "source": []
  },
  {
   "cell_type": "code",
   "execution_count": null,
   "id": "f7350071",
   "metadata": {},
   "outputs": [],
   "source": []
  },
  {
   "cell_type": "code",
   "execution_count": null,
   "id": "6be59707",
   "metadata": {},
   "outputs": [],
   "source": [
    "intern_2021 = career_merged['Semester'] == 'Summer 2021'\n",
    "intern_2020 = career_merged['Semester'] == 'Summer 2020'\n",
    "intern_2019 = career_merged['Semester'] == 'Summer 2019'\n",
    "\n",
    "len(career_merged[(intern_2021 | intern_2020 | intern_2019)])"
   ]
  },
  {
   "cell_type": "code",
   "execution_count": null,
   "id": "cb2bbe09",
   "metadata": {},
   "outputs": [],
   "source": [
    "summer_intern = career_merged[(intern_2021 | intern_2020 | intern_2019)]\n",
    "len(summer_intern['Job Title'].sort_values().unique())"
   ]
  },
  {
   "cell_type": "code",
   "execution_count": null,
   "id": "8faf7947",
   "metadata": {
    "scrolled": true
   },
   "outputs": [],
   "source": [
    "# Need to categorize Job title since there are quite a lot unique values\n",
    "summer_intern['Job Title'].sort_values().unique()"
   ]
  },
  {
   "cell_type": "code",
   "execution_count": null,
   "id": "9139ab28",
   "metadata": {
    "scrolled": false
   },
   "outputs": [],
   "source": [
    "# Create a function that categorizes job title\n",
    "# Categories as below: 'Intern: Data Science', 'Intern: Data Analytics', 'Intern: Others', 'Intern: Research', \n",
    "# 'Intern: Software Engineering', 'Intern: Data Engineering', 'Intern: Product Manager', 'Intern: Machine learning'\n",
    "# 'Intern: Computer Vision'\n",
    "\n",
    "def job_cat_intern(job_title):\n",
    "    \n",
    "    job_title = job_title.lower()\n",
    "    \n",
    "    if any(s in job_title for s in ('data sci', 'ds', 'applied', 'datascien')): job_title = 'Data Scientist'  \n",
    "    elif 'quant' in job_title: job_title = 'Quantitiative Analyst' \n",
    "    elif any(s in job_title for s in ('analy', 'intelligence')): job_title = 'Data Analyst'   \n",
    "    elif any(s in job_title for s in ('software', 'sde', 'web developer', 'media engineer')): job_title = 'Software Engineer'\n",
    "    elif any(s in job_title for s in ('machine', 'vision')): job_title = 'Machine Learning Engineer'   \n",
    "    elif any(s in job_title for s in ('data engineer', 'intelligence engineer', 'data management', 'data quality', 'cognitive engineer')): job_title = 'Data Engineer'     \n",
    "    elif 'research' in job_title: job_title = 'Research Scientist' \n",
    "    elif any(s in job_title for s in ('product', 'manager', 'pm')): job_title = 'Product Manager'\n",
    "    else: job_title = 'Others'\n",
    "        \n",
    "    return job_title\n",
    "    \n",
    "summer_intern['Job Category'] = summer_intern['Job Title'].apply(lambda x: job_cat_intern(x))"
   ]
  },
  {
   "cell_type": "code",
   "execution_count": null,
   "id": "8a9bb64b",
   "metadata": {
    "scrolled": true
   },
   "outputs": [],
   "source": [
    "summer_intern['Job Category'].value_counts()"
   ]
  },
  {
   "cell_type": "code",
   "execution_count": null,
   "id": "e0a93723",
   "metadata": {},
   "outputs": [],
   "source": [
    "# Do same as career outcomes\n",
    "\n",
    "career_20_21 = career_merged['Semester'] == 'Career(20-21)'\n",
    "career_19_20 = career_merged['Semester'] == 'Career(19-20)'\n",
    "career_18_19 = career_merged['Semester'] == 'Career(18-19)'\n",
    "\n",
    "career_outcome = career_merged[(career_20_21 | career_19_20 | career_18_19)]\n",
    "len(career_outcome['Job Title'].sort_values().unique())"
   ]
  },
  {
   "cell_type": "code",
   "execution_count": null,
   "id": "648bc1a9",
   "metadata": {
    "scrolled": true
   },
   "outputs": [],
   "source": [
    "# Need to categorize Job title since there are quite a lot unique values\n",
    "career_outcome['Job Title'].sort_values().unique()"
   ]
  },
  {
   "cell_type": "code",
   "execution_count": null,
   "id": "baf4fd4e",
   "metadata": {},
   "outputs": [],
   "source": [
    "# Create a function that categorizes job title\n",
    "# Categories as below: 'Intern: Data Science', 'Intern: Data Analytics', 'Intern: Others', 'Intern: Research', \n",
    "# 'Intern: Software Engineering', 'Intern: Data Engineering', 'Intern: Product Manager', 'Intern: Machine learning'\n",
    "# 'Intern: Computer Vision'\n",
    "\n",
    "def job_cat_career(job_title):\n",
    "    \n",
    "    job_title = job_title.lower()\n",
    "    \n",
    "    if any(s in job_title for s in ('data sci', 'ds', 'applied', 'datascien')): job_title = 'Data Scientist'  \n",
    "    elif 'quant' in job_title: job_title = 'Quantitiative Analyst' \n",
    "    elif any(s in job_title for s in ('analy', 'intelligence')): job_title = 'Data Analyst'   \n",
    "    elif any(s in job_title for s in ('software', 'sde', 'web developer', 'media engineer')): job_title = 'Software Engineer'\n",
    "    elif any(s in job_title for s in ('machine', 'vision')): job_title = 'Machine Learning Engineer'   \n",
    "    elif any(s in job_title for s in ('data engineer', 'intelligence engineer', 'data management', 'data quality', 'cognitive engineer')): job_title = 'Data Engineer'     \n",
    "    elif 'research' in job_title: job_title = 'Research Scientist' \n",
    "    elif any(s in job_title for s in ('product', 'manager', 'pm')): job_title = 'Product Manager'\n",
    "    else: job_title = 'Others'\n",
    "        \n",
    "    return job_title\n",
    "\n",
    "career_outcome['Job Category'] = career_outcome['Job Title'].apply(lambda x: job_cat_career(x))"
   ]
  },
  {
   "cell_type": "code",
   "execution_count": null,
   "id": "784f292f",
   "metadata": {},
   "outputs": [],
   "source": [
    "career_outcome['Job Category'].value_counts()"
   ]
  },
  {
   "cell_type": "code",
   "execution_count": null,
   "id": "3ca13a55",
   "metadata": {},
   "outputs": [],
   "source": [
    "# merge datasets as just adding rows \n",
    "career_merged_f = pd.concat([summer_intern, career_outcome] , ignore_index=True)"
   ]
  },
  {
   "cell_type": "code",
   "execution_count": null,
   "id": "722bfca6",
   "metadata": {},
   "outputs": [],
   "source": [
    "career_merged_f.head(3)"
   ]
  },
  {
   "cell_type": "code",
   "execution_count": null,
   "id": "44f17c5f",
   "metadata": {},
   "outputs": [],
   "source": [
    "# Create a function that categorizes job title\n",
    "# Categories as below: 'Intern: Data Science', 'Intern: Data Analytics', 'Intern: Others', 'Intern: Research', \n",
    "# 'Intern: Software Engineering', 'Intern: Data Engineering', 'Intern: Product Manager', 'Intern: Machine learning'\n",
    "# 'Intern: Computer Vision'\n",
    "\n",
    "def loc_cat(location):\n",
    "    \n",
    "    location = location.lower()\n",
    "    \n",
    "    if any(s in location for s in ('ma', 'boston')): location = 'MA'  \n",
    "    elif any(s in location for s in ('va', 'boston')): location = 'VA'    \n",
    "    elif any(s in location for s in ('ca', 'la', 'mountain', 'san jose', 'palo', 'san francisco', 'menlo park')): location = 'CA'   \n",
    "    elif any(s in location for s in ('tx', 'austin')): location = 'TX'  \n",
    "    elif any(s in location for s in ('wa', 'seattle')): location = 'WA'   \n",
    "    elif any(s in location for s in ('nj', 'newark')): location = 'NJ'\n",
    "    elif 'ct' in location: location = 'CT'\n",
    "    elif 'co' in location: location = 'CO'\n",
    "    elif 'pa' in location: location = 'PA'\n",
    "    elif 'az' in location: location = 'AZ'    \n",
    "    elif 'mn' in location: location = 'MN'    \n",
    "    elif 'nm' in location: location = 'NM'\n",
    "#     elif any(s in location for s in ('nyc', 'new york city')): location = 'NYC'\n",
    "    elif any(s in location for s in ('ny', 'new york')): location = 'NY'\n",
    "    else: location = 'Others'        \n",
    "        \n",
    "    return location\n",
    "\n",
    "career_merged_f['Location Category'] = career_merged_f['Job Location'].apply(lambda x: loc_cat(x))"
   ]
  },
  {
   "cell_type": "code",
   "execution_count": null,
   "id": "d7136f2b",
   "metadata": {},
   "outputs": [],
   "source": [
    "career_merged_f['Location Category'].value_counts()"
   ]
  },
  {
   "cell_type": "code",
   "execution_count": null,
   "id": "96a7f4a1",
   "metadata": {},
   "outputs": [],
   "source": [
    "career_merged_f[career_merged_f['Location Category'] == 'NY']"
   ]
  },
  {
   "cell_type": "code",
   "execution_count": null,
   "id": "8b569ad3",
   "metadata": {
    "scrolled": false
   },
   "outputs": [],
   "source": [
    "# Even for Organization, there needs some categorization\n",
    "# i.e. IBM offices can be categorized as IBM\n",
    "\n",
    "career_merged_f['Organization'].sort_values().unique()"
   ]
  },
  {
   "cell_type": "code",
   "execution_count": null,
   "id": "47706307",
   "metadata": {},
   "outputs": [],
   "source": [
    "len(career_merged_f['Organization'].sort_values().unique())"
   ]
  },
  {
   "cell_type": "code",
   "execution_count": null,
   "id": "8c8d399e",
   "metadata": {},
   "outputs": [],
   "source": [
    "# Checking weird data in organization\n",
    "career_merged_f[career_merged_f['Organization'] == 'IB<']"
   ]
  },
  {
   "cell_type": "code",
   "execution_count": null,
   "id": "e004f20a",
   "metadata": {},
   "outputs": [],
   "source": [
    "# Create a function that categorizes job title(cleaning some typos as well)\n",
    "# DiDi, Fiedlity, IBM, JP Morgan, Kepos Capital, NYU, Oracle, PIMCO, Prudential\n",
    "# Survey Monkey, Verisk, Zillow, Bombora\n",
    "\n",
    "def org_clean(organization):\n",
    "    \n",
    "    if any(s in organization for s in ('DiDi', 'Didi')): organization = 'DiDi'\n",
    "    elif 'Fidelity' in organization: organization = 'Fiedlity'    \n",
    "    elif 'IB' in organization: organization = 'IBM'\n",
    "    elif 'Morgan' in organization: organization = 'JP Morgan' \n",
    "    elif any(s in organization for s in ('Kepos', 'Keps')): organization = 'Kepos Capital'\n",
    "    elif 'NYU' in organization: organization = 'NYU'    \n",
    "    elif 'Oracle' in organization: organization = 'Oracle' \n",
    "    elif any(s in organization for s in ('Pimco', 'PIMCO')): organization = 'PIMCO'\n",
    "    elif 'Zillow' in organization: organization = 'Zillow'\n",
    "    elif 'Prudential' in organization: organization = 'Prudential'\n",
    "    elif any(s in organization for s in ('Survey Monkey', 'SurveyMonkey')): organization = 'Survey Monkey' \n",
    "    elif 'Verisk' in organization: organization = 'Verisk'   \n",
    "    elif 'Bombora' in organization: organization = 'Bombora'   \n",
    "        \n",
    "        \n",
    "    return organization\n",
    "\n",
    "career_merged_f['Organization_cleaned'] = career_merged_f['Organization'].apply(lambda x: org_clean(x))"
   ]
  },
  {
   "cell_type": "code",
   "execution_count": null,
   "id": "3e49fc56",
   "metadata": {
    "scrolled": true
   },
   "outputs": [],
   "source": [
    "career_merged_f['Organization_cleaned'].sort_values(ascending=True).unique()"
   ]
  },
  {
   "cell_type": "code",
   "execution_count": null,
   "id": "6ae93478",
   "metadata": {},
   "outputs": [],
   "source": [
    "len(career_merged_f['Organization_cleaned'].sort_values(ascending=True).unique())"
   ]
  },
  {
   "cell_type": "code",
   "execution_count": null,
   "id": "98eda442",
   "metadata": {
    "scrolled": true
   },
   "outputs": [],
   "source": [
    "career_merged_f"
   ]
  },
  {
   "cell_type": "code",
   "execution_count": null,
   "id": "c2bda44d",
   "metadata": {},
   "outputs": [],
   "source": [
    "# Checking weird data in organization\n",
    "career_merged_f[career_merged_f['Organization'] == 'BMW']"
   ]
  },
  {
   "cell_type": "code",
   "execution_count": null,
   "id": "8d13ec49",
   "metadata": {},
   "outputs": [],
   "source": [
    "# Cannot find in Linkedin: Sense Brain\n",
    "\n",
    "\n",
    "company_cat = [\n",
    "               ['AI Cure', 'Computer Software', 'NY', '51-200'],\n",
    "               ['ASAPP', 'Computer Software', 'NY', '201-500'],\n",
    "               ['Abphina', 'Research', 'NY', '11-50'],\n",
    "               ['Adobe', 'Computer Software', 'CA', '10,001+'],\n",
    "               ['AllazoHealth', 'Hospital & Health Care', 'NY', '11-50'],               \n",
    "               ['Alpha Roc', 'Data Consulting', 'NJ', '11-50'],               \n",
    "               ['Altman Vilandrie & Co', 'Management Consulting', 'MA', '201-500'],\n",
    "               ['Altway', 'Wholesale', 'GA', '2-10'],\n",
    "               ['Amazon', 'Internet', 'WA', '10,001+'],\n",
    "               ['American Express', 'Financial Services', 'NY', '10,001+'],\n",
    "               ['Amir Baradaran Studio', 'Computer Software', 'NY', '2-10'],\n",
    "               ['Ansell Inc', 'Consumer Goods', 'NJ', '10,001+'],\n",
    "               ['Apple', 'Consumer Electronics', 'CA', '10,001+'],\n",
    "               ['Asana', 'Computer Software', 'CA', '1,001-5,000'],\n",
    "               ['BMW', 'Automotive', 'CA', '10,001+'],\n",
    "               ['BlackRock Inc', 'Financial Services', 'NY', '10,001+'],\n",
    "               ['Blooomberg LP', 'Financial Services', 'NY', '10,001+'],\n",
    "               ['Bluehill USA Inc', 'Financial Services', 'NY', '10,001+'],\n",
    "               ['Boehringer Ingelheim', 'Pharmaceuticals', 'CT', '10,001+'],\n",
    "               ['Bombora', 'Computer Software', 'NY', '51-200'],\n",
    "               ['Cadent', 'Marketing & Advertising', 'NY', '201-500'],\n",
    "               ['Capital One', 'Financial Services', 'VA', '10,001+'],\n",
    "               ['Chan Zuckerberg Initiative', 'Philanthropy', 'CA', '201-500'],\n",
    "               ['Chewy', 'Retail', 'FL', '10,001+'],             \n",
    "               ['Citadel', 'Financial Services', 'IL', '1,001-5,000'],\n",
    "               ['Citi', 'Financial Services', 'NY', '10,001+'],\n",
    "               ['Cleveland Indians', 'Sports', 'OH', '51-200'],\n",
    "               ['DE Shaw', 'Financial Services', 'NY', '1,001-5,000'],\n",
    "               ['DataCamp', 'Online Learning', 'NY', '51-200'],\n",
    "               ['DeepMagic', 'Computer Software', 'NY', '2-10'],\n",
    "               ['DiDi', 'Internet', 'Beijing', '10,001+'],\n",
    "               ['Digitas', 'Marketing & Advertising', 'MA', '1,001-5,000'],\n",
    "               ['EXLService.com, LLC', 'Information Technology & Services', 'NY', '10,001+'],\n",
    "               ['Epoch Investment Partners', 'Investment Management', 'NY', '51-200'],\n",
    "               ['Ernst & Young', 'Accounting', 'London', '10,001+'],\n",
    "               ['Expedia', 'Internet', 'WA', '10,001+'],\n",
    "               ['Facebook', 'Internet', 'CA','10,001+'],\n",
    "               ['FarFetch','Internet', 'NY', '5,001-10,000'],\n",
    "               ['FedEx', 'Package/Freight Delivery', 'TN', '10,001+'],\n",
    "               ['Fiedlity', 'Financial Services', 'MA', '10,001+'],\n",
    "               ['Frontier Communications', 'Telecommunications', 'CT', '10,001+'],\n",
    "               ['GEIRINA', 'Oil & Energy', 'CA', '11-50'],\n",
    "               ['Google', 'Internet', 'CA', '10,001+'],\n",
    "               ['HP', 'Information Technology & Services', 'CA', '10,001+'],\n",
    "               ['Health First', 'Hospital & Health Care', 'FL', '5,001-10,000'],\n",
    "               ['Hinge', 'Internet', 'NY', '51-200'],\n",
    "               ['IBM', 'Information Technology & Services', 'NY', '10,001+'],\n",
    "               ['Intercontinental Hotels Group', 'Hospitality', 'Denham', '10,001+'],\n",
    "               ['JP Morgan', 'Financial Services', 'NY', '10,001+'],\n",
    "               ['John Hancock Financials', 'Financial Services', 'MA', '10,001+'],\n",
    "               ['Johnson Controls', 'Mechanical Or Industrial Engineering', 'Cork', '10,001+'],\n",
    "               ['Johnson and Johnson', 'Hospital & Health Care', 'NJ', '10,001+'],\n",
    "               ['Kayak Software Corporation', 'Internet', 'CT', '1,001-5,000'],\n",
    "               ['Kepos Capital', 'Financial Services', 'NY', '11-50'],\n",
    "               ['Kuai', 'Internet', 'Beijing', '10,001+'],\n",
    "               ['Lampe Berger US', 'Consumer Goods', 'NJ', '11-50'],\n",
    "               ['Linkedin', 'Internet', 'CA', '10,001+'],\n",
    "               ['Los Angeles Dodgers', 'Sports', 'CA', '201-500'],\n",
    "               ['Lyft', 'Internet', 'CA', '5,001-10,000'],\n",
    "               ['MITRE', 'Information Technology & Services', 'VA', '5,001-10,000'],\n",
    "               ['Microsoft', 'Computer Software', 'WA', '10,001+'],\n",
    "               ['Mitre', 'Information Technology & Services', 'VA', '5,001-10,000'],\n",
    "               ['MobilityWare', 'Computer Games', 'CA', '51-200'],\n",
    "               ['NBCU', 'Marketing & Advertising', 'NY', '1,001-5,000'],\n",
    "               ['NVIDIA', 'Computer Hardware', 'CA', '10,001+'],\n",
    "               ['NYU', 'Univeristy', 'NY', '10,001+'],\n",
    "               ['Neuberger Berman', 'Financial Services', 'NY', '1,001-5,000'],\n",
    "               ['New York Life', 'Financial Services', 'NY', '10,001+'],\n",
    "               ['Nokia', 'Telecommunications', 'NJ', '10,001+'],\n",
    "               ['OSMO', 'Consumer Electronics', 'CA', '51-200'],\n",
    "               ['Opswat, Inc.', 'Computer & Network Security', 'FL', '501-1,000'],\n",
    "               ['Oracle', 'Information Technology & Services', 'TX', '10,001+'],\n",
    "               ['PIMCO', 'Investment Management', 'CA', '1,001-5,000'],\n",
    "               ['PepsiCo', 'Food & Beverages', 'NY', '10,001+'],\n",
    "               ['Piano.IO', 'Information Technology & Services', 'PA', '501-1,000'],\n",
    "               ['Pluralsight Iris', 'Information Technology & Services', 'UT', '1,001-5,000'],\n",
    "               ['Point72', 'Financial Services', 'CT', '1,001-5,000'],\n",
    "               ['Prudential', 'Financial Services', 'NJ', '10,001+'],\n",
    "               ['PulsePoint', 'Marketing & Advertising', 'NY', '51-200'],\n",
    "               ['Qualtrics XM', 'Think Tanks', 'MA', '1,001-5,000'],\n",
    "               ['Roku', 'Entertainment', 'CA', '1,001-5,000'],\n",
    "               ['RubiconMD Inc.', 'Information Technology & Services', 'NY', '11-50'],\n",
    "               ['SAP', 'Computer Software', 'BW', '10,001+'],\n",
    "               ['Sales Force', 'Human Resources', '', '2-10'],\n",
    "               ['Samsung', 'Consumer Electronics', 'NJ', '1,001-5,000'],\n",
    "               ['Seagate', 'Computer Hardware', 'CA', '10,001+'],\n",
    "               ['Search Discovery', 'Management Consulting', 'GA', '51-200'],\n",
    "               ['SenseBrain', 'Internet', 'CA', '11-50'],\n",
    "               ['Shopee', 'Internet', 'Singapore', '5,001-10,000'],\n",
    "               ['SimpleBet', 'Computer Software', 'NY', '51-200'],\n",
    "               ['Sofi', 'Financial Services', 'CA', '1,001-5,000'],\n",
    "               ['Software Tools Reviews', 'Information Services', 'CA', '2-10'],\n",
    "               ['Spectrum Labs', 'Internet', 'CA', '11-50'],\n",
    "               ['Survey Monkey', 'Market Research', 'CA', '1,001-5,000'],\n",
    "               ['Swiss Re', 'Insurance', 'Zürich', '10,001+'], \n",
    "               ['Tandem Diabetes', 'Medical Device', 'CA', '1,001-5,000'],\n",
    "               ['Tencent', 'Internet', 'Shenzhen', '10,001+'],\n",
    "               ['Tesla', 'Automotive', 'CA', '10,001+'], \n",
    "               ['The Climate Corporation', 'Computer Software', 'CA', '501-1,000'],\n",
    "               ['Travelers', 'Insurance', 'NY', '10,001+'],\n",
    "               ['Trip Advisor', 'Internet', 'MA', '1,001-5,000'],\n",
    "               ['Tu Simple', 'Computer Software', 'CA', '501-1,000'],\n",
    "               ['US Army', 'Military', 'VA', '10,001+'],\n",
    "               ['University of Wisconsin Foundation', 'Philanthropy', 'WI', '51-200'],\n",
    "               ['Vanguard', 'Financial Services', 'PA', '10,001+'],\n",
    "               ['Verisk', 'Information Services', 'NJ', '5,001-10,000'],\n",
    "               ['Waldron', 'Human Resources', 'WA', '11-50'],\n",
    "               ['WarnerMedia', 'Entertainment', 'NY', '10,001+'],\n",
    "               ['Workforce Logiq (Audible)', 'Information Technology & Services', 'FL', '501-1,000'],\n",
    "               ['ZS Associates', 'Management Consulting', 'IL', '10,001+'],\n",
    "               ['Zillow', 'Real Estate', 'WA', '5,001-10,000'],\n",
    "               ['Zurich', 'Insurance', 'IL', '10,001+'],\n",
    "               ['eBay', 'Internet', 'CA', '10,001+']             \n",
    "              ]\n"
   ]
  },
  {
   "cell_type": "code",
   "execution_count": null,
   "id": "4a4bf9e2",
   "metadata": {},
   "outputs": [],
   "source": [
    "company_list = pd.DataFrame(company_cat, columns = ['Organization_cleaned','Industry', 'HQ_Loc_1', 'Company_size'])"
   ]
  },
  {
   "cell_type": "code",
   "execution_count": null,
   "id": "25b100c8",
   "metadata": {},
   "outputs": [],
   "source": [
    "career_merged_ff = pd.merge(career_merged_f, company_list, on='Organization_cleaned')"
   ]
  },
  {
   "cell_type": "code",
   "execution_count": null,
   "id": "eb3c76fe",
   "metadata": {},
   "outputs": [],
   "source": [
    "career_merged_ff.info()"
   ]
  },
  {
   "cell_type": "code",
   "execution_count": null,
   "id": "84df0bce",
   "metadata": {},
   "outputs": [],
   "source": [
    "career_merged_ff.head(3)"
   ]
  },
  {
   "cell_type": "code",
   "execution_count": null,
   "id": "37b5289c",
   "metadata": {},
   "outputs": [],
   "source": [
    "career_merged_ff['Final_loc'] = career_merged_ff.apply(lambda x: x['Location Category'] if x['Location Category']\\\n",
    "                                                       != 'Others' else x['HQ_Loc_1'], axis=1)"
   ]
  },
  {
   "cell_type": "code",
   "execution_count": null,
   "id": "3288dd26",
   "metadata": {},
   "outputs": [],
   "source": [
    "career_merged_ff['Final_loc'].value_counts()"
   ]
  },
  {
   "cell_type": "code",
   "execution_count": null,
   "id": "acaf462c",
   "metadata": {
    "scrolled": false
   },
   "outputs": [],
   "source": [
    "career_merged_ff['Industry'].value_counts()"
   ]
  },
  {
   "cell_type": "code",
   "execution_count": null,
   "id": "31cc367c",
   "metadata": {
    "scrolled": false
   },
   "outputs": [],
   "source": [
    "# Create a function that categorizes industry\n",
    "# Based on 'Global Industry Classification Standard'\n",
    "# https://en.wikipedia.org/wiki/Global_Industry_Classification_Standard\n",
    "# • Energy\n",
    "# • Materials\n",
    "# • Industrials\n",
    "# • Consumer Discretionary\n",
    "# • Consumer Staples\n",
    "# • Health Care\n",
    "# • Financials\n",
    "# • Information Technology\n",
    "# • Communication Services\n",
    "# • Utilities\n",
    "# • Real Estate\n",
    "\n",
    "def ind_cat(industry):\n",
    "       \n",
    "    if any(s in industry for s in ('Internet', 'Information', 'Computer', 'Data Consulting')): industry = 'Information Technology'\n",
    "    elif any(s in industry for s in ('Financial Services', 'Accounting', 'Insurance', 'Investment')): industry = 'Financials'\n",
    "    elif any(s in industry for s in ('Consumer Electronics', 'Univeristy', 'Automotive', 'Retail', 'Wholesale', 'Learning')): industry = 'Consumer Discretionary'\n",
    "    elif any(s in industry for s in ('Advertising', 'Telecommunications', 'Sports', 'Entertainment')): industry = 'Communication Services'    \n",
    "    elif 'Real Estate' in industry: industry = 'Real Estate'\n",
    "    elif any(s in industry for s in ('Health', 'Pharmaceuticals', 'Medical', 'Hospitality')): industry = 'Health Care'      \n",
    "    elif any(s in industry for s in ('Food', 'Consumer Goods')): industry = 'Consumer Staples'  \n",
    "    elif any(s in industry for s in ('Engineering', 'Delivery', 'Human Resources', 'Research', 'Management Consulting', 'Military')): industry = 'Industrials' \n",
    "    elif 'Energy' in industry: industry = 'Energy'\n",
    "    elif any(s in industry for s in ('Philanthropy', 'Think Tanks')): industry = 'Non-profit organization'      \n",
    "     \n",
    "    return industry\n",
    "\n",
    "career_merged_ff['Industry_category'] = career_merged_ff['Industry'].sort_values().apply(lambda x: ind_cat(x))"
   ]
  },
  {
   "cell_type": "code",
   "execution_count": null,
   "id": "ee22ac00",
   "metadata": {},
   "outputs": [],
   "source": [
    "career_merged_ff['Industry_category'].value_counts()"
   ]
  },
  {
   "cell_type": "code",
   "execution_count": null,
   "id": "940062bf",
   "metadata": {},
   "outputs": [],
   "source": [
    "career_merged_ff['Company_size'].value_counts()"
   ]
  },
  {
   "cell_type": "code",
   "execution_count": null,
   "id": "1880710e",
   "metadata": {},
   "outputs": [],
   "source": [
    "career_merged_ff[career_merged_ff['Organization'] == 'BMW']"
   ]
  },
  {
   "cell_type": "code",
   "execution_count": null,
   "id": "c65b2044",
   "metadata": {
    "scrolled": true
   },
   "outputs": [],
   "source": [
    "career_merged_fff = career_merged_ff[['Semester', 'Organization_cleaned', 'Industry_category', 'Company_size', 'Final_loc', 'Job Category']]\n",
    "career_merged_fff.head(3)"
   ]
  },
  {
   "cell_type": "code",
   "execution_count": null,
   "id": "527fa8a0",
   "metadata": {},
   "outputs": [],
   "source": [
    "career_merged_fff[career_merged_fff['Final_loc'] == 'Munich']"
   ]
  },
  {
   "cell_type": "code",
   "execution_count": null,
   "id": "a524ae23",
   "metadata": {},
   "outputs": [],
   "source": [
    "career_merged_fff.to_excel('./career_final.xlsx', index=False)"
   ]
  },
  {
   "cell_type": "markdown",
   "id": "34923a7a",
   "metadata": {},
   "source": [
    "## Visualization"
   ]
  },
  {
   "cell_type": "code",
   "execution_count": null,
   "id": "aa667c21",
   "metadata": {},
   "outputs": [],
   "source": [
    "career_merged_fff['Semester'].value_counts()"
   ]
  },
  {
   "cell_type": "code",
   "execution_count": null,
   "id": "bee0d166",
   "metadata": {},
   "outputs": [],
   "source": [
    "summer_2021 = career_merged_fff['Semester'] == 'Summer 2021'\n",
    "summer_2020 = career_merged_fff['Semester'] == 'Summer 2020'\n",
    "summer_2019 = career_merged_fff['Semester'] == 'Summer 2019'\n",
    "career_20_21 = career_merged_fff['Semester'] == 'Career(20-21)'\n",
    "career_19_20 = career_merged_fff['Semester'] == 'Career(19-20)'\n",
    "career_18_19 = career_merged_fff['Semester'] == 'Career(18-19)'\n",
    "\n",
    "career_intern = career_merged_fff[summer_2021 | summer_2020 | summer_2019]\n",
    "career_fulltime = career_merged_fff[career_20_21 | career_19_20 | career_18_19]\n",
    "\n",
    "career_intern_2021 = career_merged_fff[summer_2021]\n",
    "career_intern_2020 = career_merged_fff[summer_2020]\n",
    "career_intern_2019 = career_merged_fff[summer_2019]\n",
    "\n",
    "career_fulltime_20_21 = career_merged_fff[career_20_21]\n",
    "career_fulltime_19_20 = career_merged_fff[career_19_20]\n",
    "career_fulltime_18_19 = career_merged_fff[career_18_19]"
   ]
  },
  {
   "cell_type": "code",
   "execution_count": null,
   "id": "4fe40abd",
   "metadata": {},
   "outputs": [],
   "source": [
    "import matplotlib.pyplot as plt\n",
    "import seaborn as sns\n",
    "\n",
    "plt.style.use('seaborn')\n",
    "sns.set(font_scale=2.5)\n",
    "\n",
    "#ignore warnings\n",
    "import warnings\n",
    "warnings.filterwarnings('ignore')\n",
    "\n",
    "summer_ind_cat_2019 = career_intern_2019['Industry_category'].value_counts().sort_values(ascending=False)\n",
    "summer_ind_cat_2020 = career_intern_2020['Industry_category'].value_counts().sort_values(ascending=False)\n",
    "summer_ind_cat_2021 = career_intern_2021['Industry_category'].value_counts().sort_values(ascending=False)\n",
    "\n",
    "\n",
    "fig, ax = plt.subplots(nrows=1, ncols=3, figsize=(50,16))\n",
    "\n",
    "ax[0].set_title('Summer_ind_cat_2019', pad=60, fontdict = {'fontsize': 60})\n",
    "ax[1].set_title('Summer_ind_cat_2020', pad=60, fontdict = {'fontsize': 60})\n",
    "ax[2].set_title('Summer_ind_cat_2021', pad=60, fontdict = {'fontsize': 60})\n",
    "\n",
    "ax[0].pie(summer_ind_cat_2019, labels = summer_ind_cat_2019.index, autopct='%.1f%%', radius=1.1, textprops={'fontsize': 30})\n",
    "ax[1].pie(summer_ind_cat_2020, labels = summer_ind_cat_2020.index, autopct='%.1f%%', radius=1.1, textprops={'fontsize': 30})\n",
    "ax[2].pie(summer_ind_cat_2021, labels = summer_ind_cat_2021.index, autopct='%.1f%%', radius=1.1, textprops={'fontsize': 30})\n",
    "\n",
    "plt.show()\n"
   ]
  },
  {
   "cell_type": "code",
   "execution_count": null,
   "id": "e9e30dbc",
   "metadata": {},
   "outputs": [],
   "source": [
    "import matplotlib.pyplot as plt\n",
    "import seaborn as sns\n",
    "\n",
    "plt.style.use('seaborn')\n",
    "sns.set(font_scale=2.5)\n",
    "\n",
    "#ignore warnings\n",
    "import warnings\n",
    "warnings.filterwarnings('ignore')\n",
    "\n",
    "summer_ind_cat_2019 = career_intern_2019['Final_loc'].value_counts().sort_values(ascending=False)\n",
    "summer_ind_cat_2020 = career_intern_2020['Final_loc'].value_counts().sort_values(ascending=False)\n",
    "summer_ind_cat_2021 = career_intern_2021['Final_loc'].value_counts().sort_values(ascending=False)\n",
    "\n",
    "\n",
    "fig, ax = plt.subplots(nrows=1, ncols=3, figsize=(50,16))\n",
    "\n",
    "ax[0].set_title('Summer_Loc_2019', pad=60, fontdict = {'fontsize': 60})\n",
    "ax[1].set_title('Summer_Loc_2020', pad=60, fontdict = {'fontsize': 60})\n",
    "ax[2].set_title('Summer_Loc_2021', pad=60, fontdict = {'fontsize': 60})\n",
    "\n",
    "ax[0].pie(summer_ind_cat_2019, labels = summer_ind_cat_2019.index, autopct='%.1f%%', radius=1.1, textprops={'fontsize': 35})\n",
    "ax[1].pie(summer_ind_cat_2020, labels = summer_ind_cat_2020.index, autopct='%.1f%%', radius=1.1, textprops={'fontsize': 35})\n",
    "ax[2].pie(summer_ind_cat_2021, labels = summer_ind_cat_2021.index, autopct='%.1f%%', radius=1.1, textprops={'fontsize': 35})\n",
    "\n",
    "plt.show()"
   ]
  },
  {
   "cell_type": "code",
   "execution_count": null,
   "id": "103dbca1",
   "metadata": {},
   "outputs": [],
   "source": [
    "import matplotlib.pyplot as plt\n",
    "import seaborn as sns\n",
    "\n",
    "plt.style.use('seaborn')\n",
    "sns.set(font_scale=2.5)\n",
    "\n",
    "#ignore warnings\n",
    "import warnings\n",
    "warnings.filterwarnings('ignore')\n",
    "\n",
    "summer_ind_cat_2019 = career_intern_2019['Company_size'].value_counts().sort_values(ascending=False)\n",
    "summer_ind_cat_2020 = career_intern_2020['Company_size'].value_counts().sort_values(ascending=False)\n",
    "summer_ind_cat_2021 = career_intern_2021['Company_size'].value_counts().sort_values(ascending=False)\n",
    "\n",
    "\n",
    "fig, ax = plt.subplots(nrows=1, ncols=3, figsize=(50,16))\n",
    "\n",
    "ax[0].set_title('Summer_Size_2019', pad=60, fontdict = {'fontsize': 60})\n",
    "ax[1].set_title('Summer_Size_2020', pad=60, fontdict = {'fontsize': 60})\n",
    "ax[2].set_title('Summer_Size_2021', pad=60, fontdict = {'fontsize': 60})\n",
    "\n",
    "ax[0].pie(summer_ind_cat_2019, labels = summer_ind_cat_2019.index, autopct='%.1f%%', radius=1.1, textprops={'fontsize': 35})\n",
    "ax[1].pie(summer_ind_cat_2020, labels = summer_ind_cat_2020.index, autopct='%.1f%%', radius=1.1, textprops={'fontsize': 35})\n",
    "ax[2].pie(summer_ind_cat_2021, labels = summer_ind_cat_2021.index, autopct='%.1f%%', radius=1.1, textprops={'fontsize': 35})\n",
    "\n",
    "plt.show()\n"
   ]
  },
  {
   "cell_type": "code",
   "execution_count": null,
   "id": "b0af73a7",
   "metadata": {},
   "outputs": [],
   "source": [
    "import matplotlib.pyplot as plt\n",
    "import seaborn as sns\n",
    "\n",
    "plt.style.use('seaborn')\n",
    "sns.set(font_scale=2.5)\n",
    "\n",
    "#ignore warnings\n",
    "import warnings\n",
    "warnings.filterwarnings('ignore')\n",
    "\n",
    "summer_ind_cat_2019 = career_intern['Industry_category'].value_counts().sort_values(ascending=False)\n",
    "summer_ind_cat_2020 = career_intern['Final_loc'].value_counts().sort_values(ascending=False)\n",
    "summer_ind_cat_2021 = career_intern['Company_size'].value_counts().sort_values(ascending=False)\n",
    "\n",
    "\n",
    "fig, ax = plt.subplots(nrows=1, ncols=3, figsize=(50,16))\n",
    "\n",
    "ax[0].set_title('Summer_total_ind', pad=60, fontdict = {'fontsize': 60})\n",
    "ax[1].set_title('Summer_total_loc', pad=60, fontdict = {'fontsize': 60})\n",
    "ax[2].set_title('Summer_total_size', pad=60, fontdict = {'fontsize': 60})\n",
    "\n",
    "ax[0].pie(summer_ind_cat_2019, labels = summer_ind_cat_2019.index, autopct='%.1f%%', radius=1.1, textprops={'fontsize': 35})\n",
    "ax[1].pie(summer_ind_cat_2020, labels = summer_ind_cat_2020.index, autopct='%.1f%%', radius=1.1, textprops={'fontsize': 35})\n",
    "ax[2].pie(summer_ind_cat_2021, labels = summer_ind_cat_2021.index, autopct='%.1f%%', radius=1.1, textprops={'fontsize': 35})\n",
    "\n",
    "plt.show()\n",
    "\n"
   ]
  },
  {
   "cell_type": "code",
   "execution_count": null,
   "id": "d44ea7e6",
   "metadata": {},
   "outputs": [],
   "source": [
    "---end"
   ]
  },
  {
   "cell_type": "code",
   "execution_count": null,
   "id": "84bda15b",
   "metadata": {},
   "outputs": [],
   "source": []
  },
  {
   "cell_type": "code",
   "execution_count": null,
   "id": "f1ccb609",
   "metadata": {},
   "outputs": [],
   "source": []
  },
  {
   "cell_type": "code",
   "execution_count": null,
   "id": "36822b13",
   "metadata": {},
   "outputs": [],
   "source": []
  },
  {
   "cell_type": "code",
   "execution_count": null,
   "id": "bd8a9228",
   "metadata": {},
   "outputs": [],
   "source": []
  },
  {
   "cell_type": "code",
   "execution_count": null,
   "id": "bb22ccb8",
   "metadata": {},
   "outputs": [],
   "source": []
  },
  {
   "cell_type": "code",
   "execution_count": null,
   "id": "b0019301",
   "metadata": {},
   "outputs": [],
   "source": []
  },
  {
   "cell_type": "code",
   "execution_count": null,
   "id": "2978ca75",
   "metadata": {},
   "outputs": [],
   "source": []
  },
  {
   "cell_type": "code",
   "execution_count": null,
   "id": "f050ef9f",
   "metadata": {},
   "outputs": [],
   "source": []
  },
  {
   "cell_type": "code",
   "execution_count": null,
   "id": "75fc7e7e",
   "metadata": {},
   "outputs": [],
   "source": []
  },
  {
   "cell_type": "code",
   "execution_count": null,
   "id": "25fe2476",
   "metadata": {},
   "outputs": [],
   "source": []
  },
  {
   "cell_type": "code",
   "execution_count": null,
   "id": "3d8bc5d5",
   "metadata": {},
   "outputs": [],
   "source": []
  },
  {
   "cell_type": "code",
   "execution_count": null,
   "id": "bb3bda47",
   "metadata": {
    "scrolled": false
   },
   "outputs": [],
   "source": [
    "student_df_0.head(3)"
   ]
  },
  {
   "cell_type": "code",
   "execution_count": null,
   "id": "a85bcd9b",
   "metadata": {},
   "outputs": [],
   "source": [
    "student_df_0.drop(['Unnamed: 11', 'Unnamed: 12', 'Unnamed: 13', 'Unnamed: 14', 'Unnamed: 15', 'Unnamed: 16', \\\n",
    "                    'Unnamed: 17', 'Unnamed: 18', 'Unnamed: 19'], axis = 1, inplace = True)"
   ]
  },
  {
   "cell_type": "code",
   "execution_count": null,
   "id": "7c1fb3ad",
   "metadata": {},
   "outputs": [],
   "source": [
    "student_df_0['MS_Enrolled'] = '2021_2022'"
   ]
  },
  {
   "cell_type": "code",
   "execution_count": null,
   "id": "59190d68",
   "metadata": {
    "scrolled": true
   },
   "outputs": [],
   "source": [
    "student_df_0.head(3)"
   ]
  },
  {
   "cell_type": "code",
   "execution_count": null,
   "id": "26697375",
   "metadata": {},
   "outputs": [],
   "source": [
    "# It has 308 data with 12 columns\n",
    "# each has some null values, so you need to decide what to do with null value \n",
    "# Foreign Cit: null-values can be substituted as 'others'\n",
    "student_df_0.info()"
   ]
  },
  {
   "cell_type": "code",
   "execution_count": null,
   "id": "7aa3f9c6",
   "metadata": {
    "scrolled": true
   },
   "outputs": [],
   "source": [
    "for column in student_df_0.columns:\n",
    "    print(column, '\\n', student_df_0[column].value_counts().sort_index(ascending=False), '\\n')"
   ]
  },
  {
   "cell_type": "code",
   "execution_count": null,
   "id": "287e72ab",
   "metadata": {},
   "outputs": [],
   "source": [
    "student_df_0['Legal Sex'].value_counts()"
   ]
  },
  {
   "cell_type": "code",
   "execution_count": null,
   "id": "89eba663",
   "metadata": {},
   "outputs": [],
   "source": [
    "# Legal Sex: We have about 56% of male and 44% of female\n",
    "male = student_df_0['Legal Sex'][student_df_0['Legal Sex'] == 'M'].count()\n",
    "female = student_df_0['Legal Sex'][student_df_0['Legal Sex'] == 'F'].count()\n",
    "\n",
    "print('Male percentage is: {0:.2f}%'.format(male / student_df_0['Legal Sex'].count() * 100))\n",
    "print('Female percentage is: {0:.2f}%'.format(female / student_df_0['Legal Sex'].count() * 100))"
   ]
  },
  {
   "cell_type": "code",
   "execution_count": null,
   "id": "58a57bbb",
   "metadata": {},
   "outputs": [],
   "source": [
    "# 1 = US Citizen, 3 = US Permanent Resident, 4 = Foreign Citizen (not a US Citizen) \n",
    "student_df_0['US Cit Stat'].value_counts()"
   ]
  },
  {
   "cell_type": "code",
   "execution_count": null,
   "id": "5ceff0d1",
   "metadata": {},
   "outputs": [],
   "source": [
    "# US Citizen status: We have about 40% of us citizen(including permanent resident) and 60% of foreign citizen\n",
    "US_citizen = student_df_0['US Cit Stat'][student_df_0['US Cit Stat'] == 1].count()\n",
    "US_permanent = student_df_0['US Cit Stat'][student_df_0['US Cit Stat'] == 3].count()\n",
    "Foreign_citizen = student_df_0['US Cit Stat'][student_df_0['US Cit Stat'] == 4].count()\n",
    "\n",
    "print('US_citizen percentage is: {0:.2f}%'.format(US_citizen / student_df_0['US Cit Stat'].count() * 100))\n",
    "print('US_permanent percentage is: {0:.2f}%'.format(US_permanent / student_df_0['US Cit Stat'].count() * 100))\n",
    "print('Foreign_citizen percentage is: {0:.2f}%'.format(Foreign_citizen / student_df_0['US Cit Stat'].count() * 100))"
   ]
  },
  {
   "cell_type": "code",
   "execution_count": null,
   "id": "ec7e17a7",
   "metadata": {
    "scrolled": true
   },
   "outputs": [],
   "source": [
    "# Foreign city: This dataset was divided by china, india, and others\n",
    "# So, it makes sense that filling n/a with OTHER\n",
    "student_df_0['Foreign Cit'].value_counts()"
   ]
  },
  {
   "cell_type": "code",
   "execution_count": null,
   "id": "c3cf426b",
   "metadata": {},
   "outputs": [],
   "source": [
    "student_df_0['Foreign Cit'].fillna('USA', inplace=True)"
   ]
  },
  {
   "cell_type": "code",
   "execution_count": null,
   "id": "5e9234c8",
   "metadata": {
    "scrolled": true
   },
   "outputs": [],
   "source": [
    "student_df_0['Foreign Cit'].value_counts()"
   ]
  },
  {
   "cell_type": "code",
   "execution_count": null,
   "id": "718bb8fb",
   "metadata": {},
   "outputs": [],
   "source": [
    "# Undergraduate GPA: undergrad gpa has some missing values\n",
    "# Also, with some different number range (i.e: India has gpa range of 10)\n",
    "# We will assume that 4.0 as a standard GPA\n",
    "\n",
    "# We've checked some outliers and convert each by rules\n",
    "# 1. if gpa is ~4.00, then keep its value\n",
    "# 2. if gpa is 4.00 ~ 5.00, then assume scores of 5.0 scaling, and convert as x =  x /5.0 * 4.0\n",
    "# 3. if gpa is 5.00 ~ 10.00, then assume scores of 10.0 scaling, and convert as x = x /10.0 * 4.0\n",
    "# 4. if gpa is 50.00~, then assume scores of 100 percentile, and convert as x = x / 100 * 4.0\n",
    "# 5. if gpa is other than this range, something might have been wrong, check and decide by each rows\n",
    "\n",
    "# Create a function that converts gpa to 4.0 scale\n",
    "def convert_gpa(gpa):\n",
    "    \n",
    "    if gpa <= 4.00: pass\n",
    "    elif gpa > 4.00 and gpa <= 5.00: gpa = gpa / 5.0 * 4.0\n",
    "    elif gpa > 5.00 and gpa <= 10.00: gpa = gpa / 10.0 * 4.0\n",
    "    elif gpa >= 50.00: gpa = gpa / 100 * 4.0\n",
    "    else:\n",
    "        gpa = 0.00\n",
    "        print('needs to check!')\n",
    "        pass    \n",
    "    \n",
    "    return gpa\n",
    "\n",
    "student_df_0['gpa_scaled'] = student_df_0['Undergraduate GPA'].apply(lambda x: convert_gpa(x))"
   ]
  },
  {
   "cell_type": "code",
   "execution_count": null,
   "id": "09c120a5",
   "metadata": {},
   "outputs": [],
   "source": [
    "# now we conver 0.00 and null values info mean value\n",
    "# student_df_0['gpa_scaled'].fillna(student_df_0['gpa_scaled'].mean(), inplace=True)\n",
    "# student_df_0['gpa_scaled'].replace(0.00, student_df_0['gpa_scaled'].mean(), inplace=True)\n",
    "# student_df_0['gpa_scaled'] = round(student_df_0['gpa_scaled'],2)\n",
    "\n",
    "def fill_gpa(df_scaled_gpa):    \n",
    "    df_scaled_gpa.fillna(df_scaled_gpa.mean(), inplace=True)\n",
    "    df_scaled_gpa.replace(0.00, df_scaled_gpa.mean(), inplace=True)\n",
    "    df_scaled_gpa = round(df_scaled_gpa, 2)\n",
    "    \n",
    "    return df_scaled_gpa\n",
    "\n",
    "student_df_0['gpa_scaled'] = fill_gpa(student_df_0['gpa_scaled'])\n",
    "student_df_0['gpa_scaled'].value_counts().sort_index()"
   ]
  },
  {
   "cell_type": "code",
   "execution_count": null,
   "id": "e8fe6701",
   "metadata": {},
   "outputs": [],
   "source": [
    "# TOEFL scores have same scaling, but this has lots of null values\n",
    "# Since it is not required for domestic students, I won't be using this column in analysis\n",
    "# But I'll be using some statistics\n",
    "\n",
    "print('null values:', student_df_0['TOEFL'].isnull().sum())\n",
    "print('not null values:', student_df_0['TOEFL'].notnull().sum())\n",
    "print()\n",
    "print(student_df_0['TOEFL'].value_counts().sort_index(ascending=False))\n",
    "print()\n",
    "print('Mean TOEFL score:', round(student_df_0['TOEFL'].mean()))\n",
    "print('Median TOEFL score:', round(student_df_0['TOEFL'].median()))\n",
    "print('Std TOEFL score:', round(student_df_0['TOEFL'].std()))"
   ]
  },
  {
   "cell_type": "code",
   "execution_count": null,
   "id": "5c3bc82c",
   "metadata": {
    "scrolled": true
   },
   "outputs": [],
   "source": [
    "# For GRE scores, we have 4 missing values\n",
    "# We will be converting those into mean values\n",
    "\n",
    "def fill_na_general(df):\n",
    "    \n",
    "    df.fillna(round(df.mean()), inplace = True)\n",
    "        \n",
    "    return df\n",
    "    \n",
    "    \n",
    "general_columns = ['Q', 'Q%', 'V', 'V%', 'W', 'W%']\n",
    "\n",
    "for column in general_columns:\n",
    "    fill_na_general(student_df_0[column])"
   ]
  },
  {
   "cell_type": "code",
   "execution_count": null,
   "id": "85f33dea",
   "metadata": {
    "scrolled": false
   },
   "outputs": [],
   "source": [
    "student_df_0.isnull().sum()"
   ]
  },
  {
   "cell_type": "markdown",
   "id": "ed4388fe",
   "metadata": {},
   "source": [
    "## Statistics"
   ]
  },
  {
   "cell_type": "code",
   "execution_count": null,
   "id": "ce9627e8",
   "metadata": {},
   "outputs": [],
   "source": [
    "## total mean value\n",
    "print('*Total:')\n",
    "print('Toefl Score')\n",
    "print('Mean:', round(np.mean(student_df_0['TOEFL'])))\n",
    "print('Std:', round(np.std(student_df_0['TOEFL'])))\n",
    "print()\n",
    "\n",
    "print('GRE: Quant Score')\n",
    "print('Mean:',round(np.mean(student_df_0['Q']),2))\n",
    "print('Median:',round(np.median(student_df_0['Q']),2))\n",
    "print('Std:',round(np.std(student_df_0['Q']),2))\n",
    "print()\n",
    "\n",
    "print('GRE: Verbal Score')\n",
    "print('Mean:',round(np.mean(student_df_0['V']),2))\n",
    "print('Median:',round(np.median(student_df_0['V']),2))\n",
    "print('Std:',round(np.std(student_df_0['V']),2))\n",
    "print()\n",
    "\n",
    "print('GRE: Writing Score')\n",
    "print('Mean:',round(np.mean(student_df_0['W']),2))\n",
    "print('Median:',round(np.median(student_df_0['W']),2))\n",
    "print('Std:',round(np.std(student_df_0['W']),2))\n",
    "print()\n",
    "\n",
    "print('GPA(Scaled)')\n",
    "print('Mean:',round(np.mean(student_df_0['gpa_scaled']),2))\n",
    "print('Median:',round(np.median(student_df_0['gpa_scaled']),2))\n",
    "print('Std:',round(np.std(student_df_0['gpa_scaled']),2))\n",
    "print()"
   ]
  },
  {
   "cell_type": "code",
   "execution_count": null,
   "id": "a815a565",
   "metadata": {
    "scrolled": false
   },
   "outputs": [],
   "source": [
    "## statistics by gender mean value\n",
    "print('*Total:')\n",
    "print('Toefl Score')\n",
    "print('Mean(M):', round(np.mean(student_df_0['TOEFL'][student_df_0['Legal Sex']=='M'])))\n",
    "print('Std(M):', round(np.std(student_df_0['TOEFL'][student_df_0['Legal Sex']=='M'])))\n",
    "print()\n",
    "\n",
    "print('Mean(F):', round(np.mean(student_df_0['TOEFL'][student_df_0['Legal Sex']=='F'])))\n",
    "print('Std(F):', round(np.std(student_df_0['TOEFL'][student_df_0['Legal Sex']=='F'])))\n",
    "print()\n",
    "\n",
    "\n",
    "print('GRE: Quant Score')\n",
    "print('Mean(M):',round(np.mean(student_df_0['Q'][student_df_0['Legal Sex']=='M']),2))\n",
    "print('Median(M):',round(np.median(student_df_0['Q'][student_df_0['Legal Sex']=='M']),2))\n",
    "print('Std(M):',round(np.std(student_df_0['Q'][student_df_0['Legal Sex']=='M']),2))\n",
    "print()\n",
    "\n",
    "print('Mean(F):',round(np.mean(student_df_0['Q'][student_df_0['Legal Sex']=='F']),2))\n",
    "print('Median(F):',round(np.median(student_df_0['Q'][student_df_0['Legal Sex']=='F']),2))\n",
    "print('Std(F):',round(np.std(student_df_0['Q'][student_df_0['Legal Sex']=='F']),2))\n",
    "print()\n",
    "\n",
    "\n",
    "print('GRE: Verbal Score')\n",
    "print('Mean(M):',round(np.mean(student_df_0['V'][student_df_0['Legal Sex']=='M']),2))\n",
    "print('Median(M):',round(np.median(student_df_0['V'][student_df_0['Legal Sex']=='M']),2))\n",
    "print('Std(M):',round(np.std(student_df_0['V'][student_df_0['Legal Sex']=='M']),2))\n",
    "print()\n",
    "\n",
    "print('Mean(F):',round(np.mean(student_df_0['V'][student_df_0['Legal Sex']=='F']),2))\n",
    "print('Median(F):',round(np.median(student_df_0['V'][student_df_0['Legal Sex']=='F']),2))\n",
    "print('Std(F):',round(np.std(student_df_0['V'][student_df_0['Legal Sex']=='F']),2))\n",
    "print()\n",
    "\n",
    "\n",
    "print('GRE: Writing Score')\n",
    "print('Mean(M):',round(np.mean(student_df_0['W'][student_df_0['Legal Sex']=='M']),2))\n",
    "print('Median(M):',round(np.median(student_df_0['W'][student_df_0['Legal Sex']=='M']),2))\n",
    "print('Std(M):',round(np.std(student_df_0['W'][student_df_0['Legal Sex']=='M']),2))\n",
    "print()\n",
    "\n",
    "print('Mean(F):',round(np.mean(student_df_0['W'][student_df_0['Legal Sex']=='F']),2))\n",
    "print('Median(F):',round(np.median(student_df_0['W'][student_df_0['Legal Sex']=='F']),2))\n",
    "print('Std(F):',round(np.std(student_df_0['W'][student_df_0['Legal Sex']=='F']),2))\n",
    "print()\n",
    "\n",
    "\n",
    "print('GPA(Scaled)')\n",
    "print('Mean(M):',round(np.mean(student_df_0['gpa_scaled'][student_df_0['Legal Sex']=='M']),2))\n",
    "print('Median(M):',round(np.median(student_df_0['gpa_scaled'][student_df_0['Legal Sex']=='M']),2))\n",
    "print('Std(M):',round(np.std(student_df_0['gpa_scaled'][student_df_0['Legal Sex']=='M']),2))\n",
    "print()\n",
    "\n",
    "print('Mean(F):',round(np.mean(student_df_0['gpa_scaled'][student_df_0['Legal Sex']=='F']),2))\n",
    "print('Median(F):',round(np.median(student_df_0['gpa_scaled'][student_df_0['Legal Sex']=='F']),2))\n",
    "print('Std(F):',round(np.std(student_df_0['gpa_scaled'][student_df_0['Legal Sex']=='F']),2))\n",
    "print()"
   ]
  },
  {
   "cell_type": "code",
   "execution_count": null,
   "id": "8e4ce014",
   "metadata": {
    "scrolled": false
   },
   "outputs": [],
   "source": [
    "## statistics by domestic/international\n",
    "\n",
    "print('*Total:')\n",
    "print('GRE: Quant Score')\n",
    "print('Mean(US):',round(np.mean(student_df_0['Q'][student_df_0['US Cit Stat'] != 4]),2))\n",
    "print('Median(US):',round(np.median(student_df_0['Q'][student_df_0['US Cit Stat'] != 4]),2))\n",
    "print('Std(US):',round(np.std(student_df_0['Q'][student_df_0['US Cit Stat'] != 4]),2))\n",
    "print()\n",
    "\n",
    "print('Mean(Inter):',round(np.mean(student_df_0['Q'][student_df_0['US Cit Stat'] == 4]),2))\n",
    "print('Median(Inter):',round(np.median(student_df_0['Q'][student_df_0['US Cit Stat'] == 4]),2))\n",
    "print('Std(Inter):',round(np.std(student_df_0['Q'][student_df_0['US Cit Stat'] == 4]),2))\n",
    "print()\n",
    "\n",
    "\n",
    "print('GRE: Verbal Score')\n",
    "print('Mean(US):',round(np.mean(student_df_0['V'][student_df_0['US Cit Stat'] != 4]),2))\n",
    "print('Median(US):',round(np.median(student_df_0['V'][student_df_0['US Cit Stat'] != 4]),2))\n",
    "print('Std(US):',round(np.std(student_df_0['V'][student_df_0['US Cit Stat'] != 4]),2))\n",
    "print()\n",
    "\n",
    "print('Mean(Inter):',round(np.mean(student_df_0['V'][student_df_0['US Cit Stat'] == 4]),2))\n",
    "print('Median(Inter):',round(np.median(student_df_0['V'][student_df_0['US Cit Stat'] == 4]),2))\n",
    "print('Std(Inter):',round(np.std(student_df_0['V'][student_df_0['US Cit Stat'] == 4]),2))\n",
    "print()\n",
    "\n",
    "\n",
    "print('GRE: Writing Score')\n",
    "print('Mean(US):',round(np.mean(student_df_0['W'][student_df_0['US Cit Stat'] != 4]),2))\n",
    "print('Median(US):',round(np.median(student_df_0['W'][student_df_0['US Cit Stat'] != 4]),2))\n",
    "print('Std(US):',round(np.std(student_df_0['W'][student_df_0['US Cit Stat'] != 4]),2))\n",
    "print()\n",
    "\n",
    "print('Mean(Inter):',round(np.mean(student_df_0['W'][student_df_0['US Cit Stat'] == 4]),2))\n",
    "print('Median(Inter):',round(np.median(student_df_0['W'][student_df_0['US Cit Stat'] == 4]),2))\n",
    "print('Std(Inter):',round(np.std(student_df_0['W'][student_df_0['US Cit Stat'] == 4]),2))\n",
    "print()\n",
    "\n",
    "print('GPA(Scaled)')\n",
    "print('Mean(US):',round(np.mean(student_df_0['gpa_scaled'][student_df_0['US Cit Stat'] != 4]),2))\n",
    "print('Median(US):',round(np.median(student_df_0['gpa_scaled'][student_df_0['US Cit Stat'] != 4]),2))\n",
    "print('Std(US):',round(np.std(student_df_0['gpa_scaled'][student_df_0['US Cit Stat'] != 4]),2))\n",
    "print()\n",
    "\n",
    "print('Mean(Inter):',round(np.mean(student_df_0['gpa_scaled'][student_df_0['US Cit Stat'] == 4]),2))\n",
    "print('Median(Inter):',round(np.median(student_df_0['gpa_scaled'][student_df_0['US Cit Stat'] == 4]),2))\n",
    "print('Std(Inter):',round(np.std(student_df_0['gpa_scaled'][student_df_0['US Cit Stat'] == 4]),2))\n",
    "print()"
   ]
  },
  {
   "cell_type": "code",
   "execution_count": null,
   "id": "77cc438a",
   "metadata": {},
   "outputs": [],
   "source": [
    "student_df_0.columns"
   ]
  },
  {
   "cell_type": "code",
   "execution_count": null,
   "id": "8159049e",
   "metadata": {},
   "outputs": [],
   "source": [
    "## statistics by country (china vs india vs others)\n",
    "\n",
    "print('*Total:')\n",
    "print('GRE: Quant Score')\n",
    "print('Mean(CHN):',round(np.mean(student_df_0['Q'][student_df_0['Foreign Cit'] == 'CHN']),2))\n",
    "print('Median(CHN):',round(np.median(student_df_0['Q'][student_df_0['Foreign Cit'] == 'CHN']),2))\n",
    "print('Std(CHN):',round(np.std(student_df_0['Q'][student_df_0['Foreign Cit'] == 'CHN']),2))\n",
    "print()\n",
    "\n",
    "print('Mean(IND):',round(np.mean(student_df_0['Q'][student_df_0['Foreign Cit'] == 'IND']),2))\n",
    "print('Median(IND):',round(np.median(student_df_0['Q'][student_df_0['Foreign Cit'] == 'IND']),2))\n",
    "print('Std(IND):',round(np.std(student_df_0['Q'][student_df_0['Foreign Cit'] == 'IND']),2))\n",
    "print()\n",
    "\n",
    "print('Mean(OTH):',round(np.mean(student_df_0['Q'][student_df_0['Foreign Cit'] == 'OTHER']),2))\n",
    "print('Median(OTH):',round(np.median(student_df_0['Q'][student_df_0['Foreign Cit'] == 'OTHER']),2))\n",
    "print('Std(OTH):',round(np.std(student_df_0['Q'][student_df_0['Foreign Cit'] == 'OTHER']),2))\n",
    "print()\n",
    "\n",
    "\n",
    "print('GRE: Verbal Score')\n",
    "print('Mean(CHN):',round(np.mean(student_df_0['V'][student_df_0['Foreign Cit'] == 'CHN']),2))\n",
    "print('Median(CHN):',round(np.median(student_df_0['V'][student_df_0['Foreign Cit'] == 'CHN']),2))\n",
    "print('Std(CHN):',round(np.std(student_df_0['V'][student_df_0['Foreign Cit'] == 'CHN']),2))\n",
    "print()\n",
    "\n",
    "print('Mean(IND):',round(np.mean(student_df_0['V'][student_df_0['Foreign Cit'] == 'IND']),2))\n",
    "print('Median(IND):',round(np.median(student_df_0['V'][student_df_0['Foreign Cit'] == 'IND']),2))\n",
    "print('Std(IND):',round(np.std(student_df_0['V'][student_df_0['Foreign Cit'] == 'IND']),2))\n",
    "print()\n",
    "\n",
    "print('Mean(OTH):',round(np.mean(student_df_0['V'][student_df_0['Foreign Cit'] == 'OTHER']),2))\n",
    "print('Median(OTH):',round(np.median(student_df_0['V'][student_df_0['Foreign Cit'] == 'OTHER']),2))\n",
    "print('Std(OTH):',round(np.std(student_df_0['V'][student_df_0['Foreign Cit'] == 'OTHER']),2))\n",
    "print()\n",
    "\n",
    "\n",
    "print('GRE: Writing Score')\n",
    "print('Mean(CHN):',round(np.mean(student_df_0['W'][student_df_0['Foreign Cit'] == 'CHN']),2))\n",
    "print('Median(CHN):',round(np.median(student_df_0['W'][student_df_0['Foreign Cit'] == 'CHN']),2))\n",
    "print('Std(CHN):',round(np.std(student_df_0['W'][student_df_0['Foreign Cit'] == 'CHN']),2))\n",
    "print()\n",
    "\n",
    "print('Mean(IND):',round(np.mean(student_df_0['W'][student_df_0['Foreign Cit'] == 'IND']),2))\n",
    "print('Median(IND):',round(np.median(student_df_0['W'][student_df_0['Foreign Cit'] == 'IND']),2))\n",
    "print('Std(IND):',round(np.std(student_df_0['W'][student_df_0['Foreign Cit'] == 'IND']),2))\n",
    "print()\n",
    "\n",
    "print('Mean(OTH):',round(np.mean(student_df_0['W'][student_df_0['Foreign Cit'] == 'OTHER']),2))\n",
    "print('Median(OTH):',round(np.median(student_df_0['W'][student_df_0['Foreign Cit'] == 'OTHER']),2))\n",
    "print('Std(OTH):',round(np.std(student_df_0['W'][student_df_0['Foreign Cit'] == 'OTHER']),2))\n",
    "print()\n",
    "\n",
    "\n",
    "print('GPA(Scaled)')\n",
    "print('Mean(CHN):',round(np.mean(student_df_0['gpa_scaled'][student_df_0['Foreign Cit'] == 'CHN']),2))\n",
    "print('Median(CHN):',round(np.median(student_df_0['gpa_scaled'][student_df_0['Foreign Cit'] == 'CHN']),2))\n",
    "print('Std(CHN):',round(np.std(student_df_0['gpa_scaled'][student_df_0['Foreign Cit'] == 'CHN']),2))\n",
    "print()\n",
    "\n",
    "print('Mean(IND):',round(np.mean(student_df_0['gpa_scaled'][student_df_0['Foreign Cit'] == 'IND']),2))\n",
    "print('Median(IND):',round(np.median(student_df_0['gpa_scaled'][student_df_0['Foreign Cit'] == 'IND']),2))\n",
    "print('Std(IND):',round(np.std(student_df_0['gpa_scaled'][student_df_0['Foreign Cit'] == 'IND']),2))\n",
    "print()\n",
    "\n",
    "print('Mean(OTH):',round(np.mean(student_df_0['gpa_scaled'][student_df_0['Foreign Cit'] == 'OTHER']),2))\n",
    "print('Median(OTH):',round(np.median(student_df_0['gpa_scaled'][student_df_0['Foreign Cit'] == 'OTHER']),2))\n",
    "print('Std(OTH):',round(np.std(student_df_0['gpa_scaled'][student_df_0['Foreign Cit'] == 'OTHER']),2))\n",
    "print()"
   ]
  },
  {
   "cell_type": "code",
   "execution_count": null,
   "id": "60e9e242",
   "metadata": {},
   "outputs": [],
   "source": []
  },
  {
   "cell_type": "code",
   "execution_count": null,
   "id": "f2360bff",
   "metadata": {},
   "outputs": [],
   "source": []
  },
  {
   "cell_type": "code",
   "execution_count": null,
   "id": "bf4b4345",
   "metadata": {},
   "outputs": [],
   "source": []
  },
  {
   "cell_type": "markdown",
   "id": "4bb77557",
   "metadata": {},
   "source": [
    "## Visualization"
   ]
  },
  {
   "cell_type": "code",
   "execution_count": null,
   "id": "a5ca3695",
   "metadata": {},
   "outputs": [],
   "source": [
    "fig = plt.figure(figsize=(10,8))\n",
    "ax = fig.add_subplot(111)\n",
    "ax.scatter(student_df_0['Q'], student_df_0['V'], color='darkgreen', marker='^')\n",
    "plt.title('GRE Quant - Verbal', fontsize=24)\n",
    "plt.xlabel('GRE:Quant Score', fontsize=18)\n",
    "plt.ylabel('GRE: Verbal Score', fontsize=18)\n",
    "plt.show()"
   ]
  },
  {
   "cell_type": "code",
   "execution_count": null,
   "id": "ea47b07b",
   "metadata": {
    "scrolled": false
   },
   "outputs": [],
   "source": [
    "fig = plt.figure(figsize=(10,8))\n",
    "ax = fig.add_subplot(111)\n",
    "ax.scatter(student_df_0['gpa_scaled'], student_df_0['V'], color='darkblue', marker='o')\n",
    "plt.title('GPA - Verval', fontsize=24)\n",
    "plt.xlabel('GPA', fontsize=18)\n",
    "plt.ylabel('GRE: Verval Score', fontsize=18)\n",
    "plt.show()"
   ]
  },
  {
   "cell_type": "code",
   "execution_count": null,
   "id": "f07d7730",
   "metadata": {},
   "outputs": [],
   "source": [
    "fig = plt.figure(figsize=(10,8))\n",
    "ax = fig.add_subplot(111)\n",
    "ax.scatter(student_df_0['gpa_scaled'], student_df_0['Q'], color='darkblue', marker='o')\n",
    "plt.title('GPA - Quant', fontsize=24)\n",
    "plt.xlabel('GPA', fontsize=18)\n",
    "plt.ylabel('GRE: Quant Score', fontsize=18)\n",
    "plt.show()"
   ]
  },
  {
   "cell_type": "code",
   "execution_count": null,
   "id": "bf8c7592",
   "metadata": {},
   "outputs": [],
   "source": [
    "fig = plt.figure(figsize=(10,8))\n",
    "ax = fig.add_subplot(111)\n",
    "ax.scatter(student_df_0['gpa_scaled'], student_df_0['W'], color='darkblue', marker='o')\n",
    "plt.title('GPA - Writing', fontsize=24)\n",
    "plt.xlabel('GPA', fontsize=18)\n",
    "plt.ylabel('GRE: Writing Score', fontsize=18)\n",
    "plt.show()"
   ]
  },
  {
   "cell_type": "code",
   "execution_count": null,
   "id": "f289957e",
   "metadata": {},
   "outputs": [],
   "source": [
    "plt.figure(figsize=(10,8))\n",
    "plt.hist(student_df_0['Q'])\n",
    "plt.title('GRE:Quent Score', fontsize=20)\n",
    "plt.xlabel('Score', fontsize=18)\n",
    "plt.ylabel('Number of students', fontsize=18)\n",
    "plt.show()"
   ]
  },
  {
   "cell_type": "code",
   "execution_count": null,
   "id": "58120ea6",
   "metadata": {},
   "outputs": [],
   "source": [
    "plt.figure(figsize=(10,8))\n",
    "plt.hist(student_df_0['V'])\n",
    "plt.title('GRE:Verval Score', fontsize=20)\n",
    "plt.xlabel('Score', fontsize=18)\n",
    "plt.ylabel('Number of students', fontsize=18)\n",
    "plt.show()"
   ]
  },
  {
   "cell_type": "code",
   "execution_count": null,
   "id": "8f84f0ab",
   "metadata": {},
   "outputs": [],
   "source": [
    "plt.figure(figsize=(10,8))\n",
    "plt.hist(student_df_0['W'])\n",
    "plt.title('GRE:Writing Score', fontsize=20)\n",
    "plt.xlabel('Score', fontsize=18)\n",
    "plt.ylabel('Number of students', fontsize=18)\n",
    "plt.show()"
   ]
  },
  {
   "cell_type": "code",
   "execution_count": null,
   "id": "09425b66",
   "metadata": {},
   "outputs": [],
   "source": [
    "plt.figure(figsize=(10,8))\n",
    "plt.hist(student_df_0['Q'], alpha = 1.0, label='GRE:Quant')\n",
    "plt.hist(student_df_0['V'], alpha = 0.5, label='GRE:Verbal')\n",
    "plt.title('GRE: Quant-Verbal comparison', fontsize=20)\n",
    "plt.xlabel('Score', fontsize=20)\n",
    "plt.ylabel('Number of Students', fontsize=20)\n",
    "plt.legend(prop={'size': 20})\n",
    "plt.show()\n"
   ]
  },
  {
   "cell_type": "code",
   "execution_count": null,
   "id": "a606bc80",
   "metadata": {},
   "outputs": [],
   "source": [
    "# Hyphothesis testing\n",
    "# Q1: Gender difference has affect in GPA scores(t-test)\n",
    "# Q2: Gender difference has affect in GRE - Quant scores\n",
    "# Q3: Gender difference has affect in GRE - Verbal scores\n",
    "# Q4: Gender difference has affect in GRE - Writing scores\n",
    "\n",
    "# Q5: International students have good grades compared to others\n",
    "# -> Should compare GPA/GRE scores for international vs others\n",
    "\n",
    "# Q6: Chinese people tend to have more good grades \n",
    "# Q7: India people tend to have more good grades\n",
    "\n",
    "# Q8: Year difference) Cohort 2021-2022 was better than 2020-2021 \n",
    "\n",
    "\n"
   ]
  },
  {
   "cell_type": "code",
   "execution_count": null,
   "id": "f046d358",
   "metadata": {},
   "outputs": [],
   "source": []
  },
  {
   "cell_type": "code",
   "execution_count": null,
   "id": "25909195",
   "metadata": {},
   "outputs": [],
   "source": []
  }
 ],
 "metadata": {
  "kernelspec": {
   "display_name": "Python 3",
   "language": "python",
   "name": "python3"
  },
  "language_info": {
   "codemirror_mode": {
    "name": "ipython",
    "version": 3
   },
   "file_extension": ".py",
   "mimetype": "text/x-python",
   "name": "python",
   "nbconvert_exporter": "python",
   "pygments_lexer": "ipython3",
   "version": "3.8.8"
  }
 },
 "nbformat": 4,
 "nbformat_minor": 5
}
