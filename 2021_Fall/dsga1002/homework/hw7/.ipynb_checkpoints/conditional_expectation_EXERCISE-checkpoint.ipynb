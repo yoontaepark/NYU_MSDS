{
 "cells": [
  {
   "cell_type": "code",
   "execution_count": 1,
   "metadata": {},
   "outputs": [],
   "source": [
    "import pandas as pd\n",
    "import numpy as np\n",
    "import matplotlib.pyplot as plt\n",
    "import seaborn as sns\n",
    "import random"
   ]
  },
  {
   "cell_type": "code",
   "execution_count": 2,
   "metadata": {},
   "outputs": [],
   "source": [
    "bottle = pd.read_csv('bottle.csv')"
   ]
  },
  {
   "cell_type": "code",
   "execution_count": 3,
   "metadata": {},
   "outputs": [
    {
     "data": {
      "text/html": [
       "<div>\n",
       "<style scoped>\n",
       "    .dataframe tbody tr th:only-of-type {\n",
       "        vertical-align: middle;\n",
       "    }\n",
       "\n",
       "    .dataframe tbody tr th {\n",
       "        vertical-align: top;\n",
       "    }\n",
       "\n",
       "    .dataframe thead th {\n",
       "        text-align: right;\n",
       "    }\n",
       "</style>\n",
       "<table border=\"1\" class=\"dataframe\">\n",
       "  <thead>\n",
       "    <tr style=\"text-align: right;\">\n",
       "      <th></th>\n",
       "      <th>T_degC</th>\n",
       "      <th>Salnty</th>\n",
       "    </tr>\n",
       "  </thead>\n",
       "  <tbody>\n",
       "    <tr>\n",
       "      <th>0</th>\n",
       "      <td>9.74</td>\n",
       "      <td>34.460</td>\n",
       "    </tr>\n",
       "    <tr>\n",
       "      <th>1</th>\n",
       "      <td>10.90</td>\n",
       "      <td>33.566</td>\n",
       "    </tr>\n",
       "    <tr>\n",
       "      <th>2</th>\n",
       "      <td>12.70</td>\n",
       "      <td>33.403</td>\n",
       "    </tr>\n",
       "    <tr>\n",
       "      <th>3</th>\n",
       "      <td>9.59</td>\n",
       "      <td>33.377</td>\n",
       "    </tr>\n",
       "    <tr>\n",
       "      <th>4</th>\n",
       "      <td>17.10</td>\n",
       "      <td>34.220</td>\n",
       "    </tr>\n",
       "  </tbody>\n",
       "</table>\n",
       "</div>"
      ],
      "text/plain": [
       "   T_degC  Salnty\n",
       "0    9.74  34.460\n",
       "1   10.90  33.566\n",
       "2   12.70  33.403\n",
       "3    9.59  33.377\n",
       "4   17.10  34.220"
      ]
     },
     "execution_count": 3,
     "metadata": {},
     "output_type": "execute_result"
    }
   ],
   "source": [
    "bottle.head()"
   ]
  },
  {
   "cell_type": "code",
   "execution_count": 4,
   "metadata": {
    "scrolled": true
   },
   "outputs": [
    {
     "data": {
      "text/plain": [
       "<AxesSubplot:xlabel='T_degC', ylabel='Salnty'>"
      ]
     },
     "execution_count": 4,
     "metadata": {},
     "output_type": "execute_result"
    },
    {
     "data": {
      "image/png": "[encoded data removed]",
      "text/plain": [
       "<Figure size 432x288 with 1 Axes>"
      ]
     },
     "metadata": {
      "needs_background": "light"
     },
     "output_type": "display_data"
    }
   ],
   "source": [
    "bottle.plot.scatter(x='T_degC', y='Salnty')"
   ]
  },
  {
   "cell_type": "code",
   "execution_count": 5,
   "metadata": {},
   "outputs": [],
   "source": [
    "salnty = np.array(bottle['Salnty'])\n",
    "temp = np.array(bottle['T_degC'])"
   ]
  },
  {
   "cell_type": "markdown",
   "metadata": {},
   "source": [
    "### Question (a) \n",
    "#### Estimate conditional mean of sanlinity given temperature, and plot the conditional mean together with the scatter plot.\n",
    "\n",
    "\n",
    "*Note:* Both salinity and temperature can be modeled with continous random variables. To simplify the conditional expectation, we discretize tempertures by bins with equal width. We then aggregate the salinity data within each bin. "
   ]
  },
  {
   "cell_type": "code",
   "execution_count": null,
   "metadata": {},
   "outputs": [],
   "source": [
    "max_val = np.max(temp)\n",
    "width_bin = 2\n",
    "fig = plt.figure(figsize = (9,6)) \n",
    "plt.scatter(temp,salnty, s=5, c=\"dodgerblue\", marker='o', edgecolor=\"skyblue\")\n",
    "\n",
    "# TODO: create bins from 0 to the maximum to discretize continous temperatures\n",
    "grid = ### INSERT CODE HERE ###\n",
    "\n",
    "# TODO: Compute the conditional expection of sanlinity given temperture\n",
    "cond_average_salnty = np.zeros(len(grid))\n",
    "\n",
    "### INSERT CODE HERE ###\n",
    "\n",
    "\n",
    "plt.plot(grid[1:-1],cond_average_salnty[1:-1],'-o',lw=2,color='crimson', label=\"Sample conditional mean \")\n",
    "plt.ylabel(\"Salinity\", fontsize=21,labelpad=10)\n",
    "plt.xlabel(\"Water Temperature\", fontsize=21,labelpad=10)\n",
    "\n",
    "plt.legend(fontsize=18)\n",
    "# plt.xlim(-5,30)\n",
    "# plt.ylim(-12,23)\n",
    "plt.xticks(fontsize=18) \n",
    "plt.yticks(fontsize=18)\n",
    "plt.gcf().subplots_adjust(bottom=0.15)\n",
    "plt.gcf().subplots_adjust(left=0.15)\n",
    "plt.savefig('conditional_expectation.pdf')"
   ]
  },
  {
   "cell_type": "markdown",
   "metadata": {},
   "source": [
    "### Question (b)\n",
    "\n",
    "#### Estimate conditional standard deviation, and plot the confidence interval within +/- one conditional standard deviation."
   ]
  },
  {
   "cell_type": "code",
   "execution_count": null,
   "metadata": {},
   "outputs": [],
   "source": [
    "# TODO: Compute the conditional standard deviation of sanlinity given temperture\n",
    "cond_std_salnty = np.zeros(len(grid))\n",
    "\n",
    "### INSERT CODE HERE ###\n",
    "    \n",
    "fig = plt.figure(figsize = (9,6)) \n",
    "plt.scatter(temp,salnty, s=5, c=\"dodgerblue\", marker='o', edgecolor=\"skyblue\")\n",
    "\n",
    "\n",
    "plt.plot(grid[1:-1],cond_average_salnty[1:-1],'-o',lw=2,color='crimson', label=\"Sample conditional mean \")\n",
    "plt.fill_between(grid[1:-1], cond_average_salnty[1:-1]-cond_std_salnty[1:-1], \n",
    "                cond_average_salnty[1:-1]+cond_std_salnty[1:-1], color='crimson', alpha=0.2, label=\"+/- std\")\n",
    "\n",
    "plt.ylabel(\"Salinity\", fontsize=21,labelpad=10)\n",
    "plt.xlabel(\"Water Temperature\", fontsize=21,labelpad=10)\n",
    "\n",
    "plt.legend(fontsize=18)\n",
    "plt.xticks(fontsize=18) \n",
    "plt.yticks(fontsize=18)\n",
    "plt.gcf().subplots_adjust(bottom=0.15)\n",
    "plt.gcf().subplots_adjust(left=0.15)\n",
    "plt.savefig('conditional_expectation_w_std.pdf')"
   ]
  },
  {
   "cell_type": "code",
   "execution_count": null,
   "metadata": {},
   "outputs": [],
   "source": []
  },
  {
   "cell_type": "code",
   "execution_count": null,
   "metadata": {},
   "outputs": [],
   "source": []
  }
 ],
 "metadata": {
  "kernelspec": {
   "display_name": "Python 3",
   "language": "python",
   "name": "python3"
  },
  "language_info": {
   "codemirror_mode": {
    "name": "ipython",
    "version": 3
   },
   "file_extension": ".py",
   "mimetype": "text/x-python",
   "name": "python",
   "nbconvert_exporter": "python",
   "pygments_lexer": "ipython3",
   "version": "3.8.8"
  }
 },
 "nbformat": 4,
 "nbformat_minor": 4
}
