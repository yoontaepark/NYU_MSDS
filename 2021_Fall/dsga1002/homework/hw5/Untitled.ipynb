{
 "cells": [
  {
   "cell_type": "code",
   "execution_count": null,
   "id": "df2da10a",
   "metadata": {},
   "outputs": [],
   "source": [
    "import numpy as np\n",
    "\n",
    "np.random.rand(3)\n",
    "\n",
    "cnt = 0\n",
    "u1,u2 = [],[]\n",
    "\n",
    "x = np.random.rand()\n",
    "y = np.random.rand()\n",
    "\n",
    "while cnt < 1:\n",
    "    if 2*x<=y:\n",
    "        u1.append(x)\n",
    "        u2.append(y)\n",
    "        cnt += 1\n",
    "        \n",
    "print(u1, u2)\n",
    "\n",
    "    "
   ]
  },
  {
   "cell_type": "code",
   "execution_count": null,
   "id": "511b7a06",
   "metadata": {},
   "outputs": [],
   "source": []
  },
  {
   "cell_type": "code",
   "execution_count": null,
   "id": "f726d874",
   "metadata": {},
   "outputs": [],
   "source": []
  }
 ],
 "metadata": {
  "kernelspec": {
   "display_name": "Python 3",
   "language": "python",
   "name": "python3"
  },
  "language_info": {
   "codemirror_mode": {
    "name": "ipython",
    "version": 3
   },
   "file_extension": ".py",
   "mimetype": "text/x-python",
   "name": "python",
   "nbconvert_exporter": "python",
   "pygments_lexer": "ipython3",
   "version": "3.8.8"
  }
 },
 "nbformat": 4,
 "nbformat_minor": 5
}
