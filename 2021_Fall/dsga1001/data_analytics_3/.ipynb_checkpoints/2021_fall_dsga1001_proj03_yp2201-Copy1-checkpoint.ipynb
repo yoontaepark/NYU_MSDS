{
 "cells": [
  {
   "cell_type": "markdown",
   "id": "5a327a6d",
   "metadata": {},
   "source": [
    "## What we would like you to do: (each question is worth 20% of the grade score):\n",
    "### 1) Apply dimension reduction methods – specifically a PCA – to the data in columns 421-474. \n",
    "\n",
    "As laid out above, these columns contain self-report answers to personality and how these individuals experience movies, respectively. It is us to you whether you do one PCA each for personality and movie experience, or one overall, but regardless of that, we would like you to:  \n",
    "\n",
    "#### a) Determine the number of factors (principal components) that you will interpret meaningfully (by a criterion of your choice – but make sure to name that criterion). Include a Scree plot in your answer.\n",
    "\n",
    "- I've divided dataset into personality and movie experience, and conducted PCA for each\n",
    "\n",
    "\n",
    "** Peronality:\n",
    "- Meaningful number of factors: 7\n",
    "- By applying Kaiser criterion line, number of eignvalues that has more than 1 is 7. Scree plot included below\n",
    "\n",
    "** Movie experience:\n",
    "- Meaningful number of factors: 2\n",
    "- By applying Kaiser criterion line, number of eignvalues that has more than 1 is 2. Scree plot included below\n",
    "\n",
    "\n",
    "#### b) Semantically interpret what those factors represent (hint: Inspect the loadings matrix). Explicitly name the factors you found and decided to interpret meaningfully in 1a). Be creative.\n",
    "\n",
    "- By inspecting the loadings matrix, I found a relationship among questions and names the factors as below\n",
    "\n",
    "** Peronality:\n",
    "- Feature 1: \n",
    "- Feature 2: \n",
    "- Feature 3:\n",
    "\n",
    "** Movie experience:\n",
    "- Feature 1: \n",
    "- Feature 2: \n"
   ]
  },
  {
   "cell_type": "code",
   "execution_count": 1,
   "id": "9f9f7ab7",
   "metadata": {},
   "outputs": [],
   "source": [
    "# Before answering questions, I will import some basic libraries and create dataset from given csv file\n",
    "import numpy as np\n",
    "import pandas as pd\n",
    "from scipy import stats\n",
    "from sklearn.decomposition import PCA\n",
    "\n",
    "\n",
    "import matplotlib.pyplot as plt\n",
    "\n",
    "#ignore warnings\n",
    "import warnings\n",
    "warnings.filterwarnings('ignore')\n",
    "\n",
    "dataset = pd.read_csv('./movieReplicationSet.csv')"
   ]
  },
  {
   "cell_type": "code",
   "execution_count": 94,
   "id": "dbeb508f",
   "metadata": {},
   "outputs": [],
   "source": [
    "# 1097 * 54 columns\n",
    "dataset_pca_personal = dataset.iloc[:, 420:464]\n",
    "dataset_pca_exp = dataset.iloc[:, 464:474]"
   ]
  },
  {
   "cell_type": "code",
   "execution_count": 95,
   "id": "5d9f0031",
   "metadata": {},
   "outputs": [],
   "source": [
    "# fill N/A with mean value\n",
    "dataset_pca_personal.fillna(dataset_pca_personal.median(), inplace=True)\n",
    "dataset_pca_exp.fillna(dataset_pca_exp.median(), inplace=True)"
   ]
  },
  {
   "cell_type": "code",
   "execution_count": 101,
   "id": "4e1fe9f4",
   "metadata": {},
   "outputs": [
    {
     "data": {
      "image/png": "[encoded data removed]",
      "text/plain": [
       "<Figure size 576x432 with 1 Axes>"
      ]
     },
     "metadata": {
      "needs_background": "light"
     },
     "output_type": "display_data"
    }
   ],
   "source": [
    "# 1. Z-score the data:\n",
    "zscoredData = stats.zscore(dataset_pca_personal)\n",
    "\n",
    "# # 2. Run the PCA:\n",
    "pca = PCA().fit(zscoredData)\n",
    "\n",
    "# # 3a. Eigenvalues: Single vector of eigenvalues in decreasing order of magnitude\n",
    "eigVals_personal = pca.explained_variance_\n",
    "\n",
    "# # 3b. Loadings (eigenvectors): Weights per factor in terms of the original data. Where do the\n",
    "# # principal components point, in terms of the 17 questions?\n",
    "loadings_personal = pca.components_\n",
    "\n",
    "# # 3c. Rotated Data: Simply the transformed data - we had 40 courses (rows) in\n",
    "# # terms of 17 variables (columns), now we have 40 courses in terms of 17\n",
    "# # factors ordered by decreasing eigenvalue\n",
    "rotatedData_personal = pca.fit_transform(zscoredData)\n",
    "\n",
    "# # 4. For the purposes of this, you can think of eigenvalues in terms of \n",
    "# # (co)variance explained:\n",
    "covarExplained_personal = eigVals_personal/sum(eigVals_personal)*100\n",
    "\n",
    "# #%% 5 Scree plot\n",
    "numClasses = 44\n",
    "plt.figure(figsize=(8,6))\n",
    "plt.bar(np.linspace(1,numClasses,numClasses),eigVals_personal)\n",
    "plt.xlabel('Principal component')\n",
    "plt.ylabel('Eigenvalue')\n",
    "plt.plot([0,numClasses],[1,1],color='red',linewidth=1) # Kaiser criterion line\n",
    "plt.plot(np.linspace(1,numClasses,numClasses),eigVals_personal,color='blue') \n",
    "plt.show()"
   ]
  },
  {
   "cell_type": "code",
   "execution_count": 102,
   "id": "f632eee4",
   "metadata": {},
   "outputs": [
    {
     "name": "stdout",
     "output_type": "stream",
     "text": [
      "Number of meaningful factors: 7, covarExplained: 60.36\n"
     ]
    }
   ],
   "source": [
    "print('Number of meaningful factors: {0}, covarExplained: {1:.2f}'.format(len(eigVals_personal[eigVals_personal > 1]), covarExplained_personal[:11].sum()))"
   ]
  },
  {
   "cell_type": "code",
   "execution_count": 105,
   "id": "5e7c9354",
   "metadata": {},
   "outputs": [
    {
     "data": {
      "image/png": "[encoded data removed]",
      "text/plain": [
       "<Figure size 576x432 with 1 Axes>"
      ]
     },
     "metadata": {
      "needs_background": "light"
     },
     "output_type": "display_data"
    }
   ],
   "source": [
    "# 1. Z-score the data:\n",
    "zscoredData = stats.zscore(dataset_pca_exp)\n",
    "\n",
    "# # 2. Run the PCA:\n",
    "pca = PCA().fit(zscoredData)\n",
    "\n",
    "# # 3a. Eigenvalues: Single vector of eigenvalues in decreasing order of magnitude\n",
    "eigVals_exp = pca.explained_variance_\n",
    "\n",
    "# # 3b. Loadings (eigenvectors): Weights per factor in terms of the original data. Where do the\n",
    "# # principal components point, in terms of the 17 questions?\n",
    "loadings_exp = pca.components_\n",
    "\n",
    "# # 3c. Rotated Data: Simply the transformed data - we had 40 courses (rows) in\n",
    "# # terms of 17 variables (columns), now we have 40 courses in terms of 17\n",
    "# # factors ordered by decreasing eigenvalue\n",
    "rotatedData_exp = pca.fit_transform(zscoredData)\n",
    "\n",
    "# # 4. For the purposes of this, you can think of eigenvalues in terms of \n",
    "# # (co)variance explained:\n",
    "covarExplained_exp = eigVals_exp/sum(eigVals_exp)*100\n",
    "\n",
    "# #%% 5 Scree plot\n",
    "numClasses = 10\n",
    "plt.figure(figsize=(8,6))\n",
    "plt.bar(np.linspace(1,numClasses,numClasses),eigVals_exp)\n",
    "plt.xlabel('Principal component')\n",
    "plt.ylabel('Eigenvalue')\n",
    "plt.plot([0,numClasses],[1,1],color='red',linewidth=1) # Kaiser criterion line\n",
    "plt.plot(np.linspace(1,numClasses,numClasses),eigVals_exp,color='blue') \n",
    "plt.show()"
   ]
  },
  {
   "cell_type": "code",
   "execution_count": 107,
   "id": "e8b8b60b",
   "metadata": {},
   "outputs": [
    {
     "name": "stdout",
     "output_type": "stream",
     "text": [
      "Number of meaningful factors: 2, covarExplained: 48.00\n"
     ]
    }
   ],
   "source": [
    "print('Number of meaningful factors: {0}, covarExplained: {1:.2f}'.format(len(eigVals_exp[eigVals_exp > 1]), covarExplained_exp[:2].sum()))"
   ]
  },
  {
   "cell_type": "code",
   "execution_count": null,
   "id": "fcaa72c9",
   "metadata": {},
   "outputs": [],
   "source": [
    "whichPrincipalComponent = 0\n",
    "\n",
    "plt.bar(np.linspace(1,54,54),loadings[whichPrincipalComponent,:]*-1)\n",
    "plt.xlabel('Question')\n",
    "plt.ylabel('Loading')"
   ]
  },
  {
   "cell_type": "code",
   "execution_count": null,
   "id": "c08ee1ef",
   "metadata": {},
   "outputs": [],
   "source": []
  },
  {
   "cell_type": "code",
   "execution_count": null,
   "id": "7b669af8",
   "metadata": {},
   "outputs": [],
   "source": []
  },
  {
   "cell_type": "code",
   "execution_count": null,
   "id": "0c9361db",
   "metadata": {},
   "outputs": [],
   "source": []
  },
  {
   "cell_type": "code",
   "execution_count": null,
   "id": "dc965271",
   "metadata": {},
   "outputs": [],
   "source": []
  },
  {
   "cell_type": "code",
   "execution_count": null,
   "id": "9171d572",
   "metadata": {},
   "outputs": [],
   "source": []
  },
  {
   "cell_type": "code",
   "execution_count": null,
   "id": "4073a4fa",
   "metadata": {},
   "outputs": [],
   "source": []
  },
  {
   "cell_type": "code",
   "execution_count": 2,
   "id": "a165fca7",
   "metadata": {},
   "outputs": [
    {
     "data": {
      "text/html": [
       "<div>\n",
       "<style scoped>\n",
       "    .dataframe tbody tr th:only-of-type {\n",
       "        vertical-align: middle;\n",
       "    }\n",
       "\n",
       "    .dataframe tbody tr th {\n",
       "        vertical-align: top;\n",
       "    }\n",
       "\n",
       "    .dataframe thead th {\n",
       "        text-align: right;\n",
       "    }\n",
       "</style>\n",
       "<table border=\"1\" class=\"dataframe\">\n",
       "  <thead>\n",
       "    <tr style=\"text-align: right;\">\n",
       "      <th></th>\n",
       "      <th>Is talkative</th>\n",
       "      <th>Tends to find fault with others</th>\n",
       "      <th>Does a thorough job</th>\n",
       "      <th>Is depressed/Blue</th>\n",
       "      <th>Is original/comes up with new ideas</th>\n",
       "      <th>Is reserved</th>\n",
       "      <th>Is helpful and unselfish with others</th>\n",
       "      <th>Can be somewhat careless</th>\n",
       "      <th>Is relaxed/handles stress well</th>\n",
       "      <th>Is curious about many different things</th>\n",
       "      <th>...</th>\n",
       "      <th>I have cried during a movie</th>\n",
       "      <th>I have trouble following the story of a movie</th>\n",
       "      <th>I have trouble remembering the story of a movie a couple of days after seeing it</th>\n",
       "      <th>When watching a movie I cheer or shout or talk or curse at the screen</th>\n",
       "      <th>When watching a movie I feel like the things on the screen are happening to me</th>\n",
       "      <th>As a movie unfolds I start to have problems keeping track of events that happened earlier</th>\n",
       "      <th>The emotions on the screen \"rub off\" on me - for instance if something sad is happening I get sad or if something frightening is happening I get scared</th>\n",
       "      <th>When watching a movie I get completely immersed in the alternative reality of the film</th>\n",
       "      <th>Movies change my position on social economic or political issues</th>\n",
       "      <th>When watching movies things get so intense that I have to stop watching</th>\n",
       "    </tr>\n",
       "  </thead>\n",
       "  <tbody>\n",
       "    <tr>\n",
       "      <th>0</th>\n",
       "      <td>1.0</td>\n",
       "      <td>2.0</td>\n",
       "      <td>NaN</td>\n",
       "      <td>4.0</td>\n",
       "      <td>4.0</td>\n",
       "      <td>5.0</td>\n",
       "      <td>2.0</td>\n",
       "      <td>3.0</td>\n",
       "      <td>5.0</td>\n",
       "      <td>1.0</td>\n",
       "      <td>...</td>\n",
       "      <td>3.0</td>\n",
       "      <td>4.0</td>\n",
       "      <td>1.0</td>\n",
       "      <td>1.0</td>\n",
       "      <td>6.0</td>\n",
       "      <td>2.0</td>\n",
       "      <td>5.0</td>\n",
       "      <td>5.0</td>\n",
       "      <td>5.0</td>\n",
       "      <td>1.0</td>\n",
       "    </tr>\n",
       "    <tr>\n",
       "      <th>1</th>\n",
       "      <td>2.0</td>\n",
       "      <td>3.0</td>\n",
       "      <td>4.0</td>\n",
       "      <td>1.0</td>\n",
       "      <td>3.0</td>\n",
       "      <td>5.0</td>\n",
       "      <td>3.0</td>\n",
       "      <td>4.0</td>\n",
       "      <td>3.0</td>\n",
       "      <td>3.0</td>\n",
       "      <td>...</td>\n",
       "      <td>5.0</td>\n",
       "      <td>3.0</td>\n",
       "      <td>1.0</td>\n",
       "      <td>3.0</td>\n",
       "      <td>1.0</td>\n",
       "      <td>1.0</td>\n",
       "      <td>6.0</td>\n",
       "      <td>5.0</td>\n",
       "      <td>3.0</td>\n",
       "      <td>2.0</td>\n",
       "    </tr>\n",
       "    <tr>\n",
       "      <th>2</th>\n",
       "      <td>4.0</td>\n",
       "      <td>2.0</td>\n",
       "      <td>4.0</td>\n",
       "      <td>2.0</td>\n",
       "      <td>3.0</td>\n",
       "      <td>3.0</td>\n",
       "      <td>4.0</td>\n",
       "      <td>4.0</td>\n",
       "      <td>2.0</td>\n",
       "      <td>4.0</td>\n",
       "      <td>...</td>\n",
       "      <td>4.0</td>\n",
       "      <td>3.0</td>\n",
       "      <td>1.0</td>\n",
       "      <td>5.0</td>\n",
       "      <td>4.0</td>\n",
       "      <td>3.0</td>\n",
       "      <td>5.0</td>\n",
       "      <td>5.0</td>\n",
       "      <td>4.0</td>\n",
       "      <td>4.0</td>\n",
       "    </tr>\n",
       "  </tbody>\n",
       "</table>\n",
       "<p>3 rows × 54 columns</p>\n",
       "</div>"
      ],
      "text/plain": [
       "   Is talkative  Tends to find fault with others  Does a thorough job  \\\n",
       "0           1.0                              2.0                  NaN   \n",
       "1           2.0                              3.0                  4.0   \n",
       "2           4.0                              2.0                  4.0   \n",
       "\n",
       "   Is depressed/Blue  Is original/comes up with new ideas  Is reserved  \\\n",
       "0                4.0                                  4.0          5.0   \n",
       "1                1.0                                  3.0          5.0   \n",
       "2                2.0                                  3.0          3.0   \n",
       "\n",
       "   Is helpful and unselfish with others  Can be somewhat careless  \\\n",
       "0                                   2.0                       3.0   \n",
       "1                                   3.0                       4.0   \n",
       "2                                   4.0                       4.0   \n",
       "\n",
       "   Is relaxed/handles stress well  Is curious about many different things  \\\n",
       "0                             5.0                                     1.0   \n",
       "1                             3.0                                     3.0   \n",
       "2                             2.0                                     4.0   \n",
       "\n",
       "   ...  I have cried during a movie  \\\n",
       "0  ...                          3.0   \n",
       "1  ...                          5.0   \n",
       "2  ...                          4.0   \n",
       "\n",
       "   I have trouble following the story of a movie  \\\n",
       "0                                            4.0   \n",
       "1                                            3.0   \n",
       "2                                            3.0   \n",
       "\n",
       "   I have trouble remembering the story of a movie a couple of days after seeing it  \\\n",
       "0                                                1.0                                  \n",
       "1                                                1.0                                  \n",
       "2                                                1.0                                  \n",
       "\n",
       "   When watching a movie I cheer or shout or talk or curse at the screen  \\\n",
       "0                                                1.0                       \n",
       "1                                                3.0                       \n",
       "2                                                5.0                       \n",
       "\n",
       "   When watching a movie I feel like the things on the screen are happening to me  \\\n",
       "0                                                6.0                                \n",
       "1                                                1.0                                \n",
       "2                                                4.0                                \n",
       "\n",
       "   As a movie unfolds I start to have problems keeping track of events that happened earlier  \\\n",
       "0                                                2.0                                           \n",
       "1                                                1.0                                           \n",
       "2                                                3.0                                           \n",
       "\n",
       "   The emotions on the screen \"rub off\" on me - for instance if something sad is happening I get sad or if something frightening is happening I get scared  \\\n",
       "0                                                5.0                                                                                                         \n",
       "1                                                6.0                                                                                                         \n",
       "2                                                5.0                                                                                                         \n",
       "\n",
       "   When watching a movie I get completely immersed in the alternative reality of the film  \\\n",
       "0                                                5.0                                        \n",
       "1                                                5.0                                        \n",
       "2                                                5.0                                        \n",
       "\n",
       "   Movies change my position on social economic or political issues  \\\n",
       "0                                                5.0                  \n",
       "1                                                3.0                  \n",
       "2                                                4.0                  \n",
       "\n",
       "   When watching movies things get so intense that I have to stop watching  \n",
       "0                                                1.0                        \n",
       "1                                                2.0                        \n",
       "2                                                4.0                        \n",
       "\n",
       "[3 rows x 54 columns]"
      ]
     },
     "execution_count": 2,
     "metadata": {},
     "output_type": "execute_result"
    }
   ],
   "source": [
    "# 1097 * 54 columns\n",
    "dataset_pca = dataset.iloc[:, 420:474]\n",
    "dataset_pca.head(3)"
   ]
  },
  {
   "cell_type": "code",
   "execution_count": 66,
   "id": "da27a190",
   "metadata": {},
   "outputs": [],
   "source": [
    "# fill N/A with mean value\n",
    "dataset_pca.fillna(dataset_pca.median(), inplace=True)"
   ]
  },
  {
   "cell_type": "code",
   "execution_count": 67,
   "id": "3a7d413b",
   "metadata": {
    "scrolled": false
   },
   "outputs": [
    {
     "data": {
      "image/png": "[encoded data removed]",
      "text/plain": [
       "<Figure size 576x432 with 1 Axes>"
      ]
     },
     "metadata": {
      "needs_background": "light"
     },
     "output_type": "display_data"
    }
   ],
   "source": [
    "# 1. Z-score the data:\n",
    "zscoredData = stats.zscore(dataset_pca)\n",
    "\n",
    "# # 2. Run the PCA:\n",
    "pca = PCA().fit(zscoredData)\n",
    "\n",
    "# # 3a. Eigenvalues: Single vector of eigenvalues in decreasing order of magnitude\n",
    "eigVals = pca.explained_variance_\n",
    "\n",
    "# # 3b. Loadings (eigenvectors): Weights per factor in terms of the original data. Where do the\n",
    "# # principal components point, in terms of the 17 questions?\n",
    "loadings = pca.components_\n",
    "\n",
    "# # 3c. Rotated Data: Simply the transformed data - we had 40 courses (rows) in\n",
    "# # terms of 17 variables (columns), now we have 40 courses in terms of 17\n",
    "# # factors ordered by decreasing eigenvalue\n",
    "rotatedData = pca.fit_transform(zscoredData)\n",
    "\n",
    "# # 4. For the purposes of this, you can think of eigenvalues in terms of \n",
    "# # (co)variance explained:\n",
    "covarExplained = eigVals/sum(eigVals)*100\n",
    "\n",
    "# #%% 5 Scree plot\n",
    "numClasses = 54\n",
    "plt.figure(figsize=(8,6))\n",
    "plt.bar(np.linspace(1,54,54),eigVals)\n",
    "plt.xlabel('Principal component')\n",
    "plt.ylabel('Eigenvalue')\n",
    "plt.plot([0,numClasses],[1,1],color='red',linewidth=1) # Kaiser criterion line\n",
    "plt.plot(np.linspace(1,numClasses,numClasses),eigVals,color='blue') \n",
    "plt.show()"
   ]
  },
  {
   "cell_type": "code",
   "execution_count": 69,
   "id": "7f59aedf",
   "metadata": {},
   "outputs": [
    {
     "name": "stdout",
     "output_type": "stream",
     "text": [
      "Number of meaningful factors: 11, covarExplained: 55.61\n"
     ]
    }
   ],
   "source": [
    "print('Number of meaningful factors: {0}, covarExplained: {1:.2f}'.format(len(eigVals[eigVals > 1]), covarExplained[:11].sum()))"
   ]
  },
  {
   "cell_type": "code",
   "execution_count": 70,
   "id": "1b13f478",
   "metadata": {},
   "outputs": [
    {
     "data": {
      "text/plain": [
       "Text(0, 0.5, 'Loading')"
      ]
     },
     "execution_count": 70,
     "metadata": {},
     "output_type": "execute_result"
    },
    {
     "data": {
      "image/png": "[encoded data removed]",
      "text/plain": [
       "<Figure size 432x288 with 1 Axes>"
      ]
     },
     "metadata": {
      "needs_background": "light"
     },
     "output_type": "display_data"
    }
   ],
   "source": [
    "whichPrincipalComponent = 0\n",
    "\n",
    "plt.bar(np.linspace(1,54,54),loadings[whichPrincipalComponent,:]*-1)\n",
    "plt.xlabel('Question')\n",
    "plt.ylabel('Loading')"
   ]
  },
  {
   "cell_type": "code",
   "execution_count": 71,
   "id": "c6e80c63",
   "metadata": {},
   "outputs": [
    {
     "data": {
      "text/plain": [
       "array([ True, False,  True, False,  True, False,  True, False,  True,\n",
       "        True,  True, False,  True, False,  True,  True,  True, False,\n",
       "       False,  True, False,  True, False,  True,  True,  True, False,\n",
       "        True, False,  True, False,  True,  True,  True, False,  True,\n",
       "       False,  True, False,  True, False,  True, False,  True,  True,\n",
       "       False, False,  True,  True, False,  True,  True,  True, False])"
      ]
     },
     "execution_count": 71,
     "metadata": {},
     "output_type": "execute_result"
    }
   ],
   "source": [
    "loadings[whichPrincipalComponent,:]*-1 > 0"
   ]
  },
  {
   "cell_type": "code",
   "execution_count": 72,
   "id": "953bcb3b",
   "metadata": {},
   "outputs": [
    {
     "name": "stdout",
     "output_type": "stream",
     "text": [
      "[0, 2, 4, 6, 8, 9, 10, 12, 14, 15, 16, 19, 21, 23, 24, 25, 27, 29, 31, 32, 33, 35, 37, 39, 41, 43, 44, 47, 48, 50, 51, 52]\n",
      "\n",
      "[1, 3, 5, 7, 11, 13, 17, 18, 20, 22, 26, 28, 30, 34, 36, 38, 40, 42, 45, 46, 49, 53]\n"
     ]
    }
   ],
   "source": [
    "arr_plus = []\n",
    "arr_minus = []\n",
    "for index, value in enumerate(loadings[0,:]*-1):\n",
    "    if value > 0:\n",
    "        arr_plus.append(index)\n",
    "    else:\n",
    "        arr_minus.append(index)\n",
    "\n",
    "print(arr_plus)\n",
    "print()\n",
    "print(arr_minus)"
   ]
  },
  {
   "cell_type": "code",
   "execution_count": 73,
   "id": "ef316758",
   "metadata": {},
   "outputs": [
    {
     "data": {
      "text/plain": [
       "Index(['Is talkative', 'Does a thorough job',\n",
       "       'Is original/comes up with new ideas',\n",
       "       'Is helpful and unselfish with others',\n",
       "       'Is relaxed/handles stress well',\n",
       "       'Is curious about many different things', 'Is full of energy',\n",
       "       'Is a reliable worker', 'Is ingenious/a deep thinker',\n",
       "       'Generates a lot of Enthusiasm', 'Has a forgiving nature',\n",
       "       'Has an active imagination', 'Is generally trusting',\n",
       "       'Is emotionally stable/not easily upset', 'is inventive',\n",
       "       'Has an assertive personality', 'Perseveres until the task is finished',\n",
       "       'Values artistic/aesthetic experiences',\n",
       "       'Is considerate and kind to almost everyone', 'Does things efficiently',\n",
       "       'Remains calm in tense situations', 'is outgoing/sociable',\n",
       "       'Makes plans and follows through with them',\n",
       "       'Likes to reflect/play with ideas', 'Likes to cooperate with others',\n",
       "       'Is sophisticated in art or music or literature',\n",
       "       'I have cried during a movie',\n",
       "       'When watching a movie I cheer or shout or talk or curse at the screen',\n",
       "       'When watching a movie I feel like the things on the screen are happening to me',\n",
       "       'The emotions on the screen \"rub off\" on me - for instance if something sad is happening I get sad or if something frightening is happening I get scared',\n",
       "       'When watching a movie I get completely immersed in the alternative reality of the film',\n",
       "       'Movies change my position on social economic or political issues'],\n",
       "      dtype='object')"
      ]
     },
     "execution_count": 73,
     "metadata": {},
     "output_type": "execute_result"
    }
   ],
   "source": [
    "# Somewhat active, 'E' in MBTI\n",
    "dataset_pca.columns[arr_plus]"
   ]
  },
  {
   "cell_type": "code",
   "execution_count": 74,
   "id": "4d81b2d7",
   "metadata": {
    "scrolled": true
   },
   "outputs": [
    {
     "data": {
      "text/plain": [
       "Index(['Tends to find fault with others', 'Is depressed/Blue', 'Is reserved',\n",
       "       'Can be somewhat careless', 'Starts quarrels with others',\n",
       "       'Can be tense', 'Tends to be disorganized', 'Worries a lot',\n",
       "       'Tends to be quiet', 'Tends to be lazy', 'Can be cold and aloof',\n",
       "       'Can be moody', 'Is sometimes shy/inhibited',\n",
       "       'Prefers work that is routine', 'Is sometimes rude to others',\n",
       "       'Gets nervous easily', 'Has few artistic interests',\n",
       "       'Is easily distracted', 'I have trouble following the story of a movie',\n",
       "       'I have trouble remembering the story of a movie a couple of days after seeing it',\n",
       "       'As a movie unfolds I start to have problems keeping track of events that happened earlier',\n",
       "       'When watching movies things get so intense that I have to stop watching'],\n",
       "      dtype='object')"
      ]
     },
     "execution_count": 74,
     "metadata": {},
     "output_type": "execute_result"
    }
   ],
   "source": [
    "# Somewhat inactive, 'I' in MBTI\n",
    "dataset_pca.columns[arr_minus]"
   ]
  },
  {
   "cell_type": "code",
   "execution_count": 75,
   "id": "9689ae66",
   "metadata": {},
   "outputs": [
    {
     "data": {
      "text/plain": [
       "Text(0, 0.5, 'Loading')"
      ]
     },
     "execution_count": 75,
     "metadata": {},
     "output_type": "execute_result"
    },
    {
     "data": {
      "image/png": "[encoded data removed]",
      "text/plain": [
       "<Figure size 432x288 with 1 Axes>"
      ]
     },
     "metadata": {
      "needs_background": "light"
     },
     "output_type": "display_data"
    }
   ],
   "source": [
    "whichPrincipalComponent = 1\n",
    "\n",
    "plt.bar(np.linspace(1,54,54),loadings[whichPrincipalComponent,:]*-1)\n",
    "plt.xlabel('Question')\n",
    "plt.ylabel('Loading')"
   ]
  },
  {
   "cell_type": "code",
   "execution_count": 76,
   "id": "b057f909",
   "metadata": {},
   "outputs": [
    {
     "name": "stdout",
     "output_type": "stream",
     "text": [
      "[0, 1, 2, 3, 4, 5, 6, 7, 9, 10, 11, 12, 13, 14, 15, 16, 17, 18, 19, 21, 22, 24, 26, 27, 28, 29, 30, 31, 35, 36, 38, 39, 41, 42, 43, 44, 45, 46, 47, 48, 49, 50, 51, 52, 53]\n",
      "\n",
      "[8, 20, 23, 25, 32, 33, 34, 37, 40]\n"
     ]
    }
   ],
   "source": [
    "arr_plus = []\n",
    "arr_minus = []\n",
    "for index, value in enumerate(loadings[whichPrincipalComponent,:]*-1):\n",
    "    if value > 0:\n",
    "        arr_plus.append(index)\n",
    "    else:\n",
    "        arr_minus.append(index)\n",
    "\n",
    "print(arr_plus)\n",
    "print()\n",
    "print(arr_minus)"
   ]
  },
  {
   "cell_type": "code",
   "execution_count": 77,
   "id": "4492cc13",
   "metadata": {},
   "outputs": [
    {
     "data": {
      "text/plain": [
       "Index(['Is talkative', 'Tends to find fault with others',\n",
       "       'Does a thorough job', 'Is depressed/Blue',\n",
       "       'Is original/comes up with new ideas', 'Is reserved',\n",
       "       'Is helpful and unselfish with others', 'Can be somewhat careless',\n",
       "       'Is curious about many different things', 'Is full of energy',\n",
       "       'Starts quarrels with others', 'Is a reliable worker', 'Can be tense',\n",
       "       'Is ingenious/a deep thinker', 'Generates a lot of Enthusiasm',\n",
       "       'Has a forgiving nature', 'Tends to be disorganized', 'Worries a lot',\n",
       "       'Has an active imagination', 'Is generally trusting',\n",
       "       'Tends to be lazy', 'is inventive', 'Can be cold and aloof',\n",
       "       'Perseveres until the task is finished', 'Can be moody',\n",
       "       'Values artistic/aesthetic experiences', 'Is sometimes shy/inhibited',\n",
       "       'Is considerate and kind to almost everyone', 'is outgoing/sociable',\n",
       "       'Is sometimes rude to others', 'Gets nervous easily',\n",
       "       'Likes to reflect/play with ideas', 'Likes to cooperate with others',\n",
       "       'Is easily distracted',\n",
       "       'Is sophisticated in art or music or literature',\n",
       "       'I have cried during a movie',\n",
       "       'I have trouble following the story of a movie',\n",
       "       'I have trouble remembering the story of a movie a couple of days after seeing it',\n",
       "       'When watching a movie I cheer or shout or talk or curse at the screen',\n",
       "       'When watching a movie I feel like the things on the screen are happening to me',\n",
       "       'As a movie unfolds I start to have problems keeping track of events that happened earlier',\n",
       "       'The emotions on the screen \"rub off\" on me - for instance if something sad is happening I get sad or if something frightening is happening I get scared',\n",
       "       'When watching a movie I get completely immersed in the alternative reality of the film',\n",
       "       'Movies change my position on social economic or political issues',\n",
       "       'When watching movies things get so intense that I have to stop watching'],\n",
       "      dtype='object')"
      ]
     },
     "execution_count": 77,
     "metadata": {},
     "output_type": "execute_result"
    }
   ],
   "source": [
    "# unstable\n",
    "dataset_pca.columns[arr_plus]"
   ]
  },
  {
   "cell_type": "code",
   "execution_count": 78,
   "id": "b0fba608",
   "metadata": {},
   "outputs": [
    {
     "data": {
      "text/plain": [
       "Index(['Is relaxed/handles stress well', 'Tends to be quiet',\n",
       "       'Is emotionally stable/not easily upset',\n",
       "       'Has an assertive personality', 'Does things efficiently',\n",
       "       'Remains calm in tense situations', 'Prefers work that is routine',\n",
       "       'Makes plans and follows through with them',\n",
       "       'Has few artistic interests'],\n",
       "      dtype='object')"
      ]
     },
     "execution_count": 78,
     "metadata": {},
     "output_type": "execute_result"
    }
   ],
   "source": [
    "# Stable\n",
    "dataset_pca.columns[arr_minus]"
   ]
  },
  {
   "cell_type": "code",
   "execution_count": 79,
   "id": "48cbe4d3",
   "metadata": {},
   "outputs": [
    {
     "data": {
      "text/plain": [
       "Text(0, 0.5, 'Loading')"
      ]
     },
     "execution_count": 79,
     "metadata": {},
     "output_type": "execute_result"
    },
    {
     "data": {
      "image/png": "[encoded data removed]",
      "text/plain": [
       "<Figure size 432x288 with 1 Axes>"
      ]
     },
     "metadata": {
      "needs_background": "light"
     },
     "output_type": "display_data"
    }
   ],
   "source": [
    "whichPrincipalComponent = 2\n",
    "\n",
    "plt.bar(np.linspace(1,54,54),loadings[whichPrincipalComponent,:]*-1)\n",
    "plt.xlabel('Question')\n",
    "plt.ylabel('Loading')"
   ]
  },
  {
   "cell_type": "code",
   "execution_count": 80,
   "id": "5084e188",
   "metadata": {},
   "outputs": [
    {
     "name": "stdout",
     "output_type": "stream",
     "text": [
      "[2, 3, 4, 5, 6, 9, 12, 13, 14, 16, 18, 19, 20, 21, 23, 24, 26, 27, 29, 30, 31, 32, 33, 34, 37, 38, 39, 41, 43, 51]\n",
      "\n",
      "[0, 1, 7, 8, 10, 11, 15, 17, 22, 25, 28, 35, 36, 40, 42, 44, 45, 46, 47, 48, 49, 50, 52, 53]\n"
     ]
    }
   ],
   "source": [
    "arr_plus = []\n",
    "arr_minus = []\n",
    "for index, value in enumerate(loadings[whichPrincipalComponent,:]*-1):\n",
    "    if value > 0:\n",
    "        arr_plus.append(index)\n",
    "    else:\n",
    "        arr_minus.append(index)\n",
    "\n",
    "print(arr_plus)\n",
    "print()\n",
    "print(arr_minus)"
   ]
  },
  {
   "cell_type": "code",
   "execution_count": 81,
   "id": "fbdecfd5",
   "metadata": {},
   "outputs": [
    {
     "data": {
      "text/plain": [
       "Index(['Does a thorough job', 'Is depressed/Blue',\n",
       "       'Is original/comes up with new ideas', 'Is reserved',\n",
       "       'Is helpful and unselfish with others',\n",
       "       'Is curious about many different things', 'Is a reliable worker',\n",
       "       'Can be tense', 'Is ingenious/a deep thinker', 'Has a forgiving nature',\n",
       "       'Worries a lot', 'Has an active imagination', 'Tends to be quiet',\n",
       "       'Is generally trusting', 'Is emotionally stable/not easily upset',\n",
       "       'is inventive', 'Can be cold and aloof',\n",
       "       'Perseveres until the task is finished',\n",
       "       'Values artistic/aesthetic experiences', 'Is sometimes shy/inhibited',\n",
       "       'Is considerate and kind to almost everyone', 'Does things efficiently',\n",
       "       'Remains calm in tense situations', 'Prefers work that is routine',\n",
       "       'Makes plans and follows through with them', 'Gets nervous easily',\n",
       "       'Likes to reflect/play with ideas', 'Likes to cooperate with others',\n",
       "       'Is sophisticated in art or music or literature',\n",
       "       'When watching a movie I get completely immersed in the alternative reality of the film'],\n",
       "      dtype='object')"
      ]
     },
     "execution_count": 81,
     "metadata": {},
     "output_type": "execute_result"
    }
   ],
   "source": [
    "# not distracted\n",
    "dataset_pca.columns[arr_plus]"
   ]
  },
  {
   "cell_type": "code",
   "execution_count": 82,
   "id": "02d2f04d",
   "metadata": {},
   "outputs": [
    {
     "data": {
      "text/plain": [
       "Index(['Is talkative', 'Tends to find fault with others',\n",
       "       'Can be somewhat careless', 'Is relaxed/handles stress well',\n",
       "       'Is full of energy', 'Starts quarrels with others',\n",
       "       'Generates a lot of Enthusiasm', 'Tends to be disorganized',\n",
       "       'Tends to be lazy', 'Has an assertive personality', 'Can be moody',\n",
       "       'is outgoing/sociable', 'Is sometimes rude to others',\n",
       "       'Has few artistic interests', 'Is easily distracted',\n",
       "       'I have cried during a movie',\n",
       "       'I have trouble following the story of a movie',\n",
       "       'I have trouble remembering the story of a movie a couple of days after seeing it',\n",
       "       'When watching a movie I cheer or shout or talk or curse at the screen',\n",
       "       'When watching a movie I feel like the things on the screen are happening to me',\n",
       "       'As a movie unfolds I start to have problems keeping track of events that happened earlier',\n",
       "       'The emotions on the screen \"rub off\" on me - for instance if something sad is happening I get sad or if something frightening is happening I get scared',\n",
       "       'Movies change my position on social economic or political issues',\n",
       "       'When watching movies things get so intense that I have to stop watching'],\n",
       "      dtype='object')"
      ]
     },
     "execution_count": 82,
     "metadata": {},
     "output_type": "execute_result"
    }
   ],
   "source": [
    "# easily distracted\n",
    "dataset_pca.columns[arr_minus]"
   ]
  },
  {
   "cell_type": "code",
   "execution_count": null,
   "id": "dc243a4b",
   "metadata": {},
   "outputs": [],
   "source": []
  },
  {
   "cell_type": "markdown",
   "id": "70c003f4",
   "metadata": {},
   "source": [
    "### 2) Plot the data from columns 421-474 in the new coordinate system, where each dot represents a person, and the axes represent the factors you found in \n",
    "1). Hint: If you identified more than 2 meaningful factors, it is a good idea to create several 2D (X vs. Y) subplots for better interpretability."
   ]
  },
  {
   "cell_type": "code",
   "execution_count": 20,
   "id": "7a9b6657",
   "metadata": {
    "scrolled": true
   },
   "outputs": [
    {
     "data": {
      "image/png": "[encoded data removed]",
      "text/plain": [
       "<Figure size 432x288 with 1 Axes>"
      ]
     },
     "metadata": {
      "needs_background": "light"
     },
     "output_type": "display_data"
    }
   ],
   "source": [
    "# Coordinate 0 vs 1\n",
    "plt.plot(rotatedData[:,0]*-1,rotatedData[:,1]*-1,'o',markersize=5)\n",
    "plt.xlabel('Activeness')\n",
    "plt.ylabel('Unstable mind')\n",
    "plt.show()"
   ]
  },
  {
   "cell_type": "code",
   "execution_count": 21,
   "id": "ac1791ec",
   "metadata": {},
   "outputs": [
    {
     "data": {
      "image/png": "[encoded data removed]",
      "text/plain": [
       "<Figure size 432x288 with 1 Axes>"
      ]
     },
     "metadata": {
      "needs_background": "light"
     },
     "output_type": "display_data"
    }
   ],
   "source": [
    "# Coordinate 1 vs 2\n",
    "plt.plot(rotatedData[:,1]*-1,rotatedData[:,2]*-1,'o',markersize=5)\n",
    "plt.xlabel('Unstable mind')\n",
    "plt.ylabel('Not distracted')\n",
    "plt.show()"
   ]
  },
  {
   "cell_type": "code",
   "execution_count": 22,
   "id": "1ecaf2d2",
   "metadata": {},
   "outputs": [
    {
     "data": {
      "text/plain": [
       "Text(0, 0.5, 'Not distracted')"
      ]
     },
     "execution_count": 22,
     "metadata": {},
     "output_type": "execute_result"
    },
    {
     "data": {
      "image/png": "[encoded data removed]",
      "text/plain": [
       "<Figure size 432x288 with 1 Axes>"
      ]
     },
     "metadata": {
      "needs_background": "light"
     },
     "output_type": "display_data"
    }
   ],
   "source": [
    "# Coordinate 0 vs 2\n",
    "plt.plot(rotatedData[:,0]*-1,rotatedData[:,2]*-1,'o',markersize=5)\n",
    "plt.xlabel('Activeness')\n",
    "plt.ylabel('Not distracted')"
   ]
  },
  {
   "cell_type": "code",
   "execution_count": null,
   "id": "bd1678f1",
   "metadata": {},
   "outputs": [],
   "source": []
  },
  {
   "cell_type": "code",
   "execution_count": null,
   "id": "ed85e984",
   "metadata": {},
   "outputs": [],
   "source": []
  },
  {
   "cell_type": "markdown",
   "id": "2e54d9c8",
   "metadata": {},
   "source": [
    "### 3) Identify clusters in this new space. \n",
    "Use a method of your choice (e.g. kMeans, DBScan, hierarchical clustering) to do so. Determine the optimal number of clusters and identify which cluster a given user is part of."
   ]
  },
  {
   "cell_type": "markdown",
   "id": "ea34ec04",
   "metadata": {},
   "source": [
    "### By using KMeans, I've selected optimal number of clusters as 4\n",
    "- This doesn't minimize the cost\n",
    "- But this can be better explained among different cluster classification\n",
    "- User is divided into:  \n",
    "A) Active + unstable - Cluster 0    \n",
    "B) Active + stable - Cluster 2  \n",
    "C) Inactive + unstable - Cluster 3  \n",
    "D) Inactive + stable - Cluster 1"
   ]
  },
  {
   "cell_type": "markdown",
   "id": "3d6dea14",
   "metadata": {},
   "source": [
    "## Cluster: 4"
   ]
  },
  {
   "cell_type": "code",
   "execution_count": 23,
   "id": "db233a21",
   "metadata": {},
   "outputs": [],
   "source": [
    "X = rotatedData[:,:2]*-1"
   ]
  },
  {
   "cell_type": "code",
   "execution_count": 24,
   "id": "aa07a92e",
   "metadata": {},
   "outputs": [
    {
     "data": {
      "image/png": "[encoded data removed]",
      "text/plain": [
       "<Figure size 432x288 with 1 Axes>"
      ]
     },
     "metadata": {
      "needs_background": "light"
     },
     "output_type": "display_data"
    }
   ],
   "source": [
    "from sklearn.metrics import pairwise_distances_argmin\n",
    "\n",
    "def KMeans(X, n_clusters, rseed=2):\n",
    "    rng = np.random.RandomState(rseed)\n",
    "    i = rng.permutation(X.shape[0])[:n_clusters]\n",
    "    centers = X[i]\n",
    "    \n",
    "    while True:\n",
    "        labels = pairwise_distances_argmin(X, centers)\n",
    "        new_centers = np.array([X[labels == i].mean(0)\n",
    "                                for i in range(n_clusters)])\n",
    "        \n",
    "        if np.all(centers == new_centers):\n",
    "            break\n",
    "        centers = new_centers\n",
    "    \n",
    "    return centers, labels\n",
    "\n",
    "centers, labels = KMeans(X, 4)\n",
    "plt.scatter(X[:, 0], X[:, 1], c=labels,\n",
    "            s=50, cmap='viridis');"
   ]
  },
  {
   "cell_type": "code",
   "execution_count": 25,
   "id": "a0868254",
   "metadata": {},
   "outputs": [],
   "source": [
    "new_space_df = pd.DataFrame(X, columns = ['feature_A', 'feature_B'])\n",
    "new_space_df['cluster'] = labels"
   ]
  },
  {
   "cell_type": "code",
   "execution_count": 26,
   "id": "3855331f",
   "metadata": {},
   "outputs": [],
   "source": [
    "c_0 = new_space_df[new_space_df['cluster'] == 0]\n",
    "c_1 = new_space_df[new_space_df['cluster'] == 1]\n",
    "c_2 = new_space_df[new_space_df['cluster'] == 2]\n",
    "c_3 = new_space_df[new_space_df['cluster'] == 3]"
   ]
  },
  {
   "cell_type": "code",
   "execution_count": 27,
   "id": "f9de8d91",
   "metadata": {},
   "outputs": [
    {
     "data": {
      "text/plain": [
       "<matplotlib.collections.PathCollection at 0x7f850288cf40>"
      ]
     },
     "execution_count": 27,
     "metadata": {},
     "output_type": "execute_result"
    },
    {
     "data": {
      "image/png": "[encoded data removed]",
      "text/plain": [
       "<Figure size 432x288 with 1 Axes>"
      ]
     },
     "metadata": {
      "needs_background": "light"
     },
     "output_type": "display_data"
    }
   ],
   "source": [
    "plt.scatter(c_0['feature_A'], c_0['feature_B'])"
   ]
  },
  {
   "cell_type": "code",
   "execution_count": 28,
   "id": "178526f3",
   "metadata": {},
   "outputs": [
    {
     "data": {
      "text/plain": [
       "<matplotlib.collections.PathCollection at 0x7f84f2160b20>"
      ]
     },
     "execution_count": 28,
     "metadata": {},
     "output_type": "execute_result"
    },
    {
     "data": {
      "image/png": "[encoded data removed]",
      "text/plain": [
       "<Figure size 432x288 with 1 Axes>"
      ]
     },
     "metadata": {
      "needs_background": "light"
     },
     "output_type": "display_data"
    }
   ],
   "source": [
    "plt.scatter(c_1['feature_A'], c_1['feature_B'])"
   ]
  },
  {
   "cell_type": "code",
   "execution_count": 29,
   "id": "1cefae93",
   "metadata": {},
   "outputs": [
    {
     "data": {
      "text/plain": [
       "<matplotlib.collections.PathCollection at 0x7f84f2368610>"
      ]
     },
     "execution_count": 29,
     "metadata": {},
     "output_type": "execute_result"
    },
    {
     "data": {
      "image/png": "[encoded data removed]",
      "text/plain": [
       "<Figure size 432x288 with 1 Axes>"
      ]
     },
     "metadata": {
      "needs_background": "light"
     },
     "output_type": "display_data"
    }
   ],
   "source": [
    "plt.scatter(c_2['feature_A'], c_2['feature_B'])"
   ]
  },
  {
   "cell_type": "code",
   "execution_count": 30,
   "id": "efc0ef9f",
   "metadata": {},
   "outputs": [
    {
     "data": {
      "text/plain": [
       "<matplotlib.collections.PathCollection at 0x7f84b00a4a00>"
      ]
     },
     "execution_count": 30,
     "metadata": {},
     "output_type": "execute_result"
    },
    {
     "data": {
      "image/png": "[encoded data removed]",
      "text/plain": [
       "<Figure size 432x288 with 1 Axes>"
      ]
     },
     "metadata": {
      "needs_background": "light"
     },
     "output_type": "display_data"
    }
   ],
   "source": [
    "plt.scatter(c_3['feature_A'], c_3['feature_B'])"
   ]
  },
  {
   "cell_type": "code",
   "execution_count": 31,
   "id": "28e20c03",
   "metadata": {},
   "outputs": [],
   "source": [
    "c_0_dist = sum(pow((c_0['feature_A'] - centers[0][0]), 2) + pow(c_0['feature_B'] - centers[0][1], 2))\n",
    "c_1_dist = sum(pow(c_1['feature_A'] - centers[1][0], 2) + pow(c_1['feature_B'] - centers[1][1], 2))\n",
    "c_2_dist = sum(pow(c_2['feature_A'] - centers[2][0], 2) + pow(c_2['feature_B'] - centers[2][1], 2))\n",
    "c_3_dist = sum(pow(c_3['feature_A'] - centers[3][0], 2) + pow(c_3['feature_B'] - centers[3][1], 2))"
   ]
  },
  {
   "cell_type": "code",
   "execution_count": 32,
   "id": "eef2bcd0",
   "metadata": {},
   "outputs": [
    {
     "data": {
      "text/plain": [
       "4591.619469472426"
      ]
     },
     "execution_count": 32,
     "metadata": {},
     "output_type": "execute_result"
    }
   ],
   "source": [
    "# result for 5 clusters \n",
    "res = c_0_dist + c_1_dist + c_2_dist + c_3_dist\n",
    "res"
   ]
  },
  {
   "cell_type": "code",
   "execution_count": 33,
   "id": "42e4290d",
   "metadata": {},
   "outputs": [
    {
     "data": {
      "text/plain": [
       "0.4202976815034215"
      ]
     },
     "execution_count": 33,
     "metadata": {},
     "output_type": "execute_result"
    }
   ],
   "source": [
    "from sklearn.metrics import silhouette_samples, silhouette_score\n",
    "\n",
    "average_score = silhouette_score(new_space_df, new_space_df['cluster'])\n",
    "average_score"
   ]
  },
  {
   "cell_type": "code",
   "execution_count": null,
   "id": "ed993020",
   "metadata": {},
   "outputs": [],
   "source": []
  },
  {
   "cell_type": "markdown",
   "id": "19913c52",
   "metadata": {},
   "source": [
    "### 4) Use these principal components and/or clusters you identified to build a classification model of your choice (e.g. logistic regression, kNN, SVM, random forest), where you predict the movie ratings of all movies from the personality factors identified before. Make sure to use cross-validation methods to avoid overfitting and assess the accuracy of your model by stating its AUC."
   ]
  },
  {
   "cell_type": "code",
   "execution_count": 34,
   "id": "6415f737",
   "metadata": {},
   "outputs": [],
   "source": [
    "df_rate = new_space_df\n",
    "df_pers = dataset.iloc[:, :400]"
   ]
  },
  {
   "cell_type": "code",
   "execution_count": 35,
   "id": "b3aa7fba",
   "metadata": {},
   "outputs": [],
   "source": [
    "dataset_new = dataset.iloc[:, :400]"
   ]
  },
  {
   "cell_type": "code",
   "execution_count": 36,
   "id": "47795d62",
   "metadata": {},
   "outputs": [
    {
     "data": {
      "text/html": [
       "<div>\n",
       "<style scoped>\n",
       "    .dataframe tbody tr th:only-of-type {\n",
       "        vertical-align: middle;\n",
       "    }\n",
       "\n",
       "    .dataframe tbody tr th {\n",
       "        vertical-align: top;\n",
       "    }\n",
       "\n",
       "    .dataframe thead th {\n",
       "        text-align: right;\n",
       "    }\n",
       "</style>\n",
       "<table border=\"1\" class=\"dataframe\">\n",
       "  <thead>\n",
       "    <tr style=\"text-align: right;\">\n",
       "      <th></th>\n",
       "      <th>The Life of David Gale (2003)</th>\n",
       "    </tr>\n",
       "  </thead>\n",
       "  <tbody>\n",
       "    <tr>\n",
       "      <th>0</th>\n",
       "      <td>NaN</td>\n",
       "    </tr>\n",
       "    <tr>\n",
       "      <th>1</th>\n",
       "      <td>NaN</td>\n",
       "    </tr>\n",
       "    <tr>\n",
       "      <th>2</th>\n",
       "      <td>NaN</td>\n",
       "    </tr>\n",
       "    <tr>\n",
       "      <th>3</th>\n",
       "      <td>NaN</td>\n",
       "    </tr>\n",
       "    <tr>\n",
       "      <th>4</th>\n",
       "      <td>NaN</td>\n",
       "    </tr>\n",
       "    <tr>\n",
       "      <th>...</th>\n",
       "      <td>...</td>\n",
       "    </tr>\n",
       "    <tr>\n",
       "      <th>1092</th>\n",
       "      <td>NaN</td>\n",
       "    </tr>\n",
       "    <tr>\n",
       "      <th>1093</th>\n",
       "      <td>3.0</td>\n",
       "    </tr>\n",
       "    <tr>\n",
       "      <th>1094</th>\n",
       "      <td>NaN</td>\n",
       "    </tr>\n",
       "    <tr>\n",
       "      <th>1095</th>\n",
       "      <td>NaN</td>\n",
       "    </tr>\n",
       "    <tr>\n",
       "      <th>1096</th>\n",
       "      <td>NaN</td>\n",
       "    </tr>\n",
       "  </tbody>\n",
       "</table>\n",
       "<p>1097 rows × 1 columns</p>\n",
       "</div>"
      ],
      "text/plain": [
       "      The Life of David Gale (2003)\n",
       "0                               NaN\n",
       "1                               NaN\n",
       "2                               NaN\n",
       "3                               NaN\n",
       "4                               NaN\n",
       "...                             ...\n",
       "1092                            NaN\n",
       "1093                            3.0\n",
       "1094                            NaN\n",
       "1095                            NaN\n",
       "1096                            NaN\n",
       "\n",
       "[1097 rows x 1 columns]"
      ]
     },
     "execution_count": 36,
     "metadata": {},
     "output_type": "execute_result"
    }
   ],
   "source": [
    "dataset.iloc[:, :1]"
   ]
  },
  {
   "cell_type": "code",
   "execution_count": null,
   "id": "7ac7d991",
   "metadata": {},
   "outputs": [],
   "source": []
  },
  {
   "cell_type": "code",
   "execution_count": null,
   "id": "2966e587",
   "metadata": {},
   "outputs": [],
   "source": []
  },
  {
   "cell_type": "code",
   "execution_count": 37,
   "id": "1ef9aef9",
   "metadata": {},
   "outputs": [],
   "source": [
    "from sklearn.model_selection import train_test_split\n",
    "from sklearn.linear_model import LogisticRegression\n",
    "from sklearn.metrics import roc_auc_score\n",
    "\n",
    "X_train, X_test, y_train, y_test = train_test_split(df_rate, df_pers, test_size=0.2, random_state=0)\n",
    "\n",
    "# Logistic Regression\n",
    "# lr_clf = LogisticRegression()\n",
    "# lr_clf.fit(X_train, y_train)\n",
    "# lr_pred = lr_clf.predict(X_test)\n",
    "# lr_pred_proba = lr_clf.predict_proba(X_test)[:, 1]\n"
   ]
  },
  {
   "cell_type": "code",
   "execution_count": 38,
   "id": "40ac0848",
   "metadata": {},
   "outputs": [
    {
     "data": {
      "text/html": [
       "<div>\n",
       "<style scoped>\n",
       "    .dataframe tbody tr th:only-of-type {\n",
       "        vertical-align: middle;\n",
       "    }\n",
       "\n",
       "    .dataframe tbody tr th {\n",
       "        vertical-align: top;\n",
       "    }\n",
       "\n",
       "    .dataframe thead th {\n",
       "        text-align: right;\n",
       "    }\n",
       "</style>\n",
       "<table border=\"1\" class=\"dataframe\">\n",
       "  <thead>\n",
       "    <tr style=\"text-align: right;\">\n",
       "      <th></th>\n",
       "      <th>The Life of David Gale (2003)</th>\n",
       "      <th>Wing Commander (1999)</th>\n",
       "    </tr>\n",
       "  </thead>\n",
       "  <tbody>\n",
       "    <tr>\n",
       "      <th>0</th>\n",
       "      <td>NaN</td>\n",
       "      <td>NaN</td>\n",
       "    </tr>\n",
       "    <tr>\n",
       "      <th>1</th>\n",
       "      <td>NaN</td>\n",
       "      <td>NaN</td>\n",
       "    </tr>\n",
       "    <tr>\n",
       "      <th>2</th>\n",
       "      <td>NaN</td>\n",
       "      <td>NaN</td>\n",
       "    </tr>\n",
       "    <tr>\n",
       "      <th>3</th>\n",
       "      <td>NaN</td>\n",
       "      <td>NaN</td>\n",
       "    </tr>\n",
       "    <tr>\n",
       "      <th>4</th>\n",
       "      <td>NaN</td>\n",
       "      <td>NaN</td>\n",
       "    </tr>\n",
       "    <tr>\n",
       "      <th>...</th>\n",
       "      <td>...</td>\n",
       "      <td>...</td>\n",
       "    </tr>\n",
       "    <tr>\n",
       "      <th>1092</th>\n",
       "      <td>NaN</td>\n",
       "      <td>NaN</td>\n",
       "    </tr>\n",
       "    <tr>\n",
       "      <th>1093</th>\n",
       "      <td>3.0</td>\n",
       "      <td>4.0</td>\n",
       "    </tr>\n",
       "    <tr>\n",
       "      <th>1094</th>\n",
       "      <td>NaN</td>\n",
       "      <td>NaN</td>\n",
       "    </tr>\n",
       "    <tr>\n",
       "      <th>1095</th>\n",
       "      <td>NaN</td>\n",
       "      <td>NaN</td>\n",
       "    </tr>\n",
       "    <tr>\n",
       "      <th>1096</th>\n",
       "      <td>NaN</td>\n",
       "      <td>NaN</td>\n",
       "    </tr>\n",
       "  </tbody>\n",
       "</table>\n",
       "<p>1097 rows × 2 columns</p>\n",
       "</div>"
      ],
      "text/plain": [
       "      The Life of David Gale (2003)  Wing Commander (1999)\n",
       "0                               NaN                    NaN\n",
       "1                               NaN                    NaN\n",
       "2                               NaN                    NaN\n",
       "3                               NaN                    NaN\n",
       "4                               NaN                    NaN\n",
       "...                             ...                    ...\n",
       "1092                            NaN                    NaN\n",
       "1093                            3.0                    4.0\n",
       "1094                            NaN                    NaN\n",
       "1095                            NaN                    NaN\n",
       "1096                            NaN                    NaN\n",
       "\n",
       "[1097 rows x 2 columns]"
      ]
     },
     "execution_count": 38,
     "metadata": {},
     "output_type": "execute_result"
    }
   ],
   "source": [
    "dataset.iloc[:, :2]"
   ]
  },
  {
   "cell_type": "code",
   "execution_count": 39,
   "id": "59d54076",
   "metadata": {},
   "outputs": [
    {
     "data": {
      "text/html": [
       "<div>\n",
       "<style scoped>\n",
       "    .dataframe tbody tr th:only-of-type {\n",
       "        vertical-align: middle;\n",
       "    }\n",
       "\n",
       "    .dataframe tbody tr th {\n",
       "        vertical-align: top;\n",
       "    }\n",
       "\n",
       "    .dataframe thead th {\n",
       "        text-align: right;\n",
       "    }\n",
       "</style>\n",
       "<table border=\"1\" class=\"dataframe\">\n",
       "  <thead>\n",
       "    <tr style=\"text-align: right;\">\n",
       "      <th></th>\n",
       "      <th>feature_A</th>\n",
       "      <th>feature_B</th>\n",
       "      <th>cluster</th>\n",
       "    </tr>\n",
       "  </thead>\n",
       "  <tbody>\n",
       "    <tr>\n",
       "      <th>0</th>\n",
       "      <td>-1.926501</td>\n",
       "      <td>-0.315388</td>\n",
       "      <td>1</td>\n",
       "    </tr>\n",
       "    <tr>\n",
       "      <th>1</th>\n",
       "      <td>-1.696287</td>\n",
       "      <td>-1.120571</td>\n",
       "      <td>1</td>\n",
       "    </tr>\n",
       "    <tr>\n",
       "      <th>2</th>\n",
       "      <td>-0.066086</td>\n",
       "      <td>1.221771</td>\n",
       "      <td>3</td>\n",
       "    </tr>\n",
       "    <tr>\n",
       "      <th>3</th>\n",
       "      <td>2.125467</td>\n",
       "      <td>1.772635</td>\n",
       "      <td>0</td>\n",
       "    </tr>\n",
       "    <tr>\n",
       "      <th>4</th>\n",
       "      <td>-2.198375</td>\n",
       "      <td>1.442189</td>\n",
       "      <td>3</td>\n",
       "    </tr>\n",
       "    <tr>\n",
       "      <th>...</th>\n",
       "      <td>...</td>\n",
       "      <td>...</td>\n",
       "      <td>...</td>\n",
       "    </tr>\n",
       "    <tr>\n",
       "      <th>1092</th>\n",
       "      <td>-0.207152</td>\n",
       "      <td>2.292811</td>\n",
       "      <td>3</td>\n",
       "    </tr>\n",
       "    <tr>\n",
       "      <th>1093</th>\n",
       "      <td>1.375757</td>\n",
       "      <td>3.882762</td>\n",
       "      <td>0</td>\n",
       "    </tr>\n",
       "    <tr>\n",
       "      <th>1094</th>\n",
       "      <td>2.584368</td>\n",
       "      <td>1.502525</td>\n",
       "      <td>0</td>\n",
       "    </tr>\n",
       "    <tr>\n",
       "      <th>1095</th>\n",
       "      <td>0.807864</td>\n",
       "      <td>1.986559</td>\n",
       "      <td>3</td>\n",
       "    </tr>\n",
       "    <tr>\n",
       "      <th>1096</th>\n",
       "      <td>5.021069</td>\n",
       "      <td>0.834704</td>\n",
       "      <td>0</td>\n",
       "    </tr>\n",
       "  </tbody>\n",
       "</table>\n",
       "<p>1097 rows × 3 columns</p>\n",
       "</div>"
      ],
      "text/plain": [
       "      feature_A  feature_B  cluster\n",
       "0     -1.926501  -0.315388        1\n",
       "1     -1.696287  -1.120571        1\n",
       "2     -0.066086   1.221771        3\n",
       "3      2.125467   1.772635        0\n",
       "4     -2.198375   1.442189        3\n",
       "...         ...        ...      ...\n",
       "1092  -0.207152   2.292811        3\n",
       "1093   1.375757   3.882762        0\n",
       "1094   2.584368   1.502525        0\n",
       "1095   0.807864   1.986559        3\n",
       "1096   5.021069   0.834704        0\n",
       "\n",
       "[1097 rows x 3 columns]"
      ]
     },
     "execution_count": 39,
     "metadata": {},
     "output_type": "execute_result"
    }
   ],
   "source": [
    "df_rate"
   ]
  },
  {
   "cell_type": "code",
   "execution_count": 40,
   "id": "8bb31b8f",
   "metadata": {},
   "outputs": [
    {
     "data": {
      "text/html": [
       "<div>\n",
       "<style scoped>\n",
       "    .dataframe tbody tr th:only-of-type {\n",
       "        vertical-align: middle;\n",
       "    }\n",
       "\n",
       "    .dataframe tbody tr th {\n",
       "        vertical-align: top;\n",
       "    }\n",
       "\n",
       "    .dataframe thead th {\n",
       "        text-align: right;\n",
       "    }\n",
       "</style>\n",
       "<table border=\"1\" class=\"dataframe\">\n",
       "  <thead>\n",
       "    <tr style=\"text-align: right;\">\n",
       "      <th></th>\n",
       "      <th>The Life of David Gale (2003)</th>\n",
       "      <th>Wing Commander (1999)</th>\n",
       "      <th>Django Unchained (2012)</th>\n",
       "      <th>Alien (1979)</th>\n",
       "      <th>Indiana Jones and the Last Crusade (1989)</th>\n",
       "      <th>Snatch (2000)</th>\n",
       "      <th>Rambo: First Blood Part II</th>\n",
       "      <th>Fargo (1996)</th>\n",
       "      <th>Let the Right One In (2008)</th>\n",
       "      <th>Black Swan (2010)</th>\n",
       "      <th>...</th>\n",
       "      <th>X-Men 2 (2003)</th>\n",
       "      <th>The Usual Suspects (1995)</th>\n",
       "      <th>The Mask (1994)</th>\n",
       "      <th>Jaws (1975)</th>\n",
       "      <th>Harry Potter and the Chamber of Secrets (2002)</th>\n",
       "      <th>Patton (1970)</th>\n",
       "      <th>Anaconda (1997)</th>\n",
       "      <th>Twister (1996)</th>\n",
       "      <th>MacArthur (1977)</th>\n",
       "      <th>Look Who's Talking (1989)</th>\n",
       "    </tr>\n",
       "  </thead>\n",
       "  <tbody>\n",
       "    <tr>\n",
       "      <th>0</th>\n",
       "      <td>NaN</td>\n",
       "      <td>NaN</td>\n",
       "      <td>4.0</td>\n",
       "      <td>NaN</td>\n",
       "      <td>3.0</td>\n",
       "      <td>NaN</td>\n",
       "      <td>NaN</td>\n",
       "      <td>NaN</td>\n",
       "      <td>NaN</td>\n",
       "      <td>NaN</td>\n",
       "      <td>...</td>\n",
       "      <td>NaN</td>\n",
       "      <td>NaN</td>\n",
       "      <td>NaN</td>\n",
       "      <td>4.0</td>\n",
       "      <td>0.5</td>\n",
       "      <td>NaN</td>\n",
       "      <td>NaN</td>\n",
       "      <td>NaN</td>\n",
       "      <td>NaN</td>\n",
       "      <td>NaN</td>\n",
       "    </tr>\n",
       "    <tr>\n",
       "      <th>1</th>\n",
       "      <td>NaN</td>\n",
       "      <td>NaN</td>\n",
       "      <td>1.5</td>\n",
       "      <td>NaN</td>\n",
       "      <td>NaN</td>\n",
       "      <td>NaN</td>\n",
       "      <td>NaN</td>\n",
       "      <td>NaN</td>\n",
       "      <td>NaN</td>\n",
       "      <td>NaN</td>\n",
       "      <td>...</td>\n",
       "      <td>NaN</td>\n",
       "      <td>NaN</td>\n",
       "      <td>NaN</td>\n",
       "      <td>NaN</td>\n",
       "      <td>4.0</td>\n",
       "      <td>NaN</td>\n",
       "      <td>NaN</td>\n",
       "      <td>NaN</td>\n",
       "      <td>NaN</td>\n",
       "      <td>NaN</td>\n",
       "    </tr>\n",
       "    <tr>\n",
       "      <th>2</th>\n",
       "      <td>NaN</td>\n",
       "      <td>NaN</td>\n",
       "      <td>NaN</td>\n",
       "      <td>NaN</td>\n",
       "      <td>NaN</td>\n",
       "      <td>NaN</td>\n",
       "      <td>NaN</td>\n",
       "      <td>NaN</td>\n",
       "      <td>NaN</td>\n",
       "      <td>NaN</td>\n",
       "      <td>...</td>\n",
       "      <td>NaN</td>\n",
       "      <td>NaN</td>\n",
       "      <td>NaN</td>\n",
       "      <td>NaN</td>\n",
       "      <td>3.5</td>\n",
       "      <td>NaN</td>\n",
       "      <td>NaN</td>\n",
       "      <td>NaN</td>\n",
       "      <td>NaN</td>\n",
       "      <td>NaN</td>\n",
       "    </tr>\n",
       "    <tr>\n",
       "      <th>3</th>\n",
       "      <td>NaN</td>\n",
       "      <td>NaN</td>\n",
       "      <td>2.0</td>\n",
       "      <td>NaN</td>\n",
       "      <td>3.0</td>\n",
       "      <td>NaN</td>\n",
       "      <td>NaN</td>\n",
       "      <td>NaN</td>\n",
       "      <td>NaN</td>\n",
       "      <td>4.0</td>\n",
       "      <td>...</td>\n",
       "      <td>NaN</td>\n",
       "      <td>3.0</td>\n",
       "      <td>NaN</td>\n",
       "      <td>NaN</td>\n",
       "      <td>2.5</td>\n",
       "      <td>NaN</td>\n",
       "      <td>NaN</td>\n",
       "      <td>NaN</td>\n",
       "      <td>NaN</td>\n",
       "      <td>NaN</td>\n",
       "    </tr>\n",
       "    <tr>\n",
       "      <th>4</th>\n",
       "      <td>NaN</td>\n",
       "      <td>NaN</td>\n",
       "      <td>3.5</td>\n",
       "      <td>NaN</td>\n",
       "      <td>0.5</td>\n",
       "      <td>NaN</td>\n",
       "      <td>0.5</td>\n",
       "      <td>1.0</td>\n",
       "      <td>NaN</td>\n",
       "      <td>0.0</td>\n",
       "      <td>...</td>\n",
       "      <td>2.5</td>\n",
       "      <td>NaN</td>\n",
       "      <td>3.0</td>\n",
       "      <td>NaN</td>\n",
       "      <td>NaN</td>\n",
       "      <td>NaN</td>\n",
       "      <td>NaN</td>\n",
       "      <td>1.5</td>\n",
       "      <td>NaN</td>\n",
       "      <td>NaN</td>\n",
       "    </tr>\n",
       "    <tr>\n",
       "      <th>...</th>\n",
       "      <td>...</td>\n",
       "      <td>...</td>\n",
       "      <td>...</td>\n",
       "      <td>...</td>\n",
       "      <td>...</td>\n",
       "      <td>...</td>\n",
       "      <td>...</td>\n",
       "      <td>...</td>\n",
       "      <td>...</td>\n",
       "      <td>...</td>\n",
       "      <td>...</td>\n",
       "      <td>...</td>\n",
       "      <td>...</td>\n",
       "      <td>...</td>\n",
       "      <td>...</td>\n",
       "      <td>...</td>\n",
       "      <td>...</td>\n",
       "      <td>...</td>\n",
       "      <td>...</td>\n",
       "      <td>...</td>\n",
       "      <td>...</td>\n",
       "    </tr>\n",
       "    <tr>\n",
       "      <th>1092</th>\n",
       "      <td>NaN</td>\n",
       "      <td>NaN</td>\n",
       "      <td>NaN</td>\n",
       "      <td>NaN</td>\n",
       "      <td>3.5</td>\n",
       "      <td>NaN</td>\n",
       "      <td>NaN</td>\n",
       "      <td>NaN</td>\n",
       "      <td>NaN</td>\n",
       "      <td>NaN</td>\n",
       "      <td>...</td>\n",
       "      <td>NaN</td>\n",
       "      <td>NaN</td>\n",
       "      <td>NaN</td>\n",
       "      <td>NaN</td>\n",
       "      <td>4.0</td>\n",
       "      <td>NaN</td>\n",
       "      <td>NaN</td>\n",
       "      <td>NaN</td>\n",
       "      <td>NaN</td>\n",
       "      <td>NaN</td>\n",
       "    </tr>\n",
       "    <tr>\n",
       "      <th>1093</th>\n",
       "      <td>3.0</td>\n",
       "      <td>4.0</td>\n",
       "      <td>NaN</td>\n",
       "      <td>NaN</td>\n",
       "      <td>4.0</td>\n",
       "      <td>4.0</td>\n",
       "      <td>2.5</td>\n",
       "      <td>NaN</td>\n",
       "      <td>3.5</td>\n",
       "      <td>3.5</td>\n",
       "      <td>...</td>\n",
       "      <td>4.0</td>\n",
       "      <td>NaN</td>\n",
       "      <td>4.0</td>\n",
       "      <td>3.5</td>\n",
       "      <td>3.5</td>\n",
       "      <td>4.0</td>\n",
       "      <td>3.5</td>\n",
       "      <td>4.0</td>\n",
       "      <td>4.0</td>\n",
       "      <td>4.0</td>\n",
       "    </tr>\n",
       "    <tr>\n",
       "      <th>1094</th>\n",
       "      <td>NaN</td>\n",
       "      <td>NaN</td>\n",
       "      <td>NaN</td>\n",
       "      <td>NaN</td>\n",
       "      <td>NaN</td>\n",
       "      <td>NaN</td>\n",
       "      <td>NaN</td>\n",
       "      <td>3.5</td>\n",
       "      <td>NaN</td>\n",
       "      <td>NaN</td>\n",
       "      <td>...</td>\n",
       "      <td>NaN</td>\n",
       "      <td>NaN</td>\n",
       "      <td>NaN</td>\n",
       "      <td>NaN</td>\n",
       "      <td>4.0</td>\n",
       "      <td>NaN</td>\n",
       "      <td>NaN</td>\n",
       "      <td>NaN</td>\n",
       "      <td>NaN</td>\n",
       "      <td>NaN</td>\n",
       "    </tr>\n",
       "    <tr>\n",
       "      <th>1095</th>\n",
       "      <td>NaN</td>\n",
       "      <td>NaN</td>\n",
       "      <td>NaN</td>\n",
       "      <td>NaN</td>\n",
       "      <td>NaN</td>\n",
       "      <td>NaN</td>\n",
       "      <td>NaN</td>\n",
       "      <td>NaN</td>\n",
       "      <td>NaN</td>\n",
       "      <td>NaN</td>\n",
       "      <td>...</td>\n",
       "      <td>NaN</td>\n",
       "      <td>NaN</td>\n",
       "      <td>NaN</td>\n",
       "      <td>NaN</td>\n",
       "      <td>2.5</td>\n",
       "      <td>NaN</td>\n",
       "      <td>NaN</td>\n",
       "      <td>NaN</td>\n",
       "      <td>NaN</td>\n",
       "      <td>NaN</td>\n",
       "    </tr>\n",
       "    <tr>\n",
       "      <th>1096</th>\n",
       "      <td>NaN</td>\n",
       "      <td>NaN</td>\n",
       "      <td>4.0</td>\n",
       "      <td>NaN</td>\n",
       "      <td>2.5</td>\n",
       "      <td>NaN</td>\n",
       "      <td>NaN</td>\n",
       "      <td>3.0</td>\n",
       "      <td>NaN</td>\n",
       "      <td>3.5</td>\n",
       "      <td>...</td>\n",
       "      <td>NaN</td>\n",
       "      <td>NaN</td>\n",
       "      <td>NaN</td>\n",
       "      <td>3.5</td>\n",
       "      <td>4.0</td>\n",
       "      <td>NaN</td>\n",
       "      <td>NaN</td>\n",
       "      <td>NaN</td>\n",
       "      <td>NaN</td>\n",
       "      <td>NaN</td>\n",
       "    </tr>\n",
       "  </tbody>\n",
       "</table>\n",
       "<p>1097 rows × 400 columns</p>\n",
       "</div>"
      ],
      "text/plain": [
       "      The Life of David Gale (2003)  Wing Commander (1999)  \\\n",
       "0                               NaN                    NaN   \n",
       "1                               NaN                    NaN   \n",
       "2                               NaN                    NaN   \n",
       "3                               NaN                    NaN   \n",
       "4                               NaN                    NaN   \n",
       "...                             ...                    ...   \n",
       "1092                            NaN                    NaN   \n",
       "1093                            3.0                    4.0   \n",
       "1094                            NaN                    NaN   \n",
       "1095                            NaN                    NaN   \n",
       "1096                            NaN                    NaN   \n",
       "\n",
       "      Django Unchained (2012)  Alien (1979)  \\\n",
       "0                         4.0           NaN   \n",
       "1                         1.5           NaN   \n",
       "2                         NaN           NaN   \n",
       "3                         2.0           NaN   \n",
       "4                         3.5           NaN   \n",
       "...                       ...           ...   \n",
       "1092                      NaN           NaN   \n",
       "1093                      NaN           NaN   \n",
       "1094                      NaN           NaN   \n",
       "1095                      NaN           NaN   \n",
       "1096                      4.0           NaN   \n",
       "\n",
       "      Indiana Jones and the Last Crusade (1989)  Snatch (2000)  \\\n",
       "0                                           3.0            NaN   \n",
       "1                                           NaN            NaN   \n",
       "2                                           NaN            NaN   \n",
       "3                                           3.0            NaN   \n",
       "4                                           0.5            NaN   \n",
       "...                                         ...            ...   \n",
       "1092                                        3.5            NaN   \n",
       "1093                                        4.0            4.0   \n",
       "1094                                        NaN            NaN   \n",
       "1095                                        NaN            NaN   \n",
       "1096                                        2.5            NaN   \n",
       "\n",
       "      Rambo: First Blood Part II  Fargo (1996)  Let the Right One In (2008)  \\\n",
       "0                            NaN           NaN                          NaN   \n",
       "1                            NaN           NaN                          NaN   \n",
       "2                            NaN           NaN                          NaN   \n",
       "3                            NaN           NaN                          NaN   \n",
       "4                            0.5           1.0                          NaN   \n",
       "...                          ...           ...                          ...   \n",
       "1092                         NaN           NaN                          NaN   \n",
       "1093                         2.5           NaN                          3.5   \n",
       "1094                         NaN           3.5                          NaN   \n",
       "1095                         NaN           NaN                          NaN   \n",
       "1096                         NaN           3.0                          NaN   \n",
       "\n",
       "      Black Swan (2010)  ...  X-Men 2 (2003)  The Usual Suspects (1995)  \\\n",
       "0                   NaN  ...             NaN                        NaN   \n",
       "1                   NaN  ...             NaN                        NaN   \n",
       "2                   NaN  ...             NaN                        NaN   \n",
       "3                   4.0  ...             NaN                        3.0   \n",
       "4                   0.0  ...             2.5                        NaN   \n",
       "...                 ...  ...             ...                        ...   \n",
       "1092                NaN  ...             NaN                        NaN   \n",
       "1093                3.5  ...             4.0                        NaN   \n",
       "1094                NaN  ...             NaN                        NaN   \n",
       "1095                NaN  ...             NaN                        NaN   \n",
       "1096                3.5  ...             NaN                        NaN   \n",
       "\n",
       "      The Mask (1994)  Jaws (1975)  \\\n",
       "0                 NaN          4.0   \n",
       "1                 NaN          NaN   \n",
       "2                 NaN          NaN   \n",
       "3                 NaN          NaN   \n",
       "4                 3.0          NaN   \n",
       "...               ...          ...   \n",
       "1092              NaN          NaN   \n",
       "1093              4.0          3.5   \n",
       "1094              NaN          NaN   \n",
       "1095              NaN          NaN   \n",
       "1096              NaN          3.5   \n",
       "\n",
       "      Harry Potter and the Chamber of Secrets (2002)  Patton (1970)  \\\n",
       "0                                                0.5            NaN   \n",
       "1                                                4.0            NaN   \n",
       "2                                                3.5            NaN   \n",
       "3                                                2.5            NaN   \n",
       "4                                                NaN            NaN   \n",
       "...                                              ...            ...   \n",
       "1092                                             4.0            NaN   \n",
       "1093                                             3.5            4.0   \n",
       "1094                                             4.0            NaN   \n",
       "1095                                             2.5            NaN   \n",
       "1096                                             4.0            NaN   \n",
       "\n",
       "      Anaconda (1997)  Twister (1996)  MacArthur (1977)  \\\n",
       "0                 NaN             NaN               NaN   \n",
       "1                 NaN             NaN               NaN   \n",
       "2                 NaN             NaN               NaN   \n",
       "3                 NaN             NaN               NaN   \n",
       "4                 NaN             1.5               NaN   \n",
       "...               ...             ...               ...   \n",
       "1092              NaN             NaN               NaN   \n",
       "1093              3.5             4.0               4.0   \n",
       "1094              NaN             NaN               NaN   \n",
       "1095              NaN             NaN               NaN   \n",
       "1096              NaN             NaN               NaN   \n",
       "\n",
       "      Look Who's Talking (1989)  \n",
       "0                           NaN  \n",
       "1                           NaN  \n",
       "2                           NaN  \n",
       "3                           NaN  \n",
       "4                           NaN  \n",
       "...                         ...  \n",
       "1092                        NaN  \n",
       "1093                        4.0  \n",
       "1094                        NaN  \n",
       "1095                        NaN  \n",
       "1096                        NaN  \n",
       "\n",
       "[1097 rows x 400 columns]"
      ]
     },
     "execution_count": 40,
     "metadata": {},
     "output_type": "execute_result"
    }
   ],
   "source": [
    "df_pers"
   ]
  },
  {
   "cell_type": "code",
   "execution_count": null,
   "id": "d75c25e4",
   "metadata": {},
   "outputs": [],
   "source": []
  },
  {
   "cell_type": "markdown",
   "id": "0f9fa846",
   "metadata": {},
   "source": [
    "### 5) Create a neural network model of your choice to predict movie ratings, using information from all 477 columns. Make sure to comment on the accuracy of this model."
   ]
  },
  {
   "cell_type": "code",
   "execution_count": null,
   "id": "2d7420d9",
   "metadata": {},
   "outputs": [],
   "source": []
  },
  {
   "cell_type": "markdown",
   "id": "6a7bdb92",
   "metadata": {},
   "source": [
    "### Extra Credit: Use machine learning methods to tell us something interesting and true about the movies in this dataset that is not already covered by the questions above [for an additional 10% of the grade score]."
   ]
  },
  {
   "cell_type": "code",
   "execution_count": null,
   "id": "f5cfbdef",
   "metadata": {},
   "outputs": [],
   "source": []
  }
 ],
 "metadata": {
  "kernelspec": {
   "display_name": "Python 3",
   "language": "python",
   "name": "python3"
  },
  "language_info": {
   "codemirror_mode": {
    "name": "ipython",
    "version": 3
   },
   "file_extension": ".py",
   "mimetype": "text/x-python",
   "name": "python",
   "nbconvert_exporter": "python",
   "pygments_lexer": "ipython3",
   "version": "3.8.8"
  }
 },
 "nbformat": 4,
 "nbformat_minor": 5
}
