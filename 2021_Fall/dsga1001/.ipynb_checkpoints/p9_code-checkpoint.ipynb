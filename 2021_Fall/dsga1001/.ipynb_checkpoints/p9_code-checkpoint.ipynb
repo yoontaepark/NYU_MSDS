{
 "cells": [
  {
   "cell_type": "code",
   "execution_count": 4,
   "id": "0a0d2568",
   "metadata": {},
   "outputs": [
    {
     "data": {
      "text/plain": [
       "46.41588833612778"
      ]
     },
     "execution_count": 4,
     "metadata": {},
     "output_type": "execute_result"
    }
   ],
   "source": [
    "# Q12\n",
    "import numpy as np\n",
    "import pandas as pd\n",
    "\n",
    "\n",
    "test = [10, 20, 30, 40]\n",
    "\n",
    "np.linalg.norm(test, 3)\n"
   ]
  },
  {
   "cell_type": "code",
   "execution_count": 6,
   "id": "2ecf4aa3",
   "metadata": {},
   "outputs": [
    {
     "data": {
      "text/plain": [
       "9.04086565837801"
      ]
     },
     "execution_count": 6,
     "metadata": {},
     "output_type": "execute_result"
    }
   ],
   "source": [
    "test2= [8, 3, 5, 2, 9]\n",
    "\n",
    "np.linalg.norm(test2, 20)"
   ]
  },
  {
   "cell_type": "code",
   "execution_count": 7,
   "id": "ba001c3d",
   "metadata": {},
   "outputs": [
    {
     "data": {
      "text/plain": [
       "14.832396974191326"
      ]
     },
     "execution_count": 7,
     "metadata": {},
     "output_type": "execute_result"
    }
   ],
   "source": [
    "test3 = [2, 4, 6, 8, 10]\n",
    "\n",
    "np.linalg.norm(test3, 2)"
   ]
  },
  {
   "cell_type": "code",
   "execution_count": 8,
   "id": "41fbf6e7",
   "metadata": {},
   "outputs": [],
   "source": [
    "a = [[5,23],\n",
    "     [42,69]]"
   ]
  },
  {
   "cell_type": "code",
   "execution_count": 9,
   "id": "f5f7b7af",
   "metadata": {},
   "outputs": [
    {
     "data": {
      "text/plain": [
       "array([[ 5, 42],\n",
       "       [23, 69]])"
      ]
     },
     "execution_count": 9,
     "metadata": {},
     "output_type": "execute_result"
    }
   ],
   "source": [
    "np.transpose(a)"
   ]
  },
  {
   "cell_type": "code",
   "execution_count": null,
   "id": "34f34063",
   "metadata": {},
   "outputs": [],
   "source": []
  }
 ],
 "metadata": {
  "kernelspec": {
   "display_name": "Python 3",
   "language": "python",
   "name": "python3"
  },
  "language_info": {
   "codemirror_mode": {
    "name": "ipython",
    "version": 3
   },
   "file_extension": ".py",
   "mimetype": "text/x-python",
   "name": "python",
   "nbconvert_exporter": "python",
   "pygments_lexer": "ipython3",
   "version": "3.8.8"
  }
 },
 "nbformat": 4,
 "nbformat_minor": 5
}
